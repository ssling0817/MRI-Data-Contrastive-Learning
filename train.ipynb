{
  "cells": [
    {
      "cell_type": "code",
      "source": [
        "!unzip hw2.zip"
      ],
      "metadata": {
        "id": "W50_N5uU4hra",
        "colab": {
          "base_uri": "https://localhost:8080/"
        },
        "outputId": "95ef333b-4672-4ba1-d888-d1d3143d1158"
      },
      "id": "W50_N5uU4hra",
      "execution_count": 1,
      "outputs": [
        {
          "output_type": "stream",
          "name": "stdout",
          "text": [
            "\u001b[1;30;43mStreaming output truncated to the last 5000 lines.\u001b[0m\n",
            "  inflating: hw2/unlabeled/1440.jpg  \n",
            "  inflating: hw2/unlabeled/0074.jpg  \n",
            "  inflating: hw2/unlabeled/6348.jpg  \n",
            "  inflating: hw2/unlabeled/0409.jpg  \n",
            "  inflating: hw2/unlabeled/4875.jpg  \n",
            "  inflating: hw2/unlabeled/2044.jpg  \n",
            "  inflating: hw2/unlabeled/1670.jpg  \n",
            "  inflating: hw2/unlabeled/2259.jpg  \n",
            "  inflating: hw2/unlabeled/5619.jpg  \n",
            "  inflating: hw2/unlabeled/6354.jpg  \n",
            "  inflating: hw2/unlabeled/6938.jpg  \n",
            "  inflating: hw2/unlabeled/7069.jpg  \n",
            "  inflating: hw2/unlabeled/1506.jpg  \n",
            "  inflating: hw2/unlabeled/6936.jpg  \n",
            "  inflating: hw2/unlabeled/6041.jpg  \n",
            "  inflating: hw2/unlabeled/4839.jpg  \n",
            "  inflating: hw2/unlabeled/5989.jpg  \n",
            "  inflating: hw2/unlabeled/6732.jpg  \n",
            "  inflating: hw2/unlabeled/1598.jpg  \n",
            "  inflating: hw2/unlabeled/2363.jpg  \n",
            "  inflating: hw2/unlabeled/3908.jpg  \n",
            "  inflating: hw2/unlabeled/1543.jpg  \n",
            "  inflating: hw2/unlabeled/6896.jpg  \n",
            "  inflating: hw2/unlabeled/1844.jpg  \n",
            "  inflating: hw2/unlabeled/2913.jpg  \n",
            "  inflating: hw2/unlabeled/0539.jpg  \n",
            "  inflating: hw2/unlabeled/3212.jpg  \n",
            "  inflating: hw2/unlabeled/3467.jpg  \n",
            "  inflating: hw2/unlabeled/6258.jpg  \n",
            "  inflating: hw2/unlabeled/4166.jpg  \n",
            "  inflating: hw2/unlabeled/5838.jpg  \n",
            "  inflating: hw2/unlabeled/3721.jpg  \n",
            "  inflating: hw2/unlabeled/3251.jpg  \n",
            "  inflating: hw2/unlabeled/5979.jpg  \n",
            "  inflating: hw2/unlabeled/2149.jpg  \n",
            "  inflating: hw2/unlabeled/5679.jpg  \n",
            "  inflating: hw2/unlabeled/0215.jpg  \n",
            "  inflating: hw2/unlabeled/5663.jpg  \n",
            "  inflating: hw2/unlabeled/3399.jpg  \n",
            "  inflating: hw2/unlabeled/1236.jpg  \n",
            "  inflating: hw2/unlabeled/2165.jpg  \n",
            "  inflating: hw2/unlabeled/6483.jpg  \n",
            "  inflating: hw2/unlabeled/0986.jpg  \n",
            "  inflating: hw2/unlabeled/6954.jpg  \n",
            "  inflating: hw2/unlabeled/0130.jpg  \n",
            "  inflating: hw2/unlabeled/6006.jpg  \n",
            "  inflating: hw2/unlabeled/3534.jpg  \n",
            "  inflating: hw2/unlabeled/7031.jpg  \n",
            "  inflating: hw2/unlabeled/4441.jpg  \n",
            "  inflating: hw2/unlabeled/4062.jpg  \n",
            "  inflating: hw2/unlabeled/0742.jpg  \n",
            "  inflating: hw2/unlabeled/6689.jpg  \n",
            "  inflating: hw2/unlabeled/6146.jpg  \n",
            "  inflating: hw2/unlabeled/0200.jpg  \n",
            "  inflating: hw2/unlabeled/2537.jpg  \n",
            "  inflating: hw2/unlabeled/3819.jpg  \n",
            "  inflating: hw2/unlabeled/5556.jpg  \n",
            "  inflating: hw2/unlabeled/2647.jpg  \n",
            "  inflating: hw2/unlabeled/4275.jpg  \n",
            "  inflating: hw2/unlabeled/2053.jpg  \n",
            "  inflating: hw2/unlabeled/1586.jpg  \n",
            "  inflating: hw2/unlabeled/2633.jpg  \n",
            "  inflating: hw2/unlabeled/1437.jpg  \n",
            "  inflating: hw2/unlabeled/1706.jpg  \n",
            "  inflating: hw2/unlabeled/3214.jpg  \n",
            "  inflating: hw2/unlabeled/6570.jpg  \n",
            "  inflating: hw2/unlabeled/3112.jpg  \n",
            "  inflating: hw2/unlabeled/4122.jpg  \n",
            "  inflating: hw2/unlabeled/3194.jpg  \n",
            "  inflating: hw2/unlabeled/6803.jpg  \n",
            "  inflating: hw2/unlabeled/0236.jpg  \n",
            "  inflating: hw2/unlabeled/3638.jpg  \n",
            "  inflating: hw2/unlabeled/4807.jpg  \n",
            "  inflating: hw2/unlabeled/6538.jpg  \n",
            "  inflating: hw2/unlabeled/3936.jpg  \n",
            "  inflating: hw2/unlabeled/1839.jpg  \n",
            "  inflating: hw2/unlabeled/0876.jpg  \n",
            "  inflating: hw2/unlabeled/4729.jpg  \n",
            "  inflating: hw2/unlabeled/6975.jpg  \n",
            "  inflating: hw2/unlabeled/5108.jpg  \n",
            "  inflating: hw2/unlabeled/4465.jpg  \n",
            "  inflating: hw2/unlabeled/6130.jpg  \n",
            "  inflating: hw2/unlabeled/4728.jpg  \n",
            "  inflating: hw2/unlabeled/6441.jpg  \n",
            "  inflating: hw2/unlabeled/6887.jpg  \n",
            "  inflating: hw2/unlabeled/6854.jpg  \n",
            "  inflating: hw2/unlabeled/6265.jpg  \n",
            "  inflating: hw2/unlabeled/0201.jpg  \n",
            "  inflating: hw2/unlabeled/1470.jpg  \n",
            "  inflating: hw2/unlabeled/6816.jpg  \n",
            "  inflating: hw2/unlabeled/5133.jpg  \n",
            "  inflating: hw2/unlabeled/0711.jpg  \n",
            "  inflating: hw2/unlabeled/6320.jpg  \n",
            "  inflating: hw2/unlabeled/6742.jpg  \n",
            "  inflating: hw2/unlabeled/4151.jpg  \n",
            "  inflating: hw2/unlabeled/2738.jpg  \n",
            "  inflating: hw2/unlabeled/4049.jpg  \n",
            "  inflating: hw2/unlabeled/4930.jpg  \n",
            "  inflating: hw2/unlabeled/0223.jpg  \n",
            "  inflating: hw2/unlabeled/7181.jpg  \n",
            "  inflating: hw2/unlabeled/4448.jpg  \n",
            "  inflating: hw2/unlabeled/4143.jpg  \n",
            "  inflating: hw2/unlabeled/2056.jpg  \n",
            "  inflating: hw2/unlabeled/1256.jpg  \n",
            "  inflating: hw2/unlabeled/4851.jpg  \n",
            "  inflating: hw2/unlabeled/0555.jpg  \n",
            "  inflating: hw2/unlabeled/7284.jpg  \n",
            "  inflating: hw2/unlabeled/4942.jpg  \n",
            "  inflating: hw2/unlabeled/6147.jpg  \n",
            "  inflating: hw2/unlabeled/4204.jpg  \n",
            "  inflating: hw2/unlabeled/0137.jpg  \n",
            "  inflating: hw2/unlabeled/4355.jpg  \n",
            "  inflating: hw2/unlabeled/5377.jpg  \n",
            "  inflating: hw2/unlabeled/5101.jpg  \n",
            "  inflating: hw2/unlabeled/2928.jpg  \n",
            "  inflating: hw2/unlabeled/6019.jpg  \n",
            "  inflating: hw2/unlabeled/6798.jpg  \n",
            "  inflating: hw2/unlabeled/4887.jpg  \n",
            "  inflating: hw2/unlabeled/0908.jpg  \n",
            "  inflating: hw2/unlabeled/2169.jpg  \n",
            "  inflating: hw2/unlabeled/5620.jpg  \n",
            "  inflating: hw2/unlabeled/3592.jpg  \n",
            "  inflating: hw2/unlabeled/6089.jpg  \n",
            "  inflating: hw2/unlabeled/1330.jpg  \n",
            "  inflating: hw2/unlabeled/2936.jpg  \n",
            "  inflating: hw2/unlabeled/4053.jpg  \n",
            "  inflating: hw2/unlabeled/5638.jpg  \n",
            "  inflating: hw2/unlabeled/4093.jpg  \n",
            "  inflating: hw2/unlabeled/6710.jpg  \n",
            "  inflating: hw2/unlabeled/3190.jpg  \n",
            "  inflating: hw2/unlabeled/6678.jpg  \n",
            "  inflating: hw2/unlabeled/0159.jpg  \n",
            "  inflating: hw2/unlabeled/6235.jpg  \n",
            "  inflating: hw2/unlabeled/6142.jpg  \n",
            "  inflating: hw2/unlabeled/0935.jpg  \n",
            "  inflating: hw2/unlabeled/4415.jpg  \n",
            "  inflating: hw2/unlabeled/5417.jpg  \n",
            "  inflating: hw2/unlabeled/7132.jpg  \n",
            "  inflating: hw2/unlabeled/0352.jpg  \n",
            "  inflating: hw2/unlabeled/6177.jpg  \n",
            "  inflating: hw2/unlabeled/2601.jpg  \n",
            "  inflating: hw2/unlabeled/2658.jpg  \n",
            "  inflating: hw2/unlabeled/5070.jpg  \n",
            "  inflating: hw2/unlabeled/2271.jpg  \n",
            "  inflating: hw2/unlabeled/1304.jpg  \n",
            "  inflating: hw2/unlabeled/1171.jpg  \n",
            "  inflating: hw2/unlabeled/5019.jpg  \n",
            "  inflating: hw2/unlabeled/2546.jpg  \n",
            "  inflating: hw2/unlabeled/5779.jpg  \n",
            "  inflating: hw2/unlabeled/2209.jpg  \n",
            "  inflating: hw2/unlabeled/1877.jpg  \n",
            "  inflating: hw2/unlabeled/7158.jpg  \n",
            "  inflating: hw2/unlabeled/6611.jpg  \n",
            "  inflating: hw2/unlabeled/1926.jpg  \n",
            "  inflating: hw2/unlabeled/0362.jpg  \n",
            "  inflating: hw2/unlabeled/1502.jpg  \n",
            "  inflating: hw2/unlabeled/0953.jpg  \n",
            "  inflating: hw2/unlabeled/2871.jpg  \n",
            "  inflating: hw2/unlabeled/3221.jpg  \n",
            "  inflating: hw2/unlabeled/0479.jpg  \n",
            "  inflating: hw2/unlabeled/3943.jpg  \n",
            "  inflating: hw2/unlabeled/1946.jpg  \n",
            "  inflating: hw2/unlabeled/4998.jpg  \n",
            "  inflating: hw2/unlabeled/5899.jpg  \n",
            "  inflating: hw2/unlabeled/4241.jpg  \n",
            "  inflating: hw2/unlabeled/5813.jpg  \n",
            "  inflating: hw2/unlabeled/0647.jpg  \n",
            "  inflating: hw2/unlabeled/3484.jpg  \n",
            "  inflating: hw2/unlabeled/6060.jpg  \n",
            "  inflating: hw2/unlabeled/6225.jpg  \n",
            "  inflating: hw2/unlabeled/0929.jpg  \n",
            "  inflating: hw2/unlabeled/1533.jpg  \n",
            "  inflating: hw2/unlabeled/2855.jpg  \n",
            "  inflating: hw2/unlabeled/6505.jpg  \n",
            "  inflating: hw2/unlabeled/6036.jpg  \n",
            "  inflating: hw2/unlabeled/1493.jpg  \n",
            "  inflating: hw2/unlabeled/2957.jpg  \n",
            "  inflating: hw2/unlabeled/5880.jpg  \n",
            "  inflating: hw2/unlabeled/2355.jpg  \n",
            "  inflating: hw2/unlabeled/6640.jpg  \n",
            "  inflating: hw2/unlabeled/5809.jpg  \n",
            "  inflating: hw2/unlabeled/0345.jpg  \n",
            "  inflating: hw2/unlabeled/2059.jpg  \n",
            "  inflating: hw2/unlabeled/3729.jpg  \n",
            "  inflating: hw2/unlabeled/6023.jpg  \n",
            "  inflating: hw2/unlabeled/1744.jpg  \n",
            "  inflating: hw2/unlabeled/6673.jpg  \n",
            "  inflating: hw2/unlabeled/0161.jpg  \n",
            "  inflating: hw2/unlabeled/3029.jpg  \n",
            "  inflating: hw2/unlabeled/3537.jpg  \n",
            "  inflating: hw2/unlabeled/2235.jpg  \n",
            "  inflating: hw2/unlabeled/1220.jpg  \n",
            "  inflating: hw2/unlabeled/1675.jpg  \n",
            "  inflating: hw2/unlabeled/0454.jpg  \n",
            "  inflating: hw2/unlabeled/3316.jpg  \n",
            "  inflating: hw2/unlabeled/5266.jpg  \n",
            "  inflating: hw2/unlabeled/5347.jpg  \n",
            "  inflating: hw2/unlabeled/6669.jpg  \n",
            "  inflating: hw2/unlabeled/5564.jpg  \n",
            "  inflating: hw2/unlabeled/6637.jpg  \n",
            "  inflating: hw2/unlabeled/6834.jpg  \n",
            "  inflating: hw2/unlabeled/5269.jpg  \n",
            "  inflating: hw2/unlabeled/0387.jpg  \n",
            "  inflating: hw2/unlabeled/1961.jpg  \n",
            "  inflating: hw2/unlabeled/4762.jpg  \n",
            "  inflating: hw2/unlabeled/1456.jpg  \n",
            "  inflating: hw2/unlabeled/0664.jpg  \n",
            "  inflating: hw2/unlabeled/5930.jpg  \n",
            "  inflating: hw2/unlabeled/3268.jpg  \n",
            "  inflating: hw2/unlabeled/3533.jpg  \n",
            "  inflating: hw2/unlabeled/4614.jpg  \n",
            "  inflating: hw2/unlabeled/4018.jpg  \n",
            "  inflating: hw2/unlabeled/2191.jpg  \n",
            "  inflating: hw2/unlabeled/3353.jpg  \n",
            "  inflating: hw2/unlabeled/3369.jpg  \n",
            "  inflating: hw2/unlabeled/5118.jpg  \n",
            "  inflating: hw2/unlabeled/2635.jpg  \n",
            "  inflating: hw2/unlabeled/5477.jpg  \n",
            "  inflating: hw2/unlabeled/2086.jpg  \n",
            "  inflating: hw2/unlabeled/3716.jpg  \n",
            "  inflating: hw2/unlabeled/5120.jpg  \n",
            "  inflating: hw2/unlabeled/3636.jpg  \n",
            "  inflating: hw2/unlabeled/2057.jpg  \n",
            "  inflating: hw2/unlabeled/1319.jpg  \n",
            "  inflating: hw2/unlabeled/4113.jpg  \n",
            "  inflating: hw2/unlabeled/3044.jpg  \n",
            "  inflating: hw2/unlabeled/6375.jpg  \n",
            "  inflating: hw2/unlabeled/2478.jpg  \n",
            "  inflating: hw2/unlabeled/3627.jpg  \n",
            "  inflating: hw2/unlabeled/2694.jpg  \n",
            "  inflating: hw2/unlabeled/4406.jpg  \n",
            "  inflating: hw2/unlabeled/0348.jpg  \n",
            "  inflating: hw2/unlabeled/6756.jpg  \n",
            "  inflating: hw2/unlabeled/6952.jpg  \n",
            "  inflating: hw2/unlabeled/2466.jpg  \n",
            "  inflating: hw2/unlabeled/6193.jpg  \n",
            "  inflating: hw2/unlabeled/6930.jpg  \n",
            "  inflating: hw2/unlabeled/2981.jpg  \n",
            "  inflating: hw2/unlabeled/1559.jpg  \n",
            "  inflating: hw2/unlabeled/6226.jpg  \n",
            "  inflating: hw2/unlabeled/5882.jpg  \n",
            "  inflating: hw2/unlabeled/2696.jpg  \n",
            "  inflating: hw2/unlabeled/2498.jpg  \n",
            "  inflating: hw2/unlabeled/2893.jpg  \n",
            "  inflating: hw2/unlabeled/6663.jpg  \n",
            "  inflating: hw2/unlabeled/0998.jpg  \n",
            "  inflating: hw2/unlabeled/4357.jpg  \n",
            "  inflating: hw2/unlabeled/6219.jpg  \n",
            "  inflating: hw2/unlabeled/3766.jpg  \n",
            "  inflating: hw2/unlabeled/0358.jpg  \n",
            "  inflating: hw2/unlabeled/5814.jpg  \n",
            "  inflating: hw2/unlabeled/0012.jpg  \n",
            "  inflating: hw2/unlabeled/5424.jpg  \n",
            "  inflating: hw2/unlabeled/5244.jpg  \n",
            "  inflating: hw2/unlabeled/5918.jpg  \n",
            "  inflating: hw2/unlabeled/3950.jpg  \n",
            "  inflating: hw2/unlabeled/1695.jpg  \n",
            "  inflating: hw2/unlabeled/0930.jpg  \n",
            "  inflating: hw2/unlabeled/6526.jpg  \n",
            "  inflating: hw2/unlabeled/4672.jpg  \n",
            "  inflating: hw2/unlabeled/3140.jpg  \n",
            "  inflating: hw2/unlabeled/3667.jpg  \n",
            "  inflating: hw2/unlabeled/0891.jpg  \n",
            "  inflating: hw2/unlabeled/3270.jpg  \n",
            "  inflating: hw2/unlabeled/3525.jpg  \n",
            "  inflating: hw2/unlabeled/5382.jpg  \n",
            "  inflating: hw2/unlabeled/2154.jpg  \n",
            "  inflating: hw2/unlabeled/7219.jpg  \n",
            "  inflating: hw2/unlabeled/1821.jpg  \n",
            "  inflating: hw2/unlabeled/5634.jpg  \n",
            "  inflating: hw2/unlabeled/4696.jpg  \n",
            "  inflating: hw2/unlabeled/4941.jpg  \n",
            "  inflating: hw2/unlabeled/5164.jpg  \n",
            "  inflating: hw2/unlabeled/0326.jpg  \n",
            "  inflating: hw2/unlabeled/1019.jpg  \n",
            "  inflating: hw2/unlabeled/7113.jpg  \n",
            "  inflating: hw2/unlabeled/3336.jpg  \n",
            "  inflating: hw2/unlabeled/4128.jpg  \n",
            "  inflating: hw2/unlabeled/5698.jpg  \n",
            "  inflating: hw2/unlabeled/5924.jpg  \n",
            "  inflating: hw2/unlabeled/1773.jpg  \n",
            "  inflating: hw2/unlabeled/4910.jpg  \n",
            "  inflating: hw2/unlabeled/2906.jpg  \n",
            "  inflating: hw2/unlabeled/0007.jpg  \n",
            "  inflating: hw2/unlabeled/4338.jpg  \n",
            "  inflating: hw2/unlabeled/7021.jpg  \n",
            "  inflating: hw2/unlabeled/1779.jpg  \n",
            "  inflating: hw2/unlabeled/2283.jpg  \n",
            "  inflating: hw2/unlabeled/0810.jpg  \n",
            "  inflating: hw2/unlabeled/0164.jpg  \n",
            "  inflating: hw2/unlabeled/0743.jpg  \n",
            "  inflating: hw2/unlabeled/3838.jpg  \n",
            "  inflating: hw2/unlabeled/0500.jpg  \n",
            "  inflating: hw2/unlabeled/0796.jpg  \n",
            "  inflating: hw2/unlabeled/5398.jpg  \n",
            "  inflating: hw2/unlabeled/4906.jpg  \n",
            "  inflating: hw2/unlabeled/4112.jpg  \n",
            "  inflating: hw2/unlabeled/6829.jpg  \n",
            "  inflating: hw2/unlabeled/0149.jpg  \n",
            "  inflating: hw2/unlabeled/6473.jpg  \n",
            "  inflating: hw2/unlabeled/3672.jpg  \n",
            "  inflating: hw2/unlabeled/7154.jpg  \n",
            "  inflating: hw2/unlabeled/1693.jpg  \n",
            "  inflating: hw2/unlabeled/1160.jpg  \n",
            "  inflating: hw2/unlabeled/0032.jpg  \n",
            "  inflating: hw2/unlabeled/7162.jpg  \n",
            "  inflating: hw2/unlabeled/3179.jpg  \n",
            "  inflating: hw2/unlabeled/1320.jpg  \n",
            "  inflating: hw2/unlabeled/0451.jpg  \n",
            "  inflating: hw2/unlabeled/1147.jpg  \n",
            "  inflating: hw2/unlabeled/4331.jpg  \n",
            "  inflating: hw2/unlabeled/5096.jpg  \n",
            "  inflating: hw2/unlabeled/2648.jpg  \n",
            "  inflating: hw2/unlabeled/5515.jpg  \n",
            "  inflating: hw2/unlabeled/5566.jpg  \n",
            "  inflating: hw2/unlabeled/3715.jpg  \n",
            "  inflating: hw2/unlabeled/1794.jpg  \n",
            "  inflating: hw2/unlabeled/5743.jpg  \n",
            "  inflating: hw2/unlabeled/3941.jpg  \n",
            "  inflating: hw2/unlabeled/5257.jpg  \n",
            "  inflating: hw2/unlabeled/0234.jpg  \n",
            "  inflating: hw2/unlabeled/1840.jpg  \n",
            "  inflating: hw2/unlabeled/2972.jpg  \n",
            "  inflating: hw2/unlabeled/7026.jpg  \n",
            "  inflating: hw2/unlabeled/2118.jpg  \n",
            "  inflating: hw2/unlabeled/2506.jpg  \n",
            "  inflating: hw2/unlabeled/4144.jpg  \n",
            "  inflating: hw2/unlabeled/6880.jpg  \n",
            "  inflating: hw2/unlabeled/2714.jpg  \n",
            "  inflating: hw2/unlabeled/0650.jpg  \n",
            "  inflating: hw2/unlabeled/1397.jpg  \n",
            "  inflating: hw2/unlabeled/7006.jpg  \n",
            "  inflating: hw2/unlabeled/0288.jpg  \n",
            "  inflating: hw2/unlabeled/4096.jpg  \n",
            "  inflating: hw2/unlabeled/4446.jpg  \n",
            "  inflating: hw2/unlabeled/3719.jpg  \n",
            "  inflating: hw2/unlabeled/4578.jpg  \n",
            "  inflating: hw2/unlabeled/3435.jpg  \n",
            "  inflating: hw2/unlabeled/1618.jpg  \n",
            "  inflating: hw2/unlabeled/4418.jpg  \n",
            "  inflating: hw2/unlabeled/4730.jpg  \n",
            "  inflating: hw2/unlabeled/6335.jpg  \n",
            "  inflating: hw2/unlabeled/6158.jpg  \n",
            "  inflating: hw2/unlabeled/4192.jpg  \n",
            "  inflating: hw2/unlabeled/0419.jpg  \n",
            "  inflating: hw2/unlabeled/0099.jpg  \n",
            "  inflating: hw2/unlabeled/5718.jpg  \n",
            "  inflating: hw2/unlabeled/5384.jpg  \n",
            "  inflating: hw2/unlabeled/3048.jpg  \n",
            "  inflating: hw2/unlabeled/2760.jpg  \n",
            "  inflating: hw2/unlabeled/0047.jpg  \n",
            "  inflating: hw2/unlabeled/0854.jpg  \n",
            "  inflating: hw2/unlabeled/6213.jpg  \n",
            "  inflating: hw2/unlabeled/0872.jpg  \n",
            "  inflating: hw2/unlabeled/3882.jpg  \n",
            "  inflating: hw2/unlabeled/3626.jpg  \n",
            "  inflating: hw2/unlabeled/4189.jpg  \n",
            "  inflating: hw2/unlabeled/4016.jpg  \n",
            "  inflating: hw2/unlabeled/3694.jpg  \n",
            "  inflating: hw2/unlabeled/6002.jpg  \n",
            "  inflating: hw2/unlabeled/6928.jpg  \n",
            "  inflating: hw2/unlabeled/1336.jpg  \n",
            "  inflating: hw2/unlabeled/1661.jpg  \n",
            "  inflating: hw2/unlabeled/6571.jpg  \n",
            "  inflating: hw2/unlabeled/0884.jpg  \n",
            "  inflating: hw2/unlabeled/5081.jpg  \n",
            "  inflating: hw2/unlabeled/3763.jpg  \n",
            "  inflating: hw2/unlabeled/5470.jpg  \n",
            "  inflating: hw2/unlabeled/6172.jpg  \n",
            "  inflating: hw2/unlabeled/2832.jpg  \n",
            "  inflating: hw2/unlabeled/2203.jpg  \n",
            "  inflating: hw2/unlabeled/5014.jpg  \n",
            "  inflating: hw2/unlabeled/6998.jpg  \n",
            "  inflating: hw2/unlabeled/5215.jpg  \n",
            "  inflating: hw2/unlabeled/3545.jpg  \n",
            "  inflating: hw2/unlabeled/3799.jpg  \n",
            "  inflating: hw2/unlabeled/6276.jpg  \n",
            "  inflating: hw2/unlabeled/5345.jpg  \n",
            "  inflating: hw2/unlabeled/3524.jpg  \n",
            "  inflating: hw2/unlabeled/1131.jpg  \n",
            "  inflating: hw2/unlabeled/1091.jpg  \n",
            "  inflating: hw2/unlabeled/1602.jpg  \n",
            "  inflating: hw2/unlabeled/6916.jpg  \n",
            "  inflating: hw2/unlabeled/0655.jpg  \n",
            "  inflating: hw2/unlabeled/3585.jpg  \n",
            "  inflating: hw2/unlabeled/2669.jpg  \n",
            "  inflating: hw2/unlabeled/3986.jpg  \n",
            "  inflating: hw2/unlabeled/4474.jpg  \n",
            "  inflating: hw2/unlabeled/1028.jpg  \n",
            "  inflating: hw2/unlabeled/5074.jpg  \n",
            "  inflating: hw2/unlabeled/5000.jpg  \n",
            "  inflating: hw2/unlabeled/6097.jpg  \n",
            "  inflating: hw2/unlabeled/0039.jpg  \n",
            "  inflating: hw2/unlabeled/0709.jpg  \n",
            "  inflating: hw2/unlabeled/4258.jpg  \n",
            "  inflating: hw2/unlabeled/6156.jpg  \n",
            "  inflating: hw2/unlabeled/2250.jpg  \n",
            "  inflating: hw2/unlabeled/4538.jpg  \n",
            "  inflating: hw2/unlabeled/0604.jpg  \n",
            "  inflating: hw2/unlabeled/5434.jpg  \n",
            "  inflating: hw2/unlabeled/2958.jpg  \n",
            "  inflating: hw2/unlabeled/3770.jpg  \n",
            "  inflating: hw2/unlabeled/3898.jpg  \n",
            "  inflating: hw2/unlabeled/3083.jpg  \n",
            "  inflating: hw2/unlabeled/7221.jpg  \n",
            "  inflating: hw2/unlabeled/0353.jpg  \n",
            "  inflating: hw2/unlabeled/2309.jpg  \n",
            "  inflating: hw2/unlabeled/6685.jpg  \n",
            "  inflating: hw2/unlabeled/7281.jpg  \n",
            "  inflating: hw2/unlabeled/2060.jpg  \n",
            "  inflating: hw2/unlabeled/0817.jpg  \n",
            "  inflating: hw2/unlabeled/1083.jpg  \n",
            "  inflating: hw2/unlabeled/6150.jpg  \n",
            "  inflating: hw2/unlabeled/5350.jpg  \n",
            "  inflating: hw2/unlabeled/2977.jpg  \n",
            "  inflating: hw2/unlabeled/0146.jpg  \n",
            "  inflating: hw2/unlabeled/4843.jpg  \n",
            "  inflating: hw2/unlabeled/4972.jpg  \n",
            "  inflating: hw2/unlabeled/4498.jpg  \n",
            "  inflating: hw2/unlabeled/0533.jpg  \n",
            "  inflating: hw2/unlabeled/6875.jpg  \n",
            "  inflating: hw2/unlabeled/4692.jpg  \n",
            "  inflating: hw2/unlabeled/5955.jpg  \n",
            "  inflating: hw2/unlabeled/5327.jpg  \n",
            "  inflating: hw2/unlabeled/6319.jpg  \n",
            "  inflating: hw2/unlabeled/5988.jpg  \n",
            "  inflating: hw2/unlabeled/5612.jpg  \n",
            "  inflating: hw2/unlabeled/0863.jpg  \n",
            "  inflating: hw2/unlabeled/5087.jpg  \n",
            "  inflating: hw2/unlabeled/5835.jpg  \n",
            "  inflating: hw2/unlabeled/0064.jpg  \n",
            "  inflating: hw2/unlabeled/3590.jpg  \n",
            "  inflating: hw2/unlabeled/6608.jpg  \n",
            "  inflating: hw2/unlabeled/5071.jpg  \n",
            "  inflating: hw2/unlabeled/1933.jpg  \n",
            "  inflating: hw2/unlabeled/0087.jpg  \n",
            "  inflating: hw2/unlabeled/7258.jpg  \n",
            "  inflating: hw2/unlabeled/1882.jpg  \n",
            "  inflating: hw2/unlabeled/1810.jpg  \n",
            "  inflating: hw2/unlabeled/1643.jpg  \n",
            "  inflating: hw2/unlabeled/6370.jpg  \n",
            "  inflating: hw2/unlabeled/5846.jpg  \n",
            "  inflating: hw2/unlabeled/2353.jpg  \n",
            "  inflating: hw2/unlabeled/2376.jpg  \n",
            "  inflating: hw2/unlabeled/0173.jpg  \n",
            "  inflating: hw2/unlabeled/3158.jpg  \n",
            "  inflating: hw2/unlabeled/2385.jpg  \n",
            "  inflating: hw2/unlabeled/7166.jpg  \n",
            "  inflating: hw2/unlabeled/0295.jpg  \n",
            "  inflating: hw2/unlabeled/2959.jpg  \n",
            "  inflating: hw2/unlabeled/4135.jpg  \n",
            "  inflating: hw2/unlabeled/7213.jpg  \n",
            "  inflating: hw2/unlabeled/2033.jpg  \n",
            "  inflating: hw2/unlabeled/2087.jpg  \n",
            "  inflating: hw2/unlabeled/2091.jpg  \n",
            "  inflating: hw2/unlabeled/6218.jpg  \n",
            "  inflating: hw2/unlabeled/2778.jpg  \n",
            "  inflating: hw2/unlabeled/3465.jpg  \n",
            "  inflating: hw2/unlabeled/1137.jpg  \n",
            "  inflating: hw2/unlabeled/1467.jpg  \n",
            "  inflating: hw2/unlabeled/3887.jpg  \n",
            "  inflating: hw2/unlabeled/4633.jpg  \n",
            "  inflating: hw2/unlabeled/2028.jpg  \n",
            "  inflating: hw2/unlabeled/4048.jpg  \n",
            "  inflating: hw2/unlabeled/5611.jpg  \n",
            "  inflating: hw2/unlabeled/4877.jpg  \n",
            "  inflating: hw2/unlabeled/2926.jpg  \n",
            "  inflating: hw2/unlabeled/0746.jpg  \n",
            "  inflating: hw2/unlabeled/3394.jpg  \n",
            "  inflating: hw2/unlabeled/3357.jpg  \n",
            "  inflating: hw2/unlabeled/1800.jpg  \n",
            "  inflating: hw2/unlabeled/3485.jpg  \n",
            "  inflating: hw2/unlabeled/0675.jpg  \n",
            "  inflating: hw2/unlabeled/6255.jpg  \n",
            "  inflating: hw2/unlabeled/3791.jpg  \n",
            "  inflating: hw2/unlabeled/4856.jpg  \n",
            "  inflating: hw2/unlabeled/3755.jpg  \n",
            "  inflating: hw2/unlabeled/6328.jpg  \n",
            "  inflating: hw2/unlabeled/3443.jpg  \n",
            "  inflating: hw2/unlabeled/5256.jpg  \n",
            "  inflating: hw2/unlabeled/0276.jpg  \n",
            "  inflating: hw2/unlabeled/2934.jpg  \n",
            "  inflating: hw2/unlabeled/5600.jpg  \n",
            "  inflating: hw2/unlabeled/5575.jpg  \n",
            "  inflating: hw2/unlabeled/3718.jpg  \n",
            "  inflating: hw2/unlabeled/1697.jpg  \n",
            "  inflating: hw2/unlabeled/3145.jpg  \n",
            "  inflating: hw2/unlabeled/1717.jpg  \n",
            "  inflating: hw2/unlabeled/5879.jpg  \n",
            "  inflating: hw2/unlabeled/6085.jpg  \n",
            "  inflating: hw2/unlabeled/2182.jpg  \n",
            "  inflating: hw2/unlabeled/1764.jpg  \n",
            "  inflating: hw2/unlabeled/2198.jpg  \n",
            "  inflating: hw2/unlabeled/5209.jpg  \n",
            "  inflating: hw2/unlabeled/5786.jpg  \n",
            "  inflating: hw2/unlabeled/1849.jpg  \n",
            "  inflating: hw2/unlabeled/4984.jpg  \n",
            "  inflating: hw2/unlabeled/2933.jpg  \n",
            "  inflating: hw2/unlabeled/4570.jpg  \n",
            "  inflating: hw2/unlabeled/3260.jpg  \n",
            "  inflating: hw2/unlabeled/1473.jpg  \n",
            "  inflating: hw2/unlabeled/4475.jpg  \n",
            "  inflating: hw2/unlabeled/6564.jpg  \n",
            "  inflating: hw2/unlabeled/2322.jpg  \n",
            "  inflating: hw2/unlabeled/4085.jpg  \n",
            "  inflating: hw2/unlabeled/2856.jpg  \n",
            "  inflating: hw2/unlabeled/5765.jpg  \n",
            "  inflating: hw2/unlabeled/2089.jpg  \n",
            "  inflating: hw2/unlabeled/5105.jpg  \n",
            "  inflating: hw2/unlabeled/5177.jpg  \n",
            "  inflating: hw2/unlabeled/0816.jpg  \n",
            "  inflating: hw2/unlabeled/2326.jpg  \n",
            "  inflating: hw2/unlabeled/7027.jpg  \n",
            "  inflating: hw2/unlabeled/0142.jpg  \n",
            "  inflating: hw2/unlabeled/1846.jpg  \n",
            "  inflating: hw2/unlabeled/5875.jpg  \n",
            "  inflating: hw2/unlabeled/2634.jpg  \n",
            "  inflating: hw2/unlabeled/1648.jpg  \n",
            "  inflating: hw2/unlabeled/4117.jpg  \n",
            "  inflating: hw2/unlabeled/0554.jpg  \n",
            "  inflating: hw2/unlabeled/5456.jpg  \n",
            "  inflating: hw2/unlabeled/1458.jpg  \n",
            "  inflating: hw2/unlabeled/6159.jpg  \n",
            "  inflating: hw2/unlabeled/5796.jpg  \n",
            "  inflating: hw2/unlabeled/1688.jpg  \n",
            "  inflating: hw2/unlabeled/0939.jpg  \n",
            "  inflating: hw2/unlabeled/5031.jpg  \n",
            "  inflating: hw2/unlabeled/0319.jpg  \n",
            "  inflating: hw2/unlabeled/3849.jpg  \n",
            "  inflating: hw2/unlabeled/0826.jpg  \n",
            "  inflating: hw2/unlabeled/5972.jpg  \n",
            "  inflating: hw2/unlabeled/4348.jpg  \n",
            "  inflating: hw2/unlabeled/3643.jpg  \n",
            "  inflating: hw2/unlabeled/4124.jpg  \n",
            "  inflating: hw2/unlabeled/6104.jpg  \n",
            "  inflating: hw2/unlabeled/2721.jpg  \n",
            "  inflating: hw2/unlabeled/3985.jpg  \n",
            "  inflating: hw2/unlabeled/5654.jpg  \n",
            "  inflating: hw2/unlabeled/2210.jpg  \n",
            "  inflating: hw2/unlabeled/4973.jpg  \n",
            "  inflating: hw2/unlabeled/4174.jpg  \n",
            "  inflating: hw2/unlabeled/5910.jpg  \n",
            "  inflating: hw2/unlabeled/1777.jpg  \n",
            "  inflating: hw2/unlabeled/2820.jpg  \n",
            "  inflating: hw2/unlabeled/3760.jpg  \n",
            "  inflating: hw2/unlabeled/1868.jpg  \n",
            "  inflating: hw2/unlabeled/6184.jpg  \n",
            "  inflating: hw2/unlabeled/5441.jpg  \n",
            "  inflating: hw2/unlabeled/5024.jpg  \n",
            "  inflating: hw2/unlabeled/7287.jpg  \n",
            "  inflating: hw2/unlabeled/0749.jpg  \n",
            "  inflating: hw2/unlabeled/2184.jpg  \n",
            "  inflating: hw2/unlabeled/7292.jpg  \n",
            "  inflating: hw2/unlabeled/6983.jpg  \n",
            "  inflating: hw2/unlabeled/6157.jpg  \n",
            "  inflating: hw2/unlabeled/0424.jpg  \n",
            "  inflating: hw2/unlabeled/2288.jpg  \n",
            "  inflating: hw2/unlabeled/7095.jpg  \n",
            "  inflating: hw2/unlabeled/6576.jpg  \n",
            "  inflating: hw2/unlabeled/3277.jpg  \n",
            "  inflating: hw2/unlabeled/2142.jpg  \n",
            "  inflating: hw2/unlabeled/0228.jpg  \n",
            "  inflating: hw2/unlabeled/1508.jpg  \n",
            "  inflating: hw2/unlabeled/6745.jpg  \n",
            "  inflating: hw2/unlabeled/0557.jpg  \n",
            "  inflating: hw2/unlabeled/4078.jpg  \n",
            "  inflating: hw2/unlabeled/2826.jpg  \n",
            "  inflating: hw2/unlabeled/1052.jpg  \n",
            "  inflating: hw2/unlabeled/3129.jpg  \n",
            "  inflating: hw2/unlabeled/6281.jpg  \n",
            "  inflating: hw2/unlabeled/3604.jpg  \n",
            "  inflating: hw2/unlabeled/4462.jpg  \n",
            "  inflating: hw2/unlabeled/1627.jpg  \n",
            "  inflating: hw2/unlabeled/4708.jpg  \n",
            "  inflating: hw2/unlabeled/4835.jpg  \n",
            "  inflating: hw2/unlabeled/5360.jpg  \n",
            "  inflating: hw2/unlabeled/6509.jpg  \n",
            "  inflating: hw2/unlabeled/1630.jpg  \n",
            "  inflating: hw2/unlabeled/6652.jpg  \n",
            "  inflating: hw2/unlabeled/3410.jpg  \n",
            "  inflating: hw2/unlabeled/0896.jpg  \n",
            "  inflating: hw2/unlabeled/6956.jpg  \n",
            "  inflating: hw2/unlabeled/0567.jpg  \n",
            "  inflating: hw2/unlabeled/4227.jpg  \n",
            "  inflating: hw2/unlabeled/2131.jpg  \n",
            "  inflating: hw2/unlabeled/2741.jpg  \n",
            "  inflating: hw2/unlabeled/2491.jpg  \n",
            "  inflating: hw2/unlabeled/0020.jpg  \n",
            "  inflating: hw2/unlabeled/0321.jpg  \n",
            "  inflating: hw2/unlabeled/3684.jpg  \n",
            "  inflating: hw2/unlabeled/5572.jpg  \n",
            "  inflating: hw2/unlabeled/6372.jpg  \n",
            "  inflating: hw2/unlabeled/5932.jpg  \n",
            "  inflating: hw2/unlabeled/2143.jpg  \n",
            "  inflating: hw2/unlabeled/3002.jpg  \n",
            "  inflating: hw2/unlabeled/2943.jpg  \n",
            "  inflating: hw2/unlabeled/3761.jpg  \n",
            "  inflating: hw2/unlabeled/0195.jpg  \n",
            "  inflating: hw2/unlabeled/5787.jpg  \n",
            "  inflating: hw2/unlabeled/5836.jpg  \n",
            "  inflating: hw2/unlabeled/6494.jpg  \n",
            "  inflating: hw2/unlabeled/5287.jpg  \n",
            "  inflating: hw2/unlabeled/1826.jpg  \n",
            "  inflating: hw2/unlabeled/4653.jpg  \n",
            "  inflating: hw2/unlabeled/1186.jpg  \n",
            "  inflating: hw2/unlabeled/4977.jpg  \n",
            "  inflating: hw2/unlabeled/3224.jpg  \n",
            "  inflating: hw2/unlabeled/5825.jpg  \n",
            "  inflating: hw2/unlabeled/6247.jpg  \n",
            "  inflating: hw2/unlabeled/6411.jpg  \n",
            "  inflating: hw2/unlabeled/1127.jpg  \n",
            "  inflating: hw2/unlabeled/4980.jpg  \n",
            "  inflating: hw2/unlabeled/2052.jpg  \n",
            "  inflating: hw2/unlabeled/2705.jpg  \n",
            "  inflating: hw2/unlabeled/4314.jpg  \n",
            "  inflating: hw2/unlabeled/5888.jpg  \n",
            "  inflating: hw2/unlabeled/5558.jpg  \n",
            "  inflating: hw2/unlabeled/4435.jpg  \n",
            "  inflating: hw2/unlabeled/5046.jpg  \n",
            "  inflating: hw2/unlabeled/2219.jpg  \n",
            "  inflating: hw2/unlabeled/5099.jpg  \n",
            "  inflating: hw2/unlabeled/5388.jpg  \n",
            "  inflating: hw2/unlabeled/5807.jpg  \n",
            "  inflating: hw2/unlabeled/5305.jpg  \n",
            "  inflating: hw2/unlabeled/3292.jpg  \n",
            "  inflating: hw2/unlabeled/3266.jpg  \n",
            "  inflating: hw2/unlabeled/0305.jpg  \n",
            "  inflating: hw2/unlabeled/6386.jpg  \n",
            "  inflating: hw2/unlabeled/1006.jpg  \n",
            "  inflating: hw2/unlabeled/0179.jpg  \n",
            "  inflating: hw2/unlabeled/5135.jpg  \n",
            "  inflating: hw2/unlabeled/4697.jpg  \n",
            "  inflating: hw2/unlabeled/5958.jpg  \n",
            "  inflating: hw2/unlabeled/0049.jpg  \n",
            "  inflating: hw2/unlabeled/6545.jpg  \n",
            "  inflating: hw2/unlabeled/5142.jpg  \n",
            "  inflating: hw2/unlabeled/2341.jpg  \n",
            "  inflating: hw2/unlabeled/7163.jpg  \n",
            "  inflating: hw2/unlabeled/6529.jpg  \n",
            "  inflating: hw2/unlabeled/2083.jpg  \n",
            "  inflating: hw2/unlabeled/4613.jpg  \n",
            "  inflating: hw2/unlabeled/2829.jpg  \n",
            "  inflating: hw2/unlabeled/0250.jpg  \n",
            "  inflating: hw2/unlabeled/6767.jpg  \n",
            "  inflating: hw2/unlabeled/3022.jpg  \n",
            "  inflating: hw2/unlabeled/4138.jpg  \n",
            "  inflating: hw2/unlabeled/0866.jpg  \n",
            "  inflating: hw2/unlabeled/0665.jpg  \n",
            "  inflating: hw2/unlabeled/7084.jpg  \n",
            "  inflating: hw2/unlabeled/7202.jpg  \n",
            "  inflating: hw2/unlabeled/0483.jpg  \n",
            "  inflating: hw2/unlabeled/5931.jpg  \n",
            "  inflating: hw2/unlabeled/1255.jpg  \n",
            "  inflating: hw2/unlabeled/2443.jpg  \n",
            "  inflating: hw2/unlabeled/1040.jpg  \n",
            "  inflating: hw2/unlabeled/4412.jpg  \n",
            "  inflating: hw2/unlabeled/2015.jpg  \n",
            "  inflating: hw2/unlabeled/1411.jpg  \n",
            "  inflating: hw2/unlabeled/2550.jpg  \n",
            "  inflating: hw2/unlabeled/2003.jpg  \n",
            "  inflating: hw2/unlabeled/6566.jpg  \n",
            "  inflating: hw2/unlabeled/0566.jpg  \n",
            "  inflating: hw2/unlabeled/6305.jpg  \n",
            "  inflating: hw2/unlabeled/2915.jpg  \n",
            "  inflating: hw2/unlabeled/3795.jpg  \n",
            "  inflating: hw2/unlabeled/0911.jpg  \n",
            "  inflating: hw2/unlabeled/3570.jpg  \n",
            "  inflating: hw2/unlabeled/5474.jpg  \n",
            "  inflating: hw2/unlabeled/1159.jpg  \n",
            "  inflating: hw2/unlabeled/6492.jpg  \n",
            "  inflating: hw2/unlabeled/5372.jpg  \n",
            "  inflating: hw2/unlabeled/5830.jpg  \n",
            "  inflating: hw2/unlabeled/3308.jpg  \n",
            "  inflating: hw2/unlabeled/6555.jpg  \n",
            "  inflating: hw2/unlabeled/5491.jpg  \n",
            "  inflating: hw2/unlabeled/4334.jpg  \n",
            "  inflating: hw2/unlabeled/4899.jpg  \n",
            "  inflating: hw2/unlabeled/5977.jpg  \n",
            "  inflating: hw2/unlabeled/6186.jpg  \n",
            "  inflating: hw2/unlabeled/3168.jpg  \n",
            "  inflating: hw2/unlabeled/2827.jpg  \n",
            "  inflating: hw2/unlabeled/5889.jpg  \n",
            "  inflating: hw2/unlabeled/6612.jpg  \n",
            "  inflating: hw2/unlabeled/5545.jpg  \n",
            "  inflating: hw2/unlabeled/5213.jpg  \n",
            "  inflating: hw2/unlabeled/6643.jpg  \n",
            "  inflating: hw2/unlabeled/2863.jpg  \n",
            "  inflating: hw2/unlabeled/1394.jpg  \n",
            "  inflating: hw2/unlabeled/4767.jpg  \n",
            "  inflating: hw2/unlabeled/4350.jpg  \n",
            "  inflating: hw2/unlabeled/4216.jpg  \n",
            "  inflating: hw2/unlabeled/3114.jpg  \n",
            "  inflating: hw2/unlabeled/6589.jpg  \n",
            "  inflating: hw2/unlabeled/2921.jpg  \n",
            "  inflating: hw2/unlabeled/1701.jpg  \n",
            "  inflating: hw2/unlabeled/2552.jpg  \n",
            "  inflating: hw2/unlabeled/2840.jpg  \n",
            "  inflating: hw2/unlabeled/5413.jpg  \n",
            "  inflating: hw2/unlabeled/3535.jpg  \n",
            "  inflating: hw2/unlabeled/1231.jpg  \n",
            "  inflating: hw2/unlabeled/1875.jpg  \n",
            "  inflating: hw2/unlabeled/1145.jpg  \n",
            "  inflating: hw2/unlabeled/6979.jpg  \n",
            "  inflating: hw2/unlabeled/4225.jpg  \n",
            "  inflating: hw2/unlabeled/3147.jpg  \n",
            "  inflating: hw2/unlabeled/3851.jpg  \n",
            "  inflating: hw2/unlabeled/6712.jpg  \n",
            "  inflating: hw2/unlabeled/0751.jpg  \n",
            "  inflating: hw2/unlabeled/5168.jpg  \n",
            "  inflating: hw2/unlabeled/6369.jpg  \n",
            "  inflating: hw2/unlabeled/6285.jpg  \n",
            "  inflating: hw2/unlabeled/2242.jpg  \n",
            "  inflating: hw2/unlabeled/2996.jpg  \n",
            "  inflating: hw2/unlabeled/3042.jpg  \n",
            "  inflating: hw2/unlabeled/3812.jpg  \n",
            "  inflating: hw2/unlabeled/1958.jpg  \n",
            "  inflating: hw2/unlabeled/5011.jpg  \n",
            "  inflating: hw2/unlabeled/5920.jpg  \n",
            "  inflating: hw2/unlabeled/6390.jpg  \n",
            "  inflating: hw2/unlabeled/4341.jpg  \n",
            "  inflating: hw2/unlabeled/2439.jpg  \n",
            "  inflating: hw2/unlabeled/1672.jpg  \n",
            "  inflating: hw2/unlabeled/2946.jpg  \n",
            "  inflating: hw2/unlabeled/7124.jpg  \n",
            "  inflating: hw2/unlabeled/2521.jpg  \n",
            "  inflating: hw2/unlabeled/1169.jpg  \n",
            "  inflating: hw2/unlabeled/6774.jpg  \n",
            "  inflating: hw2/unlabeled/1593.jpg  \n",
            "  inflating: hw2/unlabeled/2296.jpg  \n",
            "  inflating: hw2/unlabeled/1325.jpg  \n",
            "  inflating: hw2/unlabeled/3620.jpg  \n",
            "  inflating: hw2/unlabeled/5307.jpg  \n",
            "  inflating: hw2/unlabeled/2269.jpg  \n",
            "  inflating: hw2/unlabeled/5710.jpg  \n",
            "  inflating: hw2/unlabeled/5722.jpg  \n",
            "  inflating: hw2/unlabeled/4320.jpg  \n",
            "  inflating: hw2/unlabeled/3751.jpg  \n",
            "  inflating: hw2/unlabeled/0978.jpg  \n",
            "  inflating: hw2/unlabeled/1896.jpg  \n",
            "  inflating: hw2/unlabeled/2974.jpg  \n",
            "  inflating: hw2/unlabeled/4686.jpg  \n",
            "  inflating: hw2/unlabeled/1219.jpg  \n",
            "  inflating: hw2/unlabeled/5739.jpg  \n",
            "  inflating: hw2/unlabeled/2619.jpg  \n",
            "  inflating: hw2/unlabeled/3732.jpg  \n",
            "  inflating: hw2/unlabeled/5221.jpg  \n",
            "  inflating: hw2/unlabeled/5300.jpg  \n",
            "  inflating: hw2/unlabeled/3009.jpg  \n",
            "  inflating: hw2/unlabeled/4682.jpg  \n",
            "  inflating: hw2/unlabeled/4664.jpg  \n",
            "  inflating: hw2/unlabeled/2372.jpg  \n",
            "  inflating: hw2/unlabeled/4310.jpg  \n",
            "  inflating: hw2/unlabeled/6943.jpg  \n",
            "  inflating: hw2/unlabeled/2901.jpg  \n",
            "  inflating: hw2/unlabeled/1086.jpg  \n",
            "  inflating: hw2/unlabeled/4230.jpg  \n",
            "  inflating: hw2/unlabeled/3728.jpg  \n",
            "  inflating: hw2/unlabeled/6618.jpg  \n",
            "  inflating: hw2/unlabeled/0586.jpg  \n",
            "  inflating: hw2/unlabeled/5530.jpg  \n",
            "  inflating: hw2/unlabeled/5563.jpg  \n",
            "  inflating: hw2/unlabeled/6973.jpg  \n",
            "  inflating: hw2/unlabeled/2623.jpg  \n",
            "  inflating: hw2/unlabeled/4760.jpg  \n",
            "  inflating: hw2/unlabeled/1572.jpg  \n",
            "  inflating: hw2/unlabeled/7172.jpg  \n",
            "  inflating: hw2/unlabeled/3309.jpg  \n",
            "  inflating: hw2/unlabeled/4419.jpg  \n",
            "  inflating: hw2/unlabeled/1318.jpg  \n",
            "  inflating: hw2/unlabeled/3977.jpg  \n",
            "  inflating: hw2/unlabeled/0183.jpg  \n",
            "  inflating: hw2/unlabeled/4909.jpg  \n",
            "  inflating: hw2/unlabeled/4537.jpg  \n",
            "  inflating: hw2/unlabeled/3362.jpg  \n",
            "  inflating: hw2/unlabeled/6191.jpg  \n",
            "  inflating: hw2/unlabeled/6864.jpg  \n",
            "  inflating: hw2/unlabeled/7152.jpg  \n",
            "  inflating: hw2/unlabeled/3983.jpg  \n",
            "  inflating: hw2/unlabeled/4882.jpg  \n",
            "  inflating: hw2/unlabeled/3566.jpg  \n",
            "  inflating: hw2/unlabeled/4792.jpg  \n",
            "  inflating: hw2/unlabeled/1799.jpg  \n",
            "  inflating: hw2/unlabeled/0543.jpg  \n",
            "  inflating: hw2/unlabeled/2558.jpg  \n",
            "  inflating: hw2/unlabeled/3172.jpg  \n",
            "  inflating: hw2/unlabeled/1368.jpg  \n",
            "  inflating: hw2/unlabeled/6173.jpg  \n",
            "  inflating: hw2/unlabeled/2581.jpg  \n",
            "  inflating: hw2/unlabeled/4782.jpg  \n",
            "  inflating: hw2/unlabeled/0251.jpg  \n",
            "  inflating: hw2/unlabeled/5760.jpg  \n",
            "  inflating: hw2/unlabeled/0060.jpg  \n",
            "  inflating: hw2/unlabeled/3076.jpg  \n",
            "  inflating: hw2/unlabeled/5649.jpg  \n",
            "  inflating: hw2/unlabeled/3209.jpg  \n",
            "  inflating: hw2/unlabeled/5774.jpg  \n",
            "  inflating: hw2/unlabeled/1435.jpg  \n",
            "  inflating: hw2/unlabeled/6882.jpg  \n",
            "  inflating: hw2/unlabeled/1828.jpg  \n",
            "  inflating: hw2/unlabeled/5337.jpg  \n",
            "  inflating: hw2/unlabeled/5048.jpg  \n",
            "  inflating: hw2/unlabeled/1432.jpg  \n",
            "  inflating: hw2/unlabeled/3453.jpg  \n",
            "  inflating: hw2/unlabeled/3116.jpg  \n",
            "  inflating: hw2/unlabeled/2766.jpg  \n",
            "  inflating: hw2/unlabeled/4850.jpg  \n",
            "  inflating: hw2/unlabeled/1747.jpg  \n",
            "  inflating: hw2/unlabeled/5068.jpg  \n",
            "  inflating: hw2/unlabeled/6951.jpg  \n",
            "  inflating: hw2/unlabeled/0009.jpg  \n",
            "  inflating: hw2/unlabeled/1488.jpg  \n",
            "  inflating: hw2/unlabeled/5950.jpg  \n",
            "  inflating: hw2/unlabeled/4802.jpg  \n",
            "  inflating: hw2/unlabeled/0764.jpg  \n",
            "  inflating: hw2/unlabeled/2586.jpg  \n",
            "  inflating: hw2/unlabeled/7254.jpg  \n",
            "  inflating: hw2/unlabeled/1751.jpg  \n",
            "  inflating: hw2/unlabeled/4499.jpg  \n",
            "  inflating: hw2/unlabeled/3486.jpg  \n",
            "  inflating: hw2/unlabeled/7167.jpg  \n",
            "  inflating: hw2/unlabeled/6922.jpg  \n",
            "  inflating: hw2/unlabeled/2864.jpg  \n",
            "  inflating: hw2/unlabeled/5151.jpg  \n",
            "  inflating: hw2/unlabeled/4461.jpg  \n",
            "  inflating: hw2/unlabeled/0278.jpg  \n",
            "  inflating: hw2/unlabeled/1901.jpg  \n",
            "  inflating: hw2/unlabeled/6210.jpg  \n",
            "  inflating: hw2/unlabeled/1822.jpg  \n",
            "  inflating: hw2/unlabeled/1922.jpg  \n",
            "  inflating: hw2/unlabeled/4542.jpg  \n",
            "  inflating: hw2/unlabeled/7279.jpg  \n",
            "  inflating: hw2/unlabeled/2197.jpg  \n",
            "  inflating: hw2/unlabeled/2679.jpg  \n",
            "  inflating: hw2/unlabeled/5367.jpg  \n",
            "  inflating: hw2/unlabeled/4432.jpg  \n",
            "  inflating: hw2/unlabeled/0076.jpg  \n",
            "  inflating: hw2/unlabeled/0847.jpg  \n",
            "  inflating: hw2/unlabeled/5128.jpg  \n",
            "  inflating: hw2/unlabeled/0658.jpg  \n",
            "  inflating: hw2/unlabeled/4000.jpg  \n",
            "  inflating: hw2/unlabeled/2021.jpg  \n",
            "  inflating: hw2/unlabeled/5864.jpg  \n",
            "  inflating: hw2/unlabeled/2161.jpg  \n",
            "  inflating: hw2/unlabeled/4781.jpg  \n",
            "  inflating: hw2/unlabeled/5349.jpg  \n",
            "  inflating: hw2/unlabeled/5929.jpg  \n",
            "  inflating: hw2/unlabeled/6455.jpg  \n",
            "  inflating: hw2/unlabeled/1113.jpg  \n",
            "  inflating: hw2/unlabeled/7282.jpg  \n",
            "  inflating: hw2/unlabeled/4079.jpg  \n",
            "  inflating: hw2/unlabeled/3314.jpg  \n",
            "  inflating: hw2/unlabeled/2367.jpg  \n",
            "  inflating: hw2/unlabeled/1809.jpg  \n",
            "  inflating: hw2/unlabeled/6324.jpg  \n",
            "  inflating: hw2/unlabeled/5973.jpg  \n",
            "  inflating: hw2/unlabeled/4179.jpg  \n",
            "  inflating: hw2/unlabeled/4660.jpg  \n",
            "  inflating: hw2/unlabeled/6151.jpg  \n",
            "  inflating: hw2/unlabeled/6031.jpg  \n",
            "  inflating: hw2/unlabeled/3902.jpg  \n",
            "  inflating: hw2/unlabeled/4594.jpg  \n",
            "  inflating: hw2/unlabeled/2512.jpg  \n",
            "  inflating: hw2/unlabeled/6797.jpg  \n",
            "  inflating: hw2/unlabeled/6822.jpg  \n",
            "  inflating: hw2/unlabeled/1202.jpg  \n",
            "  inflating: hw2/unlabeled/1273.jpg  \n",
            "  inflating: hw2/unlabeled/6572.jpg  \n",
            "  inflating: hw2/unlabeled/1314.jpg  \n",
            "  inflating: hw2/unlabeled/4738.jpg  \n",
            "  inflating: hw2/unlabeled/7238.jpg  \n",
            "  inflating: hw2/unlabeled/5845.jpg  \n",
            "  inflating: hw2/unlabeled/1991.jpg  \n",
            "  inflating: hw2/unlabeled/4634.jpg  \n",
            "  inflating: hw2/unlabeled/0302.jpg  \n",
            "  inflating: hw2/unlabeled/4077.jpg  \n",
            "  inflating: hw2/unlabeled/6585.jpg  \n",
            "  inflating: hw2/unlabeled/4637.jpg  \n",
            "  inflating: hw2/unlabeled/6709.jpg  \n",
            "  inflating: hw2/unlabeled/3463.jpg  \n",
            "  inflating: hw2/unlabeled/6847.jpg  \n",
            "  inflating: hw2/unlabeled/3228.jpg  \n",
            "  inflating: hw2/unlabeled/0542.jpg  \n",
            "  inflating: hw2/unlabeled/0789.jpg  \n",
            "  inflating: hw2/unlabeled/3746.jpg  \n",
            "  inflating: hw2/unlabeled/0916.jpg  \n",
            "  inflating: hw2/unlabeled/2919.jpg  \n",
            "  inflating: hw2/unlabeled/2043.jpg  \n",
            "  inflating: hw2/unlabeled/6646.jpg  \n",
            "  inflating: hw2/unlabeled/5676.jpg  \n",
            "  inflating: hw2/unlabeled/1525.jpg  \n",
            "  inflating: hw2/unlabeled/2034.jpg  \n",
            "  inflating: hw2/unlabeled/1051.jpg  \n",
            "  inflating: hw2/unlabeled/1527.jpg  \n",
            "  inflating: hw2/unlabeled/3324.jpg  \n",
            "  inflating: hw2/unlabeled/2726.jpg  \n",
            "  inflating: hw2/unlabeled/1200.jpg  \n",
            "  inflating: hw2/unlabeled/2247.jpg  \n",
            "  inflating: hw2/unlabeled/5831.jpg  \n",
            "  inflating: hw2/unlabeled/7120.jpg  \n",
            "  inflating: hw2/unlabeled/5897.jpg  \n",
            "  inflating: hw2/unlabeled/4317.jpg  \n",
            "  inflating: hw2/unlabeled/6253.jpg  \n",
            "  inflating: hw2/unlabeled/0625.jpg  \n",
            "  inflating: hw2/unlabeled/3364.jpg  \n",
            "  inflating: hw2/unlabeled/6584.jpg  \n",
            "  inflating: hw2/unlabeled/0619.jpg  \n",
            "  inflating: hw2/unlabeled/1713.jpg  \n",
            "  inflating: hw2/unlabeled/1767.jpg  \n",
            "  inflating: hw2/unlabeled/6823.jpg  \n",
            "  inflating: hw2/unlabeled/0031.jpg  \n",
            "  inflating: hw2/unlabeled/3157.jpg  \n",
            "  inflating: hw2/unlabeled/2312.jpg  \n",
            "  inflating: hw2/unlabeled/3824.jpg  \n",
            "  inflating: hw2/unlabeled/3875.jpg  \n",
            "  inflating: hw2/unlabeled/0736.jpg  \n",
            "  inflating: hw2/unlabeled/0453.jpg  \n",
            "  inflating: hw2/unlabeled/4552.jpg  \n",
            "  inflating: hw2/unlabeled/4920.jpg  \n",
            "  inflating: hw2/unlabeled/3205.jpg  \n",
            "  inflating: hw2/unlabeled/1276.jpg  \n",
            "  inflating: hw2/unlabeled/0965.jpg  \n",
            "  inflating: hw2/unlabeled/5055.jpg  \n",
            "  inflating: hw2/unlabeled/1428.jpg  \n",
            "  inflating: hw2/unlabeled/6081.jpg  \n",
            "  inflating: hw2/unlabeled/4140.jpg  \n",
            "  inflating: hw2/unlabeled/6859.jpg  \n",
            "  inflating: hw2/unlabeled/4333.jpg  \n",
            "  inflating: hw2/unlabeled/6563.jpg  \n",
            "  inflating: hw2/unlabeled/6087.jpg  \n",
            "  inflating: hw2/unlabeled/5328.jpg  \n",
            "  inflating: hw2/unlabeled/6337.jpg  \n",
            "  inflating: hw2/unlabeled/6606.jpg  \n",
            "  inflating: hw2/unlabeled/1321.jpg  \n",
            "  inflating: hw2/unlabeled/4308.jpg  \n",
            "  inflating: hw2/unlabeled/1235.jpg  \n",
            "  inflating: hw2/unlabeled/2531.jpg  \n",
            "  inflating: hw2/unlabeled/5323.jpg  \n",
            "  inflating: hw2/unlabeled/6463.jpg  \n",
            "  inflating: hw2/unlabeled/5140.jpg  \n",
            "  inflating: hw2/unlabeled/0205.jpg  \n",
            "  inflating: hw2/unlabeled/3393.jpg  \n",
            "  inflating: hw2/unlabeled/0464.jpg  \n",
            "  inflating: hw2/unlabeled/2237.jpg  \n",
            "  inflating: hw2/unlabeled/5404.jpg  \n",
            "  inflating: hw2/unlabeled/0467.jpg  \n",
            "  inflating: hw2/unlabeled/5824.jpg  \n",
            "  inflating: hw2/unlabeled/5473.jpg  \n",
            "  inflating: hw2/unlabeled/5538.jpg  \n",
            "  inflating: hw2/unlabeled/0017.jpg  \n",
            "  inflating: hw2/unlabeled/3587.jpg  \n",
            "  inflating: hw2/unlabeled/5966.jpg  \n",
            "  inflating: hw2/unlabeled/4831.jpg  \n",
            "  inflating: hw2/unlabeled/4368.jpg  \n",
            "  inflating: hw2/unlabeled/0366.jpg  \n",
            "  inflating: hw2/unlabeled/2873.jpg  \n",
            "  inflating: hw2/unlabeled/5258.jpg  \n",
            "  inflating: hw2/unlabeled/6886.jpg  \n",
            "  inflating: hw2/unlabeled/2799.jpg  \n",
            "  inflating: hw2/unlabeled/3149.jpg  \n",
            "  inflating: hw2/unlabeled/2014.jpg  \n",
            "  inflating: hw2/unlabeled/2255.jpg  \n",
            "  inflating: hw2/unlabeled/7111.jpg  \n",
            "  inflating: hw2/unlabeled/4873.jpg  \n",
            "  inflating: hw2/unlabeled/5232.jpg  \n",
            "  inflating: hw2/unlabeled/3361.jpg  \n",
            "  inflating: hw2/unlabeled/3733.jpg  \n",
            "  inflating: hw2/unlabeled/2186.jpg  \n",
            "  inflating: hw2/unlabeled/5426.jpg  \n",
            "  inflating: hw2/unlabeled/6084.jpg  \n",
            "  inflating: hw2/unlabeled/1143.jpg  \n",
            "  inflating: hw2/unlabeled/4367.jpg  \n",
            "  inflating: hw2/unlabeled/3110.jpg  \n",
            "  inflating: hw2/unlabeled/0279.jpg  \n",
            "  inflating: hw2/unlabeled/1788.jpg  \n",
            "  inflating: hw2/unlabeled/1907.jpg  \n",
            "  inflating: hw2/unlabeled/6760.jpg  \n",
            "  inflating: hw2/unlabeled/4109.jpg  \n",
            "  inflating: hw2/unlabeled/0096.jpg  \n",
            "  inflating: hw2/unlabeled/6661.jpg  \n",
            "  inflating: hw2/unlabeled/4622.jpg  \n",
            "  inflating: hw2/unlabeled/4804.jpg  \n",
            "  inflating: hw2/unlabeled/2075.jpg  \n",
            "  inflating: hw2/unlabeled/3130.jpg  \n",
            "  inflating: hw2/unlabeled/6909.jpg  \n",
            "  inflating: hw2/unlabeled/1244.jpg  \n",
            "  inflating: hw2/unlabeled/0524.jpg  \n",
            "  inflating: hw2/unlabeled/2594.jpg  \n",
            "  inflating: hw2/unlabeled/2805.jpg  \n",
            "  inflating: hw2/unlabeled/4224.jpg  \n",
            "  inflating: hw2/unlabeled/6721.jpg  \n",
            "  inflating: hw2/unlabeled/6729.jpg  \n",
            "  inflating: hw2/unlabeled/5440.jpg  \n",
            "  inflating: hw2/unlabeled/5353.jpg  \n",
            "  inflating: hw2/unlabeled/4671.jpg  \n",
            "  inflating: hw2/unlabeled/3591.jpg  \n",
            "  inflating: hw2/unlabeled/3910.jpg  \n",
            "  inflating: hw2/unlabeled/6755.jpg  \n",
            "  inflating: hw2/unlabeled/4628.jpg  \n",
            "  inflating: hw2/unlabeled/2426.jpg  \n",
            "  inflating: hw2/unlabeled/6581.jpg  \n",
            "  inflating: hw2/unlabeled/4042.jpg  \n",
            "  inflating: hw2/unlabeled/0268.jpg  \n",
            "  inflating: hw2/unlabeled/6323.jpg  \n",
            "  inflating: hw2/unlabeled/4652.jpg  \n",
            "  inflating: hw2/unlabeled/2918.jpg  \n",
            "  inflating: hw2/unlabeled/4824.jpg  \n",
            "  inflating: hw2/unlabeled/0960.jpg  \n",
            "  inflating: hw2/unlabeled/5150.jpg  \n",
            "  inflating: hw2/unlabeled/1869.jpg  \n",
            "  inflating: hw2/unlabeled/1998.jpg  \n",
            "  inflating: hw2/unlabeled/2153.jpg  \n",
            "  inflating: hw2/unlabeled/1669.jpg  \n",
            "  inflating: hw2/unlabeled/0067.jpg  \n",
            "  inflating: hw2/unlabeled/2951.jpg  \n",
            "  inflating: hw2/unlabeled/6124.jpg  \n",
            "  inflating: hw2/unlabeled/6953.jpg  \n",
            "  inflating: hw2/unlabeled/4390.jpg  \n",
            "  inflating: hw2/unlabeled/3624.jpg  \n",
            "  inflating: hw2/unlabeled/0919.jpg  \n",
            "  inflating: hw2/unlabeled/6018.jpg  \n",
            "  inflating: hw2/unlabeled/1556.jpg  \n",
            "  inflating: hw2/unlabeled/2114.jpg  \n",
            "  inflating: hw2/unlabeled/6256.jpg  \n",
            "  inflating: hw2/unlabeled/3820.jpg  \n",
            "  inflating: hw2/unlabeled/1042.jpg  \n",
            "  inflating: hw2/unlabeled/6890.jpg  \n",
            "  inflating: hw2/unlabeled/2980.jpg  \n",
            "  inflating: hw2/unlabeled/2638.jpg  \n",
            "  inflating: hw2/unlabeled/0073.jpg  \n",
            "  inflating: hw2/unlabeled/6447.jpg  \n",
            "  inflating: hw2/unlabeled/6307.jpg  \n",
            "  inflating: hw2/unlabeled/6918.jpg  \n",
            "  inflating: hw2/unlabeled/5806.jpg  \n",
            "  inflating: hw2/unlabeled/6497.jpg  \n",
            "  inflating: hw2/unlabeled/1752.jpg  \n",
            "  inflating: hw2/unlabeled/0912.jpg  \n",
            "  inflating: hw2/unlabeled/1390.jpg  \n",
            "  inflating: hw2/unlabeled/5086.jpg  \n",
            "  inflating: hw2/unlabeled/2769.jpg  \n",
            "  inflating: hw2/unlabeled/1725.jpg  \n",
            "  inflating: hw2/unlabeled/3023.jpg  \n",
            "  inflating: hw2/unlabeled/6201.jpg  \n",
            "  inflating: hw2/unlabeled/4936.jpg  \n",
            "  inflating: hw2/unlabeled/3144.jpg  \n",
            "  inflating: hw2/unlabeled/3649.jpg  \n",
            "  inflating: hw2/unlabeled/1759.jpg  \n",
            "  inflating: hw2/unlabeled/4157.jpg  \n",
            "  inflating: hw2/unlabeled/2318.jpg  \n",
            "  inflating: hw2/unlabeled/1733.jpg  \n",
            "  inflating: hw2/unlabeled/2898.jpg  \n",
            "  inflating: hw2/unlabeled/0241.jpg  \n",
            "  inflating: hw2/unlabeled/2013.jpg  \n",
            "  inflating: hw2/unlabeled/2076.jpg  \n",
            "  inflating: hw2/unlabeled/5412.jpg  \n",
            "  inflating: hw2/unlabeled/2802.jpg  \n",
            "  inflating: hw2/unlabeled/4678.jpg  \n",
            "  inflating: hw2/unlabeled/5986.jpg  \n",
            "  inflating: hw2/unlabeled/0472.jpg  \n",
            "  inflating: hw2/unlabeled/6634.jpg  \n",
            "  inflating: hw2/unlabeled/5959.jpg  \n",
            "  inflating: hw2/unlabeled/5903.jpg  \n",
            "  inflating: hw2/unlabeled/1855.jpg  \n",
            "  inflating: hw2/unlabeled/0977.jpg  \n",
            "  inflating: hw2/unlabeled/6120.jpg  \n",
            "  inflating: hw2/unlabeled/5976.jpg  \n",
            "  inflating: hw2/unlabeled/6401.jpg  \n",
            "  inflating: hw2/unlabeled/5236.jpg  \n",
            "  inflating: hw2/unlabeled/3547.jpg  \n",
            "  inflating: hw2/unlabeled/1952.jpg  \n",
            "  inflating: hw2/unlabeled/3427.jpg  \n",
            "  inflating: hw2/unlabeled/6833.jpg  \n",
            "  inflating: hw2/unlabeled/2440.jpg  \n",
            "  inflating: hw2/unlabeled/3717.jpg  \n",
            "  inflating: hw2/unlabeled/1951.jpg  \n",
            "  inflating: hw2/unlabeled/3526.jpg  \n",
            "  inflating: hw2/unlabeled/6697.jpg  \n",
            "  inflating: hw2/unlabeled/0909.jpg  \n",
            "  inflating: hw2/unlabeled/5465.jpg  \n",
            "  inflating: hw2/unlabeled/3817.jpg  \n",
            "  inflating: hw2/unlabeled/1554.jpg  \n",
            "  inflating: hw2/unlabeled/6347.jpg  \n",
            "  inflating: hw2/unlabeled/6910.jpg  \n",
            "  inflating: hw2/unlabeled/6666.jpg  \n",
            "  inflating: hw2/unlabeled/5549.jpg  \n",
            "  inflating: hw2/unlabeled/7100.jpg  \n",
            "  inflating: hw2/unlabeled/3482.jpg  \n",
            "  inflating: hw2/unlabeled/3440.jpg  \n",
            "  inflating: hw2/unlabeled/4601.jpg  \n",
            "  inflating: hw2/unlabeled/6602.jpg  \n",
            "  inflating: hw2/unlabeled/1673.jpg  \n",
            "  inflating: hw2/unlabeled/0081.jpg  \n",
            "  inflating: hw2/unlabeled/0406.jpg  \n",
            "  inflating: hw2/unlabeled/6007.jpg  \n",
            "  inflating: hw2/unlabeled/5231.jpg  \n",
            "  inflating: hw2/unlabeled/7066.jpg  \n",
            "  inflating: hw2/unlabeled/1266.jpg  \n",
            "  inflating: hw2/unlabeled/6014.jpg  \n",
            "  inflating: hw2/unlabeled/6668.jpg  \n",
            "  inflating: hw2/unlabeled/3372.jpg  \n",
            "  inflating: hw2/unlabeled/2577.jpg  \n",
            "  inflating: hw2/unlabeled/5648.jpg  \n",
            "  inflating: hw2/unlabeled/0573.jpg  \n",
            "  inflating: hw2/unlabeled/2988.jpg  \n",
            "  inflating: hw2/unlabeled/0815.jpg  \n",
            "  inflating: hw2/unlabeled/4518.jpg  \n",
            "  inflating: hw2/unlabeled/1413.jpg  \n",
            "  inflating: hw2/unlabeled/1920.jpg  \n",
            "  inflating: hw2/unlabeled/1660.jpg  \n",
            "  inflating: hw2/unlabeled/3174.jpg  \n",
            "  inflating: hw2/unlabeled/0865.jpg  \n",
            "  inflating: hw2/unlabeled/4867.jpg  \n",
            "  inflating: hw2/unlabeled/1369.jpg  \n",
            "  inflating: hw2/unlabeled/1205.jpg  \n",
            "  inflating: hw2/unlabeled/2081.jpg  \n",
            "  inflating: hw2/unlabeled/1616.jpg  \n",
            "  inflating: hw2/unlabeled/2108.jpg  \n",
            "  inflating: hw2/unlabeled/0174.jpg  \n",
            "  inflating: hw2/unlabeled/0683.jpg  \n",
            "  inflating: hw2/unlabeled/3411.jpg  \n",
            "  inflating: hw2/unlabeled/2488.jpg  \n",
            "  inflating: hw2/unlabeled/3132.jpg  \n",
            "  inflating: hw2/unlabeled/5981.jpg  \n",
            "  inflating: hw2/unlabeled/1792.jpg  \n",
            "  inflating: hw2/unlabeled/4221.jpg  \n",
            "  inflating: hw2/unlabeled/4733.jpg  \n",
            "  inflating: hw2/unlabeled/1650.jpg  \n",
            "  inflating: hw2/unlabeled/0589.jpg  \n",
            "  inflating: hw2/unlabeled/6599.jpg  \n",
            "  inflating: hw2/unlabeled/2137.jpg  \n",
            "  inflating: hw2/unlabeled/1888.jpg  \n",
            "  inflating: hw2/unlabeled/0721.jpg  \n",
            "  inflating: hw2/unlabeled/2351.jpg  \n",
            "  inflating: hw2/unlabeled/4363.jpg  \n",
            "  inflating: hw2/unlabeled/0976.jpg  \n",
            "  inflating: hw2/unlabeled/0402.jpg  \n",
            "  inflating: hw2/unlabeled/5984.jpg  \n",
            "  inflating: hw2/unlabeled/0112.jpg  \n",
            "  inflating: hw2/unlabeled/3139.jpg  \n",
            "  inflating: hw2/unlabeled/3499.jpg  \n",
            "  inflating: hw2/unlabeled/3821.jpg  \n",
            "  inflating: hw2/unlabeled/6176.jpg  \n",
            "  inflating: hw2/unlabeled/4734.jpg  \n",
            "  inflating: hw2/unlabeled/3911.jpg  \n",
            "  inflating: hw2/unlabeled/3662.jpg  \n",
            "  inflating: hw2/unlabeled/1914.jpg  \n",
            "  inflating: hw2/unlabeled/0696.jpg  \n",
            "  inflating: hw2/unlabeled/2575.jpg  \n",
            "  inflating: hw2/unlabeled/3496.jpg  \n",
            "  inflating: hw2/unlabeled/5946.jpg  \n",
            "  inflating: hw2/unlabeled/3079.jpg  \n",
            "  inflating: hw2/unlabeled/7261.jpg  \n",
            "  inflating: hw2/unlabeled/2672.jpg  \n",
            "  inflating: hw2/unlabeled/2801.jpg  \n",
            "  inflating: hw2/unlabeled/7175.jpg  \n",
            "  inflating: hw2/unlabeled/1987.jpg  \n",
            "  inflating: hw2/unlabeled/5290.jpg  \n",
            "  inflating: hw2/unlabeled/1389.jpg  \n",
            "  inflating: hw2/unlabeled/2830.jpg  \n",
            "  inflating: hw2/unlabeled/1271.jpg  \n",
            "  inflating: hw2/unlabeled/0126.jpg  \n",
            "  inflating: hw2/unlabeled/0690.jpg  \n",
            "  inflating: hw2/unlabeled/6682.jpg  \n",
            "  inflating: hw2/unlabeled/1745.jpg  \n",
            "  inflating: hw2/unlabeled/2554.jpg  \n",
            "  inflating: hw2/unlabeled/5202.jpg  \n",
            "  inflating: hw2/unlabeled/1795.jpg  \n",
            "  inflating: hw2/unlabeled/3681.jpg  \n",
            "  inflating: hw2/unlabeled/3370.jpg  \n",
            "  inflating: hw2/unlabeled/1727.jpg  \n",
            "  inflating: hw2/unlabeled/5076.jpg  \n",
            "  inflating: hw2/unlabeled/2748.jpg  \n",
            "  inflating: hw2/unlabeled/0702.jpg  \n",
            "  inflating: hw2/unlabeled/0645.jpg  \n",
            "  inflating: hw2/unlabeled/1569.jpg  \n",
            "  inflating: hw2/unlabeled/5625.jpg  \n",
            "  inflating: hw2/unlabeled/0378.jpg  \n",
            "  inflating: hw2/unlabeled/2791.jpg  \n",
            "  inflating: hw2/unlabeled/6971.jpg  \n",
            "  inflating: hw2/unlabeled/1352.jpg  \n",
            "  inflating: hw2/unlabeled/2603.jpg  \n",
            "  inflating: hw2/unlabeled/4119.jpg  \n",
            "  inflating: hw2/unlabeled/2953.jpg  \n",
            "  inflating: hw2/unlabeled/1295.jpg  \n",
            "  inflating: hw2/unlabeled/4844.jpg  \n",
            "  inflating: hw2/unlabeled/6203.jpg  \n",
            "  inflating: hw2/unlabeled/5520.jpg  \n",
            "  inflating: hw2/unlabeled/2294.jpg  \n",
            "  inflating: hw2/unlabeled/2948.jpg  \n",
            "  inflating: hw2/unlabeled/1575.jpg  \n",
            "  inflating: hw2/unlabeled/0892.jpg  \n",
            "  inflating: hw2/unlabeled/2063.jpg  \n",
            "  inflating: hw2/unlabeled/0757.jpg  \n",
            "  inflating: hw2/unlabeled/0671.jpg  \n",
            "  inflating: hw2/unlabeled/2213.jpg  \n",
            "  inflating: hw2/unlabeled/6132.jpg  \n",
            "  inflating: hw2/unlabeled/5769.jpg  \n",
            "  inflating: hw2/unlabeled/4250.jpg  \n",
            "  inflating: hw2/unlabeled/5974.jpg  \n",
            "  inflating: hw2/unlabeled/2345.jpg  \n",
            "  inflating: hw2/unlabeled/5639.jpg  \n",
            "  inflating: hw2/unlabeled/0140.jpg  \n",
            "  inflating: hw2/unlabeled/4806.jpg  \n",
            "  inflating: hw2/unlabeled/4571.jpg  \n",
            "  inflating: hw2/unlabeled/5550.jpg  \n",
            "  inflating: hw2/unlabeled/7159.jpg  \n",
            "  inflating: hw2/unlabeled/4359.jpg  \n",
            "  inflating: hw2/unlabeled/3184.jpg  \n",
            "  inflating: hw2/unlabeled/1359.jpg  \n",
            "  inflating: hw2/unlabeled/1652.jpg  \n",
            "  inflating: hw2/unlabeled/0673.jpg  \n",
            "  inflating: hw2/unlabeled/4081.jpg  \n",
            "  inflating: hw2/unlabeled/5022.jpg  \n",
            "  inflating: hw2/unlabeled/5141.jpg  \n",
            "  inflating: hw2/unlabeled/0089.jpg  \n",
            "  inflating: hw2/unlabeled/0729.jpg  \n",
            "  inflating: hw2/unlabeled/0458.jpg  \n",
            "  inflating: hw2/unlabeled/2612.jpg  \n",
            "  inflating: hw2/unlabeled/6734.jpg  \n",
            "  inflating: hw2/unlabeled/7043.jpg  \n",
            "  inflating: hw2/unlabeled/6192.jpg  \n",
            "  inflating: hw2/unlabeled/0107.jpg  \n",
            "  inflating: hw2/unlabeled/2532.jpg  \n",
            "  inflating: hw2/unlabeled/6168.jpg  \n",
            "  inflating: hw2/unlabeled/1049.jpg  \n",
            "  inflating: hw2/unlabeled/1363.jpg  \n",
            "  inflating: hw2/unlabeled/4745.jpg  \n",
            "  inflating: hw2/unlabeled/2797.jpg  \n",
            "  inflating: hw2/unlabeled/0314.jpg  \n",
            "  inflating: hw2/unlabeled/4940.jpg  \n",
            "  inflating: hw2/unlabeled/4527.jpg  \n",
            "  inflating: hw2/unlabeled/0255.jpg  \n",
            "  inflating: hw2/unlabeled/3742.jpg  \n",
            "  inflating: hw2/unlabeled/5488.jpg  \n",
            "  inflating: hw2/unlabeled/3939.jpg  \n",
            "  inflating: hw2/unlabeled/4791.jpg  \n",
            "  inflating: hw2/unlabeled/3629.jpg  \n",
            "  inflating: hw2/unlabeled/4698.jpg  \n",
            "  inflating: hw2/unlabeled/0061.jpg  \n",
            "  inflating: hw2/unlabeled/2979.jpg  \n",
            "  inflating: hw2/unlabeled/4371.jpg  \n",
            "  inflating: hw2/unlabeled/5893.jpg  \n",
            "  inflating: hw2/unlabeled/5224.jpg  \n",
            "  inflating: hw2/unlabeled/0644.jpg  \n",
            "  inflating: hw2/unlabeled/3255.jpg  \n",
            "  inflating: hw2/unlabeled/4170.jpg  \n",
            "  inflating: hw2/unlabeled/1596.jpg  \n",
            "  inflating: hw2/unlabeled/2763.jpg  \n",
            "  inflating: hw2/unlabeled/6995.jpg  \n",
            "  inflating: hw2/unlabeled/3635.jpg  \n",
            "  inflating: hw2/unlabeled/4358.jpg  \n",
            "  inflating: hw2/unlabeled/3215.jpg  \n",
            "  inflating: hw2/unlabeled/2730.jpg  \n",
            "  inflating: hw2/unlabeled/2472.jpg  \n",
            "  inflating: hw2/unlabeled/2427.jpg  \n",
            "  inflating: hw2/unlabeled/3264.jpg  \n",
            "  inflating: hw2/unlabeled/2307.jpg  \n",
            "  inflating: hw2/unlabeled/5754.jpg  \n",
            "  inflating: hw2/unlabeled/0676.jpg  \n",
            "  inflating: hw2/unlabeled/4931.jpg  \n",
            "  inflating: hw2/unlabeled/3546.jpg  \n",
            "  inflating: hw2/unlabeled/6485.jpg  \n",
            "  inflating: hw2/unlabeled/7265.jpg  \n",
            "  inflating: hw2/unlabeled/2189.jpg  \n",
            "  inflating: hw2/unlabeled/3047.jpg  \n",
            "  inflating: hw2/unlabeled/5500.jpg  \n",
            "  inflating: hw2/unlabeled/3528.jpg  \n",
            "  inflating: hw2/unlabeled/1099.jpg  \n",
            "  inflating: hw2/unlabeled/5371.jpg  \n",
            "  inflating: hw2/unlabeled/2105.jpg  \n",
            "  inflating: hw2/unlabeled/6037.jpg  \n",
            "  inflating: hw2/unlabeled/4327.jpg  \n",
            "  inflating: hw2/unlabeled/3282.jpg  \n",
            "  inflating: hw2/unlabeled/4605.jpg  \n",
            "  inflating: hw2/unlabeled/6000.jpg  \n",
            "  inflating: hw2/unlabeled/5948.jpg  \n",
            "  inflating: hw2/unlabeled/5471.jpg  \n",
            "  inflating: hw2/unlabeled/2560.jpg  \n",
            "  inflating: hw2/unlabeled/4785.jpg  \n",
            "  inflating: hw2/unlabeled/6657.jpg  \n",
            "  inflating: hw2/unlabeled/3628.jpg  \n",
            "  inflating: hw2/unlabeled/1699.jpg  \n",
            "  inflating: hw2/unlabeled/4583.jpg  \n",
            "  inflating: hw2/unlabeled/6693.jpg  \n",
            "  inflating: hw2/unlabeled/5223.jpg  \n",
            "  inflating: hw2/unlabeled/4700.jpg  \n",
            "  inflating: hw2/unlabeled/2361.jpg  \n",
            "  inflating: hw2/unlabeled/6134.jpg  \n",
            "  inflating: hw2/unlabeled/3703.jpg  \n",
            "  inflating: hw2/unlabeled/1623.jpg  \n",
            "  inflating: hw2/unlabeled/3957.jpg  \n",
            "  inflating: hw2/unlabeled/6718.jpg  \n",
            "  inflating: hw2/unlabeled/1107.jpg  \n",
            "  inflating: hw2/unlabeled/2079.jpg  \n",
            "  inflating: hw2/unlabeled/1280.jpg  \n",
            "  inflating: hw2/unlabeled/1017.jpg  \n",
            "  inflating: hw2/unlabeled/0617.jpg  \n",
            "  inflating: hw2/unlabeled/7199.jpg  \n",
            "  inflating: hw2/unlabeled/2931.jpg  \n",
            "  inflating: hw2/unlabeled/1469.jpg  \n",
            "  inflating: hw2/unlabeled/2914.jpg  \n",
            "  inflating: hw2/unlabeled/0716.jpg  \n",
            "  inflating: hw2/unlabeled/4743.jpg  \n",
            "  inflating: hw2/unlabeled/0001.jpg  \n",
            "  inflating: hw2/unlabeled/5145.jpg  \n",
            "  inflating: hw2/unlabeled/5316.jpg  \n",
            "  inflating: hw2/unlabeled/2776.jpg  \n",
            "  inflating: hw2/unlabeled/2035.jpg  \n",
            "  inflating: hw2/unlabeled/4010.jpg  \n",
            "  inflating: hw2/unlabeled/4513.jpg  \n",
            "  inflating: hw2/unlabeled/1955.jpg  \n",
            "  inflating: hw2/unlabeled/4649.jpg  \n",
            "  inflating: hw2/unlabeled/4535.jpg  \n",
            "  inflating: hw2/unlabeled/0077.jpg  \n",
            "  inflating: hw2/unlabeled/3676.jpg  \n",
            "  inflating: hw2/unlabeled/1478.jpg  \n",
            "  inflating: hw2/unlabeled/6178.jpg  \n",
            "  inflating: hw2/unlabeled/2698.jpg  \n",
            "  inflating: hw2/unlabeled/4757.jpg  \n",
            "  inflating: hw2/unlabeled/2596.jpg  \n",
            "  inflating: hw2/unlabeled/4758.jpg  \n",
            "  inflating: hw2/unlabeled/4926.jpg  \n",
            "  inflating: hw2/unlabeled/5803.jpg  \n",
            "  inflating: hw2/unlabeled/7145.jpg  \n",
            "  inflating: hw2/unlabeled/3142.jpg  \n",
            "  inflating: hw2/unlabeled/7105.jpg  \n",
            "  inflating: hw2/unlabeled/3960.jpg  \n",
            "  inflating: hw2/unlabeled/7003.jpg  \n",
            "  inflating: hw2/unlabeled/3341.jpg  \n",
            "  inflating: hw2/unlabeled/2877.jpg  \n",
            "  inflating: hw2/unlabeled/5579.jpg  \n",
            "  inflating: hw2/unlabeled/3668.jpg  \n",
            "  inflating: hw2/unlabeled/6417.jpg  \n",
            "  inflating: hw2/unlabeled/2950.jpg  \n",
            "  inflating: hw2/unlabeled/6636.jpg  \n",
            "  inflating: hw2/unlabeled/4739.jpg  \n",
            "  inflating: hw2/unlabeled/2523.jpg  \n",
            "  inflating: hw2/unlabeled/3175.jpg  \n",
            "  inflating: hw2/unlabeled/3848.jpg  \n",
            "  inflating: hw2/unlabeled/5812.jpg  \n",
            "  inflating: hw2/unlabeled/0222.jpg  \n",
            "  inflating: hw2/unlabeled/2712.jpg  \n",
            "  inflating: hw2/unlabeled/0293.jpg  \n",
            "  inflating: hw2/unlabeled/4567.jpg  \n",
            "  inflating: hw2/unlabeled/1328.jpg  \n",
            "  inflating: hw2/unlabeled/3417.jpg  \n",
            "  inflating: hw2/unlabeled/1452.jpg  \n",
            "  inflating: hw2/unlabeled/0956.jpg  \n",
            "  inflating: hw2/unlabeled/3479.jpg  \n",
            "  inflating: hw2/unlabeled/7110.jpg  \n",
            "  inflating: hw2/unlabeled/5489.jpg  \n",
            "  inflating: hw2/unlabeled/4647.jpg  \n",
            "  inflating: hw2/unlabeled/4985.jpg  \n",
            "  inflating: hw2/unlabeled/1246.jpg  \n",
            "  inflating: hw2/unlabeled/2800.jpg  \n",
            "  inflating: hw2/unlabeled/5452.jpg  \n",
            "  inflating: hw2/unlabeled/6848.jpg  \n",
            "  inflating: hw2/unlabeled/6426.jpg  \n",
            "  inflating: hw2/unlabeled/5329.jpg  \n",
            "  inflating: hw2/unlabeled/1576.jpg  \n",
            "  inflating: hw2/unlabeled/4545.jpg  \n",
            "  inflating: hw2/unlabeled/0269.jpg  \n",
            "  inflating: hw2/unlabeled/5245.jpg  \n",
            "  inflating: hw2/unlabeled/1548.jpg  \n",
            "  inflating: hw2/unlabeled/4770.jpg  \n",
            "  inflating: hw2/unlabeled/3101.jpg  \n",
            "  inflating: hw2/unlabeled/0475.jpg  \n",
            "  inflating: hw2/unlabeled/6941.jpg  \n",
            "  inflating: hw2/unlabeled/5729.jpg  \n",
            "  inflating: hw2/unlabeled/0428.jpg  \n",
            "  inflating: hw2/unlabeled/4336.jpg  \n",
            "  inflating: hw2/unlabeled/0760.jpg  \n",
            "  inflating: hw2/unlabeled/0564.jpg  \n",
            "  inflating: hw2/unlabeled/3752.jpg  \n",
            "  inflating: hw2/unlabeled/4748.jpg  \n",
            "  inflating: hw2/unlabeled/5906.jpg  \n",
            "  inflating: hw2/unlabeled/6783.jpg  \n",
            "  inflating: hw2/unlabeled/7291.jpg  \n",
            "  inflating: hw2/unlabeled/3544.jpg  \n",
            "  inflating: hw2/unlabeled/2998.jpg  \n",
            "  inflating: hw2/unlabeled/1664.jpg  \n",
            "  inflating: hw2/unlabeled/0926.jpg  \n",
            "  inflating: hw2/unlabeled/3962.jpg  \n",
            "  inflating: hw2/unlabeled/2584.jpg  \n",
            "  inflating: hw2/unlabeled/5713.jpg  \n",
            "  inflating: hw2/unlabeled/0551.jpg  \n",
            "  inflating: hw2/unlabeled/2975.jpg  \n",
            "  inflating: hw2/unlabeled/4061.jpg  \n",
            "  inflating: hw2/unlabeled/3745.jpg  \n",
            "  inflating: hw2/unlabeled/4529.jpg  \n",
            "  inflating: hw2/unlabeled/0862.jpg  \n",
            "  inflating: hw2/unlabeled/6250.jpg  \n",
            "  inflating: hw2/unlabeled/7201.jpg  \n",
            "  inflating: hw2/unlabeled/5568.jpg  \n",
            "  inflating: hw2/unlabeled/5528.jpg  \n",
            "  inflating: hw2/unlabeled/4639.jpg  \n",
            "  inflating: hw2/unlabeled/3218.jpg  \n",
            "  inflating: hw2/unlabeled/0381.jpg  \n",
            "  inflating: hw2/unlabeled/1003.jpg  \n",
            "  inflating: hw2/unlabeled/4464.jpg  \n",
            "  inflating: hw2/unlabeled/4523.jpg  \n",
            "  inflating: hw2/unlabeled/0842.jpg  \n",
            "  inflating: hw2/unlabeled/2217.jpg  \n",
            "  inflating: hw2/unlabeled/6914.jpg  \n",
            "  inflating: hw2/unlabeled/3263.jpg  \n",
            "  inflating: hw2/unlabeled/4019.jpg  \n",
            "  inflating: hw2/unlabeled/4155.jpg  \n",
            "  inflating: hw2/unlabeled/3935.jpg  \n",
            "  inflating: hw2/unlabeled/1373.jpg  \n",
            "  inflating: hw2/unlabeled/4852.jpg  \n",
            "  inflating: hw2/unlabeled/1577.jpg  \n",
            "  inflating: hw2/unlabeled/5052.jpg  \n",
            "  inflating: hw2/unlabeled/5062.jpg  \n",
            "  inflating: hw2/unlabeled/4414.jpg  \n",
            "  inflating: hw2/unlabeled/4479.jpg  \n",
            "  inflating: hw2/unlabeled/5059.jpg  \n",
            "  inflating: hw2/unlabeled/6551.jpg  \n",
            "  inflating: hw2/unlabeled/0646.jpg  \n",
            "  inflating: hw2/unlabeled/4704.jpg  \n",
            "  inflating: hw2/unlabeled/3949.jpg  \n",
            "  inflating: hw2/unlabeled/0971.jpg  \n",
            "  inflating: hw2/unlabeled/5622.jpg  \n",
            "  inflating: hw2/unlabeled/1633.jpg  \n",
            "  inflating: hw2/unlabeled/0307.jpg  \n",
            "  inflating: hw2/unlabeled/4115.jpg  \n",
            "  inflating: hw2/unlabeled/0086.jpg  \n",
            "  inflating: hw2/unlabeled/3350.jpg  \n",
            "  inflating: hw2/unlabeled/1114.jpg  \n",
            "  inflating: hw2/unlabeled/3568.jpg  \n",
            "  inflating: hw2/unlabeled/6437.jpg  \n",
            "  inflating: hw2/unlabeled/4396.jpg  \n",
            "  inflating: hw2/unlabeled/6123.jpg  \n",
            "  inflating: hw2/unlabeled/0507.jpg  \n",
            "  inflating: hw2/unlabeled/4621.jpg  \n",
            "  inflating: hw2/unlabeled/0591.jpg  \n",
            "  inflating: hw2/unlabeled/3113.jpg  \n",
            "  inflating: hw2/unlabeled/6962.jpg  \n",
            "  inflating: hw2/unlabeled/6010.jpg  \n",
            "  inflating: hw2/unlabeled/5945.jpg  \n",
            "  inflating: hw2/unlabeled/1984.jpg  \n",
            "  inflating: hw2/unlabeled/3470.jpg  \n",
            "  inflating: hw2/unlabeled/5407.jpg  \n",
            "  inflating: hw2/unlabeled/5043.jpg  \n",
            "  inflating: hw2/unlabeled/3280.jpg  \n",
            "  inflating: hw2/unlabeled/4262.jpg  \n",
            "  inflating: hw2/unlabeled/4572.jpg  \n",
            "  inflating: hw2/unlabeled/6175.jpg  \n",
            "  inflating: hw2/unlabeled/3588.jpg  \n",
            "  inflating: hw2/unlabeled/3775.jpg  \n",
            "  inflating: hw2/unlabeled/1606.jpg  \n",
            "  inflating: hw2/unlabeled/1237.jpg  \n",
            "  inflating: hw2/unlabeled/3457.jpg  \n",
            "  inflating: hw2/unlabeled/6773.jpg  \n",
            "  inflating: hw2/unlabeled/5297.jpg  \n",
            "  inflating: hw2/unlabeled/4500.jpg  \n",
            "  inflating: hw2/unlabeled/2321.jpg  \n",
            "  inflating: hw2/unlabeled/2064.jpg  \n",
            "  inflating: hw2/unlabeled/5517.jpg  \n",
            "  inflating: hw2/unlabeled/0385.jpg  \n",
            "  inflating: hw2/unlabeled/0122.jpg  \n",
            "  inflating: hw2/unlabeled/5143.jpg  \n",
            "  inflating: hw2/unlabeled/4423.jpg  \n",
            "  inflating: hw2/unlabeled/4087.jpg  \n",
            "  inflating: hw2/unlabeled/0455.jpg  \n",
            "  inflating: hw2/unlabeled/6042.jpg  \n",
            "  inflating: hw2/unlabeled/1013.jpg  \n",
            "  inflating: hw2/unlabeled/1250.jpg  \n",
            "  inflating: hw2/unlabeled/4741.jpg  \n",
            "  inflating: hw2/unlabeled/2072.jpg  \n",
            "  inflating: hw2/unlabeled/0552.jpg  \n",
            "  inflating: hw2/unlabeled/2436.jpg  \n",
            "  inflating: hw2/unlabeled/7228.jpg  \n",
            "  inflating: hw2/unlabeled/3762.jpg  \n",
            "  inflating: hw2/unlabeled/2490.jpg  \n",
            "  inflating: hw2/unlabeled/0828.jpg  \n",
            "  inflating: hw2/unlabeled/1144.jpg  \n",
            "  inflating: hw2/unlabeled/5559.jpg  \n",
            "  inflating: hw2/unlabeled/2335.jpg  \n",
            "  inflating: hw2/unlabeled/0163.jpg  \n",
            "  inflating: hw2/unlabeled/5997.jpg  \n",
            "  inflating: hw2/unlabeled/2761.jpg  \n",
            "  inflating: hw2/unlabeled/7206.jpg  \n",
            "  inflating: hw2/unlabeled/1153.jpg  \n",
            "  inflating: hw2/unlabeled/2768.jpg  \n",
            "  inflating: hw2/unlabeled/4924.jpg  \n",
            "  inflating: hw2/unlabeled/2152.jpg  \n",
            "  inflating: hw2/unlabeled/1265.jpg  \n",
            "  inflating: hw2/unlabeled/5129.jpg  \n",
            "  inflating: hw2/unlabeled/1654.jpg  \n",
            "  inflating: hw2/unlabeled/2229.jpg  \n",
            "  inflating: hw2/unlabeled/2631.jpg  \n",
            "  inflating: hw2/unlabeled/1331.jpg  \n",
            "  inflating: hw2/unlabeled/0497.jpg  \n",
            "  inflating: hw2/unlabeled/1762.jpg  \n",
            "  inflating: hw2/unlabeled/3306.jpg  \n",
            "  inflating: hw2/unlabeled/0022.jpg  \n",
            "  inflating: hw2/unlabeled/2860.jpg  \n",
            "  inflating: hw2/unlabeled/5100.jpg  \n",
            "  inflating: hw2/unlabeled/0093.jpg  \n",
            "  inflating: hw2/unlabeled/4897.jpg  \n",
            "  inflating: hw2/unlabeled/6895.jpg  \n",
            "  inflating: hw2/unlabeled/0685.jpg  \n",
            "  inflating: hw2/unlabeled/2780.jpg  \n",
            "  inflating: hw2/unlabeled/5840.jpg  \n",
            "  inflating: hw2/unlabeled/2128.jpg  \n",
            "  inflating: hw2/unlabeled/3945.jpg  \n",
            "  inflating: hw2/unlabeled/2883.jpg  \n",
            "  inflating: hw2/unlabeled/6873.jpg  \n",
            "  inflating: hw2/unlabeled/3682.jpg  \n",
            "  inflating: hw2/unlabeled/4176.jpg  \n",
            "  inflating: hw2/unlabeled/6241.jpg  \n",
            "  inflating: hw2/unlabeled/5157.jpg  \n",
            "  inflating: hw2/unlabeled/7117.jpg  \n",
            "  inflating: hw2/unlabeled/7040.jpg  \n",
            "  inflating: hw2/unlabeled/5607.jpg  \n",
            "  inflating: hw2/unlabeled/6945.jpg  \n",
            "  inflating: hw2/unlabeled/2896.jpg  \n",
            "  inflating: hw2/unlabeled/4602.jpg  \n",
            "  inflating: hw2/unlabeled/4160.jpg  \n",
            "  inflating: hw2/unlabeled/4252.jpg  \n",
            "  inflating: hw2/unlabeled/7218.jpg  \n",
            "  inflating: hw2/unlabeled/3559.jpg  \n",
            "  inflating: hw2/unlabeled/7250.jpg  \n",
            "  inflating: hw2/unlabeled/4837.jpg  \n",
            "  inflating: hw2/unlabeled/5271.jpg  \n",
            "  inflating: hw2/unlabeled/6353.jpg  \n",
            "  inflating: hw2/unlabeled/5335.jpg  \n",
            "  inflating: hw2/unlabeled/6969.jpg  \n",
            "  inflating: hw2/unlabeled/0239.jpg  \n",
            "  inflating: hw2/unlabeled/3069.jpg  \n",
            "  inflating: hw2/unlabeled/2085.jpg  \n",
            "  inflating: hw2/unlabeled/6749.jpg  \n",
            "  inflating: hw2/unlabeled/2157.jpg  \n",
            "  inflating: hw2/unlabeled/4862.jpg  \n",
            "  inflating: hw2/unlabeled/4463.jpg  \n",
            "  inflating: hw2/unlabeled/0400.jpg  \n",
            "  inflating: hw2/unlabeled/3211.jpg  \n",
            "  inflating: hw2/unlabeled/0095.jpg  \n",
            "  inflating: hw2/unlabeled/1382.jpg  \n",
            "  inflating: hw2/unlabeled/6549.jpg  \n",
            "  inflating: hw2/unlabeled/7016.jpg  \n",
            "  inflating: hw2/unlabeled/2990.jpg  \n",
            "  inflating: hw2/unlabeled/4801.jpg  \n",
            "  inflating: hw2/unlabeled/4429.jpg  \n",
            "  inflating: hw2/unlabeled/3039.jpg  \n",
            "  inflating: hw2/unlabeled/0104.jpg  \n",
            "  inflating: hw2/unlabeled/2579.jpg  \n",
            "  inflating: hw2/unlabeled/0380.jpg  \n",
            "  inflating: hw2/unlabeled/1837.jpg  \n",
            "  inflating: hw2/unlabeled/1334.jpg  \n",
            "  inflating: hw2/unlabeled/6254.jpg  \n",
            "  inflating: hw2/unlabeled/3320.jpg  \n",
            "  inflating: hw2/unlabeled/5711.jpg  \n",
            "  inflating: hw2/unlabeled/0624.jpg  \n",
            "  inflating: hw2/unlabeled/6452.jpg  \n",
            "  inflating: hw2/unlabeled/3013.jpg  \n",
            "  inflating: hw2/unlabeled/7042.jpg  \n",
            "  inflating: hw2/unlabeled/1242.jpg  \n",
            "  inflating: hw2/unlabeled/5998.jpg  \n",
            "  inflating: hw2/unlabeled/2960.jpg  \n",
            "  inflating: hw2/unlabeled/1860.jpg  \n",
            "  inflating: hw2/unlabeled/0450.jpg  \n",
            "  inflating: hw2/unlabeled/4325.jpg  \n",
            "  inflating: hw2/unlabeled/3914.jpg  \n",
            "  inflating: hw2/unlabeled/1149.jpg  \n",
            "  inflating: hw2/unlabeled/1069.jpg  \n",
            "  inflating: hw2/unlabeled/4450.jpg  \n",
            "  inflating: hw2/unlabeled/0243.jpg  \n",
            "  inflating: hw2/unlabeled/4335.jpg  \n",
            "  inflating: hw2/unlabeled/4888.jpg  \n",
            "  inflating: hw2/unlabeled/5862.jpg  \n",
            "  inflating: hw2/unlabeled/1376.jpg  \n",
            "  inflating: hw2/unlabeled/7127.jpg  \n",
            "  inflating: hw2/unlabeled/2641.jpg  \n",
            "  inflating: hw2/unlabeled/4240.jpg  \n",
            "  inflating: hw2/unlabeled/0189.jpg  \n",
            "  inflating: hw2/unlabeled/6352.jpg  \n",
            "  inflating: hw2/unlabeled/0266.jpg  \n",
            "  inflating: hw2/unlabeled/3580.jpg  \n",
            "  inflating: hw2/unlabeled/2103.jpg  \n",
            "  inflating: hw2/unlabeled/3845.jpg  \n",
            "  inflating: hw2/unlabeled/4679.jpg  \n",
            "  inflating: hw2/unlabeled/0246.jpg  \n",
            "  inflating: hw2/unlabeled/3579.jpg  \n",
            "  inflating: hw2/unlabeled/0420.jpg  \n",
            "  inflating: hw2/unlabeled/6122.jpg  \n",
            "  inflating: hw2/unlabeled/7195.jpg  \n",
            "  inflating: hw2/unlabeled/4742.jpg  \n",
            "  inflating: hw2/unlabeled/3078.jpg  \n",
            "  inflating: hw2/unlabeled/3611.jpg  \n",
            "  inflating: hw2/unlabeled/5292.jpg  \n",
            "  inflating: hw2/unlabeled/3246.jpg  \n",
            "  inflating: hw2/unlabeled/5449.jpg  \n",
            "  inflating: hw2/unlabeled/4994.jpg  \n",
            "  inflating: hw2/unlabeled/2569.jpg  \n",
            "  inflating: hw2/unlabeled/1972.jpg  \n",
            "  inflating: hw2/unlabeled/2392.jpg  \n",
            "  inflating: hw2/unlabeled/7060.jpg  \n",
            "  inflating: hw2/unlabeled/1872.jpg  \n",
            "  inflating: hw2/unlabeled/3176.jpg  \n",
            "  inflating: hw2/unlabeled/4233.jpg  \n",
            "  inflating: hw2/unlabeled/2268.jpg  \n",
            "  inflating: hw2/unlabeled/6691.jpg  \n",
            "  inflating: hw2/unlabeled/4235.jpg  \n",
            "  inflating: hw2/unlabeled/1612.jpg  \n",
            "  inflating: hw2/unlabeled/0590.jpg  \n",
            "  inflating: hw2/unlabeled/4442.jpg  \n",
            "  inflating: hw2/unlabeled/6513.jpg  \n",
            "  inflating: hw2/unlabeled/6904.jpg  \n",
            "  inflating: hw2/unlabeled/2366.jpg  \n",
            "  inflating: hw2/unlabeled/0795.jpg  \n",
            "  inflating: hw2/unlabeled/5460.jpg  \n",
            "  inflating: hw2/unlabeled/1620.jpg  \n",
            "  inflating: hw2/unlabeled/2348.jpg  \n",
            "  inflating: hw2/unlabeled/5501.jpg  \n",
            "  inflating: hw2/unlabeled/4201.jpg  \n",
            "  inflating: hw2/unlabeled/0185.jpg  \n",
            "  inflating: hw2/unlabeled/4401.jpg  \n",
            "  inflating: hw2/unlabeled/4164.jpg  \n",
            "  inflating: hw2/unlabeled/5194.jpg  \n",
            "  inflating: hw2/unlabeled/2129.jpg  \n",
            "  inflating: hw2/unlabeled/6148.jpg  \n",
            "  inflating: hw2/unlabeled/4907.jpg  \n",
            "  inflating: hw2/unlabeled/3240.jpg  \n",
            "  inflating: hw2/unlabeled/4670.jpg  \n",
            "  inflating: hw2/unlabeled/0972.jpg  \n",
            "  inflating: hw2/unlabeled/3618.jpg  \n",
            "  inflating: hw2/unlabeled/3512.jpg  \n",
            "  inflating: hw2/unlabeled/2474.jpg  \n",
            "  inflating: hw2/unlabeled/2042.jpg  \n",
            "  inflating: hw2/unlabeled/5887.jpg  \n",
            "  inflating: hw2/unlabeled/5703.jpg  \n",
            "  inflating: hw2/unlabeled/5067.jpg  \n",
            "  inflating: hw2/unlabeled/1154.jpg  \n",
            "  inflating: hw2/unlabeled/3774.jpg  \n",
            "  inflating: hw2/unlabeled/0213.jpg  \n",
            "  inflating: hw2/unlabeled/2852.jpg  \n",
            "  inflating: hw2/unlabeled/0568.jpg  \n",
            "  inflating: hw2/unlabeled/5904.jpg  \n",
            "  inflating: hw2/unlabeled/7157.jpg  \n",
            "  inflating: hw2/unlabeled/6057.jpg  \n",
            "  inflating: hw2/unlabeled/5025.jpg  \n",
            "  inflating: hw2/unlabeled/3332.jpg  \n",
            "  inflating: hw2/unlabeled/5130.jpg  \n",
            "  inflating: hw2/unlabeled/5396.jpg  \n",
            "  inflating: hw2/unlabeled/4566.jpg  \n",
            "  inflating: hw2/unlabeled/5680.jpg  \n",
            "  inflating: hw2/unlabeled/3674.jpg  \n",
            "  inflating: hw2/unlabeled/0063.jpg  \n",
            "  inflating: hw2/unlabeled/2473.jpg  \n",
            "  inflating: hw2/unlabeled/3825.jpg  \n",
            "  inflating: hw2/unlabeled/2224.jpg  \n",
            "  inflating: hw2/unlabeled/7017.jpg  \n",
            "  inflating: hw2/unlabeled/4753.jpg  \n",
            "  inflating: hw2/unlabeled/3425.jpg  \n",
            "  inflating: hw2/unlabeled/2836.jpg  \n",
            "  inflating: hw2/unlabeled/4932.jpg  \n",
            "  inflating: hw2/unlabeled/0538.jpg  \n",
            "  inflating: hw2/unlabeled/2757.jpg  \n",
            "  inflating: hw2/unlabeled/3312.jpg  \n",
            "  inflating: hw2/unlabeled/0934.jpg  \n",
            "  inflating: hw2/unlabeled/1808.jpg  \n",
            "  inflating: hw2/unlabeled/0982.jpg  \n",
            "  inflating: hw2/unlabeled/1249.jpg  \n",
            "  inflating: hw2/unlabeled/5970.jpg  \n",
            "  inflating: hw2/unlabeled/0849.jpg  \n",
            "  inflating: hw2/unlabeled/6905.jpg  \n",
            "  inflating: hw2/unlabeled/4819.jpg  \n",
            "  inflating: hw2/unlabeled/2530.jpg  \n",
            "  inflating: hw2/unlabeled/3108.jpg  \n",
            "  inflating: hw2/unlabeled/0136.jpg  \n",
            "  inflating: hw2/unlabeled/0832.jpg  \n",
            "  inflating: hw2/unlabeled/1309.jpg  \n",
            "  inflating: hw2/unlabeled/5667.jpg  \n",
            "  inflating: hw2/unlabeled/6263.jpg  \n",
            "  inflating: hw2/unlabeled/5083.jpg  \n",
            "  inflating: hw2/unlabeled/3080.jpg  \n",
            "  inflating: hw2/unlabeled/2525.jpg  \n",
            "  inflating: hw2/unlabeled/2159.jpg  \n",
            "  inflating: hw2/unlabeled/3617.jpg  \n",
            "  inflating: hw2/unlabeled/2082.jpg  \n",
            "  inflating: hw2/unlabeled/4541.jpg  \n",
            "  inflating: hw2/unlabeled/5783.jpg  \n",
            "  inflating: hw2/unlabeled/6578.jpg  \n",
            "  inflating: hw2/unlabeled/0277.jpg  \n",
            "  inflating: hw2/unlabeled/2400.jpg  \n",
            "  inflating: hw2/unlabeled/3385.jpg  \n",
            "  inflating: hw2/unlabeled/4555.jpg  \n",
            "  inflating: hw2/unlabeled/0180.jpg  \n",
            "  inflating: hw2/unlabeled/1843.jpg  \n",
            "  inflating: hw2/unlabeled/2536.jpg  \n",
            "  inflating: hw2/unlabeled/1068.jpg  \n",
            "  inflating: hw2/unlabeled/6934.jpg  \n",
            "  inflating: hw2/unlabeled/2967.jpg  \n",
            "  inflating: hw2/unlabeled/4184.jpg  \n",
            "  inflating: hw2/unlabeled/4646.jpg  \n",
            "  inflating: hw2/unlabeled/3679.jpg  \n",
            "  inflating: hw2/unlabeled/2544.jpg  \n",
            "  inflating: hw2/unlabeled/1539.jpg  \n",
            "  inflating: hw2/unlabeled/0332.jpg  \n",
            "  inflating: hw2/unlabeled/3301.jpg  \n",
            "  inflating: hw2/unlabeled/7177.jpg  \n",
            "  inflating: hw2/unlabeled/1227.jpg  \n",
            "  inflating: hw2/unlabeled/3293.jpg  \n",
            "  inflating: hw2/unlabeled/2878.jpg  \n",
            "  inflating: hw2/unlabeled/0846.jpg  \n",
            "  inflating: hw2/unlabeled/3031.jpg  \n",
            "  inflating: hw2/unlabeled/1966.jpg  \n",
            "  inflating: hw2/unlabeled/0545.jpg  \n",
            "  inflating: hw2/unlabeled/7253.jpg  \n",
            "  inflating: hw2/unlabeled/6658.jpg  \n",
            "  inflating: hw2/unlabeled/3921.jpg  \n",
            "  inflating: hw2/unlabeled/4220.jpg  \n",
            "  inflating: hw2/unlabeled/0209.jpg  \n",
            "  inflating: hw2/unlabeled/0447.jpg  \n",
            "  inflating: hw2/unlabeled/3980.jpg  \n",
            "  inflating: hw2/unlabeled/3311.jpg  \n",
            "  inflating: hw2/unlabeled/2008.jpg  \n",
            "  inflating: hw2/unlabeled/0970.jpg  \n",
            "  inflating: hw2/unlabeled/3125.jpg  \n",
            "  inflating: hw2/unlabeled/2188.jpg  \n",
            "  inflating: hw2/unlabeled/3797.jpg  \n",
            "  inflating: hw2/unlabeled/6521.jpg  \n",
            "  inflating: hw2/unlabeled/5265.jpg  \n",
            "  inflating: hw2/unlabeled/0948.jpg  \n",
            "  inflating: hw2/unlabeled/4720.jpg  \n",
            "  inflating: hw2/unlabeled/2387.jpg  \n",
            "  inflating: hw2/unlabeled/3707.jpg  \n",
            "  inflating: hw2/unlabeled/3913.jpg  \n",
            "  inflating: hw2/unlabeled/6371.jpg  \n",
            "  inflating: hw2/unlabeled/6314.jpg  \n",
            "  inflating: hw2/unlabeled/4186.jpg  \n",
            "  inflating: hw2/unlabeled/1797.jpg  \n",
            "  inflating: hw2/unlabeled/3519.jpg  \n",
            "  inflating: hw2/unlabeled/3565.jpg  \n",
            "  inflating: hw2/unlabeled/0588.jpg  \n",
            "  inflating: hw2/unlabeled/4795.jpg  \n",
            "  inflating: hw2/unlabeled/1614.jpg  \n",
            "  inflating: hw2/unlabeled/2779.jpg  \n",
            "  inflating: hw2/unlabeled/1995.jpg  \n",
            "  inflating: hw2/unlabeled/1067.jpg  \n",
            "  inflating: hw2/unlabeled/1665.jpg  \n",
            "  inflating: hw2/unlabeled/0304.jpg  \n",
            "  inflating: hw2/unlabeled/1293.jpg  \n",
            "  inflating: hw2/unlabeled/0105.jpg  \n",
            "  inflating: hw2/unlabeled/4242.jpg  \n",
            "  inflating: hw2/unlabeled/3966.jpg  \n",
            "  inflating: hw2/unlabeled/2549.jpg  \n",
            "  inflating: hw2/unlabeled/1372.jpg  \n",
            "  inflating: hw2/unlabeled/1077.jpg  \n",
            "  inflating: hw2/unlabeled/1954.jpg  \n",
            "  inflating: hw2/unlabeled/6392.jpg  \n",
            "  inflating: hw2/unlabeled/4330.jpg  \n",
            "  inflating: hw2/unlabeled/2405.jpg  \n",
            "  inflating: hw2/unlabeled/5685.jpg  \n",
            "  inflating: hw2/unlabeled/2337.jpg  \n",
            "  inflating: hw2/unlabeled/1597.jpg  \n",
            "  inflating: hw2/unlabeled/2708.jpg  \n",
            "  inflating: hw2/unlabeled/5571.jpg  \n",
            "  inflating: hw2/unlabeled/3328.jpg  \n",
            "  inflating: hw2/unlabeled/3068.jpg  \n",
            "  inflating: hw2/unlabeled/0460.jpg  \n",
            "  inflating: hw2/unlabeled/1805.jpg  \n",
            "  inflating: hw2/unlabeled/2539.jpg  \n",
            "  inflating: hw2/unlabeled/6496.jpg  \n",
            "  inflating: hw2/unlabeled/6490.jpg  \n",
            "  inflating: hw2/unlabeled/6222.jpg  \n",
            "  inflating: hw2/unlabeled/0750.jpg  \n",
            "  inflating: hw2/unlabeled/7075.jpg  \n",
            "  inflating: hw2/unlabeled/0301.jpg  \n",
            "  inflating: hw2/unlabeled/4207.jpg  \n",
            "  inflating: hw2/unlabeled/3037.jpg  \n",
            "  inflating: hw2/unlabeled/4481.jpg  \n",
            "  inflating: hw2/unlabeled/0519.jpg  \n",
            "  inflating: hw2/unlabeled/0051.jpg  \n",
            "  inflating: hw2/unlabeled/1910.jpg  \n",
            "  inflating: hw2/unlabeled/6167.jpg  \n",
            "  inflating: hw2/unlabeled/0410.jpg  \n",
            "  inflating: hw2/unlabeled/7230.jpg  \n",
            "  inflating: hw2/unlabeled/6878.jpg  \n",
            "  inflating: hw2/unlabeled/5097.jpg  \n",
            "  inflating: hw2/unlabeled/5980.jpg  \n",
            "  inflating: hw2/unlabeled/5085.jpg  \n",
            "  inflating: hw2/unlabeled/4794.jpg  \n",
            "  inflating: hw2/unlabeled/1757.jpg  \n",
            "  inflating: hw2/unlabeled/5642.jpg  \n",
            "  inflating: hw2/unlabeled/1742.jpg  \n",
            "  inflating: hw2/unlabeled/0755.jpg  \n",
            "  inflating: hw2/unlabeled/1094.jpg  \n",
            "  inflating: hw2/unlabeled/6161.jpg  \n",
            "  inflating: hw2/unlabeled/6696.jpg  \n",
            "  inflating: hw2/unlabeled/1061.jpg  \n",
            "  inflating: hw2/unlabeled/5577.jpg  \n",
            "  inflating: hw2/unlabeled/0639.jpg  \n",
            "  inflating: hw2/unlabeled/3365.jpg  \n",
            "  inflating: hw2/unlabeled/6024.jpg  \n",
            "  inflating: hw2/unlabeled/2788.jpg  \n",
            "  inflating: hw2/unlabeled/5886.jpg  \n",
            "  inflating: hw2/unlabeled/0707.jpg  \n",
            "  inflating: hw2/unlabeled/7272.jpg  \n",
            "  inflating: hw2/unlabeled/2290.jpg  \n",
            "  inflating: hw2/unlabeled/0177.jpg  \n",
            "  inflating: hw2/unlabeled/5092.jpg  \n",
            "  inflating: hw2/unlabeled/0687.jpg  \n",
            "  inflating: hw2/unlabeled/5982.jpg  \n",
            "  inflating: hw2/unlabeled/4912.jpg  \n",
            "  inflating: hw2/unlabeled/5944.jpg  \n",
            "  inflating: hw2/unlabeled/4342.jpg  \n",
            "  inflating: hw2/unlabeled/2589.jpg  \n",
            "  inflating: hw2/unlabeled/2495.jpg  \n",
            "  inflating: hw2/unlabeled/2100.jpg  \n",
            "  inflating: hw2/unlabeled/4775.jpg  \n",
            "  inflating: hw2/unlabeled/3339.jpg  \n",
            "  inflating: hw2/unlabeled/5522.jpg  \n",
            "  inflating: hw2/unlabeled/3530.jpg  \n",
            "  inflating: hw2/unlabeled/1379.jpg  \n",
            "  inflating: hw2/unlabeled/3710.jpg  \n",
            "  inflating: hw2/unlabeled/5321.jpg  \n",
            "  inflating: hw2/unlabeled/3578.jpg  \n",
            "  inflating: hw2/unlabeled/4468.jpg  \n",
            "  inflating: hw2/unlabeled/0632.jpg  \n",
            "  inflating: hw2/unlabeled/6959.jpg  \n",
            "  inflating: hw2/unlabeled/6897.jpg  \n",
            "  inflating: hw2/unlabeled/2727.jpg  \n",
            "  inflating: hw2/unlabeled/5311.jpg  \n",
            "  inflating: hw2/unlabeled/4849.jpg  \n",
            "  inflating: hw2/unlabeled/1753.jpg  \n",
            "  inflating: hw2/unlabeled/2211.jpg  \n",
            "  inflating: hw2/unlabeled/6561.jpg  \n",
            "  inflating: hw2/unlabeled/2415.jpg  \n",
            "  inflating: hw2/unlabeled/7130.jpg  \n",
            "  inflating: hw2/unlabeled/5198.jpg  \n",
            "  inflating: hw2/unlabeled/6621.jpg  \n",
            "  inflating: hw2/unlabeled/2746.jpg  \n",
            "  inflating: hw2/unlabeled/2120.jpg  \n",
            "  inflating: hw2/unlabeled/6413.jpg  \n",
            "  inflating: hw2/unlabeled/3835.jpg  \n",
            "  inflating: hw2/unlabeled/1275.jpg  \n",
            "  inflating: hw2/unlabeled/4810.jpg  \n",
            "  inflating: hw2/unlabeled/6532.jpg  \n",
            "  inflating: hw2/unlabeled/4812.jpg  \n",
            "  inflating: hw2/unlabeled/5925.jpg  \n",
            "  inflating: hw2/unlabeled/2892.jpg  \n",
            "  inflating: hw2/unlabeled/0418.jpg  \n",
            "  inflating: hw2/unlabeled/5771.jpg  \n",
            "  inflating: hw2/unlabeled/0298.jpg  \n",
            "  inflating: hw2/unlabeled/0474.jpg  \n",
            "  inflating: hw2/unlabeled/6149.jpg  \n",
            "  inflating: hw2/unlabeled/1761.jpg  \n",
            "  inflating: hw2/unlabeled/6676.jpg  \n",
            "  inflating: hw2/unlabeled/1197.jpg  \n",
            "  inflating: hw2/unlabeled/3186.jpg  \n",
            "  inflating: hw2/unlabeled/2048.jpg  \n",
            "  inflating: hw2/unlabeled/0082.jpg  \n",
            "  inflating: hw2/unlabeled/4690.jpg  \n",
            "  inflating: hw2/unlabeled/5742.jpg  \n",
            "  inflating: hw2/unlabeled/2949.jpg  \n",
            "  inflating: hw2/unlabeled/3553.jpg  \n",
            "  inflating: hw2/unlabeled/4360.jpg  \n",
            "  inflating: hw2/unlabeled/5197.jpg  \n",
            "  inflating: hw2/unlabeled/0663.jpg  \n",
            "  inflating: hw2/unlabeled/2138.jpg  \n",
            "  inflating: hw2/unlabeled/3680.jpg  \n",
            "  inflating: hw2/unlabeled/0553.jpg  \n",
            "  inflating: hw2/unlabeled/5445.jpg  \n",
            "  inflating: hw2/unlabeled/4190.jpg  \n",
            "  inflating: hw2/unlabeled/2670.jpg  \n",
            "  inflating: hw2/unlabeled/4727.jpg  \n",
            "  inflating: hw2/unlabeled/0913.jpg  \n",
            "  inflating: hw2/unlabeled/2815.jpg  \n",
            "  inflating: hw2/unlabeled/4515.jpg  \n",
            "  inflating: hw2/unlabeled/5580.jpg  \n",
            "  inflating: hw2/unlabeled/2429.jpg  \n",
            "  inflating: hw2/unlabeled/2684.jpg  \n",
            "  inflating: hw2/unlabeled/3786.jpg  \n",
            "  inflating: hw2/unlabeled/1289.jpg  \n",
            "  inflating: hw2/unlabeled/7121.jpg  \n",
            "  inflating: hw2/unlabeled/4691.jpg  \n",
            "  inflating: hw2/unlabeled/5892.jpg  \n",
            "  inflating: hw2/unlabeled/5115.jpg  \n",
            "  inflating: hw2/unlabeled/4676.jpg  \n",
            "  inflating: hw2/unlabeled/0211.jpg  \n",
            "  inflating: hw2/unlabeled/1816.jpg  \n",
            "  inflating: hw2/unlabeled/6770.jpg  \n",
            "  inflating: hw2/unlabeled/7256.jpg  \n",
            "  inflating: hw2/unlabeled/0991.jpg  \n",
            "  inflating: hw2/unlabeled/4524.jpg  \n",
            "  inflating: hw2/unlabeled/6977.jpg  \n",
            "  inflating: hw2/unlabeled/2285.jpg  \n",
            "  inflating: hw2/unlabeled/6846.jpg  \n",
            "  inflating: hw2/unlabeled/6453.jpg  \n",
            "  inflating: hw2/unlabeled/2162.jpg  \n",
            "  inflating: hw2/unlabeled/0504.jpg  \n",
            "  inflating: hw2/unlabeled/2724.jpg  \n",
            "  inflating: hw2/unlabeled/1300.jpg  \n",
            "  inflating: hw2/unlabeled/2230.jpg  \n",
            "  inflating: hw2/unlabeled/4564.jpg  \n",
            "  inflating: hw2/unlabeled/0996.jpg  \n",
            "  inflating: hw2/unlabeled/5437.jpg  \n",
            "  inflating: hw2/unlabeled/0232.jpg  \n",
            "  inflating: hw2/unlabeled/5252.jpg  \n",
            "  inflating: hw2/unlabeled/3572.jpg  \n",
            "  inflating: hw2/unlabeled/3082.jpg  \n",
            "  inflating: hw2/unlabeled/2362.jpg  \n",
            "  inflating: hw2/unlabeled/4044.jpg  \n",
            "  inflating: hw2/unlabeled/4043.jpg  \n",
            "  inflating: hw2/unlabeled/5857.jpg  \n",
            "  inflating: hw2/unlabeled/0390.jpg  \n",
            "  inflating: hw2/unlabeled/2627.jpg  \n",
            "  inflating: hw2/unlabeled/1209.jpg  \n",
            "  inflating: hw2/unlabeled/2417.jpg  \n",
            "  inflating: hw2/unlabeled/4516.jpg  \n",
            "  inflating: hw2/unlabeled/6065.jpg  \n",
            "  inflating: hw2/unlabeled/6179.jpg  \n",
            "  inflating: hw2/unlabeled/2666.jpg  \n",
            "  inflating: hw2/unlabeled/4393.jpg  \n",
            "  inflating: hw2/unlabeled/6451.jpg  \n",
            "  inflating: hw2/unlabeled/3126.jpg  \n",
            "  inflating: hw2/unlabeled/2174.jpg  \n",
            "  inflating: hw2/unlabeled/4229.jpg  \n",
            "  inflating: hw2/unlabeled/5750.jpg  \n",
            "  inflating: hw2/unlabeled/1109.jpg  \n",
            "  inflating: hw2/unlabeled/1120.jpg  \n",
            "  inflating: hw2/unlabeled/6484.jpg  \n",
            "  inflating: hw2/unlabeled/1399.jpg  \n",
            "  inflating: hw2/unlabeled/0654.jpg  \n",
            "  inflating: hw2/unlabeled/0904.jpg  \n",
            "  inflating: hw2/unlabeled/6079.jpg  \n",
            "  inflating: hw2/unlabeled/7169.jpg  \n",
            "  inflating: hw2/unlabeled/2270.jpg  \n",
            "  inflating: hw2/unlabeled/5075.jpg  \n",
            "  inflating: hw2/unlabeled/6777.jpg  \n",
            "  inflating: hw2/unlabeled/3563.jpg  \n",
            "  inflating: hw2/unlabeled/3135.jpg  \n",
            "  inflating: hw2/unlabeled/1802.jpg  \n",
            "  inflating: hw2/unlabeled/2925.jpg  \n",
            "  inflating: hw2/unlabeled/0937.jpg  \n",
            "  inflating: hw2/unlabeled/0763.jpg  \n",
            "  inflating: hw2/unlabeled/5283.jpg  \n",
            "  inflating: hw2/unlabeled/4662.jpg  \n",
            "  inflating: hw2/unlabeled/0391.jpg  \n",
            "  inflating: hw2/unlabeled/1886.jpg  \n",
            "  inflating: hw2/unlabeled/3241.jpg  \n",
            "  inflating: hw2/unlabeled/0006.jpg  \n",
            "  inflating: hw2/unlabeled/1694.jpg  \n",
            "  inflating: hw2/unlabeled/3737.jpg  \n",
            "  inflating: hw2/unlabeled/2782.jpg  \n",
            "  inflating: hw2/unlabeled/3063.jpg  \n",
            "  inflating: hw2/unlabeled/1835.jpg  \n",
            "  inflating: hw2/unlabeled/3027.jpg  \n",
            "  inflating: hw2/unlabeled/0152.jpg  \n",
            "  inflating: hw2/unlabeled/2850.jpg  \n",
            "  inflating: hw2/unlabeled/0473.jpg  \n",
            "  inflating: hw2/unlabeled/5630.jpg  \n",
            "  inflating: hw2/unlabeled/0286.jpg  \n",
            "  inflating: hw2/unlabeled/3455.jpg  \n",
            "  inflating: hw2/unlabeled/3555.jpg  \n",
            "  inflating: hw2/unlabeled/6045.jpg  \n",
            "  inflating: hw2/unlabeled/7182.jpg  \n",
            "  inflating: hw2/unlabeled/2533.jpg  \n",
            "  inflating: hw2/unlabeled/2216.jpg  \n",
            "  inflating: hw2/unlabeled/3886.jpg  \n",
            "  inflating: hw2/unlabeled/1730.jpg  \n",
            "  inflating: hw2/unlabeled/6415.jpg  \n",
            "  inflating: hw2/unlabeled/6385.jpg  \n",
            "  inflating: hw2/unlabeled/1978.jpg  \n",
            "  inflating: hw2/unlabeled/7223.jpg  \n",
            "  inflating: hw2/unlabeled/0894.jpg  \n",
            "  inflating: hw2/unlabeled/3764.jpg  \n",
            "  inflating: hw2/unlabeled/4933.jpg  \n",
            "  inflating: hw2/unlabeled/2674.jpg  \n",
            "  inflating: hw2/unlabeled/4346.jpg  \n",
            "  inflating: hw2/unlabeled/2113.jpg  \n",
            "  inflating: hw2/unlabeled/6719.jpg  \n",
            "  inflating: hw2/unlabeled/6202.jpg  \n",
            "  inflating: hw2/unlabeled/3669.jpg  \n",
            "  inflating: hw2/unlabeled/6775.jpg  \n",
            "  inflating: hw2/unlabeled/6925.jpg  \n",
            "  inflating: hw2/unlabeled/4642.jpg  \n",
            "  inflating: hw2/unlabeled/1931.jpg  \n",
            "  inflating: hw2/unlabeled/5837.jpg  \n",
            "  inflating: hw2/unlabeled/0217.jpg  \n",
            "  inflating: hw2/unlabeled/2703.jpg  \n",
            "  inflating: hw2/unlabeled/3404.jpg  \n",
            "  inflating: hw2/unlabeled/4765.jpg  \n",
            "  inflating: hw2/unlabeled/0997.jpg  \n",
            "  inflating: hw2/unlabeled/4911.jpg  \n",
            "  inflating: hw2/unlabeled/3527.jpg  \n",
            "  inflating: hw2/unlabeled/4823.jpg  \n",
            "  inflating: hw2/unlabeled/4315.jpg  \n",
            "  inflating: hw2/unlabeled/5356.jpg  \n",
            "  inflating: hw2/unlabeled/5262.jpg  \n",
            "  inflating: hw2/unlabeled/0792.jpg  \n",
            "  inflating: hw2/unlabeled/6614.jpg  \n",
            "  inflating: hw2/unlabeled/5590.jpg  \n",
            "  inflating: hw2/unlabeled/5201.jpg  \n",
            "  inflating: hw2/unlabeled/6524.jpg  \n",
            "  inflating: hw2/unlabeled/4632.jpg  \n",
            "  inflating: hw2/unlabeled/0393.jpg  \n",
            "  inflating: hw2/unlabeled/0616.jpg  \n",
            "  inflating: hw2/unlabeled/0229.jpg  \n",
            "  inflating: hw2/unlabeled/1254.jpg  \n",
            "  inflating: hw2/unlabeled/0248.jpg  \n",
            "  inflating: hw2/unlabeled/5045.jpg  \n",
            "  inflating: hw2/unlabeled/6199.jpg  \n",
            "  inflating: hw2/unlabeled/2193.jpg  \n",
            "  inflating: hw2/unlabeled/5763.jpg  \n",
            "  inflating: hw2/unlabeled/4134.jpg  \n",
            "  inflating: hw2/unlabeled/0881.jpg  \n",
            "  inflating: hw2/unlabeled/2671.jpg  \n",
            "  inflating: hw2/unlabeled/0101.jpg  \n",
            "  inflating: hw2/unlabeled/0369.jpg  \n",
            "  inflating: hw2/unlabeled/6835.jpg  \n",
            "  inflating: hw2/unlabeled/5626.jpg  \n",
            "  inflating: hw2/unlabeled/5964.jpg  \n",
            "  inflating: hw2/unlabeled/2770.jpg  \n",
            "  inflating: hw2/unlabeled/2983.jpg  \n",
            "  inflating: hw2/unlabeled/4625.jpg  \n",
            "  inflating: hw2/unlabeled/6271.jpg  \n",
            "  inflating: hw2/unlabeled/2886.jpg  \n",
            "  inflating: hw2/unlabeled/1313.jpg  \n",
            "  inflating: hw2/unlabeled/6813.jpg  \n",
            "  inflating: hw2/unlabeled/6994.jpg  \n",
            "  inflating: hw2/unlabeled/3554.jpg  \n",
            "  inflating: hw2/unlabeled/3879.jpg  \n",
            "  inflating: hw2/unlabeled/3541.jpg  \n",
            "  inflating: hw2/unlabeled/3426.jpg  \n",
            "  inflating: hw2/unlabeled/6442.jpg  \n",
            "  inflating: hw2/unlabeled/6136.jpg  \n",
            "  inflating: hw2/unlabeled/0244.jpg  \n",
            "  inflating: hw2/unlabeled/5267.jpg  \n",
            "  inflating: hw2/unlabeled/1041.jpg  \n",
            "  inflating: hw2/unlabeled/2995.jpg  \n",
            "  inflating: hw2/unlabeled/1557.jpg  \n",
            "  inflating: hw2/unlabeled/4680.jpg  \n",
            "  inflating: hw2/unlabeled/3170.jpg  \n",
            "  inflating: hw2/unlabeled/4612.jpg  \n",
            "  inflating: hw2/unlabeled/3754.jpg  \n",
            "  inflating: hw2/unlabeled/1490.jpg  \n",
            "  inflating: hw2/unlabeled/3329.jpg  \n",
            "  inflating: hw2/unlabeled/0000.jpg  \n",
            "  inflating: hw2/unlabeled/2576.jpg  \n",
            "  inflating: hw2/unlabeled/1551.jpg  \n",
            "  inflating: hw2/unlabeled/5038.jpg  \n",
            "  inflating: hw2/unlabeled/3836.jpg  \n",
            "  inflating: hw2/unlabeled/4036.jpg  \n",
            "  inflating: hw2/unlabeled/0961.jpg  \n",
            "  inflating: hw2/unlabeled/4382.jpg  \n",
            "  inflating: hw2/unlabeled/6683.jpg  \n",
            "  inflating: hw2/unlabeled/4156.jpg  \n",
            "  inflating: hw2/unlabeled/0171.jpg  \n",
            "  inflating: hw2/unlabeled/0770.jpg  \n",
            "  inflating: hw2/unlabeled/5962.jpg  \n",
            "  inflating: hw2/unlabeled/0920.jpg  \n",
            "  inflating: hw2/unlabeled/0681.jpg  \n",
            "  inflating: hw2/unlabeled/1967.jpg  \n",
            "  inflating: hw2/unlabeled/0899.jpg  \n",
            "  inflating: hw2/unlabeled/6277.jpg  \n",
            "  inflating: hw2/unlabeled/1070.jpg  \n",
            "  inflating: hw2/unlabeled/6588.jpg  \n",
            "  inflating: hw2/unlabeled/2080.jpg  \n",
            "  inflating: hw2/unlabeled/5193.jpg  \n",
            "  inflating: hw2/unlabeled/1485.jpg  \n",
            "  inflating: hw2/unlabeled/4796.jpg  \n",
            "  inflating: hw2/unlabeled/2885.jpg  \n",
            "  inflating: hw2/unlabeled/3121.jpg  \n",
            "  inflating: hw2/unlabeled/0964.jpg  \n",
            "  inflating: hw2/unlabeled/0379.jpg  \n",
            "  inflating: hw2/unlabeled/0090.jpg  \n",
            "  inflating: hw2/unlabeled/3490.jpg  \n",
            "  inflating: hw2/unlabeled/5331.jpg  \n",
            "  inflating: hw2/unlabeled/2496.jpg  \n",
            "  inflating: hw2/unlabeled/4964.jpg  \n",
            "  inflating: hw2/unlabeled/0829.jpg  \n",
            "  inflating: hw2/unlabeled/3245.jpg  \n",
            "  inflating: hw2/unlabeled/2695.jpg  \n",
            "  inflating: hw2/unlabeled/2281.jpg  \n",
            "  inflating: hw2/unlabeled/3771.jpg  \n",
            "  inflating: hw2/unlabeled/2870.jpg  \n",
            "  inflating: hw2/unlabeled/7205.jpg  \n",
            "  inflating: hw2/unlabeled/2526.jpg  \n",
            "  inflating: hw2/unlabeled/3507.jpg  \n",
            "  inflating: hw2/unlabeled/3689.jpg  \n",
            "  inflating: hw2/unlabeled/1460.jpg  \n",
            "  inflating: hw2/unlabeled/0857.jpg  \n",
            "  inflating: hw2/unlabeled/0412.jpg  \n",
            "  inflating: hw2/unlabeled/4383.jpg  \n",
            "  inflating: hw2/unlabeled/6357.jpg  \n",
            "  inflating: hw2/unlabeled/6511.jpg  \n",
            "  inflating: hw2/unlabeled/3652.jpg  \n",
            "  inflating: hw2/unlabeled/2982.jpg  \n",
            "  inflating: hw2/unlabeled/3951.jpg  \n",
            "  inflating: hw2/unlabeled/4453.jpg  \n",
            "  inflating: hw2/unlabeled/6096.jpg  \n",
            "  inflating: hw2/unlabeled/7101.jpg  \n",
            "  inflating: hw2/unlabeled/3454.jpg  \n",
            "  inflating: hw2/unlabeled/5228.jpg  \n",
            "  inflating: hw2/unlabeled/0918.jpg  \n",
            "  inflating: hw2/unlabeled/2665.jpg  \n",
            "  inflating: hw2/unlabeled/5282.jpg  \n",
            "  inflating: hw2/unlabeled/4626.jpg  \n",
            "  inflating: hw2/unlabeled/3946.jpg  \n",
            "  inflating: hw2/unlabeled/1267.jpg  \n",
            "  inflating: hw2/unlabeled/1945.jpg  \n",
            "  inflating: hw2/unlabeled/7024.jpg  \n",
            "  inflating: hw2/unlabeled/7245.jpg  \n",
            "  inflating: hw2/unlabeled/0581.jpg  \n",
            "  inflating: hw2/unlabeled/0873.jpg  \n",
            "  inflating: hw2/unlabeled/3632.jpg  \n",
            "  inflating: hw2/unlabeled/2428.jpg  \n",
            "  inflating: hw2/unlabeled/7274.jpg  \n",
            "  inflating: hw2/unlabeled/2093.jpg  \n",
            "  inflating: hw2/unlabeled/0359.jpg  \n",
            "  inflating: hw2/unlabeled/4339.jpg  \n",
            "  inflating: hw2/unlabeled/7212.jpg  \n",
            "  inflating: hw2/unlabeled/7058.jpg  \n",
            "  inflating: hw2/unlabeled/1164.jpg  \n",
            "  inflating: hw2/unlabeled/4604.jpg  \n",
            "  inflating: hw2/unlabeled/5457.jpg  \n",
            "  inflating: hw2/unlabeled/3050.jpg  \n",
            "  inflating: hw2/unlabeled/1567.jpg  \n",
            "  inflating: hw2/unlabeled/0043.jpg  \n",
            "  inflating: hw2/unlabeled/7170.jpg  \n",
            "  inflating: hw2/unlabeled/0513.jpg  \n",
            "  inflating: hw2/unlabeled/0283.jpg  \n",
            "  inflating: hw2/unlabeled/2274.jpg  \n",
            "  inflating: hw2/unlabeled/3213.jpg  \n",
            "  inflating: hw2/unlabeled/0292.jpg  \n",
            "  inflating: hw2/unlabeled/1471.jpg  \n",
            "  inflating: hw2/unlabeled/6912.jpg  \n",
            "  inflating: hw2/unlabeled/1590.jpg  \n",
            "  inflating: hw2/unlabeled/7134.jpg  \n",
            "  inflating: hw2/unlabeled/6598.jpg  \n",
            "  inflating: hw2/unlabeled/0686.jpg  \n",
            "  inflating: hw2/unlabeled/2493.jpg  \n",
            "  inflating: hw2/unlabeled/6308.jpg  \n",
            "  inflating: hw2/unlabeled/4761.jpg  \n",
            "  inflating: hw2/unlabeled/2252.jpg  \n",
            "  inflating: hw2/unlabeled/3355.jpg  \n",
            "  inflating: hw2/unlabeled/2651.jpg  \n",
            "  inflating: hw2/unlabeled/0438.jpg  \n",
            "  inflating: hw2/unlabeled/6331.jpg  \n",
            "  inflating: hw2/unlabeled/6553.jpg  \n",
            "  inflating: hw2/unlabeled/4352.jpg  \n",
            "  inflating: hw2/unlabeled/5527.jpg  \n",
            "  inflating: hw2/unlabeled/2244.jpg  \n",
            "  inflating: hw2/unlabeled/2606.jpg  \n",
            "  inflating: hw2/unlabeled/5821.jpg  \n",
            "  inflating: hw2/unlabeled/5006.jpg  \n",
            "  inflating: hw2/unlabeled/1943.jpg  \n",
            "  inflating: hw2/unlabeled/4011.jpg  \n",
            "  inflating: hw2/unlabeled/3460.jpg  \n",
            "  inflating: hw2/unlabeled/0629.jpg  \n",
            "  inflating: hw2/unlabeled/3514.jpg  \n",
            "  inflating: hw2/unlabeled/7078.jpg  \n",
            "  inflating: hw2/unlabeled/4017.jpg  \n",
            "  inflating: hw2/unlabeled/2853.jpg  \n",
            "  inflating: hw2/unlabeled/6260.jpg  \n",
            "  inflating: hw2/unlabeled/4326.jpg  \n",
            "  inflating: hw2/unlabeled/0726.jpg  \n",
            "  inflating: hw2/unlabeled/5574.jpg  \n",
            "  inflating: hw2/unlabeled/5777.jpg  \n",
            "  inflating: hw2/unlabeled/2602.jpg  \n",
            "  inflating: hw2/unlabeled/1671.jpg  \n",
            "  inflating: hw2/unlabeled/6743.jpg  \n",
            "  inflating: hw2/unlabeled/2754.jpg  \n",
            "  inflating: hw2/unlabeled/3286.jpg  \n",
            "  inflating: hw2/unlabeled/0602.jpg  \n",
            "  inflating: hw2/unlabeled/3423.jpg  \n",
            "  inflating: hw2/unlabeled/3010.jpg  \n",
            "  inflating: hw2/unlabeled/2319.jpg  \n",
            "  inflating: hw2/unlabeled/0858.jpg  \n",
            "  inflating: hw2/unlabeled/6802.jpg  \n",
            "  inflating: hw2/unlabeled/4208.jpg  \n",
            "  inflating: hw2/unlabeled/2201.jpg  \n",
            "  inflating: hw2/unlabeled/5865.jpg  \n",
            "  inflating: hw2/unlabeled/5939.jpg  \n",
            "  inflating: hw2/unlabeled/0739.jpg  \n",
            "  inflating: hw2/unlabeled/5615.jpg  \n",
            "  inflating: hw2/unlabeled/2645.jpg  \n",
            "  inflating: hw2/unlabeled/6152.jpg  \n",
            "  inflating: hw2/unlabeled/4736.jpg  \n",
            "  inflating: hw2/unlabeled/4356.jpg  \n",
            "  inflating: hw2/unlabeled/4125.jpg  \n",
            "  inflating: hw2/unlabeled/6539.jpg  \n",
            "  inflating: hw2/unlabeled/5953.jpg  \n",
            "  inflating: hw2/unlabeled/0559.jpg  \n",
            "  inflating: hw2/unlabeled/1698.jpg  \n",
            "  inflating: hw2/unlabeled/2570.jpg  \n",
            "  inflating: hw2/unlabeled/4707.jpg  \n",
            "  inflating: hw2/unlabeled/3433.jpg  \n",
            "  inflating: hw2/unlabeled/1692.jpg  \n",
            "  inflating: hw2/unlabeled/1838.jpg  \n",
            "  inflating: hw2/unlabeled/6165.jpg  \n",
            "  inflating: hw2/unlabeled/6387.jpg  \n",
            "  inflating: hw2/unlabeled/4447.jpg  \n",
            "  inflating: hw2/unlabeled/2608.jpg  \n",
            "  inflating: hw2/unlabeled/1677.jpg  \n",
            "  inflating: hw2/unlabeled/4114.jpg  \n",
            "  inflating: hw2/unlabeled/5364.jpg  \n",
            "  inflating: hw2/unlabeled/4289.jpg  \n",
            "  inflating: hw2/unlabeled/5073.jpg  \n",
            "  inflating: hw2/unlabeled/1247.jpg  \n",
            "  inflating: hw2/unlabeled/2553.jpg  \n",
            "  inflating: hw2/unlabeled/0459.jpg  \n",
            "  inflating: hw2/unlabeled/1983.jpg  \n",
            "  inflating: hw2/unlabeled/4328.jpg  \n",
            "  inflating: hw2/unlabeled/3856.jpg  \n",
            "  inflating: hw2/unlabeled/0596.jpg  \n",
            "  inflating: hw2/unlabeled/6593.jpg  \n",
            "  inflating: hw2/unlabeled/2070.jpg  \n",
            "  inflating: hw2/unlabeled/3075.jpg  \n",
            "  inflating: hw2/unlabeled/3506.jpg  \n",
            "  inflating: hw2/unlabeled/0901.jpg  \n",
            "  inflating: hw2/unlabeled/4045.jpg  \n",
            "  inflating: hw2/unlabeled/6008.jpg  \n",
            "  inflating: hw2/unlabeled/4211.jpg  \n",
            "  inflating: hw2/unlabeled/2952.jpg  \n",
            "  inflating: hw2/unlabeled/3498.jpg  \n",
            "  inflating: hw2/unlabeled/4066.jpg  \n",
            "  inflating: hw2/unlabeled/5675.jpg  \n",
            "  inflating: hw2/unlabeled/5478.jpg  \n",
            "  inflating: hw2/unlabeled/3569.jpg  \n",
            "  inflating: hw2/unlabeled/5238.jpg  \n",
            "  inflating: hw2/unlabeled/5820.jpg  \n",
            "  inflating: hw2/unlabeled/6840.jpg  \n",
            "  inflating: hw2/unlabeled/7107.jpg  \n",
            "  inflating: hw2/unlabeled/0320.jpg  \n",
            "  inflating: hw2/unlabeled/3187.jpg  \n",
            "  inflating: hw2/unlabeled/4718.jpg  \n",
            "  inflating: hw2/unlabeled/4644.jpg  \n",
            "  inflating: hw2/unlabeled/7174.jpg  \n",
            "  inflating: hw2/unlabeled/2446.jpg  \n",
            "  inflating: hw2/unlabeled/7028.jpg  \n",
            "  inflating: hw2/unlabeled/6190.jpg  \n",
            "  inflating: hw2/unlabeled/2099.jpg  \n",
            "  inflating: hw2/unlabeled/3472.jpg  \n",
            "  inflating: hw2/unlabeled/4528.jpg  \n",
            "  inflating: hw2/unlabeled/4573.jpg  \n",
            "  inflating: hw2/unlabeled/6506.jpg  \n",
            "  inflating: hw2/unlabeled/2115.jpg  \n",
            "  inflating: hw2/unlabeled/6781.jpg  \n",
            "  inflating: hw2/unlabeled/0859.jpg  \n",
            "  inflating: hw2/unlabeled/3685.jpg  \n",
            "  inflating: hw2/unlabeled/3000.jpg  \n",
            "  inflating: hw2/unlabeled/5686.jpg  \n",
            "  inflating: hw2/unlabeled/4451.jpg  \n",
            "  inflating: hw2/unlabeled/5260.jpg  \n",
            "  inflating: hw2/unlabeled/6103.jpg  \n",
            "  inflating: hw2/unlabeled/5731.jpg  \n",
            "  inflating: hw2/unlabeled/0431.jpg  \n",
            "  inflating: hw2/unlabeled/1500.jpg  \n",
            "  inflating: hw2/unlabeled/0404.jpg  \n",
            "  inflating: hw2/unlabeled/2874.jpg  \n",
            "  inflating: hw2/unlabeled/5853.jpg  \n",
            "  inflating: hw2/unlabeled/4746.jpg  \n",
            "  inflating: hw2/unlabeled/6419.jpg  \n",
            "  inflating: hw2/unlabeled/2374.jpg  \n",
            "  inflating: hw2/unlabeled/4152.jpg  \n",
            "  inflating: hw2/unlabeled/3115.jpg  \n",
            "  inflating: hw2/unlabeled/1443.jpg  \n",
            "  inflating: hw2/unlabeled/0720.jpg  \n",
            "  inflating: hw2/unlabeled/3912.jpg  \n",
            "  inflating: hw2/unlabeled/1735.jpg  \n",
            "  inflating: hw2/unlabeled/6557.jpg  \n",
            "  inflating: hw2/unlabeled/4921.jpg  \n",
            "  inflating: hw2/unlabeled/6301.jpg  \n",
            "  inflating: hw2/unlabeled/0975.jpg  \n",
            "  inflating: hw2/unlabeled/6495.jpg  \n",
            "  inflating: hw2/unlabeled/3007.jpg  \n",
            "  inflating: hw2/unlabeled/4561.jpg  \n",
            "  inflating: hw2/unlabeled/4213.jpg  \n",
            "  inflating: hw2/unlabeled/2500.jpg  \n",
            "  inflating: hw2/unlabeled/3895.jpg  \n",
            "  inflating: hw2/unlabeled/0155.jpg  \n",
            "  inflating: hw2/unlabeled/7280.jpg  \n",
            "  inflating: hw2/unlabeled/3915.jpg  \n",
            "  inflating: hw2/unlabeled/5874.jpg  \n",
            "  inflating: hw2/unlabeled/1448.jpg  \n",
            "  inflating: hw2/unlabeled/2516.jpg  \n",
            "  inflating: hw2/unlabeled/1928.jpg  \n",
            "  inflating: hw2/unlabeled/4067.jpg  \n",
            "  inflating: hw2/unlabeled/4002.jpg  \n",
            "  inflating: hw2/unlabeled/2253.jpg  \n",
            "  inflating: hw2/unlabeled/0273.jpg  \n",
            "  inflating: hw2/unlabeled/5940.jpg  \n",
            "  inflating: hw2/unlabeled/2124.jpg  \n",
            "  inflating: hw2/unlabeled/3593.jpg  \n",
            "  inflating: hw2/unlabeled/6507.jpg  \n",
            "  inflating: hw2/unlabeled/1406.jpg  \n",
            "  inflating: hw2/unlabeled/1465.jpg  \n",
            "  inflating: hw2/unlabeled/3384.jpg  \n",
            "  inflating: hw2/unlabeled/5696.jpg  \n",
            "  inflating: hw2/unlabeled/2543.jpg  \n",
            "  inflating: hw2/unlabeled/6810.jpg  \n",
            "  inflating: hw2/unlabeled/0531.jpg  \n",
            "  inflating: hw2/unlabeled/7076.jpg  \n",
            "  inflating: hw2/unlabeled/6407.jpg  \n",
            "  inflating: hw2/unlabeled/4141.jpg  \n",
            "  inflating: hw2/unlabeled/2032.jpg  \n",
            "  inflating: hw2/unlabeled/0194.jpg  \n",
            "  inflating: hw2/unlabeled/5808.jpg  \n",
            "  inflating: hw2/unlabeled/2700.jpg  \n",
            "  inflating: hw2/unlabeled/2590.jpg  \n",
            "  inflating: hw2/unlabeled/5815.jpg  \n",
            "  inflating: hw2/unlabeled/5361.jpg  \n",
            "  inflating: hw2/unlabeled/4244.jpg  \n",
            "  inflating: hw2/unlabeled/2239.jpg  \n",
            "  inflating: hw2/unlabeled/1401.jpg  \n",
            "  inflating: hw2/unlabeled/2037.jpg  \n",
            "  inflating: hw2/unlabeled/6288.jpg  \n",
            "  inflating: hw2/unlabeled/5811.jpg  \n",
            "  inflating: hw2/unlabeled/5591.jpg  \n",
            "  inflating: hw2/unlabeled/3188.jpg  \n",
            "  inflating: hw2/unlabeled/5785.jpg  \n",
            "  inflating: hw2/unlabeled/3808.jpg  \n",
            "  inflating: hw2/unlabeled/7074.jpg  \n",
            "  inflating: hw2/unlabeled/2342.jpg  \n",
            "  inflating: hw2/unlabeled/1857.jpg  \n",
            "  inflating: hw2/unlabeled/4886.jpg  \n",
            "  inflating: hw2/unlabeled/5079.jpg  \n",
            "  inflating: hw2/unlabeled/3889.jpg  \n",
            "  inflating: hw2/unlabeled/3759.jpg  \n",
            "  inflating: hw2/unlabeled/0790.jpg  \n",
            "  inflating: hw2/unlabeled/0242.jpg  \n",
            "  inflating: hw2/unlabeled/6435.jpg  \n",
            "  inflating: hw2/unlabeled/5734.jpg  \n",
            "  inflating: hw2/unlabeled/4337.jpg  \n",
            "  inflating: hw2/unlabeled/5362.jpg  \n",
            "  inflating: hw2/unlabeled/6077.jpg  \n",
            "  inflating: hw2/unlabeled/0444.jpg  \n",
            "  inflating: hw2/unlabeled/5848.jpg  \n",
            "  inflating: hw2/unlabeled/7224.jpg  \n",
            "  inflating: hw2/unlabeled/3866.jpg  \n",
            "  inflating: hw2/unlabeled/5212.jpg  \n",
            "  inflating: hw2/unlabeled/4319.jpg  \n",
            "  inflating: hw2/unlabeled/6368.jpg  \n",
            "  inflating: hw2/unlabeled/5036.jpg  \n",
            "  inflating: hw2/unlabeled/7146.jpg  \n",
            "  inflating: hw2/unlabeled/6624.jpg  \n",
            "  inflating: hw2/unlabeled/1656.jpg  \n",
            "  inflating: hw2/unlabeled/1560.jpg  \n",
            "  inflating: hw2/unlabeled/7214.jpg  \n",
            "  inflating: hw2/unlabeled/2458.jpg  \n",
            "  inflating: hw2/unlabeled/0783.jpg  \n",
            "  inflating: hw2/unlabeled/2067.jpg  \n",
            "  inflating: hw2/unlabeled/5578.jpg  \n",
            "  inflating: hw2/unlabeled/6753.jpg  \n",
            "  inflating: hw2/unlabeled/5017.jpg  \n",
            "  inflating: hw2/unlabeled/3608.jpg  \n",
            "  inflating: hw2/unlabeled/4253.jpg  \n",
            "  inflating: hw2/unlabeled/4074.jpg  \n",
            "  inflating: hw2/unlabeled/4562.jpg  \n",
            "  inflating: hw2/unlabeled/0403.jpg  \n",
            "  inflating: hw2/unlabeled/0714.jpg  \n",
            "  inflating: hw2/unlabeled/3055.jpg  \n",
            "  inflating: hw2/unlabeled/1666.jpg  \n",
            "  inflating: hw2/unlabeled/3645.jpg  \n",
            "  inflating: hw2/unlabeled/3165.jpg  \n",
            "  inflating: hw2/unlabeled/2538.jpg  \n",
            "  inflating: hw2/unlabeled/3239.jpg  \n",
            "  inflating: hw2/unlabeled/5756.jpg  \n",
            "  inflating: hw2/unlabeled/1658.jpg  \n",
            "  inflating: hw2/unlabeled/6373.jpg  \n",
            "  inflating: hw2/unlabeled/1929.jpg  \n",
            "  inflating: hw2/unlabeled/4384.jpg  \n",
            "  inflating: hw2/unlabeled/3784.jpg  \n",
            "  inflating: hw2/unlabeled/3839.jpg  \n",
            "  inflating: hw2/unlabeled/6692.jpg  \n",
            "  inflating: hw2/unlabeled/7231.jpg  \n",
            "  inflating: hw2/unlabeled/1516.jpg  \n",
            "  inflating: hw2/unlabeled/2006.jpg  \n",
            "  inflating: hw2/unlabeled/4885.jpg  \n",
            "  inflating: hw2/unlabeled/4060.jpg  \n",
            "  inflating: hw2/unlabeled/2249.jpg  \n",
            "  inflating: hw2/unlabeled/4398.jpg  \n",
            "  inflating: hw2/unlabeled/5605.jpg  \n",
            "  inflating: hw2/unlabeled/0498.jpg  \n",
            "  inflating: hw2/unlabeled/1395.jpg  \n",
            "  inflating: hw2/unlabeled/2556.jpg  \n",
            "  inflating: hw2/unlabeled/6651.jpg  \n",
            "  inflating: hw2/unlabeled/0109.jpg  \n",
            "  inflating: hw2/unlabeled/3072.jpg  \n",
            "  inflating: hw2/unlabeled/6479.jpg  \n",
            "  inflating: hw2/unlabeled/2561.jpg  \n",
            "  inflating: hw2/unlabeled/6627.jpg  \n",
            "  inflating: hw2/unlabeled/3730.jpg  \n",
            "  inflating: hw2/unlabeled/0169.jpg  \n",
            "  inflating: hw2/unlabeled/5387.jpg  \n",
            "  inflating: hw2/unlabeled/4313.jpg  \n",
            "  inflating: hw2/unlabeled/5844.jpg  \n",
            "  inflating: hw2/unlabeled/3289.jpg  \n",
            "  inflating: hw2/unlabeled/2327.jpg  \n",
            "  inflating: hw2/unlabeled/1866.jpg  \n",
            "  inflating: hw2/unlabeled/3237.jpg  \n",
            "  inflating: hw2/unlabeled/5403.jpg  \n",
            "  inflating: hw2/unlabeled/2418.jpg  \n",
            "  inflating: hw2/unlabeled/1787.jpg  \n",
            "  inflating: hw2/unlabeled/4617.jpg  \n",
            "  inflating: hw2/unlabeled/1163.jpg  \n",
            "  inflating: hw2/unlabeled/7093.jpg  \n",
            "  inflating: hw2/unlabeled/0386.jpg  \n",
            "  inflating: hw2/unlabeled/0512.jpg  \n",
            "  inflating: hw2/unlabeled/1161.jpg  \n",
            "  inflating: hw2/unlabeled/1997.jpg  \n",
            "  inflating: hw2/unlabeled/1621.jpg  \n",
            "  inflating: hw2/unlabeled/2844.jpg  \n",
            "  inflating: hw2/unlabeled/0510.jpg  \n",
            "  inflating: hw2/unlabeled/1151.jpg  \n",
            "  inflating: hw2/unlabeled/3714.jpg  \n",
            "  inflating: hw2/unlabeled/6996.jpg  \n",
            "  inflating: hw2/unlabeled/2356.jpg  \n",
            "  inflating: hw2/unlabeled/4669.jpg  \n",
            "  inflating: hw2/unlabeled/5553.jpg  \n",
            "  inflating: hw2/unlabeled/4126.jpg  \n",
            "  inflating: hw2/unlabeled/1029.jpg  \n",
            "  inflating: hw2/unlabeled/5469.jpg  \n",
            "  inflating: hw2/unlabeled/6063.jpg  \n",
            "  inflating: hw2/unlabeled/5288.jpg  \n",
            "  inflating: hw2/unlabeled/0728.jpg  \n",
            "  inflating: hw2/unlabeled/2749.jpg  \n",
            "  inflating: hw2/unlabeled/1307.jpg  \n",
            "  inflating: hw2/unlabeled/7244.jpg  \n",
            "  inflating: hw2/unlabeled/5291.jpg  \n",
            "  inflating: hw2/unlabeled/6752.jpg  \n",
            "  inflating: hw2/unlabeled/6541.jpg  \n",
            "  inflating: hw2/unlabeled/6913.jpg  \n",
            "  inflating: hw2/unlabeled/0747.jpg  \n",
            "  inflating: hw2/unlabeled/0656.jpg  \n",
            "  inflating: hw2/unlabeled/4953.jpg  \n",
            "  inflating: hw2/unlabeled/1841.jpg  \n",
            "  inflating: hw2/unlabeled/4433.jpg  \n",
            "  inflating: hw2/unlabeled/5408.jpg  \n",
            "  inflating: hw2/unlabeled/4026.jpg  \n",
            "  inflating: hw2/unlabeled/1078.jpg  \n",
            "  inflating: hw2/unlabeled/7126.jpg  \n",
            "  inflating: hw2/unlabeled/1037.jpg  \n",
            "  inflating: hw2/unlabeled/2690.jpg  \n",
            "  inflating: hw2/unlabeled/5604.jpg  \n",
            "  inflating: hw2/unlabeled/4699.jpg  \n",
            "  inflating: hw2/unlabeled/6252.jpg  \n",
            "  inflating: hw2/unlabeled/3693.jpg  \n",
            "  inflating: hw2/unlabeled/3148.jpg  \n",
            "  inflating: hw2/unlabeled/4291.jpg  \n",
            "  inflating: hw2/unlabeled/4022.jpg  \n",
            "  inflating: hw2/unlabeled/0636.jpg  \n",
            "  inflating: hw2/unlabeled/7123.jpg  \n",
            "  inflating: hw2/unlabeled/2991.jpg  \n",
            "  inflating: hw2/unlabeled/4970.jpg  \n",
            "  inflating: hw2/unlabeled/0397.jpg  \n",
            "  inflating: hw2/unlabeled/5990.jpg  \n",
            "  inflating: hw2/unlabeled/2071.jpg  \n",
            "  inflating: hw2/unlabeled/2263.jpg  \n",
            "  inflating: hw2/unlabeled/1166.jpg  \n",
            "  inflating: hw2/unlabeled/5635.jpg  \n",
            "  inflating: hw2/unlabeled/6531.jpg  \n",
            "  inflating: hw2/unlabeled/6380.jpg  \n",
            "  inflating: hw2/unlabeled/4645.jpg  \n",
            "  inflating: hw2/unlabeled/6058.jpg  \n",
            "  inflating: hw2/unlabeled/6448.jpg  \n",
            "  inflating: hw2/unlabeled/2527.jpg  \n",
            "  inflating: hw2/unlabeled/5411.jpg  \n",
            "  inflating: hw2/unlabeled/4615.jpg  \n",
            "  inflating: hw2/unlabeled/5994.jpg  \n",
            "  inflating: hw2/unlabeled/6617.jpg  \n",
            "  inflating: hw2/unlabeled/1096.jpg  \n",
            "  inflating: hw2/unlabeled/4619.jpg  \n",
            "  inflating: hw2/unlabeled/4304.jpg  \n",
            "  inflating: hw2/unlabeled/6106.jpg  \n",
            "  inflating: hw2/unlabeled/2077.jpg  \n",
            "  inflating: hw2/unlabeled/4861.jpg  \n",
            "  inflating: hw2/unlabeled/5546.jpg  \n",
            "  inflating: hw2/unlabeled/4021.jpg  \n",
            "  inflating: hw2/unlabeled/1696.jpg  \n",
            "  inflating: hw2/unlabeled/7129.jpg  \n",
            "  inflating: hw2/unlabeled/6306.jpg  \n",
            "  inflating: hw2/unlabeled/1474.jpg  \n",
            "  inflating: hw2/unlabeled/2375.jpg  \n",
            "  inflating: hw2/unlabeled/4297.jpg  \n",
            "  inflating: hw2/unlabeled/3124.jpg  \n",
            "  inflating: hw2/unlabeled/6820.jpg  \n",
            "  inflating: hw2/unlabeled/0521.jpg  \n",
            "  inflating: hw2/unlabeled/7102.jpg  \n",
            "  inflating: hw2/unlabeled/0932.jpg  \n",
            "  inflating: hw2/unlabeled/0700.jpg  \n",
            "  inflating: hw2/unlabeled/3489.jpg  \n",
            "  inflating: hw2/unlabeled/0414.jpg  \n",
            "  inflating: hw2/unlabeled/0704.jpg  \n",
            "  inflating: hw2/unlabeled/5363.jpg  \n",
            "  inflating: hw2/unlabeled/5309.jpg  \n",
            "  inflating: hw2/unlabeled/1657.jpg  \n",
            "  inflating: hw2/unlabeled/4104.jpg  \n",
            "  inflating: hw2/unlabeled/0995.jpg  \n",
            "  inflating: hw2/unlabeled/1591.jpg  \n",
            "  inflating: hw2/unlabeled/5776.jpg  \n",
            "  inflating: hw2/unlabeled/6801.jpg  \n",
            "  inflating: hw2/unlabeled/4178.jpg  \n",
            "  inflating: hw2/unlabeled/0549.jpg  \n",
            "  inflating: hw2/unlabeled/2299.jpg  \n",
            "  inflating: hw2/unlabeled/1803.jpg  \n",
            "  inflating: hw2/unlabeled/3366.jpg  \n",
            "  inflating: hw2/unlabeled/0595.jpg  \n",
            "  inflating: hw2/unlabeled/0643.jpg  \n",
            "  inflating: hw2/unlabeled/5001.jpg  \n",
            "  inflating: hw2/unlabeled/4349.jpg  \n",
            "  inflating: hw2/unlabeled/3938.jpg  \n",
            "  inflating: hw2/unlabeled/5895.jpg  \n",
            "  inflating: hw2/unlabeled/3428.jpg  \n",
            "  inflating: hw2/unlabeled/6376.jpg  \n",
            "  inflating: hw2/unlabeled/1541.jpg  \n",
            "  inflating: hw2/unlabeled/6416.jpg  \n",
            "  inflating: hw2/unlabeled/0490.jpg  \n",
            "  inflating: hw2/unlabeled/6267.jpg  \n",
            "  inflating: hw2/unlabeled/4131.jpg  \n",
            "  inflating: hw2/unlabeled/3802.jpg  \n",
            "  inflating: hw2/unlabeled/2468.jpg  \n",
            "  inflating: hw2/unlabeled/3123.jpg  \n",
            "  inflating: hw2/unlabeled/2929.jpg  \n",
            "  inflating: hw2/unlabeled/3647.jpg  \n",
            "  inflating: hw2/unlabeled/0689.jpg  \n",
            "  inflating: hw2/unlabeled/0818.jpg  \n",
            "  inflating: hw2/unlabeled/3201.jpg  \n",
            "  inflating: hw2/unlabeled/4246.jpg  \n",
            "  inflating: hw2/unlabeled/0260.jpg  \n",
            "  inflating: hw2/unlabeled/3753.jpg  \n",
            "  inflating: hw2/unlabeled/4519.jpg  \n",
            "  inflating: hw2/unlabeled/5943.jpg  \n",
            "  inflating: hw2/unlabeled/1286.jpg  \n",
            "  inflating: hw2/unlabeled/0672.jpg  \n",
            "  inflating: hw2/unlabeled/5468.jpg  \n",
            "  inflating: hw2/unlabeled/7114.jpg  \n",
            "  inflating: hw2/unlabeled/3705.jpg  \n",
            "  inflating: hw2/unlabeled/6404.jpg  \n",
            "  inflating: hw2/unlabeled/5166.jpg  \n",
            "  inflating: hw2/unlabeled/4403.jpg  \n",
            "  inflating: hw2/unlabeled/6504.jpg  \n",
            "  inflating: hw2/unlabeled/4803.jpg  \n",
            "  inflating: hw2/unlabeled/6112.jpg  \n",
            "  inflating: hw2/unlabeled/7278.jpg  \n",
            "  inflating: hw2/unlabeled/3998.jpg  \n",
            "  inflating: hw2/unlabeled/3906.jpg  \n",
            "  inflating: hw2/unlabeled/1894.jpg  \n",
            "  inflating: hw2/unlabeled/2125.jpg  \n",
            "  inflating: hw2/unlabeled/4009.jpg  \n",
            "  inflating: hw2/unlabeled/1015.jpg  \n",
            "  inflating: hw2/unlabeled/0579.jpg  \n",
            "  inflating: hw2/unlabeled/4203.jpg  \n",
            "  inflating: hw2/unlabeled/4694.jpg  \n",
            "  inflating: hw2/unlabeled/6874.jpg  \n",
            "  inflating: hw2/unlabeled/4511.jpg  \n",
            "  inflating: hw2/unlabeled/1270.jpg  \n",
            "  inflating: hw2/unlabeled/5912.jpg  \n",
            "  inflating: hw2/unlabeled/3857.jpg  \n",
            "  inflating: hw2/unlabeled/5542.jpg  \n",
            "  inflating: hw2/unlabeled/2942.jpg  \n",
            "  inflating: hw2/unlabeled/3458.jpg  \n",
            "  inflating: hw2/unlabeled/5284.jpg  \n",
            "  inflating: hw2/unlabeled/3890.jpg  \n",
            "  inflating: hw2/unlabeled/6459.jpg  \n",
            "  inflating: hw2/unlabeled/5281.jpg  \n",
            "  inflating: hw2/unlabeled/3227.jpg  \n",
            "  inflating: hw2/unlabeled/2212.jpg  \n",
            "  inflating: hw2/unlabeled/4171.jpg  \n",
            "  inflating: hw2/unlabeled/0008.jpg  \n",
            "  inflating: hw2/unlabeled/1396.jpg  \n",
            "  inflating: hw2/unlabeled/6579.jpg  \n",
            "  inflating: hw2/unlabeled/1206.jpg  \n",
            "  inflating: hw2/unlabeled/6915.jpg  \n",
            "  inflating: hw2/unlabeled/5320.jpg  \n",
            "  inflating: hw2/unlabeled/2894.jpg  \n",
            "  inflating: hw2/unlabeled/2902.jpg  \n",
            "  inflating: hw2/unlabeled/1383.jpg  \n",
            "  inflating: hw2/unlabeled/2808.jpg  \n",
            "  inflating: hw2/unlabeled/2030.jpg  \n",
            "  inflating: hw2/unlabeled/7151.jpg  \n",
            "  inflating: hw2/unlabeled/1938.jpg  \n",
            "  inflating: hw2/unlabeled/3625.jpg  \n",
            "  inflating: hw2/unlabeled/2812.jpg  \n",
            "  inflating: hw2/unlabeled/2524.jpg  \n",
            "  inflating: hw2/unlabeled/3379.jpg  \n",
            "  inflating: hw2/unlabeled/1562.jpg  \n",
            "  inflating: hw2/unlabeled/0042.jpg  \n",
            "  inflating: hw2/unlabeled/1082.jpg  \n",
            "  inflating: hw2/unlabeled/2884.jpg  \n",
            "  inflating: hw2/unlabeled/4568.jpg  \n",
            "  inflating: hw2/unlabeled/2017.jpg  \n",
            "  inflating: hw2/unlabeled/2484.jpg  \n",
            "  inflating: hw2/unlabeled/5582.jpg  \n",
            "  inflating: hw2/unlabeled/3487.jpg  \n",
            "  inflating: hw2/unlabeled/6733.jpg  \n",
            "  inflating: hw2/unlabeled/1167.jpg  \n",
            "  inflating: hw2/unlabeled/6792.jpg  \n",
            "  inflating: hw2/unlabeled/4786.jpg  \n",
            "  inflating: hw2/unlabeled/5005.jpg  \n",
            "  inflating: hw2/unlabeled/4285.jpg  \n",
            "  inflating: hw2/unlabeled/4222.jpg  \n",
            "  inflating: hw2/unlabeled/1045.jpg  \n",
            "  inflating: hw2/unlabeled/1419.jpg  \n",
            "  inflating: hw2/unlabeled/3671.jpg  \n",
            "  inflating: hw2/unlabeled/5717.jpg  \n",
            "  inflating: hw2/unlabeled/6550.jpg  \n",
            "  inflating: hw2/unlabeled/0284.jpg  \n",
            "  inflating: hw2/unlabeled/5391.jpg  \n",
            "  inflating: hw2/unlabeled/1740.jpg  \n",
            "  inflating: hw2/unlabeled/2460.jpg  \n",
            "  inflating: hw2/unlabeled/2962.jpg  \n",
            "  inflating: hw2/unlabeled/0841.jpg  \n",
            "  inflating: hw2/unlabeled/5289.jpg  \n",
            "  inflating: hw2/unlabeled/2837.jpg  \n",
            "  inflating: hw2/unlabeled/5866.jpg  \n",
            "  inflating: hw2/unlabeled/0300.jpg  \n",
            "  inflating: hw2/unlabeled/3127.jpg  \n",
            "  inflating: hw2/unlabeled/7189.jpg  \n",
            "  inflating: hw2/unlabeled/3252.jpg  \n",
            "  inflating: hw2/unlabeled/2682.jpg  \n",
            "  inflating: hw2/unlabeled/5928.jpg  \n",
            "  inflating: hw2/unlabeled/4428.jpg  \n",
            "  inflating: hw2/unlabeled/4416.jpg  \n",
            "  inflating: hw2/unlabeled/1546.jpg  \n",
            "  inflating: hw2/unlabeled/7128.jpg  \n",
            "  inflating: hw2/unlabeled/1229.jpg  \n",
            "  inflating: hw2/unlabeled/2739.jpg  \n",
            "  inflating: hw2/unlabeled/7137.jpg  \n",
            "  inflating: hw2/unlabeled/0023.jpg  \n",
            "  inflating: hw2/unlabeled/4444.jpg  \n",
            "  inflating: hw2/unlabeled/4340.jpg  \n",
            "  inflating: hw2/unlabeled/1177.jpg  \n",
            "  inflating: hw2/unlabeled/0527.jpg  \n",
            "  inflating: hw2/unlabeled/3560.jpg  \n",
            "  inflating: hw2/unlabeled/0030.jpg  \n",
            "  inflating: hw2/unlabeled/4351.jpg  \n",
            "  inflating: hw2/unlabeled/1404.jpg  \n",
            "  inflating: hw2/unlabeled/6744.jpg  \n",
            "  inflating: hw2/unlabeled/2222.jpg  \n",
            "  inflating: hw2/unlabeled/4094.jpg  \n",
            "  inflating: hw2/unlabeled/2421.jpg  \n",
            "  inflating: hw2/unlabeled/6223.jpg  \n",
            "  inflating: hw2/unlabeled/5894.jpg  \n",
            "  inflating: hw2/unlabeled/1157.jpg  \n",
            "  inflating: hw2/unlabeled/3734.jpg  \n",
            "  inflating: hw2/unlabeled/4608.jpg  \n",
            "  inflating: hw2/unlabeled/7008.jpg  \n",
            "  inflating: hw2/unlabeled/1415.jpg  \n",
            "  inflating: hw2/unlabeled/6020.jpg  \n",
            "  inflating: hw2/unlabeled/2511.jpg  \n",
            "  inflating: hw2/unlabeled/4832.jpg  \n",
            "  inflating: hw2/unlabeled/1285.jpg  \n",
            "  inflating: hw2/unlabeled/6548.jpg  \n",
            "  inflating: hw2/unlabeled/2111.jpg  \n",
            "  inflating: hw2/unlabeled/1772.jpg  \n",
            "  inflating: hw2/unlabeled/2752.jpg  \n",
            "  inflating: hw2/unlabeled/7289.jpg  \n",
            "  inflating: hw2/unlabeled/4329.jpg  \n",
            "  inflating: hw2/unlabeled/2984.jpg  \n",
            "  inflating: hw2/unlabeled/6478.jpg  \n",
            "  inflating: hw2/unlabeled/6379.jpg  \n",
            "  inflating: hw2/unlabeled/2733.jpg  \n",
            "  inflating: hw2/unlabeled/4299.jpg  \n",
            "  inflating: hw2/unlabeled/5598.jpg  \n",
            "  inflating: hw2/unlabeled/5010.jpg  \n",
            "  inflating: hw2/unlabeled/2391.jpg  \n",
            "  inflating: hw2/unlabeled/7144.jpg  \n",
            "  inflating: hw2/unlabeled/1930.jpg  \n",
            "  inflating: hw2/unlabeled/3061.jpg  \n",
            "  inflating: hw2/unlabeled/3815.jpg  \n",
            "  inflating: hw2/unlabeled/2412.jpg  \n",
            "  inflating: hw2/unlabeled/1700.jpg  \n",
            "  inflating: hw2/unlabeled/2557.jpg  \n",
            "  inflating: hw2/unlabeled/1642.jpg  \n",
            "  inflating: hw2/unlabeled/0165.jpg  \n",
            "  inflating: hw2/unlabeled/6981.jpg  \n",
            "  inflating: hw2/unlabeled/3558.jpg  \n",
            "  inflating: hw2/unlabeled/0509.jpg  \n",
            "  inflating: hw2/unlabeled/5749.jpg  \n",
            "  inflating: hw2/unlabeled/0132.jpg  \n",
            "  inflating: hw2/unlabeled/2455.jpg  \n",
            "  inflating: hw2/unlabeled/2497.jpg  \n",
            "  inflating: hw2/unlabeled/3646.jpg  \n",
            "  inflating: hw2/unlabeled/0652.jpg  \n",
            "  inflating: hw2/unlabeled/5255.jpg  \n",
            "  inflating: hw2/unlabeled/5442.jpg  \n",
            "  inflating: hw2/unlabeled/6933.jpg  \n",
            "  inflating: hw2/unlabeled/1853.jpg  \n",
            "  inflating: hw2/unlabeled/5666.jpg  \n",
            "  inflating: hw2/unlabeled/6049.jpg  \n",
            "  inflating: hw2/unlabeled/2226.jpg  \n",
            "  inflating: hw2/unlabeled/1495.jpg  \n",
            "  inflating: hw2/unlabeled/0435.jpg  \n",
            "  inflating: hw2/unlabeled/6220.jpg  \n",
            "  inflating: hw2/unlabeled/5723.jpg  \n",
            "  inflating: hw2/unlabeled/5872.jpg  \n",
            "  inflating: hw2/unlabeled/4505.jpg  \n",
            "  inflating: hw2/unlabeled/6155.jpg  \n",
            "  inflating: hw2/unlabeled/1032.jpg  \n",
            "  inflating: hw2/unlabeled/2481.jpg  \n",
            "  inflating: hw2/unlabeled/1025.jpg  \n",
            "  inflating: hw2/unlabeled/3468.jpg  \n",
            "  inflating: hw2/unlabeled/4471.jpg  \n",
            "  inflating: hw2/unlabeled/2772.jpg  \n",
            "  inflating: hw2/unlabeled/6389.jpg  \n",
            "  inflating: hw2/unlabeled/2024.jpg  \n",
            "  inflating: hw2/unlabeled/3058.jpg  \n",
            "  inflating: hw2/unlabeled/5106.jpg  \n",
            "  inflating: hw2/unlabeled/3873.jpg  \n",
            "  inflating: hw2/unlabeled/6474.jpg  \n",
            "  inflating: hw2/unlabeled/3805.jpg  \n",
            "  inflating: hw2/unlabeled/0487.jpg  \n",
            "  inflating: hw2/unlabeled/1011.jpg  \n",
            "  inflating: hw2/unlabeled/6229.jpg  \n",
            "  inflating: hw2/unlabeled/6536.jpg  \n",
            "  inflating: hw2/unlabeled/2001.jpg  \n",
            "  inflating: hw2/unlabeled/6583.jpg  \n",
            "  inflating: hw2/unlabeled/5662.jpg  \n",
            "  inflating: hw2/unlabeled/1829.jpg  \n",
            "  inflating: hw2/unlabeled/4158.jpg  \n",
            "  inflating: hw2/unlabeled/4521.jpg  \n",
            "  inflating: hw2/unlabeled/1994.jpg  \n",
            "  inflating: hw2/unlabeled/6844.jpg  \n",
            "  inflating: hw2/unlabeled/7011.jpg  \n",
            "  inflating: hw2/unlabeled/2509.jpg  \n",
            "  inflating: hw2/unlabeled/6131.jpg  \n",
            "  inflating: hw2/unlabeled/2842.jpg  \n",
            "  inflating: hw2/unlabeled/6313.jpg  \n",
            "  inflating: hw2/unlabeled/4522.jpg  \n",
            "  inflating: hw2/unlabeled/7153.jpg  \n",
            "  inflating: hw2/unlabeled/3436.jpg  \n",
            "  inflating: hw2/unlabeled/6919.jpg  \n",
            "  inflating: hw2/unlabeled/2016.jpg  \n",
            "  inflating: hw2/unlabeled/1732.jpg  \n",
            "  inflating: hw2/unlabeled/2625.jpg  \n",
            "  inflating: hw2/unlabeled/6699.jpg  \n",
            "  inflating: hw2/unlabeled/2027.jpg  \n",
            "  inflating: hw2/unlabeled/5003.jpg  \n",
            "  inflating: hw2/unlabeled/6894.jpg  \n",
            "  inflating: hw2/unlabeled/4362.jpg  \n",
            "  inflating: hw2/unlabeled/3504.jpg  \n",
            "  inflating: hw2/unlabeled/6766.jpg  \n",
            "  inflating: hw2/unlabeled/1791.jpg  \n",
            "  inflating: hw2/unlabeled/3917.jpg  \n",
            "  inflating: hw2/unlabeled/6533.jpg  \n",
            "  inflating: hw2/unlabeled/1100.jpg  \n",
            "  inflating: hw2/unlabeled/6720.jpg  \n",
            "  inflating: hw2/unlabeled/6687.jpg  \n",
            "  inflating: hw2/unlabeled/5871.jpg  \n",
            "  inflating: hw2/unlabeled/7196.jpg  \n",
            "  inflating: hw2/unlabeled/2215.jpg  \n",
            "  inflating: hw2/unlabeled/4494.jpg  \n",
            "  inflating: hw2/unlabeled/0541.jpg  \n",
            "  inflating: hw2/unlabeled/6098.jpg  \n",
            "  inflating: hw2/unlabeled/1461.jpg  \n",
            "  inflating: hw2/unlabeled/1338.jpg  \n",
            "  inflating: hw2/unlabeled/6957.jpg  \n",
            "  inflating: hw2/unlabeled/1057.jpg  \n",
            "  inflating: hw2/unlabeled/2642.jpg  \n",
            "  inflating: hw2/unlabeled/6686.jpg  \n",
            "  inflating: hw2/unlabeled/6209.jpg  \n",
            "  inflating: hw2/unlabeled/5138.jpg  \n",
            "  inflating: hw2/unlabeled/1054.jpg  \n",
            "  inflating: hw2/unlabeled/6517.jpg  \n",
            "  inflating: hw2/unlabeled/5689.jpg  \n",
            "  inflating: hw2/unlabeled/5393.jpg  \n",
            "  inflating: hw2/unlabeled/1301.jpg  \n",
            "  inflating: hw2/unlabeled/1684.jpg  \n",
            "  inflating: hw2/unlabeled/0630.jpg  \n",
            "  inflating: hw2/unlabeled/5900.jpg  \n",
            "  inflating: hw2/unlabeled/2289.jpg  \n",
            "  inflating: hw2/unlabeled/3375.jpg  \n",
            "  inflating: hw2/unlabeled/3004.jpg  \n",
            "  inflating: hw2/unlabeled/4047.jpg  \n",
            "  inflating: hw2/unlabeled/0907.jpg  \n",
            "  inflating: hw2/unlabeled/3203.jpg  \n",
            "  inflating: hw2/unlabeled/0443.jpg  \n",
            "  inflating: hw2/unlabeled/0166.jpg  \n",
            "  inflating: hw2/unlabeled/3307.jpg  \n",
            "  inflating: hw2/unlabeled/3990.jpg  \n",
            "  inflating: hw2/unlabeled/5902.jpg  \n",
            "  inflating: hw2/unlabeled/4092.jpg  \n",
            "  inflating: hw2/unlabeled/0127.jpg  \n",
            "  inflating: hw2/unlabeled/3206.jpg  \n",
            "  inflating: hw2/unlabeled/0924.jpg  \n",
            "  inflating: hw2/unlabeled/3262.jpg  \n",
            "  inflating: hw2/unlabeled/6961.jpg  \n",
            "  inflating: hw2/unlabeled/3807.jpg  \n",
            "  inflating: hw2/unlabeled/4387.jpg  \n",
            "  inflating: hw2/unlabeled/7051.jpg  \n",
            "  inflating: hw2/unlabeled/3295.jpg  \n",
            "  inflating: hw2/unlabeled/4551.jpg  \n",
            "  inflating: hw2/unlabeled/6546.jpg  \n",
            "  inflating: hw2/unlabeled/0111.jpg  \n",
            "  inflating: hw2/unlabeled/4550.jpg  \n",
            "  inflating: hw2/unlabeled/2340.jpg  \n",
            "  inflating: hw2/unlabeled/0883.jpg  \n",
            "  inflating: hw2/unlabeled/3631.jpg  \n",
            "  inflating: hw2/unlabeled/3877.jpg  \n",
            "  inflating: hw2/unlabeled/5690.jpg  \n",
            "  inflating: hw2/unlabeled/1179.jpg  \n",
            "  inflating: hw2/unlabeled/6839.jpg  \n",
            "  inflating: hw2/unlabeled/3511.jpg  \n",
            "  inflating: hw2/unlabeled/4891.jpg  \n",
            "  inflating: hw2/unlabeled/0807.jpg  \n",
            "  inflating: hw2/unlabeled/0167.jpg  \n",
            "  inflating: hw2/unlabeled/0931.jpg  \n",
            "  inflating: hw2/unlabeled/0154.jpg  \n",
            "  inflating: hw2/unlabeled/0258.jpg  \n",
            "  inflating: hw2/unlabeled/6515.jpg  \n",
            "  inflating: hw2/unlabeled/1823.jpg  \n",
            "  inflating: hw2/unlabeled/0906.jpg  \n",
            "  inflating: hw2/unlabeled/6384.jpg  \n",
            "  inflating: hw2/unlabeled/1964.jpg  \n",
            "  inflating: hw2/unlabeled/1496.jpg  \n",
            "  inflating: hw2/unlabeled/0988.jpg  \n",
            "  inflating: hw2/unlabeled/3109.jpg  \n",
            "  inflating: hw2/unlabeled/6926.jpg  \n",
            "  inflating: hw2/unlabeled/3837.jpg  \n",
            "  inflating: hw2/unlabeled/7062.jpg  \n",
            "  inflating: hw2/unlabeled/7108.jpg  \n",
            "  inflating: hw2/unlabeled/6780.jpg  \n",
            "  inflating: hw2/unlabeled/6575.jpg  \n",
            "  inflating: hw2/unlabeled/1605.jpg  \n",
            "  inflating: hw2/unlabeled/7176.jpg  \n",
            "  inflating: hw2/unlabeled/2687.jpg  \n",
            "  inflating: hw2/unlabeled/1852.jpg  \n",
            "  inflating: hw2/unlabeled/3073.jpg  \n",
            "  inflating: hw2/unlabeled/4809.jpg  \n",
            "  inflating: hw2/unlabeled/4369.jpg  \n",
            "  inflating: hw2/unlabeled/2485.jpg  \n",
            "  inflating: hw2/unlabeled/6628.jpg  \n",
            "  inflating: hw2/unlabeled/4386.jpg  \n",
            "  inflating: hw2/unlabeled/5523.jpg  \n",
            "  inflating: hw2/unlabeled/0848.jpg  \n",
            "  inflating: hw2/unlabeled/2555.jpg  \n",
            "  inflating: hw2/unlabeled/5693.jpg  \n",
            "  inflating: hw2/unlabeled/1515.jpg  \n",
            "  inflating: hw2/unlabeled/2843.jpg  \n",
            "  inflating: hw2/unlabeled/0558.jpg  \n",
            "  inflating: hw2/unlabeled/6119.jpg  \n",
            "  inflating: hw2/unlabeled/1518.jpg  \n",
            "  inflating: hw2/unlabeled/0950.jpg  \n",
            "  inflating: hw2/unlabeled/6949.jpg  \n",
            "  inflating: hw2/unlabeled/4554.jpg  \n",
            "  inflating: hw2/unlabeled/0505.jpg  \n",
            "  inflating: hw2/unlabeled/6449.jpg  \n",
            "  inflating: hw2/unlabeled/4095.jpg  \n",
            "  inflating: hw2/unlabeled/2238.jpg  \n",
            "  inflating: hw2/unlabeled/5682.jpg  \n",
            "  inflating: hw2/unlabeled/0478.jpg  \n",
            "  inflating: hw2/unlabeled/4452.jpg  \n",
            "  inflating: hw2/unlabeled/0628.jpg  \n",
            "  inflating: hw2/unlabeled/4303.jpg  \n",
            "  inflating: hw2/unlabeled/1230.jpg  \n",
            "  inflating: hw2/unlabeled/0669.jpg  \n",
            "  inflating: hw2/unlabeled/0740.jpg  \n",
            "  inflating: hw2/unlabeled/0766.jpg  \n",
            "  inflating: hw2/unlabeled/4817.jpg  \n",
            "  inflating: hw2/unlabeled/2173.jpg  \n",
            "  inflating: hw2/unlabeled/0607.jpg  \n",
            "  inflating: hw2/unlabeled/4098.jpg  \n",
            "  inflating: hw2/unlabeled/0398.jpg  \n",
            "  inflating: hw2/unlabeled/3688.jpg  \n",
            "  inflating: hw2/unlabeled/0214.jpg  \n",
            "  inflating: hw2/unlabeled/0045.jpg  \n",
            "  inflating: hw2/unlabeled/6356.jpg  \n",
            "  inflating: hw2/unlabeled/6679.jpg  \n",
            "  inflating: hw2/unlabeled/0819.jpg  \n",
            "  inflating: hw2/unlabeled/0116.jpg  \n",
            "  inflating: hw2/unlabeled/6893.jpg  \n",
            "  inflating: hw2/unlabeled/4439.jpg  \n",
            "  inflating: hw2/unlabeled/6965.jpg  \n",
            "  inflating: hw2/unlabeled/5313.jpg  \n",
            "  inflating: hw2/unlabeled/6446.jpg  \n",
            "  inflating: hw2/unlabeled/6500.jpg  \n",
            "  inflating: hw2/unlabeled/1989.jpg  \n",
            "  inflating: hw2/unlabeled/7002.jpg  \n",
            "  inflating: hw2/unlabeled/7015.jpg  \n",
            "  inflating: hw2/unlabeled/5402.jpg  \n",
            "  inflating: hw2/unlabeled/6128.jpg  \n",
            "  inflating: hw2/unlabeled/5697.jpg  \n",
            "  inflating: hw2/unlabeled/6793.jpg  \n",
            "  inflating: hw2/unlabeled/0340.jpg  \n",
            "  inflating: hw2/unlabeled/5735.jpg  \n",
            "  inflating: hw2/unlabeled/6761.jpg  \n",
            "  inflating: hw2/unlabeled/1007.jpg  \n",
            "  inflating: hw2/unlabeled/1949.jpg  \n",
            "  inflating: hw2/unlabeled/4378.jpg  \n",
            "  inflating: hw2/unlabeled/2010.jpg  \n",
            "  inflating: hw2/unlabeled/2047.jpg  \n",
            "  inflating: hw2/unlabeled/3402.jpg  \n",
            "  inflating: hw2/unlabeled/2416.jpg  \n",
            "  inflating: hw2/unlabeled/0730.jpg  \n",
            "  inflating: hw2/unlabeled/6214.jpg  \n",
            "  inflating: hw2/unlabeled/3343.jpg  \n",
            "  inflating: hw2/unlabeled/4971.jpg  \n",
            "  inflating: hw2/unlabeled/6607.jpg  \n",
            "  inflating: hw2/unlabeled/2597.jpg  \n",
            "  inflating: hw2/unlabeled/6992.jpg  \n",
            "  inflating: hw2/unlabeled/0800.jpg  \n",
            "  inflating: hw2/unlabeled/3963.jpg  \n",
            "  inflating: hw2/unlabeled/7004.jpg  \n",
            "  inflating: hw2/unlabeled/4610.jpg  \n",
            "  inflating: hw2/unlabeled/0416.jpg  \n",
            "  inflating: hw2/unlabeled/1544.jpg  \n",
            "  inflating: hw2/unlabeled/0967.jpg  \n",
            "  inflating: hw2/unlabeled/5137.jpg  \n",
            "  inflating: hw2/unlabeled/2834.jpg  \n",
            "  inflating: hw2/unlabeled/3650.jpg  \n",
            "  inflating: hw2/unlabeled/3326.jpg  \n",
            "  inflating: hw2/unlabeled/3952.jpg  \n",
            "  inflating: hw2/unlabeled/5503.jpg  \n",
            "  inflating: hw2/unlabeled/1257.jpg  \n",
            "  inflating: hw2/unlabeled/4956.jpg  \n",
            "  inflating: hw2/unlabeled/0756.jpg  \n",
            "  inflating: hw2/unlabeled/0613.jpg  \n",
            "  inflating: hw2/unlabeled/0597.jpg  \n",
            "  inflating: hw2/unlabeled/3156.jpg  \n",
            "  inflating: hw2/unlabeled/3323.jpg  \n",
            "  inflating: hw2/unlabeled/5637.jpg  \n",
            "  inflating: hw2/unlabeled/0578.jpg  \n",
            "  inflating: hw2/unlabeled/0562.jpg  \n",
            "  inflating: hw2/unlabeled/5802.jpg  \n",
            "  inflating: hw2/unlabeled/3878.jpg  \n",
            "  inflating: hw2/unlabeled/1561.jpg  \n",
            "  inflating: hw2/unlabeled/4008.jpg  \n",
            "  inflating: hw2/unlabeled/3462.jpg  \n",
            "  inflating: hw2/unlabeled/5354.jpg  \n",
            "  inflating: hw2/unlabeled/4032.jpg  \n",
            "  inflating: hw2/unlabeled/2494.jpg  \n",
            "  inflating: hw2/unlabeled/4813.jpg  \n",
            "  inflating: hw2/unlabeled/5169.jpg  \n",
            "  inflating: hw2/unlabeled/0882.jpg  \n",
            "  inflating: hw2/unlabeled/5716.jpg  \n",
            "  inflating: hw2/unlabeled/1780.jpg  \n",
            "  inflating: hw2/unlabeled/5084.jpg  \n",
            "  inflating: hw2/unlabeled/6562.jpg  \n",
            "  inflating: hw2/unlabeled/3195.jpg  \n",
            "  inflating: hw2/unlabeled/5992.jpg  \n",
            "  inflating: hw2/unlabeled/2192.jpg  \n",
            "  inflating: hw2/unlabeled/3111.jpg  \n",
            "  inflating: hw2/unlabeled/7071.jpg  \n",
            "  inflating: hw2/unlabeled/3724.jpg  \n",
            "  inflating: hw2/unlabeled/2697.jpg  \n",
            "  inflating: hw2/unlabeled/0563.jpg  \n",
            "  inflating: hw2/unlabeled/0712.jpg  \n",
            "  inflating: hw2/unlabeled/4750.jpg  \n",
            "  inflating: hw2/unlabeled/2430.jpg  \n",
            "  inflating: hw2/unlabeled/5109.jpg  \n",
            "  inflating: hw2/unlabeled/1716.jpg  \n",
            "  inflating: hw2/unlabeled/6316.jpg  \n",
            "  inflating: hw2/unlabeled/4968.jpg  \n",
            "  inflating: hw2/unlabeled/2471.jpg  \n",
            "  inflating: hw2/unlabeled/4974.jpg  \n",
            "  inflating: hw2/unlabeled/5268.jpg  \n",
            "  inflating: hw2/unlabeled/3401.jpg  \n",
            "  inflating: hw2/unlabeled/1893.jpg  \n",
            "  inflating: hw2/unlabeled/1117.jpg  \n",
            "  inflating: hw2/unlabeled/6852.jpg  \n",
            "  inflating: hw2/unlabeled/3832.jpg  \n",
            "  inflating: hw2/unlabeled/1653.jpg  \n",
            "  inflating: hw2/unlabeled/1310.jpg  \n",
            "  inflating: hw2/unlabeled/3854.jpg  \n",
            "  inflating: hw2/unlabeled/2393.jpg  \n",
            "  inflating: hw2/unlabeled/5656.jpg  \n",
            "  inflating: hw2/unlabeled/2833.jpg  \n",
            "  inflating: hw2/unlabeled/1355.jpg  \n",
            "  inflating: hw2/unlabeled/0787.jpg  \n",
            "  inflating: hw2/unlabeled/5389.jpg  \n",
            "  inflating: hw2/unlabeled/2482.jpg  \n",
            "  inflating: hw2/unlabeled/1185.jpg  \n",
            "  inflating: hw2/unlabeled/1891.jpg  \n",
            "  inflating: hw2/unlabeled/0641.jpg  \n",
            "  inflating: hw2/unlabeled/1748.jpg  \n",
            "  inflating: hw2/unlabeled/3663.jpg  \n",
            "  inflating: hw2/unlabeled/0192.jpg  \n",
            "  inflating: hw2/unlabeled/5464.jpg  \n",
            "  inflating: hw2/unlabeled/1858.jpg  \n",
            "  inflating: hw2/unlabeled/0128.jpg  \n",
            "  inflating: hw2/unlabeled/1138.jpg  \n",
            "  inflating: hw2/unlabeled/3510.jpg  \n",
            "  inflating: hw2/unlabeled/2792.jpg  \n",
            "  inflating: hw2/unlabeled/1686.jpg  \n",
            "  inflating: hw2/unlabeled/3972.jpg  \n",
            "  inflating: hw2/unlabeled/1009.jpg  \n",
            "  inflating: hw2/unlabeled/4193.jpg  \n",
            "  inflating: hw2/unlabeled/1115.jpg  \n",
            "  inflating: hw2/unlabeled/2110.jpg  \n",
            "  inflating: hw2/unlabeled/3036.jpg  \n",
            "  inflating: hw2/unlabeled/3822.jpg  \n",
            "  inflating: hw2/unlabeled/2566.jpg  \n",
            "  inflating: hw2/unlabeled/7269.jpg  \n",
            "  inflating: hw2/unlabeled/6824.jpg  \n",
            "  inflating: hw2/unlabeled/2742.jpg  \n",
            "  inflating: hw2/unlabeled/1615.jpg  \n",
            "  inflating: hw2/unlabeled/7236.jpg  \n",
            "  inflating: hw2/unlabeled/3978.jpg  \n",
            "  inflating: hw2/unlabeled/1707.jpg  \n",
            "  inflating: hw2/unlabeled/2480.jpg  \n",
            "  inflating: hw2/unlabeled/5954.jpg  \n",
            "  inflating: hw2/unlabeled/7286.jpg  \n",
            "  inflating: hw2/unlabeled/4816.jpg  \n",
            "  inflating: hw2/unlabeled/5039.jpg  \n",
            "  inflating: hw2/unlabeled/0120.jpg  \n",
            "  inflating: hw2/unlabeled/3257.jpg  \n",
            "  inflating: hw2/unlabeled/6284.jpg  \n",
            "  inflating: hw2/unlabeled/2379.jpg  \n",
            "  inflating: hw2/unlabeled/0484.jpg  \n",
            "  inflating: hw2/unlabeled/3855.jpg  \n",
            "  inflating: hw2/unlabeled/4923.jpg  \n",
            "  inflating: hw2/unlabeled/1917.jpg  \n",
            "  inflating: hw2/unlabeled/4661.jpg  \n",
            "  inflating: hw2/unlabeled/5610.jpg  \n",
            "  inflating: hw2/unlabeled/7235.jpg  \n",
            "  inflating: hw2/unlabeled/3833.jpg  \n",
            "  inflating: hw2/unlabeled/4960.jpg  \n",
            "  inflating: hw2/unlabeled/3905.jpg  \n",
            "  inflating: hw2/unlabeled/4454.jpg  \n",
            "  inflating: hw2/unlabeled/4273.jpg  \n",
            "  inflating: hw2/unlabeled/4376.jpg  \n",
            "  inflating: hw2/unlabeled/7029.jpg  \n",
            "  inflating: hw2/unlabeled/5674.jpg  \n",
            "  inflating: hw2/unlabeled/6070.jpg  \n",
            "  inflating: hw2/unlabeled/0144.jpg  \n",
            "  inflating: hw2/unlabeled/3473.jpg  \n",
            "  inflating: hw2/unlabeled/5082.jpg  \n",
            "  inflating: hw2/unlabeled/3291.jpg  \n",
            "  inflating: hw2/unlabeled/6115.jpg  \n",
            "  inflating: hw2/unlabeled/1804.jpg  \n",
            "  inflating: hw2/unlabeled/7014.jpg  \n",
            "  inflating: hw2/unlabeled/1522.jpg  \n",
            "  inflating: hw2/unlabeled/2681.jpg  \n",
            "  inflating: hw2/unlabeled/1993.jpg  \n",
            "  inflating: hw2/unlabeled/3283.jpg  \n",
            "  inflating: hw2/unlabeled/1971.jpg  \n",
            "  inflating: hw2/unlabeled/0556.jpg  \n",
            "  inflating: hw2/unlabeled/2373.jpg  \n",
            "  inflating: hw2/unlabeled/2041.jpg  \n",
            "  inflating: hw2/unlabeled/6901.jpg  \n",
            "  inflating: hw2/unlabeled/0592.jpg  \n",
            "  inflating: hw2/unlabeled/1889.jpg  \n",
            "  inflating: hw2/unlabeled/2098.jpg  \n",
            "  inflating: hw2/unlabeled/3606.jpg  \n",
            "  inflating: hw2/unlabeled/1112.jpg  \n",
            "  inflating: hw2/unlabeled/0014.jpg  \n",
            "  inflating: hw2/unlabeled/3005.jpg  \n",
            "  inflating: hw2/unlabeled/1585.jpg  \n",
            "  inflating: hw2/unlabeled/6026.jpg  \n",
            "  inflating: hw2/unlabeled/4050.jpg  \n",
            "  inflating: hw2/unlabeled/2146.jpg  \n",
            "  inflating: hw2/unlabeled/0231.jpg  \n",
            "  inflating: hw2/unlabeled/0139.jpg  \n",
            "  inflating: hw2/unlabeled/5721.jpg  \n",
            "  inflating: hw2/unlabeled/0580.jpg  \n",
            "  inflating: hw2/unlabeled/4565.jpg  \n",
            "  inflating: hw2/unlabeled/4489.jpg  \n",
            "  inflating: hw2/unlabeled/5748.jpg  \n",
            "  inflating: hw2/unlabeled/1915.jpg  \n",
            "  inflating: hw2/unlabeled/5745.jpg  \n",
            "  inflating: hw2/unlabeled/3358.jpg  \n",
            "  inflating: hw2/unlabeled/3722.jpg  \n",
            "  inflating: hw2/unlabeled/3106.jpg  \n",
            "  inflating: hw2/unlabeled/1711.jpg  \n",
            "  inflating: hw2/unlabeled/2849.jpg  \n",
            "  inflating: hw2/unlabeled/5178.jpg  \n",
            "  inflating: hw2/unlabeled/4740.jpg  \n",
            "  inflating: hw2/unlabeled/0011.jpg  \n",
            "  inflating: hw2/unlabeled/6701.jpg  \n",
            "  inflating: hw2/unlabeled/5373.jpg  \n",
            "  inflating: hw2/unlabeled/3696.jpg  \n",
            "  inflating: hw2/unlabeled/4196.jpg  \n",
            "  inflating: hw2/unlabeled/2810.jpg  \n",
            "  inflating: hw2/unlabeled/4944.jpg  \n",
            "  inflating: hw2/unlabeled/4482.jpg  \n",
            "  inflating: hw2/unlabeled/3305.jpg  \n",
            "  inflating: hw2/unlabeled/2434.jpg  \n",
            "  inflating: hw2/unlabeled/3267.jpg  \n",
            "  inflating: hw2/unlabeled/3146.jpg  \n",
            "  inflating: hw2/unlabeled/4965.jpg  \n",
            "  inflating: hw2/unlabeled/5296.jpg  \n",
            "  inflating: hw2/unlabeled/2265.jpg  \n",
            "  inflating: hw2/unlabeled/4989.jpg  \n",
            "  inflating: hw2/unlabeled/5513.jpg  \n",
            "  inflating: hw2/unlabeled/6318.jpg  \n",
            "  inflating: hw2/unlabeled/0594.jpg  \n",
            "  inflating: hw2/unlabeled/1763.jpg  \n",
            "  inflating: hw2/unlabeled/3956.jpg  \n",
            "  inflating: hw2/unlabeled/5533.jpg  \n",
            "  inflating: hw2/unlabeled/3995.jpg  \n",
            "  inflating: hw2/unlabeled/2510.jpg  \n",
            "  inflating: hw2/unlabeled/4675.jpg  \n",
            "  inflating: hw2/unlabeled/6025.jpg  \n",
            "  inflating: hw2/unlabeled/4918.jpg  \n",
            "  inflating: hw2/unlabeled/2282.jpg  \n",
            "  inflating: hw2/unlabeled/4784.jpg  \n",
            "  inflating: hw2/unlabeled/5971.jpg  \n",
            "  inflating: hw2/unlabeled/2743.jpg  \n",
            "  inflating: hw2/unlabeled/5706.jpg  \n",
            "  inflating: hw2/unlabeled/4459.jpg  \n",
            "  inflating: hw2/unlabeled/1385.jpg  \n",
            "  inflating: hw2/unlabeled/6053.jpg  \n",
            "  inflating: hw2/unlabeled/6443.jpg  \n",
            "  inflating: hw2/unlabeled/1291.jpg  \n",
            "  inflating: hw2/unlabeled/4811.jpg  \n",
            "  inflating: hw2/unlabeled/3687.jpg  \n",
            "  inflating: hw2/unlabeled/1016.jpg  \n",
            "  inflating: hw2/unlabeled/4364.jpg  \n",
            "  inflating: hw2/unlabeled/5023.jpg  \n",
            "  inflating: hw2/unlabeled/5214.jpg  \n",
            "  inflating: hw2/unlabeled/6166.jpg  \n",
            "  inflating: hw2/unlabeled/0117.jpg  \n",
            "  inflating: hw2/unlabeled/3279.jpg  \n",
            "  inflating: hw2/unlabeled/4598.jpg  \n",
            "  inflating: hw2/unlabeled/0078.jpg  \n",
            "  inflating: hw2/unlabeled/2254.jpg  \n",
            "  inflating: hw2/unlabeled/0196.jpg  \n",
            "  inflating: hw2/unlabeled/0878.jpg  \n",
            "  inflating: hw2/unlabeled/0328.jpg  \n",
            "  inflating: hw2/unlabeled/4503.jpg  \n",
            "  inflating: hw2/unlabeled/6675.jpg  \n",
            "  inflating: hw2/unlabeled/1530.jpg  \n",
            "  inflating: hw2/unlabeled/5443.jpg  \n",
            "  inflating: hw2/unlabeled/1676.jpg  \n",
            "  inflating: hw2/unlabeled/1350.jpg  \n",
            "  inflating: hw2/unlabeled/5926.jpg  \n",
            "  inflating: hw2/unlabeled/2134.jpg  \n",
            "  inflating: hw2/unlabeled/0788.jpg  \n",
            "  inflating: hw2/unlabeled/3151.jpg  \n",
            "  inflating: hw2/unlabeled/4456.jpg  \n",
            "  inflating: hw2/unlabeled/6421.jpg  \n",
            "  inflating: hw2/unlabeled/1034.jpg  \n",
            "  inflating: hw2/unlabeled/0119.jpg  \n",
            "  inflating: hw2/unlabeled/3992.jpg  \n",
            "  inflating: hw2/unlabeled/6238.jpg  \n",
            "  inflating: hw2/unlabeled/1072.jpg  \n",
            "  inflating: hw2/unlabeled/5823.jpg  \n",
            "  inflating: hw2/unlabeled/5342.jpg  \n",
            "  inflating: hw2/unlabeled/5826.jpg  \n",
            "  inflating: hw2/unlabeled/3920.jpg  \n",
            "  inflating: hw2/unlabeled/2649.jpg  \n",
            "  inflating: hw2/unlabeled/0774.jpg  \n",
            "  inflating: hw2/unlabeled/1424.jpg  \n",
            "  inflating: hw2/unlabeled/3562.jpg  \n",
            "  inflating: hw2/unlabeled/4274.jpg  \n",
            "  inflating: hw2/unlabeled/0131.jpg  \n",
            "  inflating: hw2/unlabeled/3900.jpg  \n",
            "  inflating: hw2/unlabeled/4249.jpg  \n",
            "  inflating: hw2/unlabeled/4408.jpg  \n",
            "  inflating: hw2/unlabeled/3695.jpg  \n",
            "  inflating: hw2/unlabeled/0738.jpg  \n",
            "  inflating: hw2/unlabeled/3621.jpg  \n",
            "  inflating: hw2/unlabeled/3505.jpg  \n",
            "  inflating: hw2/unlabeled/4879.jpg  \n",
            "  inflating: hw2/unlabeled/5868.jpg  \n",
            "  inflating: hw2/unlabeled/3933.jpg  \n",
            "  inflating: hw2/unlabeled/4865.jpg  \n",
            "  inflating: hw2/unlabeled/3598.jpg  \n",
            "  inflating: hw2/unlabeled/3810.jpg  \n",
            "  inflating: hw2/unlabeled/1132.jpg  \n",
            "  inflating: hw2/unlabeled/7022.jpg  \n",
            "  inflating: hw2/unlabeled/1199.jpg  \n",
            "  inflating: hw2/unlabeled/1691.jpg  \n",
            "  inflating: hw2/unlabeled/3736.jpg  \n",
            "  inflating: hw2/unlabeled/1678.jpg  \n",
            "  inflating: hw2/unlabeled/4004.jpg  \n",
            "  inflating: hw2/unlabeled/5173.jpg  \n",
            "  inflating: hw2/unlabeled/7041.jpg  \n",
            "  inflating: hw2/unlabeled/2155.jpg  \n",
            "  inflating: hw2/unlabeled/3334.jpg  \n",
            "  inflating: hw2/unlabeled/3226.jpg  \n",
            "  inflating: hw2/unlabeled/1566.jpg  \n",
            "  inflating: hw2/unlabeled/3298.jpg  \n",
            "  inflating: hw2/unlabeled/1079.jpg  \n",
            "  inflating: hw2/unlabeled/5154.jpg  \n",
            "  inflating: hw2/unlabeled/5034.jpg  \n",
            "  inflating: hw2/unlabeled/1734.jpg  \n",
            "  inflating: hw2/unlabeled/6843.jpg  \n",
            "  inflating: hw2/unlabeled/2449.jpg  \n",
            "  inflating: hw2/unlabeled/5957.jpg  \n",
            "  inflating: hw2/unlabeled/6481.jpg  \n",
            "  inflating: hw2/unlabeled/3691.jpg  \n",
            "  inflating: hw2/unlabeled/4063.jpg  \n",
            "  inflating: hw2/unlabeled/4034.jpg  \n",
            "  inflating: hw2/unlabeled/7161.jpg  \n",
            "  inflating: hw2/unlabeled/6003.jpg  \n",
            "  inflating: hw2/unlabeled/0075.jpg  \n",
            "  inflating: hw2/unlabeled/1526.jpg  \n",
            "  inflating: hw2/unlabeled/3136.jpg  \n",
            "  inflating: hw2/unlabeled/5497.jpg  \n",
            "  inflating: hw2/unlabeled/3024.jpg  \n",
            "  inflating: hw2/unlabeled/2964.jpg  \n",
            "  inflating: hw2/unlabeled/6405.jpg  \n",
            "  inflating: hw2/unlabeled/0697.jpg  \n",
            "  inflating: hw2/unlabeled/2147.jpg  \n",
            "  inflating: hw2/unlabeled/2330.jpg  \n",
            "  inflating: hw2/unlabeled/3100.jpg  \n",
            "  inflating: hw2/unlabeled/3459.jpg  \n",
            "  inflating: hw2/unlabeled/2811.jpg  \n",
            "  inflating: hw2/unlabeled/6197.jpg  \n",
            "  inflating: hw2/unlabeled/6016.jpg  \n",
            "  inflating: hw2/unlabeled/1721.jpg  \n",
            "  inflating: hw2/unlabeled/5712.jpg  \n",
            "  inflating: hw2/unlabeled/3874.jpg  \n",
            "  inflating: hw2/unlabeled/3388.jpg  \n",
            "  inflating: hw2/unlabeled/0114.jpg  \n",
            "  inflating: hw2/unlabeled/3229.jpg  \n",
            "  inflating: hw2/unlabeled/5274.jpg  \n",
            "  inflating: hw2/unlabeled/6350.jpg  \n",
            "  inflating: hw2/unlabeled/7085.jpg  \n",
            "  inflating: hw2/unlabeled/2194.jpg  \n",
            "  inflating: hw2/unlabeled/5562.jpg  \n",
            "  inflating: hw2/unlabeled/6716.jpg  \n",
            "  inflating: hw2/unlabeled/4714.jpg  \n",
            "  inflating: hw2/unlabeled/2723.jpg  \n",
            "  inflating: hw2/unlabeled/3928.jpg  \n",
            "  inflating: hw2/unlabeled/3107.jpg  \n",
            "  inflating: hw2/unlabeled/5935.jpg  \n",
            "  inflating: hw2/unlabeled/3025.jpg  \n",
            "  inflating: hw2/unlabeled/4825.jpg  \n",
            "  inflating: hw2/unlabeled/0915.jpg  \n",
            "  inflating: hw2/unlabeled/5253.jpg  \n",
            "  inflating: hw2/unlabeled/4869.jpg  \n",
            "  inflating: hw2/unlabeled/6189.jpg  \n",
            "  inflating: hw2/unlabeled/3403.jpg  \n",
            "  inflating: hw2/unlabeled/6022.jpg  \n",
            "  inflating: hw2/unlabeled/0466.jpg  \n",
            "  inflating: hw2/unlabeled/2508.jpg  \n",
            "  inflating: hw2/unlabeled/1035.jpg  \n",
            "  inflating: hw2/unlabeled/5121.jpg  \n",
            "  inflating: hw2/unlabeled/4197.jpg  \n",
            "  inflating: hw2/unlabeled/5200.jpg  \n",
            "  inflating: hw2/unlabeled/4449.jpg  \n",
            "  inflating: hw2/unlabeled/6768.jpg  \n",
            "  inflating: hw2/unlabeled/2643.jpg  \n",
            "  inflating: hw2/unlabeled/0335.jpg  \n",
            "  inflating: hw2/unlabeled/6043.jpg  \n",
            "  inflating: hw2/unlabeled/4689.jpg  \n",
            "  inflating: hw2/unlabeled/0984.jpg  \n",
            "  inflating: hw2/unlabeled/0308.jpg  \n",
            "  inflating: hw2/unlabeled/0903.jpg  \n",
            "  inflating: hw2/unlabeled/0399.jpg  \n",
            "  inflating: hw2/unlabeled/1714.jpg  \n",
            "  inflating: hw2/unlabeled/0207.jpg  \n",
            "  inflating: hw2/unlabeled/6011.jpg  \n",
            "  inflating: hw2/unlabeled/5453.jpg  \n",
            "  inflating: hw2/unlabeled/1789.jpg  \n",
            "  inflating: hw2/unlabeled/5326.jpg  \n",
            "  inflating: hw2/unlabeled/1195.jpg  \n",
            "  inflating: hw2/unlabeled/4640.jpg  \n",
            "  inflating: hw2/unlabeled/0036.jpg  \n",
            "  inflating: hw2/unlabeled/3449.jpg  \n",
            "  inflating: hw2/unlabeled/4484.jpg  \n",
            "  inflating: hw2/unlabeled/4997.jpg  \n",
            "  inflating: hw2/unlabeled/0682.jpg  \n",
            "  inflating: hw2/unlabeled/7092.jpg  \n",
            "  inflating: hw2/unlabeled/6111.jpg  \n",
            "  inflating: hw2/unlabeled/5858.jpg  \n",
            "  inflating: hw2/unlabeled/0895.jpg  \n",
            "  inflating: hw2/unlabeled/6264.jpg  \n",
            "  inflating: hw2/unlabeled/1361.jpg  \n",
            "  inflating: hw2/unlabeled/5511.jpg  \n",
            "  inflating: hw2/unlabeled/6865.jpg  \n",
            "  inflating: hw2/unlabeled/5583.jpg  \n",
            "  inflating: hw2/unlabeled/1680.jpg  \n",
            "  inflating: hw2/unlabeled/5608.jpg  \n",
            "  inflating: hw2/unlabeled/3743.jpg  \n",
            "  inflating: hw2/unlabeled/1060.jpg  \n",
            "  inflating: hw2/unlabeled/4261.jpg  \n",
            "  inflating: hw2/unlabeled/3120.jpg  \n",
            "  inflating: hw2/unlabeled/6075.jpg  \n",
            "  inflating: hw2/unlabeled/5124.jpg  \n",
            "  inflating: hw2/unlabeled/7099.jpg  \n",
            "  inflating: hw2/unlabeled/0880.jpg  \n",
            "  inflating: hw2/unlabeled/5993.jpg  \n",
            "  inflating: hw2/unlabeled/1187.jpg  \n",
            "  inflating: hw2/unlabeled/4517.jpg  \n",
            "  inflating: hw2/unlabeled/3164.jpg  \n",
            "  inflating: hw2/unlabeled/2384.jpg  \n",
            "  inflating: hw2/unlabeled/3088.jpg  \n",
            "  inflating: hw2/unlabeled/1497.jpg  \n",
            "  inflating: hw2/unlabeled/0208.jpg  \n",
            "  inflating: hw2/unlabeled/2809.jpg  \n",
            "  inflating: hw2/unlabeled/3517.jpg  \n",
            "  inflating: hw2/unlabeled/0831.jpg  \n",
            "  inflating: hw2/unlabeled/6831.jpg  \n",
            "  inflating: hw2/unlabeled/1646.jpg  \n",
            "  inflating: hw2/unlabeled/2600.jpg  \n",
            "  inflating: hw2/unlabeled/3414.jpg  \n",
            "  inflating: hw2/unlabeled/7246.jpg  \n",
            "  inflating: hw2/unlabeled/5098.jpg  \n",
            "  inflating: hw2/unlabeled/3673.jpg  \n",
            "  inflating: hw2/unlabeled/1030.jpg  \n",
            "  inflating: hw2/unlabeled/4434.jpg  \n",
            "  inflating: hw2/unlabeled/4919.jpg  \n",
            "  inflating: hw2/unlabeled/5336.jpg  \n",
            "  inflating: hw2/unlabeled/2293.jpg  \n",
            "  inflating: hw2/unlabeled/3185.jpg  \n",
            "  inflating: hw2/unlabeled/0679.jpg  \n",
            "  inflating: hw2/unlabeled/4323.jpg  \n",
            "  inflating: hw2/unlabeled/4508.jpg  \n",
            "  inflating: hw2/unlabeled/5758.jpg  \n",
            "  inflating: hw2/unlabeled/0813.jpg  \n",
            "  inflating: hw2/unlabeled/7252.jpg  \n",
            "  inflating: hw2/unlabeled/3294.jpg  \n",
            "  inflating: hw2/unlabeled/2559.jpg  \n",
            "  inflating: hw2/unlabeled/2573.jpg  \n",
            "  inflating: hw2/unlabeled/2611.jpg  \n",
            "  inflating: hw2/unlabeled/5158.jpg  \n",
            "  inflating: hw2/unlabeled/3692.jpg  \n",
            "  inflating: hw2/unlabeled/3953.jpg  \n",
            "  inflating: hw2/unlabeled/3247.jpg  \n",
            "  inflating: hw2/unlabeled/0659.jpg  \n",
            "  inflating: hw2/unlabeled/0135.jpg  \n",
            "  inflating: hw2/unlabeled/4677.jpg  \n",
            "  inflating: hw2/unlabeled/3217.jpg  \n",
            "  inflating: hw2/unlabeled/7142.jpg  \n",
            "  inflating: hw2/unlabeled/6876.jpg  \n",
            "  inflating: hw2/unlabeled/4129.jpg  \n",
            "  inflating: hw2/unlabeled/6818.jpg  \n",
            "  inflating: hw2/unlabeled/7247.jpg  \n",
            "  inflating: hw2/unlabeled/5664.jpg  \n",
            "  inflating: hw2/unlabeled/0724.jpg  \n",
            "  inflating: hw2/unlabeled/0492.jpg  \n",
            "  inflating: hw2/unlabeled/0477.jpg  \n",
            "  inflating: hw2/unlabeled/4283.jpg  \n",
            "  inflating: hw2/unlabeled/7264.jpg  \n",
            "  inflating: hw2/unlabeled/5420.jpg  \n",
            "  inflating: hw2/unlabeled/6629.jpg  \n",
            "  inflating: hw2/unlabeled/5969.jpg  \n",
            "  inflating: hw2/unlabeled/0502.jpg  \n",
            "  inflating: hw2/unlabeled/0360.jpg  \n",
            "  inflating: hw2/unlabeled/2116.jpg  \n",
            "  inflating: hw2/unlabeled/3532.jpg  \n",
            "  inflating: hw2/unlabeled/6758.jpg  \n",
            "  inflating: hw2/unlabeled/4884.jpg  \n",
            "  inflating: hw2/unlabeled/6871.jpg  \n",
            "  inflating: hw2/unlabeled/5091.jpg  \n",
            "  inflating: hw2/unlabeled/0777.jpg  \n",
            "  inflating: hw2/unlabeled/2267.jpg  \n",
            "  inflating: hw2/unlabeled/0806.jpg  \n",
            "  inflating: hw2/unlabeled/4374.jpg  \n",
            "  inflating: hw2/unlabeled/2051.jpg  \n",
            "  inflating: hw2/unlabeled/6927.jpg  \n",
            "  inflating: hw2/unlabeled/6655.jpg  \n",
            "  inflating: hw2/unlabeled/1081.jpg  \n",
            "  inflating: hw2/unlabeled/6378.jpg  \n",
            "  inflating: hw2/unlabeled/4818.jpg  \n",
            "  inflating: hw2/unlabeled/5588.jpg  \n",
            "  inflating: hw2/unlabeled/7059.jpg  \n",
            "  inflating: hw2/unlabeled/1916.jpg  \n",
            "  inflating: hw2/unlabeled/5174.jpg  \n",
            "  inflating: hw2/unlabeled/1353.jpg  \n",
            "  inflating: hw2/unlabeled/6067.jpg  \n",
            "  inflating: hw2/unlabeled/1377.jpg  \n",
            "  inflating: hw2/unlabeled/1362.jpg  \n",
            "  inflating: hw2/unlabeled/0375.jpg  \n",
            "  inflating: hw2/unlabeled/3335.jpg  \n",
            "  inflating: hw2/unlabeled/5573.jpg  \n",
            "  inflating: hw2/unlabeled/0275.jpg  \n",
            "  inflating: hw2/unlabeled/5009.jpg  \n",
            "  inflating: hw2/unlabeled/1095.jpg  \n",
            "  inflating: hw2/unlabeled/3347.jpg  \n",
            "  inflating: hw2/unlabeled/5273.jpg  \n",
            "  inflating: hw2/unlabeled/4264.jpg  \n",
            "  inflating: hw2/unlabeled/3349.jpg  \n",
            "  inflating: hw2/unlabeled/0417.jpg  \n",
            "  inflating: hw2/unlabeled/7081.jpg  \n",
            "  inflating: hw2/unlabeled/1425.jpg  \n",
            "  inflating: hw2/unlabeled/1463.jpg  \n",
            "  inflating: hw2/unlabeled/1968.jpg  \n",
            "  inflating: hw2/unlabeled/1022.jpg  \n",
            "  inflating: hw2/unlabeled/4863.jpg  \n",
            "  inflating: hw2/unlabeled/5061.jpg  \n",
            "  inflating: hw2/unlabeled/0520.jpg  \n",
            "  inflating: hw2/unlabeled/6457.jpg  \n",
            "  inflating: hw2/unlabeled/5259.jpg  \n",
            "  inflating: hw2/unlabeled/4185.jpg  \n",
            "  inflating: hw2/unlabeled/0221.jpg  \n",
            "  inflating: hw2/unlabeled/7115.jpg  \n",
            "  inflating: hw2/unlabeled/5302.jpg  \n",
            "  inflating: hw2/unlabeled/5555.jpg  \n",
            "  inflating: hw2/unlabeled/6032.jpg  \n",
            "  inflating: hw2/unlabeled/4389.jpg  \n",
            "  inflating: hw2/unlabeled/4558.jpg  \n",
            "  inflating: hw2/unlabeled/2563.jpg  \n",
            "  inflating: hw2/unlabeled/3740.jpg  \n",
            "  inflating: hw2/unlabeled/5531.jpg  \n",
            "  inflating: hw2/unlabeled/0463.jpg  \n",
            "  inflating: hw2/unlabeled/4064.jpg  \n",
            "  inflating: hw2/unlabeled/7232.jpg  \n",
            "  inflating: hw2/unlabeled/6807.jpg  \n",
            "  inflating: hw2/unlabeled/4202.jpg  \n",
            "  inflating: hw2/unlabeled/4073.jpg  \n",
            "  inflating: hw2/unlabeled/2888.jpg  \n",
            "  inflating: hw2/unlabeled/5587.jpg  \n",
            "  inflating: hw2/unlabeled/5877.jpg  \n",
            "  inflating: hw2/unlabeled/1299.jpg  \n",
            "  inflating: hw2/unlabeled/1116.jpg  \n",
            "  inflating: hw2/unlabeled/6577.jpg  \n",
            "  inflating: hw2/unlabeled/5069.jpg  \n",
            "  inflating: hw2/unlabeled/2897.jpg  \n",
            "  inflating: hw2/unlabeled/5805.jpg  \n",
            "  inflating: hw2/unlabeled/5552.jpg  \n",
            "  inflating: hw2/unlabeled/4769.jpg  \n",
            "  inflating: hw2/unlabeled/6828.jpg  \n",
            "  inflating: hw2/unlabeled/3891.jpg  \n",
            "  inflating: hw2/unlabeled/1084.jpg  \n",
            "  inflating: hw2/unlabeled/5827.jpg  \n",
            "  inflating: hw2/unlabeled/0844.jpg  \n",
            "  inflating: hw2/unlabeled/5883.jpg  \n",
            "  inflating: hw2/unlabeled/3804.jpg  \n",
            "  inflating: hw2/unlabeled/5015.jpg  \n",
            "  inflating: hw2/unlabeled/4946.jpg  \n",
            "  inflating: hw2/unlabeled/3344.jpg  \n",
            "  inflating: hw2/unlabeled/4947.jpg  \n",
            "  inflating: hw2/unlabeled/6135.jpg  \n",
            "  inflating: hw2/unlabeled/5632.jpg  \n",
            "  inflating: hw2/unlabeled/6144.jpg  \n",
            "  inflating: hw2/unlabeled/0834.jpg  \n",
            "  inflating: hw2/unlabeled/1342.jpg  \n",
            "  inflating: hw2/unlabeled/7068.jpg  \n",
            "  inflating: hw2/unlabeled/2278.jpg  \n",
            "  inflating: hw2/unlabeled/5319.jpg  \n",
            "  inflating: hw2/unlabeled/4228.jpg  \n",
            "  inflating: hw2/unlabeled/4635.jpg  \n",
            "  inflating: hw2/unlabeled/0942.jpg  \n",
            "  inflating: hw2/unlabeled/2277.jpg  \n",
            "  inflating: hw2/unlabeled/0651.jpg  \n",
            "  inflating: hw2/unlabeled/7227.jpg  \n",
            "  inflating: hw2/unlabeled/1066.jpg  \n",
            "  inflating: hw2/unlabeled/6181.jpg  \n",
            "  inflating: hw2/unlabeled/3269.jpg  \n",
            "  inflating: hw2/unlabeled/2273.jpg  \n",
            "  inflating: hw2/unlabeled/4666.jpg  \n",
            "  inflating: hw2/unlabeled/1092.jpg  \n",
            "  inflating: hw2/unlabeled/4307.jpg  \n",
            "  inflating: hw2/unlabeled/1836.jpg  \n",
            "  inflating: hw2/unlabeled/4991.jpg  \n",
            "  inflating: hw2/unlabeled/3319.jpg  \n",
            "  inflating: hw2/unlabeled/7215.jpg  \n",
            "  inflating: hw2/unlabeled/0529.jpg  \n",
            "  inflating: hw2/unlabeled/7249.jpg  \n",
            "  inflating: hw2/unlabeled/4864.jpg  \n",
            "  inflating: hw2/unlabeled/1785.jpg  \n",
            "  inflating: hw2/unlabeled/3561.jpg  \n",
            "  inflating: hw2/unlabeled/2266.jpg  \n",
            "  inflating: hw2/unlabeled/5789.jpg  \n",
            "  inflating: hw2/unlabeled/7036.jpg  \n",
            "  inflating: hw2/unlabeled/3469.jpg  \n",
            "  inflating: hw2/unlabeled/5881.jpg  \n",
            "  inflating: hw2/unlabeled/1570.jpg  \n",
            "  inflating: hw2/unlabeled/5088.jpg  \n",
            "  inflating: hw2/unlabeled/1245.jpg  \n",
            "  inflating: hw2/unlabeled/2135.jpg  \n",
            "  inflating: hw2/unlabeled/4949.jpg  \n",
            "  inflating: hw2/unlabeled/6438.jpg  \n",
            "  inflating: hw2/unlabeled/5028.jpg  \n",
            "  inflating: hw2/unlabeled/2660.jpg  \n",
            "  inflating: hw2/unlabeled/0871.jpg  \n",
            "  inflating: hw2/unlabeled/5524.jpg  \n",
            "  inflating: hw2/unlabeled/3183.jpg  \n",
            "  inflating: hw2/unlabeled/6991.jpg  \n",
            "  inflating: hw2/unlabeled/1152.jpg  \n",
            "  inflating: hw2/unlabeled/0175.jpg  \n",
            "  inflating: hw2/unlabeled/7070.jpg  \n",
            "  inflating: hw2/unlabeled/6633.jpg  \n",
            "  inflating: hw2/unlabeled/1501.jpg  \n",
            "  inflating: hw2/unlabeled/4212.jpg  \n",
            "  inflating: hw2/unlabeled/1479.jpg  \n",
            "  inflating: hw2/unlabeled/0028.jpg  \n",
            "  inflating: hw2/unlabeled/4365.jpg  \n",
            "  inflating: hw2/unlabeled/0522.jpg  \n",
            "  inflating: hw2/unlabeled/4563.jpg  \n",
            "  inflating: hw2/unlabeled/6514.jpg  \n",
            "  inflating: hw2/unlabeled/4962.jpg  \n",
            "  inflating: hw2/unlabeled/6188.jpg  \n",
            "  inflating: hw2/unlabeled/3033.jpg  \n",
            "  inflating: hw2/unlabeled/3182.jpg  \n",
            "  inflating: hw2/unlabeled/4188.jpg  \n",
            "  inflating: hw2/unlabeled/0969.jpg  \n",
            "  inflating: hw2/unlabeled/2735.jpg  \n",
            "  inflating: hw2/unlabeled/5358.jpg  \n",
            "  inflating: hw2/unlabeled/1408.jpg  \n",
            "  inflating: hw2/unlabeled/6005.jpg  \n",
            "  inflating: hw2/unlabeled/2783.jpg  \n",
            "  inflating: hw2/unlabeled/2422.jpg  \n",
            "  inflating: hw2/unlabeled/5916.jpg  \n",
            "  inflating: hw2/unlabeled/5834.jpg  \n",
            "  inflating: hw2/unlabeled/5692.jpg  \n",
            "  inflating: hw2/unlabeled/7262.jpg  \n",
            "  inflating: hw2/unlabeled/2751.jpg  \n",
            "  inflating: hw2/unlabeled/4950.jpg  \n",
            "  inflating: hw2/unlabeled/6290.jpg  \n",
            "  inflating: hw2/unlabeled/7216.jpg  \n",
            "  inflating: hw2/unlabeled/0309.jpg  \n",
            "  inflating: hw2/unlabeled/3040.jpg  \n",
            "  inflating: hw2/unlabeled/1059.jpg  \n",
            "  inflating: hw2/unlabeled/3054.jpg  \n",
            "  inflating: hw2/unlabeled/4539.jpg  \n",
            "  inflating: hw2/unlabeled/6809.jpg  \n",
            "  inflating: hw2/unlabeled/2965.jpg  \n",
            "  inflating: hw2/unlabeled/3363.jpg  \n",
            "  inflating: hw2/unlabeled/2394.jpg  \n",
            "  inflating: hw2/unlabeled/3070.jpg  \n",
            "  inflating: hw2/unlabeled/6907.jpg  \n",
            "  inflating: hw2/unlabeled/5037.jpg  \n",
            "  inflating: hw2/unlabeled/0388.jpg  \n",
            "  inflating: hw2/unlabeled/5884.jpg  \n",
            "  inflating: hw2/unlabeled/4033.jpg  \n",
            "  inflating: hw2/unlabeled/4290.jpg  \n",
            "  inflating: hw2/unlabeled/4409.jpg  \n",
            "  inflating: hw2/unlabeled/7136.jpg  \n",
            "  inflating: hw2/unlabeled/6695.jpg  \n",
            "  inflating: hw2/unlabeled/3275.jpg  \n",
            "  inflating: hw2/unlabeled/3543.jpg  \n",
            "  inflating: hw2/unlabeled/0368.jpg  \n",
            "  inflating: hw2/unlabeled/5810.jpg  \n",
            "  inflating: hw2/unlabeled/2505.jpg  \n",
            "  inflating: hw2/unlabeled/2339.jpg  \n",
            "  inflating: hw2/unlabeled/1499.jpg  \n",
            "  inflating: hw2/unlabeled/6670.jpg  \n",
            "  inflating: hw2/unlabeled/0922.jpg  \n",
            "  inflating: hw2/unlabeled/6139.jpg  \n",
            "  inflating: hw2/unlabeled/4927.jpg  \n",
            "  inflating: hw2/unlabeled/4591.jpg  \n",
            "  inflating: hw2/unlabeled/2908.jpg  \n",
            "  inflating: hw2/unlabeled/5122.jpg  \n",
            "  inflating: hw2/unlabeled/5013.jpg  \n",
            "  inflating: hw2/unlabeled/3198.jpg  \n",
            "  inflating: hw2/unlabeled/6772.jpg  \n",
            "  inflating: hw2/unlabeled/6221.jpg  \n",
            "  inflating: hw2/unlabeled/5175.jpg  \n",
            "  inflating: hw2/unlabeled/0657.jpg  \n",
            "  inflating: hw2/unlabeled/0576.jpg  \n",
            "  inflating: hw2/unlabeled/4776.jpg  \n",
            "  inflating: hw2/unlabeled/0311.jpg  \n",
            "  inflating: hw2/unlabeled/4945.jpg  \n",
            "  inflating: hw2/unlabeled/0668.jpg  \n",
            "  inflating: hw2/unlabeled/2927.jpg  \n",
            "  inflating: hw2/unlabeled/2241.jpg  \n",
            "  inflating: hw2/unlabeled/0838.jpg  \n",
            "  inflating: hw2/unlabeled/0079.jpg  \n",
            "  inflating: hw2/unlabeled/0041.jpg  \n",
            "  inflating: hw2/unlabeled/2005.jpg  \n",
            "  inflating: hw2/unlabeled/6476.jpg  \n",
            "  inflating: hw2/unlabeled/0900.jpg  \n",
            "  inflating: hw2/unlabeled/5187.jpg  \n",
            "  inflating: hw2/unlabeled/1897.jpg  \n",
            "  inflating: hw2/unlabeled/3885.jpg  \n",
            "  inflating: hw2/unlabeled/1213.jpg  \n",
            "  inflating: hw2/unlabeled/5594.jpg  \n",
            "  inflating: hw2/unlabeled/0433.jpg  \n",
            "  inflating: hw2/unlabeled/0270.jpg  \n",
            "  inflating: hw2/unlabeled/3233.jpg  \n",
            "  inflating: hw2/unlabeled/1108.jpg  \n",
            "  inflating: hw2/unlabeled/0018.jpg  \n",
            "  inflating: hw2/unlabeled/2867.jpg  \n",
            "  inflating: hw2/unlabeled/3243.jpg  \n",
            "  inflating: hw2/unlabeled/2502.jpg  \n",
            "  inflating: hw2/unlabeled/6268.jpg  \n",
            "  inflating: hw2/unlabeled/4370.jpg  \n",
            "  inflating: hw2/unlabeled/0053.jpg  \n",
            "  inflating: hw2/unlabeled/3432.jpg  \n",
            "  inflating: hw2/unlabeled/0188.jpg  \n",
            "  inflating: hw2/unlabeled/5063.jpg  \n",
            "  inflating: hw2/unlabeled/3665.jpg  \n",
            "  inflating: hw2/unlabeled/0449.jpg  \n",
            "  inflating: hw2/unlabeled/5987.jpg  \n",
            "  inflating: hw2/unlabeled/1936.jpg  \n",
            "  inflating: hw2/unlabeled/2279.jpg  \n",
            "  inflating: hw2/unlabeled/1538.jpg  \n",
            "  inflating: hw2/unlabeled/5793.jpg  \n",
            "  inflating: hw2/unlabeled/4705.jpg  \n",
            "  inflating: hw2/unlabeled/3030.jpg  \n",
            "  inflating: hw2/unlabeled/5839.jpg  \n",
            "  inflating: hw2/unlabeled/5125.jpg  \n",
            "  inflating: hw2/unlabeled/5427.jpg  \n",
            "  inflating: hw2/unlabeled/6738.jpg  \n",
            "  inflating: hw2/unlabeled/6169.jpg  \n",
            "  inflating: hw2/unlabeled/5227.jpg  \n",
            "  inflating: hw2/unlabeled/1038.jpg  \n",
            "  inflating: hw2/unlabeled/6601.jpg  \n",
            "  inflating: hw2/unlabeled/2369.jpg  \n",
            "  inflating: hw2/unlabeled/0294.jpg  \n",
            "  inflating: hw2/unlabeled/1927.jpg  \n",
            "  inflating: hw2/unlabeled/4805.jpg  \n",
            "  inflating: hw2/unlabeled/6857.jpg  \n",
            "  inflating: hw2/unlabeled/1553.jpg  \n",
            "  inflating: hw2/unlabeled/1796.jpg  \n",
            "  inflating: hw2/unlabeled/2463.jpg  \n",
            "  inflating: hw2/unlabeled/6970.jpg  \n",
            "  inflating: hw2/unlabeled/4322.jpg  \n",
            "  inflating: hw2/unlabeled/5792.jpg  \n",
            "  inflating: hw2/unlabeled/6707.jpg  \n",
            "  inflating: hw2/unlabeled/4311.jpg  \n",
            "  inflating: hw2/unlabeled/3597.jpg  \n",
            "  inflating: hw2/unlabeled/1214.jpg  \n",
            "  inflating: hw2/unlabeled/4593.jpg  \n",
            "  inflating: hw2/unlabeled/5126.jpg  \n",
            "  inflating: hw2/unlabeled/3299.jpg  \n",
            "  inflating: hw2/unlabeled/6071.jpg  \n",
            "  inflating: hw2/unlabeled/5112.jpg  \n",
            "  inflating: hw2/unlabeled/2483.jpg  \n",
            "  inflating: hw2/unlabeled/2900.jpg  \n",
            "  inflating: hw2/unlabeled/4402.jpg  \n",
            "  inflating: hw2/unlabeled/1912.jpg  \n",
            "  inflating: hw2/unlabeled/0197.jpg  \n",
            "  inflating: hw2/unlabeled/3789.jpg  \n",
            "  inflating: hw2/unlabeled/7005.jpg  \n",
            "  inflating: hw2/unlabeled/2177.jpg  \n",
            "  inflating: hw2/unlabeled/5744.jpg  \n",
            "  inflating: hw2/unlabeled/3834.jpg  \n",
            "  inflating: hw2/unlabeled/1537.jpg  \n",
            "  inflating: hw2/unlabeled/3430.jpg  \n",
            "  inflating: hw2/unlabeled/2256.jpg  \n",
            "  inflating: hw2/unlabeled/0162.jpg  \n",
            "  inflating: hw2/unlabeled/2168.jpg  \n",
            "  inflating: hw2/unlabeled/6297.jpg  \n",
            "  inflating: hw2/unlabeled/3011.jpg  \n",
            "  inflating: hw2/unlabeled/3272.jpg  \n",
            "  inflating: hw2/unlabeled/4667.jpg  \n",
            "  inflating: hw2/unlabeled/2205.jpg  \n",
            "  inflating: hw2/unlabeled/4663.jpg  \n",
            "  inflating: hw2/unlabeled/2551.jpg  \n",
            "  inflating: hw2/unlabeled/5896.jpg  \n",
            "  inflating: hw2/unlabeled/4878.jpg  \n",
            "  inflating: hw2/unlabeled/6269.jpg  \n",
            "  inflating: hw2/unlabeled/1182.jpg  \n",
            "  inflating: hw2/unlabeled/3666.jpg  \n",
            "  inflating: hw2/unlabeled/5551.jpg  \n",
            "  inflating: hw2/unlabeled/3767.jpg  \n",
            "  inflating: hw2/unlabeled/3922.jpg  \n",
            "  inflating: hw2/unlabeled/4295.jpg  \n",
            "  inflating: hw2/unlabeled/3043.jpg  \n",
            "  inflating: hw2/unlabeled/7288.jpg  \n",
            "  inflating: hw2/unlabeled/6486.jpg  \n",
            "  inflating: hw2/unlabeled/5312.jpg  \n",
            "  inflating: hw2/unlabeled/0080.jpg  \n",
            "  inflating: hw2/unlabeled/6140.jpg  \n",
            "  inflating: hw2/unlabeled/3607.jpg  \n",
            "  inflating: hw2/unlabeled/0734.jpg  \n",
            "  inflating: hw2/unlabeled/5732.jpg  \n",
            "  inflating: hw2/unlabeled/2765.jpg  \n",
            "  inflating: hw2/unlabeled/0252.jpg  \n",
            "  inflating: hw2/unlabeled/3615.jpg  \n",
            "  inflating: hw2/unlabeled/1887.jpg  \n",
            "  inflating: hw2/unlabeled/6765.jpg  \n",
            "  inflating: hw2/unlabeled/4510.jpg  \n",
            "  inflating: hw2/unlabeled/5548.jpg  \n",
            "  inflating: hw2/unlabeled/1988.jpg  \n",
            "  inflating: hw2/unlabeled/0413.jpg  \n",
            "  inflating: hw2/unlabeled/4107.jpg  \n",
            "  inflating: hw2/unlabeled/6641.jpg  \n",
            "  inflating: hw2/unlabeled/5004.jpg  \n",
            "  inflating: hw2/unlabeled/5584.jpg  \n",
            "  inflating: hw2/unlabeled/6066.jpg  \n",
            "  inflating: hw2/unlabeled/1702.jpg  \n",
            "  inflating: hw2/unlabeled/1639.jpg  \n",
            "  inflating: hw2/unlabeled/0048.jpg  \n",
            "  inflating: hw2/unlabeled/0290.jpg  \n",
            "  inflating: hw2/unlabeled/5752.jpg  \n",
            "  inflating: hw2/unlabeled/4630.jpg  \n",
            "  inflating: hw2/unlabeled/0002.jpg  \n",
            "  inflating: hw2/unlabeled/5116.jpg  \n",
            "  inflating: hw2/unlabeled/6291.jpg  \n",
            "  inflating: hw2/unlabeled/2740.jpg  \n",
            "  inflating: hw2/unlabeled/4411.jpg  \n",
            "  inflating: hw2/unlabeled/6322.jpg  \n",
            "  inflating: hw2/unlabeled/2039.jpg  \n",
            "  inflating: hw2/unlabeled/2088.jpg  \n",
            "  inflating: hw2/unlabeled/6976.jpg  \n",
            "  inflating: hw2/unlabeled/4399.jpg  \n",
            "  inflating: hw2/unlabeled/0068.jpg  \n",
            "  inflating: hw2/unlabeled/2702.jpg  \n",
            "  inflating: hw2/unlabeled/4478.jpg  \n",
            "  inflating: hw2/unlabeled/6592.jpg  \n",
            "  inflating: hw2/unlabeled/5597.jpg  \n",
            "  inflating: hw2/unlabeled/5432.jpg  \n",
            "  inflating: hw2/unlabeled/0445.jpg  \n",
            "  inflating: hw2/unlabeled/2236.jpg  \n",
            "  inflating: hw2/unlabeled/7089.jpg  \n",
            "  inflating: hw2/unlabeled/4638.jpg  \n",
            "  inflating: hw2/unlabeled/5557.jpg  \n",
            "  inflating: hw2/unlabeled/0322.jpg  \n",
            "  inflating: hw2/unlabeled/0035.jpg  \n",
            "  inflating: hw2/unlabeled/0938.jpg  \n",
            "  inflating: hw2/unlabeled/1944.jpg  \n",
            "  inflating: hw2/unlabeled/4394.jpg  \n",
            "  inflating: hw2/unlabeled/0069.jpg  \n",
            "  inflating: hw2/unlabeled/6635.jpg  \n",
            "  inflating: hw2/unlabeled/7044.jpg  \n",
            "  inflating: hw2/unlabeled/5219.jpg  \n",
            "  inflating: hw2/unlabeled/4118.jpg  \n",
            "  inflating: hw2/unlabeled/3099.jpg  \n",
            "  inflating: hw2/unlabeled/4868.jpg  \n",
            "  inflating: hw2/unlabeled/6183.jpg  \n",
            "  inflating: hw2/unlabeled/1607.jpg  \n",
            "  inflating: hw2/unlabeled/0910.jpg  \n",
            "  inflating: hw2/unlabeled/1765.jpg  \n",
            "  inflating: hw2/unlabeled/5012.jpg  \n",
            "  inflating: hw2/unlabeled/0050.jpg  \n",
            "  inflating: hw2/unlabeled/0015.jpg  \n",
            "  inflating: hw2/unlabeled/1782.jpg  \n",
            "  inflating: hw2/unlabeled/5220.jpg  \n",
            "  inflating: hw2/unlabeled/2632.jpg  \n",
            "  inflating: hw2/unlabeled/1198.jpg  \n",
            "  inflating: hw2/unlabeled/5152.jpg  \n",
            "  inflating: hw2/unlabeled/0469.jpg  \n",
            "  inflating: hw2/unlabeled/4182.jpg  \n",
            "  inflating: hw2/unlabeled/1484.jpg  \n",
            "  inflating: hw2/unlabeled/2359.jpg  \n",
            "  inflating: hw2/unlabeled/3700.jpg  \n",
            "  inflating: hw2/unlabeled/5298.jpg  \n",
            "  inflating: hw2/unlabeled/3373.jpg  \n",
            "  inflating: hw2/unlabeled/5641.jpg  \n",
            "  inflating: hw2/unlabeled/3701.jpg  \n",
            "  inflating: hw2/unlabeled/1457.jpg  \n",
            "  inflating: hw2/unlabeled/1818.jpg  \n",
            "  inflating: hw2/unlabeled/6921.jpg  \n",
            "  inflating: hw2/unlabeled/7180.jpg  \n",
            "  inflating: hw2/unlabeled/5409.jpg  \n",
            "  inflating: hw2/unlabeled/5709.jpg  \n",
            "  inflating: hw2/unlabeled/6367.jpg  \n",
            "  inflating: hw2/unlabeled/6724.jpg  \n",
            "  inflating: hw2/unlabeled/1755.jpg  \n",
            "  inflating: hw2/unlabeled/2160.jpg  \n",
            "  inflating: hw2/unlabeled/4492.jpg  \n",
            "  inflating: hw2/unlabeled/4755.jpg  \n",
            "  inflating: hw2/unlabeled/7088.jpg  \n",
            "  inflating: hw2/unlabeled/3138.jpg  \n",
            "  inflating: hw2/unlabeled/0470.jpg  \n",
            "  inflating: hw2/unlabeled/1329.jpg  \n",
            "  inflating: hw2/unlabeled/0145.jpg  \n",
            "  inflating: hw2/unlabeled/5922.jpg  \n",
            "  inflating: hw2/unlabeled/3584.jpg  \n",
            "  inflating: hw2/unlabeled/7164.jpg  \n",
            "  inflating: hw2/unlabeled/1207.jpg  \n",
            "  inflating: hw2/unlabeled/6582.jpg  \n",
            "  inflating: hw2/unlabeled/3614.jpg  \n",
            "  inflating: hw2/unlabeled/6240.jpg  \n",
            "  inflating: hw2/unlabeled/0103.jpg  \n",
            "  inflating: hw2/unlabeled/4426.jpg  \n",
            "  inflating: hw2/unlabeled/6207.jpg  \n",
            "  inflating: hw2/unlabeled/2179.jpg  \n",
            "  inflating: hw2/unlabeled/5646.jpg  \n",
            "  inflating: hw2/unlabeled/3863.jpg  \n",
            "  inflating: hw2/unlabeled/5153.jpg  \n",
            "  inflating: hw2/unlabeled/1510.jpg  \n",
            "  inflating: hw2/unlabeled/2650.jpg  \n",
            "  inflating: hw2/unlabeled/3840.jpg  \n",
            "  inflating: hw2/unlabeled/4354.jpg  \n",
            "  inflating: hw2/unlabeled/4496.jpg  \n",
            "  inflating: hw2/unlabeled/1433.jpg  \n",
            "  inflating: hw2/unlabeled/6989.jpg  \n",
            "  inflating: hw2/unlabeled/3056.jpg  \n",
            "  inflating: hw2/unlabeled/0160.jpg  \n",
            "  inflating: hw2/unlabeled/2476.jpg  \n",
            "  inflating: hw2/unlabeled/4712.jpg  \n",
            "  inflating: hw2/unlabeled/3026.jpg  \n",
            "  inflating: hw2/unlabeled/0635.jpg  \n",
            "  inflating: hw2/unlabeled/1130.jpg  \n",
            "  inflating: hw2/unlabeled/5996.jpg  \n",
            "  inflating: hw2/unlabeled/5270.jpg  \n",
            "  inflating: hw2/unlabeled/3564.jpg  \n",
            "  inflating: hw2/unlabeled/6482.jpg  \n",
            "  inflating: hw2/unlabeled/2614.jpg  \n",
            "  inflating: hw2/unlabeled/6409.jpg  \n",
            "  inflating: hw2/unlabeled/2680.jpg  \n",
            "  inflating: hw2/unlabeled/6759.jpg  \n",
            "  inflating: hw2/unlabeled/5606.jpg  \n",
            "  inflating: hw2/unlabeled/6543.jpg  \n",
            "  inflating: hw2/unlabeled/2068.jpg  \n",
            "  inflating: hw2/unlabeled/4744.jpg  \n",
            "  inflating: hw2/unlabeled/4430.jpg  \n",
            "  inflating: hw2/unlabeled/1405.jpg  \n",
            "  inflating: hw2/unlabeled/4847.jpg  \n",
            "  inflating: hw2/unlabeled/3481.jpg  \n",
            "  inflating: hw2/unlabeled/5702.jpg  \n",
            "  inflating: hw2/unlabeled/2136.jpg  \n",
            "  inflating: hw2/unlabeled/2626.jpg  \n",
            "  inflating: hw2/unlabeled/3897.jpg  \n",
            "  inflating: hw2/unlabeled/2398.jpg  \n",
            "  inflating: hw2/unlabeled/0138.jpg  \n",
            "  inflating: hw2/unlabeled/3438.jpg  \n",
            "  inflating: hw2/unlabeled/0334.jpg  \n",
            "  inflating: hw2/unlabeled/4025.jpg  \n",
            "  inflating: hw2/unlabeled/3159.jpg  \n",
            "  inflating: hw2/unlabeled/6974.jpg  \n",
            "  inflating: hw2/unlabeled/3256.jpg  \n",
            "  inflating: hw2/unlabeled/4629.jpg  \n",
            "  inflating: hw2/unlabeled/3180.jpg  \n",
            "  inflating: hw2/unlabeled/6898.jpg  \n",
            "  inflating: hw2/unlabeled/6456.jpg  \n",
            "  inflating: hw2/unlabeled/5416.jpg  \n",
            "  inflating: hw2/unlabeled/3522.jpg  \n",
            "  inflating: hw2/unlabeled/3191.jpg  \n",
            "  inflating: hw2/unlabeled/7147.jpg  \n",
            "  inflating: hw2/unlabeled/5466.jpg  \n",
            "  inflating: hw2/unlabeled/1825.jpg  \n",
            "  inflating: hw2/unlabeled/0170.jpg  \n",
            "  inflating: hw2/unlabeled/2899.jpg  \n",
            "  inflating: hw2/unlabeled/1333.jpg  \n",
            "  inflating: hw2/unlabeled/5117.jpg  \n",
            "  inflating: hw2/unlabeled/0271.jpg  \n",
            "  inflating: hw2/unlabeled/3779.jpg  \n",
            "  inflating: hw2/unlabeled/3441.jpg  \n",
            "  inflating: hw2/unlabeled/6262.jpg  \n",
            "  inflating: hw2/unlabeled/5325.jpg  \n",
            "  inflating: hw2/unlabeled/0148.jpg  \n",
            "  inflating: hw2/unlabeled/4405.jpg  \n",
            "  inflating: hw2/unlabeled/6944.jpg  \n",
            "  inflating: hw2/unlabeled/6396.jpg  \n",
            "  inflating: hw2/unlabeled/6604.jpg  \n",
            "  inflating: hw2/unlabeled/1962.jpg  \n",
            "  inflating: hw2/unlabeled/2218.jpg  \n",
            "  inflating: hw2/unlabeled/7083.jpg  \n",
            "  inflating: hw2/unlabeled/2264.jpg  \n",
            "  inflating: hw2/unlabeled/4914.jpg  \n",
            "  inflating: hw2/unlabeled/6332.jpg  \n",
            "  inflating: hw2/unlabeled/0465.jpg  \n",
            "  inflating: hw2/unlabeled/5768.jpg  \n",
            "  inflating: hw2/unlabeled/2187.jpg  \n",
            "  inflating: hw2/unlabeled/2347.jpg  \n",
            "  inflating: hw2/unlabeled/6117.jpg  \n",
            "  inflating: hw2/unlabeled/6298.jpg  \n",
            "  inflating: hw2/unlabeled/0377.jpg  \n",
            "  inflating: hw2/unlabeled/1288.jpg  \n",
            "  inflating: hw2/unlabeled/3376.jpg  \n",
            "  inflating: hw2/unlabeled/0677.jpg  \n",
            "  inflating: hw2/unlabeled/3798.jpg  \n",
            "  inflating: hw2/unlabeled/7194.jpg  \n",
            "  inflating: hw2/unlabeled/6118.jpg  \n",
            "  inflating: hw2/unlabeled/5239.jpg  \n",
            "  inflating: hw2/unlabeled/0493.jpg  \n",
            "  inflating: hw2/unlabeled/2206.jpg  \n",
            "  inflating: hw2/unlabeled/6717.jpg  \n",
            "  inflating: hw2/unlabeled/2610.jpg  \n",
            "  inflating: hw2/unlabeled/2000.jpg  \n",
            "  inflating: hw2/unlabeled/2507.jpg  \n",
            "  inflating: hw2/unlabeled/2232.jpg  \n",
            "  inflating: hw2/unlabeled/5499.jpg  \n",
            "  inflating: hw2/unlabeled/2828.jpg  \n",
            "  inflating: hw2/unlabeled/1043.jpg  \n",
            "  inflating: hw2/unlabeled/5040.jpg  \n",
            "  inflating: hw2/unlabeled/7063.jpg  \n",
            "  inflating: hw2/unlabeled/1020.jpg  \n",
            "  inflating: hw2/unlabeled/2095.jpg  \n",
            "  inflating: hw2/unlabeled/5467.jpg  \n",
            "  inflating: hw2/unlabeled/4560.jpg  \n",
            "  inflating: hw2/unlabeled/0071.jpg  \n",
            "  inflating: hw2/unlabeled/3017.jpg  \n",
            "  inflating: hw2/unlabeled/4937.jpg  \n",
            "  inflating: hw2/unlabeled/7049.jpg  \n",
            "  inflating: hw2/unlabeled/3711.jpg  \n",
            "  inflating: hw2/unlabeled/0010.jpg  \n",
            "  inflating: hw2/unlabeled/4013.jpg  \n",
            "  inflating: hw2/unlabeled/3809.jpg  \n",
            "  inflating: hw2/unlabeled/6196.jpg  \n",
            "  inflating: hw2/unlabeled/3582.jpg  \n",
            "  inflating: hw2/unlabeled/1564.jpg  \n",
            "  inflating: hw2/unlabeled/4833.jpg  \n",
            "  inflating: hw2/unlabeled/6931.jpg  \n",
            "  inflating: hw2/unlabeled/1446.jpg  \n",
            "  inflating: hw2/unlabeled/4040.jpg  \n",
            "  inflating: hw2/unlabeled/2755.jpg  \n",
            "  inflating: hw2/unlabeled/5700.jpg  \n",
            "  inflating: hw2/unlabeled/3929.jpg  \n",
            "  inflating: hw2/unlabeled/6821.jpg  \n",
            "  inflating: hw2/unlabeled/5240.jpg  \n",
            "  inflating: hw2/unlabeled/1075.jpg  \n",
            "  inflating: hw2/unlabeled/6731.jpg  \n",
            "  inflating: hw2/unlabeled/3927.jpg  \n",
            "  inflating: hw2/unlabeled/0337.jpg  \n",
            "  inflating: hw2/unlabeled/2923.jpg  \n",
            "  inflating: hw2/unlabeled/3408.jpg  \n",
            "  inflating: hw2/unlabeled/5451.jpg  \n",
            "  inflating: hw2/unlabeled/6706.jpg  \n",
            "  inflating: hw2/unlabeled/3265.jpg  \n",
            "  inflating: hw2/unlabeled/5093.jpg  \n",
            "  inflating: hw2/unlabeled/4287.jpg  \n",
            "  inflating: hw2/unlabeled/6708.jpg  \n",
            "  inflating: hw2/unlabeled/5581.jpg  \n",
            "  inflating: hw2/unlabeled/4509.jpg  \n",
            "  inflating: hw2/unlabeled/3374.jpg  \n",
            "  inflating: hw2/unlabeled/5430.jpg  \n",
            "  inflating: hw2/unlabeled/1290.jpg  \n",
            "  inflating: hw2/unlabeled/7275.jpg  \n",
            "  inflating: hw2/unlabeled/1523.jpg  \n",
            "  inflating: hw2/unlabeled/4659.jpg  \n",
            "  inflating: hw2/unlabeled/1064.jpg  \n",
            "  inflating: hw2/unlabeled/2534.jpg  \n",
            "  inflating: hw2/unlabeled/3163.jpg  \n",
            "  inflating: hw2/unlabeled/0203.jpg  \n",
            "  inflating: hw2/unlabeled/2397.jpg  \n",
            "  inflating: hw2/unlabeled/1880.jpg  \n",
            "  inflating: hw2/unlabeled/3406.jpg  \n",
            "  inflating: hw2/unlabeled/3223.jpg  \n",
            "  inflating: hw2/unlabeled/1335.jpg  \n",
            "  inflating: hw2/unlabeled/4957.jpg  \n",
            "  inflating: hw2/unlabeled/5314.jpg  \n",
            "  inflating: hw2/unlabeled/5390.jpg  \n",
            "  inflating: hw2/unlabeled/6980.jpg  \n",
            "  inflating: hw2/unlabeled/1436.jpg  \n",
            "  inflating: hw2/unlabeled/5414.jpg  \n",
            "  inflating: hw2/unlabeled/5171.jpg  \n",
            "  inflating: hw2/unlabeled/1635.jpg  \n",
            "  inflating: hw2/unlabeled/1222.jpg  \n",
            "  inflating: hw2/unlabeled/6958.jpg  \n",
            "  inflating: hw2/unlabeled/0570.jpg  \n",
            "  inflating: hw2/unlabeled/5525.jpg  \n",
            "  inflating: hw2/unlabeled/1402.jpg  \n",
            "  inflating: hw2/unlabeled/5704.jpg  \n",
            "  inflating: hw2/unlabeled/0949.jpg  \n",
            "  inflating: hw2/unlabeled/6099.jpg  \n",
            "  inflating: hw2/unlabeled/5965.jpg  \n",
            "  inflating: hw2/unlabeled/6968.jpg  \n",
            "  inflating: hw2/unlabeled/0773.jpg  \n",
            "  inflating: hw2/unlabeled/3418.jpg  \n",
            "  inflating: hw2/unlabeled/1140.jpg  \n",
            "  inflating: hw2/unlabeled/0218.jpg  \n",
            "  inflating: hw2/unlabeled/4269.jpg  \n",
            "  inflating: hw2/unlabeled/1262.jpg  \n",
            "  inflating: hw2/unlabeled/3325.jpg  \n",
            "  inflating: hw2/unlabeled/0281.jpg  \n",
            "  inflating: hw2/unlabeled/3321.jpg  \n",
            "  inflating: hw2/unlabeled/0585.jpg  \n",
            "  inflating: hw2/unlabeled/2789.jpg  \n",
            "  inflating: hw2/unlabeled/5139.jpg  \n",
            "  inflating: hw2/unlabeled/6498.jpg  \n",
            "  inflating: hw2/unlabeled/5303.jpg  \n",
            "  inflating: hw2/unlabeled/1529.jpg  \n",
            "  inflating: hw2/unlabeled/1625.jpg  \n",
            "  inflating: hw2/unlabeled/6842.jpg  \n",
            "  inflating: hw2/unlabeled/7023.jpg  \n",
            "  inflating: hw2/unlabeled/1899.jpg  \n",
            "  inflating: hw2/unlabeled/5089.jpg  \n",
            "  inflating: hw2/unlabeled/7225.jpg  \n",
            "  inflating: hw2/unlabeled/5541.jpg  \n",
            "  inflating: hw2/unlabeled/3143.jpg  \n",
            "  inflating: hw2/unlabeled/5111.jpg  \n",
            "  inflating: hw2/unlabeled/6932.jpg  \n",
            "  inflating: hw2/unlabeled/4935.jpg  \n",
            "  inflating: hw2/unlabeled/5338.jpg  \n",
            "  inflating: hw2/unlabeled/1481.jpg  \n",
            "  inflating: hw2/unlabeled/4616.jpg  \n",
            "  inflating: hw2/unlabeled/0272.jpg  \n",
            "  inflating: hw2/unlabeled/6287.jpg  \n",
            "  inflating: hw2/unlabeled/2890.jpg  \n",
            "  inflating: hw2/unlabeled/5057.jpg  \n",
            "  inflating: hw2/unlabeled/5431.jpg  \n",
            "  inflating: hw2/unlabeled/0530.jpg  \n",
            "  inflating: hw2/unlabeled/0980.jpg  \n",
            "  inflating: hw2/unlabeled/1263.jpg  \n",
            "  inflating: hw2/unlabeled/4377.jpg  \n",
            "  inflating: hw2/unlabeled/6963.jpg  \n",
            "  inflating: hw2/unlabeled/0265.jpg  \n",
            "  inflating: hw2/unlabeled/4217.jpg  \n",
            "  inflating: hw2/unlabeled/2332.jpg  \n",
            "  inflating: hw2/unlabeled/4722.jpg  \n",
            "  inflating: hw2/unlabeled/3444.jpg  \n",
            "  inflating: hw2/unlabeled/3318.jpg  \n",
            "  inflating: hw2/unlabeled/1750.jpg  \n",
            "  inflating: hw2/unlabeled/5263.jpg  \n",
            "  inflating: hw2/unlabeled/1366.jpg  \n",
            "  inflating: hw2/unlabeled/3531.jpg  \n",
            "  inflating: hw2/unlabeled/0754.jpg  \n",
            "  inflating: hw2/unlabeled/1264.jpg  \n",
            "  inflating: hw2/unlabeled/6888.jpg  \n",
            "  inflating: hw2/unlabeled/0943.jpg  \n",
            "  inflating: hw2/unlabeled/3451.jpg  \n",
            "  inflating: hw2/unlabeled/5374.jpg  \n",
            "  inflating: hw2/unlabeled/6467.jpg  \n",
            "  inflating: hw2/unlabeled/0356.jpg  \n",
            "  inflating: hw2/unlabeled/6244.jpg  \n",
            "  inflating: hw2/unlabeled/0157.jpg  \n",
            "  inflating: hw2/unlabeled/4987.jpg  \n",
            "  inflating: hw2/unlabeled/2315.jpg  \n",
            "  inflating: hw2/unlabeled/3944.jpg  \n",
            "  inflating: hw2/unlabeled/3899.jpg  \n",
            "  inflating: hw2/unlabeled/3098.jpg  \n",
            "  inflating: hw2/unlabeled/7109.jpg  \n",
            "  inflating: hw2/unlabeled/4536.jpg  \n",
            "  inflating: hw2/unlabeled/1494.jpg  \n",
            "  inflating: hw2/unlabeled/1223.jpg  \n",
            "  inflating: hw2/unlabeled/7039.jpg  \n",
            "  inflating: hw2/unlabeled/3826.jpg  \n",
            "  inflating: hw2/unlabeled/5657.jpg  \n",
            "  inflating: hw2/unlabeled/0599.jpg  \n",
            "  inflating: hw2/unlabeled/7270.jpg  \n",
            "  inflating: hw2/unlabeled/4003.jpg  \n",
            "  inflating: hw2/unlabeled/0085.jpg  \n",
            "  inflating: hw2/unlabeled/2452.jpg  \n",
            "  inflating: hw2/unlabeled/5144.jpg  \n",
            "  inflating: hw2/unlabeled/2248.jpg  \n",
            "  inflating: hw2/unlabeled/3387.jpg  \n",
            "  inflating: hw2/unlabeled/6600.jpg  \n",
            "  inflating: hw2/unlabeled/5095.jpg  \n",
            "  inflating: hw2/unlabeled/2790.jpg  \n",
            "  inflating: hw2/unlabeled/6639.jpg  \n",
            "  inflating: hw2/unlabeled/1073.jpg  \n",
            "  inflating: hw2/unlabeled/4149.jpg  \n",
            "  inflating: hw2/unlabeled/6397.jpg  \n",
            "  inflating: hw2/unlabeled/0202.jpg  \n",
            "  inflating: hw2/unlabeled/0732.jpg  \n",
            "  inflating: hw2/unlabeled/4015.jpg  \n",
            "  inflating: hw2/unlabeled/6272.jpg  \n",
            "  inflating: hw2/unlabeled/5901.jpg  \n",
            "  inflating: hw2/unlabeled/5755.jpg  \n",
            "  inflating: hw2/unlabeled/0264.jpg  \n",
            "  inflating: hw2/unlabeled/6516.jpg  \n",
            "  inflating: hw2/unlabeled/0811.jpg  \n",
            "  inflating: hw2/unlabeled/0240.jpg  \n",
            "  inflating: hw2/unlabeled/1705.jpg  \n",
            "  inflating: hw2/unlabeled/5529.jpg  \n",
            "  inflating: hw2/unlabeled/2664.jpg  \n",
            "  inflating: hw2/unlabeled/2895.jpg  \n",
            "  inflating: hw2/unlabeled/4557.jpg  \n",
            "  inflating: hw2/unlabeled/4284.jpg  \n",
            "  inflating: hw2/unlabeled/7143.jpg  \n",
            "  inflating: hw2/unlabeled/0642.jpg  \n",
            "  inflating: hw2/unlabeled/6935.jpg  \n",
            "  inflating: hw2/unlabeled/4020.jpg  \n",
            "  inflating: hw2/unlabeled/1531.jpg  \n",
            "  inflating: hw2/unlabeled/6535.jpg  \n",
            "  inflating: hw2/unlabeled/0123.jpg  \n",
            "  inflating: hw2/unlabeled/0889.jpg  \n",
            "  inflating: hw2/unlabeled/2613.jpg  \n",
            "  inflating: hw2/unlabeled/6790.jpg  \n",
            "  inflating: hw2/unlabeled/1480.jpg  \n",
            "  inflating: hw2/unlabeled/6141.jpg  \n",
            "  inflating: hw2/unlabeled/4175.jpg  \n",
            "  inflating: hw2/unlabeled/6039.jpg  \n",
            "  inflating: hw2/unlabeled/1388.jpg  \n",
            "  inflating: hw2/unlabeled/1155.jpg  \n",
            "  inflating: hw2/unlabeled/6625.jpg  \n",
            "  inflating: hw2/unlabeled/1948.jpg  \n",
            "  inflating: hw2/unlabeled/4908.jpg  \n",
            "  inflating: hw2/unlabeled/7276.jpg  \n",
            "  inflating: hw2/unlabeled/0151.jpg  \n",
            "  inflating: hw2/unlabeled/1793.jpg  \n",
            "  inflating: hw2/unlabeled/2869.jpg  \n",
            "  inflating: hw2/unlabeled/5279.jpg  \n",
            "  inflating: hw2/unlabeled/6311.jpg  \n",
            "  inflating: hw2/unlabeled/4799.jpg  \n",
            "  inflating: hw2/unlabeled/6242.jpg  \n",
            "  inflating: hw2/unlabeled/1403.jpg  \n",
            "  inflating: hw2/unlabeled/0902.jpg  \n",
            "  inflating: hw2/unlabeled/3630.jpg  \n",
            "  inflating: hw2/unlabeled/7285.jpg  \n",
            "  inflating: hw2/unlabeled/1681.jpg  \n",
            "  inflating: hw2/unlabeled/2185.jpg  \n",
            "  inflating: hw2/unlabeled/5264.jpg  \n",
            "  inflating: hw2/unlabeled/3923.jpg  \n",
            "  inflating: hw2/unlabeled/6205.jpg  \n",
            "  inflating: hw2/unlabeled/3865.jpg  \n",
            "  inflating: hw2/unlabeled/0210.jpg  \n",
            "  inflating: hw2/unlabeled/6654.jpg  \n",
            "  inflating: hw2/unlabeled/1018.jpg  \n",
            "  inflating: hw2/unlabeled/0204.jpg  \n",
            "  inflating: hw2/unlabeled/4388.jpg  \n",
            "  inflating: hw2/unlabeled/4260.jpg  \n",
            "  inflating: hw2/unlabeled/4506.jpg  \n",
            "  inflating: hw2/unlabeled/5891.jpg  \n",
            "  inflating: hw2/unlabeled/0021.jpg  \n",
            "  inflating: hw2/unlabeled/4695.jpg  \n",
            "  inflating: hw2/unlabeled/2195.jpg  \n",
            "  inflating: hw2/unlabeled/1963.jpg  \n",
            "  inflating: hw2/unlabeled/4655.jpg  \n",
            "  inflating: hw2/unlabeled/3258.jpg  \n",
            "  inflating: hw2/unlabeled/5753.jpg  \n",
            "  inflating: hw2/unlabeled/4215.jpg  \n",
            "  inflating: hw2/unlabeled/2916.jpg  \n",
            "  inflating: hw2/unlabeled/2794.jpg  \n",
            "  inflating: hw2/unlabeled/6326.jpg  \n",
            "  inflating: hw2/unlabeled/0772.jpg  \n",
            "  inflating: hw2/unlabeled/3852.jpg  \n",
            "  inflating: hw2/unlabeled/0731.jpg  \n",
            "  inflating: hw2/unlabeled/5956.jpg  \n",
            "  inflating: hw2/unlabeled/4168.jpg  \n",
            "  inflating: hw2/unlabeled/4248.jpg  \n",
            "  inflating: hw2/unlabeled/4575.jpg  \n",
            "  inflating: hw2/unlabeled/7047.jpg  \n",
            "  inflating: hw2/unlabeled/0411.jpg  \n",
            "  inflating: hw2/unlabeled/4148.jpg  \n",
            "  inflating: hw2/unlabeled/0495.jpg  \n",
            "  inflating: hw2/unlabeled/2275.jpg  \n",
            "  inflating: hw2/unlabeled/3571.jpg  \n",
            "  inflating: hw2/unlabeled/2317.jpg  \n",
            "  inflating: hw2/unlabeled/4902.jpg  \n",
            "  inflating: hw2/unlabeled/1647.jpg  \n",
            "  inflating: hw2/unlabeled/4915.jpg  \n",
            "  inflating: hw2/unlabeled/2442.jpg  \n",
            "  inflating: hw2/unlabeled/5183.jpg  \n",
            "  inflating: hw2/unlabeled/1221.jpg  \n",
            "  inflating: hw2/unlabeled/1986.jpg  \n",
            "  inflating: hw2/unlabeled/0719.jpg  \n",
            "  inflating: hw2/unlabeled/1659.jpg  \n",
            "  inflating: hw2/unlabeled/3896.jpg  \n",
            "  inflating: hw2/unlabeled/4766.jpg  \n",
            "  inflating: hw2/unlabeled/5131.jpg  \n",
            "  inflating: hw2/unlabeled/1210.jpg  \n",
            "  inflating: hw2/unlabeled/3932.jpg  \n",
            "  inflating: hw2/unlabeled/1738.jpg  \n",
            "  inflating: hw2/unlabeled/6458.jpg  \n",
            "  inflating: hw2/unlabeled/5439.jpg  \n",
            "  inflating: hw2/unlabeled/3397.jpg  \n",
            "  inflating: hw2/unlabeled/7064.jpg  \n",
            "  inflating: hw2/unlabeled/5995.jpg  \n",
            "  inflating: hw2/unlabeled/6402.jpg  \n",
            "  inflating: hw2/unlabeled/0799.jpg  \n",
            "  inflating: hw2/unlabeled/2941.jpg  \n",
            "  inflating: hw2/unlabeled/5917.jpg  \n",
            "  inflating: hw2/unlabeled/4167.jpg  \n",
            "  inflating: hw2/unlabeled/6154.jpg  \n",
            "  inflating: hw2/unlabeled/6046.jpg  \n",
            "  inflating: hw2/unlabeled/3356.jpg  \n",
            "  inflating: hw2/unlabeled/5454.jpg  \n",
            "  inflating: hw2/unlabeled/2945.jpg  \n",
            "  inflating: hw2/unlabeled/1925.jpg  \n",
            "  inflating: hw2/unlabeled/0780.jpg  \n",
            "  inflating: hw2/unlabeled/6547.jpg  \n",
            "  inflating: hw2/unlabeled/3119.jpg  \n",
            "  inflating: hw2/unlabeled/3589.jpg  \n",
            "  inflating: hw2/unlabeled/4443.jpg  \n",
            "  inflating: hw2/unlabeled/6464.jpg  \n",
            "  inflating: hw2/unlabeled/4900.jpg  \n",
            "  inflating: hw2/unlabeled/0027.jpg  \n",
            "  inflating: hw2/unlabeled/3421.jpg  \n",
            "  inflating: hw2/unlabeled/5852.jpg  \n",
            "  inflating: hw2/unlabeled/3993.jpg  \n",
            "  inflating: hw2/unlabeled/5870.jpg  \n",
            "  inflating: hw2/unlabeled/2655.jpg  \n",
            "  inflating: hw2/unlabeled/1297.jpg  \n",
            "  inflating: hw2/unlabeled/2328.jpg  \n",
            "  inflating: hw2/unlabeled/5770.jpg  \n",
            "  inflating: hw2/unlabeled/4121.jpg  \n",
            "  inflating: hw2/unlabeled/0762.jpg  \n",
            "  inflating: hw2/unlabeled/5683.jpg  \n",
            "  inflating: hw2/unlabeled/1807.jpg  \n",
            "  inflating: hw2/unlabeled/7048.jpg  \n",
            "  inflating: hw2/unlabeled/3790.jpg  \n",
            "  inflating: hw2/unlabeled/5784.jpg  \n",
            "  inflating: hw2/unlabeled/3573.jpg  \n",
            "  inflating: hw2/unlabeled/3446.jpg  \n",
            "  inflating: hw2/unlabeled/3787.jpg  \n",
            "  inflating: hw2/unlabeled/0401.jpg  \n",
            "  inflating: hw2/unlabeled/0775.jpg  \n",
            "  inflating: hw2/unlabeled/5485.jpg  \n",
            "  inflating: hw2/unlabeled/4866.jpg  \n",
            "  inflating: hw2/unlabeled/4532.jpg  \n",
            "  inflating: hw2/unlabeled/0637.jpg  \n",
            "  inflating: hw2/unlabeled/2831.jpg  \n",
            "  inflating: hw2/unlabeled/3892.jpg  \n",
            "  inflating: hw2/unlabeled/6869.jpg  \n",
            "  inflating: hw2/unlabeled/4108.jpg  \n",
            "  inflating: hw2/unlabeled/2019.jpg  \n",
            "  inflating: hw2/unlabeled/0361.jpg  \n",
            "  inflating: hw2/unlabeled/1360.jpg  \n",
            "  inflating: hw2/unlabeled/1175.jpg  \n",
            "  inflating: hw2/unlabeled/3232.jpg  \n",
            "  inflating: hw2/unlabeled/1619.jpg  \n",
            "  inflating: hw2/unlabeled/1731.jpg  \n",
            "  inflating: hw2/unlabeled/3220.jpg  \n",
            "  inflating: hw2/unlabeled/6877.jpg  \n",
            "  inflating: hw2/unlabeled/6659.jpg  \n",
            "  inflating: hw2/unlabeled/2325.jpg  \n",
            "  inflating: hw2/unlabeled/6711.jpg  \n",
            "  inflating: hw2/unlabeled/4145.jpg  \n",
            "  inflating: hw2/unlabeled/6508.jpg  \n",
            "  inflating: hw2/unlabeled/3969.jpg  \n",
            "  inflating: hw2/unlabeled/5570.jpg  \n",
            "  inflating: hw2/unlabeled/1088.jpg  \n",
            "  inflating: hw2/unlabeled/1380.jpg  \n",
            "  inflating: hw2/unlabeled/1992.jpg  \n",
            "  inflating: hw2/unlabeled/3982.jpg  \n",
            "  inflating: hw2/unlabeled/4181.jpg  \n",
            "  inflating: hw2/unlabeled/6434.jpg  \n",
            "  inflating: hw2/unlabeled/5614.jpg  \n",
            "  inflating: hw2/unlabeled/4711.jpg  \n",
            "  inflating: hw2/unlabeled/7046.jpg  \n",
            "  inflating: hw2/unlabeled/0640.jpg  \n",
            "  inflating: hw2/unlabeled/0941.jpg  \n",
            "  inflating: hw2/unlabeled/5829.jpg  \n",
            "  inflating: hw2/unlabeled/2231.jpg  \n",
            "  inflating: hw2/unlabeled/0804.jpg  \n",
            "  inflating: hw2/unlabeled/5975.jpg  \n",
            "  inflating: hw2/unlabeled/3720.jpg  \n",
            "  inflating: hw2/unlabeled/4223.jpg  \n",
            "  inflating: hw2/unlabeled/4424.jpg  \n",
            "  inflating: hw2/unlabeled/5026.jpg  \n",
            "  inflating: hw2/unlabeled/2451.jpg  \n",
            "  inflating: hw2/unlabeled/4883.jpg  \n",
            "  inflating: hw2/unlabeled/5677.jpg  \n",
            "  inflating: hw2/unlabeled/1233.jpg  \n",
            "  inflating: hw2/unlabeled/1632.jpg  \n",
            "  inflating: hw2/unlabeled/3727.jpg  \n",
            "  inflating: hw2/unlabeled/0408.jpg  \n",
            "  inflating: hw2/unlabeled/3860.jpg  \n",
            "  inflating: hw2/unlabeled/0124.jpg  \n",
            "  inflating: hw2/unlabeled/4530.jpg  \n",
            "  inflating: hw2/unlabeled/2734.jpg  \n",
            "  inflating: hw2/unlabeled/0016.jpg  \n",
            "  inflating: hw2/unlabeled/2357.jpg  \n",
            "  inflating: hw2/unlabeled/1364.jpg  \n",
            "  inflating: hw2/unlabeled/2055.jpg  \n",
            "  inflating: hw2/unlabeled/4922.jpg  \n",
            "  inflating: hw2/unlabeled/7217.jpg  \n",
            "  inflating: hw2/unlabeled/4379.jpg  \n",
            "  inflating: hw2/unlabeled/2685.jpg  \n",
            "  inflating: hw2/unlabeled/4855.jpg  \n",
            "  inflating: hw2/unlabeled/0121.jpg  \n",
            "  inflating: hw2/unlabeled/0945.jpg  \n",
            "  inflating: hw2/unlabeled/0667.jpg  \n",
            "  inflating: hw2/unlabeled/1848.jpg  \n",
            "  inflating: hw2/unlabeled/5933.jpg  \n",
            "  inflating: hw2/unlabeled/6012.jpg  \n",
            "  inflating: hw2/unlabeled/7271.jpg  \n",
            "  inflating: hw2/unlabeled/4955.jpg  \n",
            "  inflating: hw2/unlabeled/6672.jpg  \n",
            "  inflating: hw2/unlabeled/5695.jpg  \n",
            "  inflating: hw2/unlabeled/3390.jpg  \n",
            "  inflating: hw2/unlabeled/1348.jpg  \n",
            "  inflating: hw2/unlabeled/6830.jpg  \n",
            "  inflating: hw2/unlabeled/0156.jpg  \n",
            "  inflating: hw2/unlabeled/6806.jpg  \n",
            "  inflating: hw2/unlabeled/1980.jpg  \n",
            "  inflating: hw2/unlabeled/4472.jpg  \n",
            "  inflating: hw2/unlabeled/4961.jpg  \n",
            "  inflating: hw2/unlabeled/3581.jpg  \n",
            "  inflating: hw2/unlabeled/3909.jpg  \n",
            "  inflating: hw2/unlabeled/4975.jpg  \n",
            "  inflating: hw2/unlabeled/4458.jpg  \n",
            "  inflating: hw2/unlabeled/0441.jpg  \n",
            "  inflating: hw2/unlabeled/0623.jpg  \n",
            "  inflating: hw2/unlabeled/3445.jpg  \n",
            "  inflating: hw2/unlabeled/6623.jpg  \n",
            "  inflating: hw2/unlabeled/5708.jpg  \n",
            "  inflating: hw2/unlabeled/3976.jpg  \n",
            "  inflating: hw2/unlabeled/5446.jpg  \n",
            "  inflating: hw2/unlabeled/0058.jpg  \n",
            "  inflating: hw2/unlabeled/4407.jpg  \n",
            "  inflating: hw2/unlabeled/2450.jpg  \n",
            "  inflating: hw2/unlabeled/3988.jpg  \n",
            "  inflating: hw2/unlabeled/1783.jpg  \n",
            "  inflating: hw2/unlabeled/0888.jpg  \n",
            "  inflating: hw2/unlabeled/1128.jpg  \n",
            "  inflating: hw2/unlabeled/0004.jpg  \n",
            "  inflating: hw2/unlabeled/1534.jpg  \n",
            "  inflating: hw2/unlabeled/1939.jpg  \n",
            "  inflating: hw2/unlabeled/1466.jpg  \n",
            "  inflating: hw2/unlabeled/3702.jpg  \n",
            "  inflating: hw2/unlabeled/0890.jpg  \n",
            "  inflating: hw2/unlabeled/3595.jpg  \n",
            "  inflating: hw2/unlabeled/2968.jpg  \n",
            "  inflating: hw2/unlabeled/5235.jpg  \n",
            "  inflating: hw2/unlabeled/6163.jpg  \n",
            "  inflating: hw2/unlabeled/3500.jpg  \n",
            "  inflating: hw2/unlabeled/5475.jpg  \n",
            "  inflating: hw2/unlabeled/2406.jpg  \n",
            "  inflating: hw2/unlabeled/7094.jpg  \n",
            "  inflating: hw2/unlabeled/5080.jpg  \n",
            "  inflating: hw2/unlabeled/1996.jpg  \n",
            "  inflating: hw2/unlabeled/5123.jpg  \n",
            "  inflating: hw2/unlabeled/0936.jpg  \n",
            "  inflating: hw2/unlabeled/4023.jpg  \n",
            "  inflating: hw2/unlabeled/5047.jpg  \n",
            "  inflating: hw2/unlabeled/1842.jpg  \n",
            "  inflating: hw2/unlabeled/0944.jpg  \n",
            "  inflating: hw2/unlabeled/0070.jpg  \n",
            "  inflating: hw2/unlabeled/4846.jpg  \n",
            "  inflating: hw2/unlabeled/0341.jpg  \n",
            "  inflating: hw2/unlabeled/3352.jpg  \n",
            "  inflating: hw2/unlabeled/4896.jpg  \n",
            "  inflating: hw2/unlabeled/4219.jpg  \n",
            "  inflating: hw2/unlabeled/3971.jpg  \n",
            "  inflating: hw2/unlabeled/6286.jpg  \n",
            "  inflating: hw2/unlabeled/2818.jpg  \n",
            "  inflating: hw2/unlabeled/2323.jpg  \n",
            "  inflating: hw2/unlabeled/0917.jpg  \n",
            "  inflating: hw2/unlabeled/6236.jpg  \n",
            "  inflating: hw2/unlabeled/1969.jpg  \n",
            "  inflating: hw2/unlabeled/1536.jpg  \n",
            "  inflating: hw2/unlabeled/3575.jpg  \n",
            "  inflating: hw2/unlabeled/3461.jpg  \n",
            "  inflating: hw2/unlabeled/5778.jpg  \n",
            "  inflating: hw2/unlabeled/3567.jpg  \n",
            "  inflating: hw2/unlabeled/6757.jpg  \n",
            "  inflating: hw2/unlabeled/3327.jpg  \n",
            "  inflating: hw2/unlabeled/4783.jpg  \n",
            "  inflating: hw2/unlabeled/0648.jpg  \n",
            "  inflating: hw2/unlabeled/5146.jpg  \n",
            "  inflating: hw2/unlabeled/5366.jpg  \n",
            "  inflating: hw2/unlabeled/0476.jpg  \n",
            "  inflating: hw2/unlabeled/0735.jpg  \n",
            "  inflating: hw2/unlabeled/2620.jpg  \n",
            "  inflating: hw2/unlabeled/1326.jpg  \n",
            "  inflating: hw2/unlabeled/5066.jpg  \n",
            "  inflating: hw2/unlabeled/5351.jpg  \n",
            "  inflating: hw2/unlabeled/4576.jpg  \n",
            "  inflating: hw2/unlabeled/3429.jpg  \n",
            "  inflating: hw2/unlabeled/3420.jpg  \n",
            "  inflating: hw2/unlabeled/0336.jpg  \n",
            "  inflating: hw2/unlabeled/6791.jpg  \n",
            "  inflating: hw2/unlabeled/5603.jpg  \n",
            "  inflating: hw2/unlabeled/0054.jpg  \n",
            "  inflating: hw2/unlabeled/2718.jpg  \n",
            "  inflating: hw2/unlabeled/0327.jpg  \n",
            "  inflating: hw2/unlabeled/2007.jpg  \n",
            "  inflating: hw2/unlabeled/6228.jpg  \n",
            "  inflating: hw2/unlabeled/6503.jpg  \n",
            "  inflating: hw2/unlabeled/1442.jpg  \n",
            "  inflating: hw2/unlabeled/1876.jpg  \n",
            "  inflating: hw2/unlabeled/6619.jpg  \n",
            "  inflating: hw2/unlabeled/1636.jpg  \n",
            "  inflating: hw2/unlabeled/0059.jpg  \n",
            "  inflating: hw2/unlabeled/0572.jpg  \n",
            "  inflating: hw2/unlabeled/1520.jpg  \n",
            "  inflating: hw2/unlabeled/6580.jpg  \n",
            "  inflating: hw2/unlabeled/5684.jpg  \n",
            "  inflating: hw2/unlabeled/4191.jpg  \n",
            "  inflating: hw2/unlabeled/3261.jpg  \n",
            "  inflating: hw2/unlabeled/6074.jpg  \n",
            "  inflating: hw2/unlabeled/6804.jpg  \n",
            "  inflating: hw2/unlabeled/4701.jpg  \n",
            "  inflating: hw2/unlabeled/2084.jpg  \n",
            "  inflating: hw2/unlabeled/5592.jpg  \n",
            "  inflating: hw2/unlabeled/3193.jpg  \n",
            "  inflating: hw2/unlabeled/6013.jpg  \n",
            "  inflating: hw2/unlabeled/2401.jpg  \n",
            "  inflating: hw2/unlabeled/1552.jpg  \n",
            "  inflating: hw2/unlabeled/6266.jpg  \n",
            "  inflating: hw2/unlabeled/3081.jpg  \n",
            "  inflating: hw2/unlabeled/0297.jpg  \n",
            "  inflating: hw2/unlabeled/1604.jpg  \n",
            "  inflating: hw2/unlabeled/2202.jpg  \n",
            "  inflating: hw2/unlabeled/4200.jpg  \n",
            "  inflating: hw2/unlabeled/1238.jpg  \n",
            "  inflating: hw2/unlabeled/1769.jpg  \n",
            "  inflating: hw2/unlabeled/4857.jpg  \n",
            "  inflating: hw2/unlabeled/2661.jpg  \n",
            "  inflating: hw2/unlabeled/6740.jpg  \n",
            "  inflating: hw2/unlabeled/0921.jpg  \n",
            "  inflating: hw2/unlabeled/5094.jpg  \n",
            "  inflating: hw2/unlabeled/4710.jpg  \n",
            "  inflating: hw2/unlabeled/1305.jpg  \n",
            "  inflating: hw2/unlabeled/2145.jpg  \n",
            "  inflating: hw2/unlabeled/2414.jpg  \n",
            "  inflating: hw2/unlabeled/1579.jpg  \n",
            "  inflating: hw2/unlabeled/4469.jpg  \n",
            "  inflating: hw2/unlabeled/5762.jpg  \n",
            "  inflating: hw2/unlabeled/5960.jpg  \n",
            "  inflating: hw2/unlabeled/3090.jpg  \n",
            "  inflating: hw2/unlabeled/6574.jpg  \n",
            "  inflating: hw2/unlabeled/1871.jpg  \n",
            "  inflating: hw2/unlabeled/3974.jpg  \n",
            "  inflating: hw2/unlabeled/0983.jpg  \n",
            "  inflating: hw2/unlabeled/3576.jpg  \n",
            "  inflating: hw2/unlabeled/2408.jpg  \n",
            "  inflating: hw2/unlabeled/0405.jpg  \n",
            "  inflating: hw2/unlabeled/1056.jpg  \n",
            "  inflating: hw2/unlabeled/3994.jpg  \n",
            "  inflating: hw2/unlabeled/1766.jpg  \n",
            "  inflating: hw2/unlabeled/6690.jpg  \n",
            "  inflating: hw2/unlabeled/3800.jpg  \n",
            "  inflating: hw2/unlabeled/3478.jpg  \n",
            "  inflating: hw2/unlabeled/0376.jpg  \n",
            "  inflating: hw2/unlabeled/6815.jpg  \n",
            "  inflating: hw2/unlabeled/1248.jpg  \n",
            "  inflating: hw2/unlabeled/6064.jpg  \n",
            "  inflating: hw2/unlabeled/6076.jpg  \n",
            "  inflating: hw2/unlabeled/4859.jpg  \n",
            "  inflating: hw2/unlabeled/4681.jpg  \n",
            "  inflating: hw2/unlabeled/5380.jpg  \n",
            "  inflating: hw2/unlabeled/4735.jpg  \n",
            "  inflating: hw2/unlabeled/2358.jpg  \n",
            "  inflating: hw2/unlabeled/1774.jpg  \n",
            "  inflating: hw2/unlabeled/2257.jpg  \n",
            "  inflating: hw2/unlabeled/7057.jpg  \n",
            "  inflating: hw2/unlabeled/6819.jpg  \n",
            "  inflating: hw2/unlabeled/4103.jpg  \n",
            "  inflating: hw2/unlabeled/4764.jpg  \n",
            "  inflating: hw2/unlabeled/4853.jpg  \n",
            "  inflating: hw2/unlabeled/2334.jpg  \n",
            "  inflating: hw2/unlabeled/3396.jpg  \n",
            "  inflating: hw2/unlabeled/6406.jpg  \n",
            "  inflating: hw2/unlabeled/6340.jpg  \n",
            "  inflating: hw2/unlabeled/5661.jpg  \n",
            "  inflating: hw2/unlabeled/0660.jpg  \n",
            "  inflating: hw2/unlabeled/4737.jpg  \n",
            "  inflating: hw2/unlabeled/5155.jpg  \n",
            "  inflating: hw2/unlabeled/2456.jpg  \n",
            "  inflating: hw2/unlabeled/1906.jpg  \n",
            "  inflating: hw2/unlabeled/0759.jpg  \n",
            "  inflating: hw2/unlabeled/3984.jpg  \n",
            "  inflating: hw2/unlabeled/4195.jpg  \n",
            "  inflating: hw2/unlabeled/6850.jpg  \n",
            "  inflating: hw2/unlabeled/4089.jpg  \n",
            "  inflating: hw2/unlabeled/1102.jpg  \n",
            "  inflating: hw2/unlabeled/3619.jpg  \n",
            "  inflating: hw2/unlabeled/2139.jpg  \n",
            "  inflating: hw2/unlabeled/4100.jpg  \n",
            "  inflating: hw2/unlabeled/3642.jpg  \n",
            "  inflating: hw2/unlabeled/2395.jpg  \n",
            "  inflating: hw2/unlabeled/5455.jpg  \n",
            "  inflating: hw2/unlabeled/0979.jpg  \n",
            "  inflating: hw2/unlabeled/6424.jpg  \n",
            "  inflating: hw2/unlabeled/5148.jpg  \n",
            "  inflating: hw2/unlabeled/1902.jpg  \n",
            "  inflating: hw2/unlabeled/3538.jpg  \n",
            "  inflating: hw2/unlabeled/6355.jpg  \n",
            "  inflating: hw2/unlabeled/2994.jpg  \n",
            "  inflating: hw2/unlabeled/6100.jpg  \n",
            "  inflating: hw2/unlabeled/5317.jpg  \n",
            "  inflating: hw2/unlabeled/0034.jpg  \n",
            "  inflating: hw2/unlabeled/4147.jpg  \n",
            "  inflating: hw2/unlabeled/1269.jpg  \n",
            "  inflating: hw2/unlabeled/3686.jpg  \n",
            "  inflating: hw2/unlabeled/3128.jpg  \n",
            "  inflating: hw2/unlabeled/5628.jpg  \n",
            "  inflating: hw2/unlabeled/5156.jpg  \n",
            "  inflating: hw2/unlabeled/1204.jpg  \n",
            "  inflating: hw2/unlabeled/2654.jpg  \n",
            "  inflating: hw2/unlabeled/0198.jpg  \n",
            "  inflating: hw2/unlabeled/2937.jpg  \n",
            "  inflating: hw2/unlabeled/4255.jpg  \n",
            "  inflating: hw2/unlabeled/3888.jpg  \n",
            "  inflating: hw2/unlabeled/6799.jpg  \n",
            "  inflating: hw2/unlabeled/4177.jpg  \n",
            "  inflating: hw2/unlabeled/1685.jpg  \n",
            "  inflating: hw2/unlabeled/2821.jpg  \n",
            "  inflating: hw2/unlabeled/2715.jpg  \n",
            "  inflating: hw2/unlabeled/7038.jpg  \n",
            "  inflating: hw2/unlabeled/2489.jpg  \n",
            "  inflating: hw2/unlabeled/1854.jpg  \n",
            "  inflating: hw2/unlabeled/6033.jpg  \n",
            "  inflating: hw2/unlabeled/3471.jpg  \n",
            "  inflating: hw2/unlabeled/3253.jpg  \n",
            "  inflating: hw2/unlabeled/6296.jpg  \n",
            "  inflating: hw2/unlabeled/2865.jpg  \n",
            "  inflating: hw2/unlabeled/4898.jpg  \n",
            "  inflating: hw2/unlabeled/5609.jpg  \n",
            "  inflating: hw2/unlabeled/6125.jpg  \n",
            "  inflating: hw2/unlabeled/3315.jpg  \n",
            "  inflating: hw2/unlabeled/2018.jpg  \n",
            "  inflating: hw2/unlabeled/2002.jpg  \n",
            "  inflating: hw2/unlabeled/1708.jpg  \n",
            "  inflating: hw2/unlabeled/2431.jpg  \n",
            "  inflating: hw2/unlabeled/6093.jpg  \n",
            "  inflating: hw2/unlabeled/3706.jpg  \n",
            "  inflating: hw2/unlabeled/2402.jpg  \n",
            "  inflating: hw2/unlabeled/6363.jpg  \n",
            "  inflating: hw2/unlabeled/7098.jpg  \n",
            "  inflating: hw2/unlabeled/7079.jpg  \n",
            "  inflating: hw2/unlabeled/5422.jpg  \n",
            "  inflating: hw2/unlabeled/2630.jpg  \n",
            "  inflating: hw2/unlabeled/0722.jpg  \n",
            "  inflating: hw2/unlabeled/3973.jpg  \n",
            "  inflating: hw2/unlabeled/1935.jpg  \n",
            "  inflating: hw2/unlabeled/2240.jpg  \n",
            "  inflating: hw2/unlabeled/5714.jpg  \n",
            "  inflating: hw2/unlabeled/1921.jpg  \n",
            "  inflating: hw2/unlabeled/3704.jpg  \n",
            "  inflating: hw2/unlabeled/6259.jpg  \n",
            "  inflating: hw2/unlabeled/3551.jpg  \n",
            "  inflating: hw2/unlabeled/2320.jpg  \n",
            "  inflating: hw2/unlabeled/1193.jpg  \n",
            "  inflating: hw2/unlabeled/3340.jpg  \n",
            "  inflating: hw2/unlabeled/5618.jpg  \n",
            "  inflating: hw2/unlabeled/5595.jpg  \n",
            "  inflating: hw2/unlabeled/0626.jpg  \n",
            "  inflating: hw2/unlabeled/4080.jpg  \n",
            "  inflating: hw2/unlabeled/4237.jpg  \n",
            "  inflating: hw2/unlabeled/6698.jpg  \n",
            "  inflating: hw2/unlabeled/2793.jpg  \n",
            "  inflating: hw2/unlabeled/3806.jpg  \n",
            "  inflating: hw2/unlabeled/3782.jpg  \n",
            "  inflating: hw2/unlabeled/2094.jpg  \n",
            "  inflating: hw2/unlabeled/5644.jpg  \n",
            "  inflating: hw2/unlabeled/1444.jpg  \n",
            "  inflating: hw2/unlabeled/6317.jpg  \n",
            "  inflating: hw2/unlabeled/6771.jpg  \n",
            "  inflating: hw2/unlabeled/0605.jpg  \n",
            "  inflating: hw2/unlabeled/2838.jpg  \n",
            "  inflating: hw2/unlabeled/4028.jpg  \n",
            "  inflating: hw2/unlabeled/0528.jpg  \n",
            "  inflating: hw2/unlabeled/2223.jpg  \n",
            "  inflating: hw2/unlabeled/6034.jpg  \n",
            "  inflating: hw2/unlabeled/0024.jpg  \n",
            "  inflating: hw2/unlabeled/4039.jpg  \n",
            "  inflating: hw2/unlabeled/6622.jpg  \n",
            "  inflating: hw2/unlabeled/0708.jpg  \n",
            "  inflating: hw2/unlabeled/6596.jpg  \n",
            "  inflating: hw2/unlabeled/1905.jpg  \n",
            "  inflating: hw2/unlabeled/0898.jpg  \n",
            "  inflating: hw2/unlabeled/1384.jpg  \n",
            "  inflating: hw2/unlabeled/5278.jpg  \n",
            "  inflating: hw2/unlabeled/1563.jpg  \n",
            "  inflating: hw2/unlabeled/7009.jpg  \n",
            "  inflating: hw2/unlabeled/3084.jpg  \n",
            "  inflating: hw2/unlabeled/5167.jpg  \n",
            "   creating: hw2/test/\n",
            "   creating: hw2/test/1/\n",
            "  inflating: hw2/test/1/0187.jpg     \n",
            "  inflating: hw2/test/1/0100.jpg     \n",
            "  inflating: hw2/test/1/0091.jpg     \n",
            "  inflating: hw2/test/1/0176.jpg     \n",
            "  inflating: hw2/test/1/0494.jpg     \n",
            "  inflating: hw2/test/1/0439.jpg     \n",
            "  inflating: hw2/test/1/0315.jpg     \n",
            "  inflating: hw2/test/1/0289.jpg     \n",
            "  inflating: hw2/test/1/0037.jpg     \n",
            "  inflating: hw2/test/1/0019.jpg     \n",
            "  inflating: hw2/test/1/0254.jpg     \n",
            "  inflating: hw2/test/1/0257.jpg     \n",
            "  inflating: hw2/test/1/0333.jpg     \n",
            "  inflating: hw2/test/1/0429.jpg     \n",
            "  inflating: hw2/test/1/0422.jpg     \n",
            "  inflating: hw2/test/1/0325.jpg     \n",
            "  inflating: hw2/test/1/0216.jpg     \n",
            "  inflating: hw2/test/1/0106.jpg     \n",
            "  inflating: hw2/test/1/0306.jpg     \n",
            "  inflating: hw2/test/1/0055.jpg     \n",
            "  inflating: hw2/test/1/0125.jpg     \n",
            "  inflating: hw2/test/1/0133.jpg     \n",
            "  inflating: hw2/test/1/0324.jpg     \n",
            "  inflating: hw2/test/1/0249.jpg     \n",
            "  inflating: hw2/test/1/0331.jpg     \n",
            "  inflating: hw2/test/1/0108.jpg     \n",
            "  inflating: hw2/test/1/0141.jpg     \n",
            "  inflating: hw2/test/1/0344.jpg     \n",
            "  inflating: hw2/test/1/0468.jpg     \n",
            "  inflating: hw2/test/1/0461.jpg     \n",
            "  inflating: hw2/test/1/0392.jpg     \n",
            "  inflating: hw2/test/1/0253.jpg     \n",
            "  inflating: hw2/test/1/0367.jpg     \n",
            "  inflating: hw2/test/1/0373.jpg     \n",
            "  inflating: hw2/test/1/0238.jpg     \n",
            "  inflating: hw2/test/1/0482.jpg     \n",
            "  inflating: hw2/test/1/0426.jpg     \n",
            "  inflating: hw2/test/1/0423.jpg     \n",
            "  inflating: hw2/test/1/0354.jpg     \n",
            "  inflating: hw2/test/1/0432.jpg     \n",
            "  inflating: hw2/test/1/0092.jpg     \n",
            "  inflating: hw2/test/1/0044.jpg     \n",
            "  inflating: hw2/test/1/0074.jpg     \n",
            "  inflating: hw2/test/1/0236.jpg     \n",
            "  inflating: hw2/test/1/0201.jpg     \n",
            "  inflating: hw2/test/1/0362.jpg     \n",
            "  inflating: hw2/test/1/0345.jpg     \n",
            "  inflating: hw2/test/1/0454.jpg     \n",
            "  inflating: hw2/test/1/0358.jpg     \n",
            "  inflating: hw2/test/1/0012.jpg     \n",
            "  inflating: hw2/test/1/0326.jpg     \n",
            "  inflating: hw2/test/1/0039.jpg     \n",
            "  inflating: hw2/test/1/0353.jpg     \n",
            "  inflating: hw2/test/1/0064.jpg     \n",
            "  inflating: hw2/test/1/0195.jpg     \n",
            "  inflating: hw2/test/1/0049.jpg     \n",
            "  inflating: hw2/test/1/0067.jpg     \n",
            "  inflating: hw2/test/1/0073.jpg     \n",
            "  inflating: hw2/test/1/0472.jpg     \n",
            "  inflating: hw2/test/1/0174.jpg     \n",
            "  inflating: hw2/test/1/0112.jpg     \n",
            "  inflating: hw2/test/1/0126.jpg     \n",
            "  inflating: hw2/test/1/0061.jpg     \n",
            "  inflating: hw2/test/1/0293.jpg     \n",
            "  inflating: hw2/test/1/0385.jpg     \n",
            "  inflating: hw2/test/1/0497.jpg     \n",
            "  inflating: hw2/test/1/0022.jpg     \n",
            "  inflating: hw2/test/1/0185.jpg     \n",
            "  inflating: hw2/test/1/0332.jpg     \n",
            "  inflating: hw2/test/1/0473.jpg     \n",
            "  inflating: hw2/test/1/0229.jpg     \n",
            "  inflating: hw2/test/1/0101.jpg     \n",
            "  inflating: hw2/test/1/0369.jpg     \n",
            "  inflating: hw2/test/1/0171.jpg     \n",
            "  inflating: hw2/test/1/0379.jpg     \n",
            "  inflating: hw2/test/1/0412.jpg     \n",
            "  inflating: hw2/test/1/0292.jpg     \n",
            "  inflating: hw2/test/1/0273.jpg     \n",
            "  inflating: hw2/test/1/0169.jpg     \n",
            "  inflating: hw2/test/1/0490.jpg     \n",
            "  inflating: hw2/test/1/0023.jpg     \n",
            "  inflating: hw2/test/1/0030.jpg     \n",
            "  inflating: hw2/test/1/0487.jpg     \n",
            "  inflating: hw2/test/1/0478.jpg     \n",
            "  inflating: hw2/test/1/0398.jpg     \n",
            "  inflating: hw2/test/1/0045.jpg     \n",
            "  inflating: hw2/test/1/0340.jpg     \n",
            "  inflating: hw2/test/1/0128.jpg     \n",
            "  inflating: hw2/test/1/0120.jpg     \n",
            "  inflating: hw2/test/1/0484.jpg     \n",
            "  inflating: hw2/test/1/0014.jpg     \n",
            "  inflating: hw2/test/1/0231.jpg     \n",
            "  inflating: hw2/test/1/0117.jpg     \n",
            "  inflating: hw2/test/1/0119.jpg     \n",
            "  inflating: hw2/test/1/0075.jpg     \n",
            "  inflating: hw2/test/1/0335.jpg     \n",
            "  inflating: hw2/test/1/0308.jpg     \n",
            "  inflating: hw2/test/1/0492.jpg     \n",
            "  inflating: hw2/test/1/0028.jpg     \n",
            "  inflating: hw2/test/1/0309.jpg     \n",
            "  inflating: hw2/test/1/0311.jpg     \n",
            "  inflating: hw2/test/1/0018.jpg     \n",
            "  inflating: hw2/test/1/0188.jpg     \n",
            "  inflating: hw2/test/1/0197.jpg     \n",
            "  inflating: hw2/test/1/0080.jpg     \n",
            "  inflating: hw2/test/1/0252.jpg     \n",
            "  inflating: hw2/test/1/0413.jpg     \n",
            "  inflating: hw2/test/1/0050.jpg     \n",
            "  inflating: hw2/test/1/0148.jpg     \n",
            "  inflating: hw2/test/1/0377.jpg     \n",
            "  inflating: hw2/test/1/0203.jpg     \n",
            "  inflating: hw2/test/1/0085.jpg     \n",
            "  inflating: hw2/test/1/0202.jpg     \n",
            "  inflating: hw2/test/1/0264.jpg     \n",
            "  inflating: hw2/test/1/0210.jpg     \n",
            "  inflating: hw2/test/1/0204.jpg     \n",
            "  inflating: hw2/test/1/0021.jpg     \n",
            "  inflating: hw2/test/1/0495.jpg     \n",
            "  inflating: hw2/test/1/0016.jpg     \n",
            "  inflating: hw2/test/1/0156.jpg     \n",
            "  inflating: hw2/test/1/0004.jpg     \n",
            "  inflating: hw2/test/1/0070.jpg     \n",
            "  inflating: hw2/test/1/0336.jpg     \n",
            "  inflating: hw2/test/1/0054.jpg     \n",
            "  inflating: hw2/test/1/0297.jpg     \n",
            "   creating: hw2/test/3/\n",
            "  inflating: hw2/test/3/0118.jpg     \n",
            "  inflating: hw2/test/3/0247.jpg     \n",
            "  inflating: hw2/test/3/0342.jpg     \n",
            "  inflating: hw2/test/3/0383.jpg     \n",
            "  inflating: hw2/test/3/0084.jpg     \n",
            "  inflating: hw2/test/3/0480.jpg     \n",
            "  inflating: hw2/test/3/0372.jpg     \n",
            "  inflating: hw2/test/3/0094.jpg     \n",
            "  inflating: hw2/test/3/0313.jpg     \n",
            "  inflating: hw2/test/3/0158.jpg     \n",
            "  inflating: hw2/test/3/0427.jpg     \n",
            "  inflating: hw2/test/3/0102.jpg     \n",
            "  inflating: hw2/test/3/0317.jpg     \n",
            "  inflating: hw2/test/3/0226.jpg     \n",
            "  inflating: hw2/test/3/0220.jpg     \n",
            "  inflating: hw2/test/3/0384.jpg     \n",
            "  inflating: hw2/test/3/0168.jpg     \n",
            "  inflating: hw2/test/3/0225.jpg     \n",
            "  inflating: hw2/test/3/0365.jpg     \n",
            "  inflating: hw2/test/3/0033.jpg     \n",
            "  inflating: hw2/test/3/0150.jpg     \n",
            "  inflating: hw2/test/3/0285.jpg     \n",
            "  inflating: hw2/test/3/0153.jpg     \n",
            "  inflating: hw2/test/3/0448.jpg     \n",
            "  inflating: hw2/test/3/0230.jpg     \n",
            "  inflating: hw2/test/3/0261.jpg     \n",
            "  inflating: hw2/test/3/0097.jpg     \n",
            "  inflating: hw2/test/3/0003.jpg     \n",
            "  inflating: hw2/test/3/0026.jpg     \n",
            "  inflating: hw2/test/3/0065.jpg     \n",
            "  inflating: hw2/test/3/0485.jpg     \n",
            "  inflating: hw2/test/3/0389.jpg     \n",
            "  inflating: hw2/test/3/0235.jpg     \n",
            "  inflating: hw2/test/3/0256.jpg     \n",
            "  inflating: hw2/test/3/0098.jpg     \n",
            "  inflating: hw2/test/3/0280.jpg     \n",
            "  inflating: hw2/test/3/0415.jpg     \n",
            "  inflating: hw2/test/3/0191.jpg     \n",
            "  inflating: hw2/test/3/0371.jpg     \n",
            "  inflating: hw2/test/3/0110.jpg     \n",
            "  inflating: hw2/test/3/0350.jpg     \n",
            "  inflating: hw2/test/3/0263.jpg     \n",
            "  inflating: hw2/test/3/0057.jpg     \n",
            "  inflating: hw2/test/3/0499.jpg     \n",
            "  inflating: hw2/test/3/0382.jpg     \n",
            "  inflating: hw2/test/3/0303.jpg     \n",
            "  inflating: hw2/test/3/0396.jpg     \n",
            "  inflating: hw2/test/3/0462.jpg     \n",
            "  inflating: hw2/test/3/0025.jpg     \n",
            "  inflating: hw2/test/3/0190.jpg     \n",
            "  inflating: hw2/test/3/0338.jpg     \n",
            "  inflating: hw2/test/3/0282.jpg     \n",
            "  inflating: hw2/test/3/0206.jpg     \n",
            "  inflating: hw2/test/3/0200.jpg     \n",
            "  inflating: hw2/test/3/0099.jpg     \n",
            "  inflating: hw2/test/3/0142.jpg     \n",
            "  inflating: hw2/test/3/0321.jpg     \n",
            "  inflating: hw2/test/3/0179.jpg     \n",
            "  inflating: hw2/test/3/0250.jpg     \n",
            "  inflating: hw2/test/3/0031.jpg     \n",
            "  inflating: hw2/test/3/0017.jpg     \n",
            "  inflating: hw2/test/3/0268.jpg     \n",
            "  inflating: hw2/test/3/0402.jpg     \n",
            "  inflating: hw2/test/3/0140.jpg     \n",
            "  inflating: hw2/test/3/0089.jpg     \n",
            "  inflating: hw2/test/3/0107.jpg     \n",
            "  inflating: hw2/test/3/0222.jpg     \n",
            "  inflating: hw2/test/3/0269.jpg     \n",
            "  inflating: hw2/test/3/0475.jpg     \n",
            "  inflating: hw2/test/3/0428.jpg     \n",
            "  inflating: hw2/test/3/0307.jpg     \n",
            "  inflating: hw2/test/3/0239.jpg     \n",
            "  inflating: hw2/test/3/0095.jpg     \n",
            "  inflating: hw2/test/3/0380.jpg     \n",
            "  inflating: hw2/test/3/0213.jpg     \n",
            "  inflating: hw2/test/3/0063.jpg     \n",
            "  inflating: hw2/test/3/0277.jpg     \n",
            "  inflating: hw2/test/3/0180.jpg     \n",
            "  inflating: hw2/test/3/0304.jpg     \n",
            "  inflating: hw2/test/3/0105.jpg     \n",
            "  inflating: hw2/test/3/0298.jpg     \n",
            "  inflating: hw2/test/3/0217.jpg     \n",
            "  inflating: hw2/test/3/0248.jpg     \n",
            "  inflating: hw2/test/3/0000.jpg     \n",
            "  inflating: hw2/test/3/0283.jpg     \n",
            "  inflating: hw2/test/3/0459.jpg     \n",
            "  inflating: hw2/test/3/0320.jpg     \n",
            "  inflating: hw2/test/3/0444.jpg     \n",
            "  inflating: hw2/test/3/0498.jpg     \n",
            "  inflating: hw2/test/3/0260.jpg     \n",
            "  inflating: hw2/test/3/0042.jpg     \n",
            "  inflating: hw2/test/3/0300.jpg     \n",
            "  inflating: hw2/test/3/0443.jpg     \n",
            "  inflating: hw2/test/3/0111.jpg     \n",
            "  inflating: hw2/test/3/0167.jpg     \n",
            "  inflating: hw2/test/3/0144.jpg     \n",
            "  inflating: hw2/test/3/0196.jpg     \n",
            "  inflating: hw2/test/3/0036.jpg     \n",
            "  inflating: hw2/test/3/0477.jpg     \n",
            "  inflating: hw2/test/3/0360.jpg     \n",
            "  inflating: hw2/test/3/0275.jpg     \n",
            "  inflating: hw2/test/3/0417.jpg     \n",
            "  inflating: hw2/test/3/0463.jpg     \n",
            "  inflating: hw2/test/3/0388.jpg     \n",
            "  inflating: hw2/test/3/0270.jpg     \n",
            "  inflating: hw2/test/3/0162.jpg     \n",
            "  inflating: hw2/test/3/0048.jpg     \n",
            "  inflating: hw2/test/3/0002.jpg     \n",
            "  inflating: hw2/test/3/0015.jpg     \n",
            "  inflating: hw2/test/3/0465.jpg     \n",
            "  inflating: hw2/test/3/0218.jpg     \n",
            "  inflating: hw2/test/3/0272.jpg     \n",
            "  inflating: hw2/test/3/0265.jpg     \n",
            "  inflating: hw2/test/3/0356.jpg     \n",
            "  inflating: hw2/test/3/0157.jpg     \n",
            "  inflating: hw2/test/3/0240.jpg     \n",
            "  inflating: hw2/test/3/0123.jpg     \n",
            "  inflating: hw2/test/3/0151.jpg     \n",
            "  inflating: hw2/test/3/0361.jpg     \n",
            "  inflating: hw2/test/3/0124.jpg     \n",
            "  inflating: hw2/test/3/0058.jpg     \n",
            "  inflating: hw2/test/3/0341.jpg     \n",
            "  inflating: hw2/test/3/0327.jpg     \n",
            "  inflating: hw2/test/3/0059.jpg     \n",
            "  inflating: hw2/test/3/0376.jpg     \n",
            "   creating: hw2/test/0/\n",
            "  inflating: hw2/test/0/0436.jpg     \n",
            "  inflating: hw2/test/0/0430.jpg     \n",
            "  inflating: hw2/test/0/0186.jpg     \n",
            "  inflating: hw2/test/0/0452.jpg     \n",
            "  inflating: hw2/test/0/0440.jpg     \n",
            "  inflating: hw2/test/0/0237.jpg     \n",
            "  inflating: hw2/test/0/0219.jpg     \n",
            "  inflating: hw2/test/0/0394.jpg     \n",
            "  inflating: hw2/test/0/0143.jpg     \n",
            "  inflating: hw2/test/0/0351.jpg     \n",
            "  inflating: hw2/test/0/0299.jpg     \n",
            "  inflating: hw2/test/0/0227.jpg     \n",
            "  inflating: hw2/test/0/0363.jpg     \n",
            "  inflating: hw2/test/0/0147.jpg     \n",
            "  inflating: hw2/test/0/0471.jpg     \n",
            "  inflating: hw2/test/0/0323.jpg     \n",
            "  inflating: hw2/test/0/0193.jpg     \n",
            "  inflating: hw2/test/0/0274.jpg     \n",
            "  inflating: hw2/test/0/0456.jpg     \n",
            "  inflating: hw2/test/0/0296.jpg     \n",
            "  inflating: hw2/test/0/0489.jpg     \n",
            "  inflating: hw2/test/0/0425.jpg     \n",
            "  inflating: hw2/test/0/0318.jpg     \n",
            "  inflating: hw2/test/0/0056.jpg     \n",
            "  inflating: hw2/test/0/0421.jpg     \n",
            "  inflating: hw2/test/0/0062.jpg     \n",
            "  inflating: hw2/test/0/0496.jpg     \n",
            "  inflating: hw2/test/0/0182.jpg     \n",
            "  inflating: hw2/test/0/0316.jpg     \n",
            "  inflating: hw2/test/0/0184.jpg     \n",
            "  inflating: hw2/test/0/0370.jpg     \n",
            "  inflating: hw2/test/0/0291.jpg     \n",
            "  inflating: hw2/test/0/0312.jpg     \n",
            "  inflating: hw2/test/0/0457.jpg     \n",
            "  inflating: hw2/test/0/0046.jpg     \n",
            "  inflating: hw2/test/0/0072.jpg     \n",
            "  inflating: hw2/test/0/0329.jpg     \n",
            "  inflating: hw2/test/0/0287.jpg     \n",
            "  inflating: hw2/test/0/0442.jpg     \n",
            "  inflating: hw2/test/0/0409.jpg     \n",
            "  inflating: hw2/test/0/0215.jpg     \n",
            "  inflating: hw2/test/0/0130.jpg     \n",
            "  inflating: hw2/test/0/0223.jpg     \n",
            "  inflating: hw2/test/0/0137.jpg     \n",
            "  inflating: hw2/test/0/0159.jpg     \n",
            "  inflating: hw2/test/0/0479.jpg     \n",
            "  inflating: hw2/test/0/0387.jpg     \n",
            "  inflating: hw2/test/0/0164.jpg     \n",
            "  inflating: hw2/test/0/0451.jpg     \n",
            "  inflating: hw2/test/0/0234.jpg     \n",
            "  inflating: hw2/test/0/0288.jpg     \n",
            "  inflating: hw2/test/0/0295.jpg     \n",
            "  inflating: hw2/test/0/0276.jpg     \n",
            "  inflating: hw2/test/0/0424.jpg     \n",
            "  inflating: hw2/test/0/0228.jpg     \n",
            "  inflating: hw2/test/0/0020.jpg     \n",
            "  inflating: hw2/test/0/0251.jpg     \n",
            "  inflating: hw2/test/0/0278.jpg     \n",
            "  inflating: hw2/test/0/0076.jpg     \n",
            "  inflating: hw2/test/0/0205.jpg     \n",
            "  inflating: hw2/test/0/0464.jpg     \n",
            "  inflating: hw2/test/0/0366.jpg     \n",
            "  inflating: hw2/test/0/0279.jpg     \n",
            "  inflating: hw2/test/0/0096.jpg     \n",
            "  inflating: hw2/test/0/0081.jpg     \n",
            "  inflating: hw2/test/0/0378.jpg     \n",
            "  inflating: hw2/test/0/0314.jpg     \n",
            "  inflating: hw2/test/0/0381.jpg     \n",
            "  inflating: hw2/test/0/0086.jpg     \n",
            "  inflating: hw2/test/0/0455.jpg     \n",
            "  inflating: hw2/test/0/0189.jpg     \n",
            "  inflating: hw2/test/0/0266.jpg     \n",
            "  inflating: hw2/test/0/0246.jpg     \n",
            "  inflating: hw2/test/0/0420.jpg     \n",
            "  inflating: hw2/test/0/0136.jpg     \n",
            "  inflating: hw2/test/0/0301.jpg     \n",
            "  inflating: hw2/test/0/0418.jpg     \n",
            "  inflating: hw2/test/0/0082.jpg     \n",
            "  inflating: hw2/test/0/0232.jpg     \n",
            "  inflating: hw2/test/0/0390.jpg     \n",
            "  inflating: hw2/test/0/0391.jpg     \n",
            "  inflating: hw2/test/0/0152.jpg     \n",
            "  inflating: hw2/test/0/0244.jpg     \n",
            "  inflating: hw2/test/0/0359.jpg     \n",
            "  inflating: hw2/test/0/0043.jpg     \n",
            "  inflating: hw2/test/0/0431.jpg     \n",
            "  inflating: hw2/test/0/0155.jpg     \n",
            "  inflating: hw2/test/0/0242.jpg     \n",
            "  inflating: hw2/test/0/0109.jpg     \n",
            "  inflating: hw2/test/0/0386.jpg     \n",
            "  inflating: hw2/test/0/0397.jpg     \n",
            "  inflating: hw2/test/0/0008.jpg     \n",
            "  inflating: hw2/test/0/0284.jpg     \n",
            "  inflating: hw2/test/0/0132.jpg     \n",
            "  inflating: hw2/test/0/0166.jpg     \n",
            "  inflating: hw2/test/0/0258.jpg     \n",
            "  inflating: hw2/test/0/0116.jpg     \n",
            "  inflating: hw2/test/0/0192.jpg     \n",
            "  inflating: hw2/test/0/0139.jpg     \n",
            "  inflating: hw2/test/0/0011.jpg     \n",
            "  inflating: hw2/test/0/0207.jpg     \n",
            "  inflating: hw2/test/0/0208.jpg     \n",
            "  inflating: hw2/test/0/0135.jpg     \n",
            "  inflating: hw2/test/0/0375.jpg     \n",
            "  inflating: hw2/test/0/0175.jpg     \n",
            "  inflating: hw2/test/0/0079.jpg     \n",
            "  inflating: hw2/test/0/0041.jpg     \n",
            "  inflating: hw2/test/0/0433.jpg     \n",
            "  inflating: hw2/test/0/0290.jpg     \n",
            "  inflating: hw2/test/0/0322.jpg     \n",
            "  inflating: hw2/test/0/0069.jpg     \n",
            "  inflating: hw2/test/0/0469.jpg     \n",
            "  inflating: hw2/test/0/0470.jpg     \n",
            "  inflating: hw2/test/0/0103.jpg     \n",
            "  inflating: hw2/test/0/0160.jpg     \n",
            "  inflating: hw2/test/0/0138.jpg     \n",
            "  inflating: hw2/test/0/0334.jpg     \n",
            "  inflating: hw2/test/0/0170.jpg     \n",
            "  inflating: hw2/test/0/0493.jpg     \n",
            "  inflating: hw2/test/0/0281.jpg     \n",
            "  inflating: hw2/test/0/0411.jpg     \n",
            "  inflating: hw2/test/0/0027.jpg     \n",
            "  inflating: hw2/test/0/0408.jpg     \n",
            "  inflating: hw2/test/0/0441.jpg     \n",
            "  inflating: hw2/test/0/0405.jpg     \n",
            "   creating: hw2/test/2/\n",
            "  inflating: hw2/test/2/0486.jpg     \n",
            "  inflating: hw2/test/2/0083.jpg     \n",
            "  inflating: hw2/test/2/0343.jpg     \n",
            "  inflating: hw2/test/2/0129.jpg     \n",
            "  inflating: hw2/test/2/0172.jpg     \n",
            "  inflating: hw2/test/2/0038.jpg     \n",
            "  inflating: hw2/test/2/0347.jpg     \n",
            "  inflating: hw2/test/2/0088.jpg     \n",
            "  inflating: hw2/test/2/0259.jpg     \n",
            "  inflating: hw2/test/2/0355.jpg     \n",
            "  inflating: hw2/test/2/0364.jpg     \n",
            "  inflating: hw2/test/2/0113.jpg     \n",
            "  inflating: hw2/test/2/0262.jpg     \n",
            "  inflating: hw2/test/2/0374.jpg     \n",
            "  inflating: hw2/test/2/0066.jpg     \n",
            "  inflating: hw2/test/2/0434.jpg     \n",
            "  inflating: hw2/test/2/0212.jpg     \n",
            "  inflating: hw2/test/2/0115.jpg     \n",
            "  inflating: hw2/test/2/0488.jpg     \n",
            "  inflating: hw2/test/2/0029.jpg     \n",
            "  inflating: hw2/test/2/0310.jpg     \n",
            "  inflating: hw2/test/2/0446.jpg     \n",
            "  inflating: hw2/test/2/0330.jpg     \n",
            "  inflating: hw2/test/2/0013.jpg     \n",
            "  inflating: hw2/test/2/0134.jpg     \n",
            "  inflating: hw2/test/2/0395.jpg     \n",
            "  inflating: hw2/test/2/0233.jpg     \n",
            "  inflating: hw2/test/2/0181.jpg     \n",
            "  inflating: hw2/test/2/0349.jpg     \n",
            "  inflating: hw2/test/2/0245.jpg     \n",
            "  inflating: hw2/test/2/0481.jpg     \n",
            "  inflating: hw2/test/2/0178.jpg     \n",
            "  inflating: hw2/test/2/0005.jpg     \n",
            "  inflating: hw2/test/2/0346.jpg     \n",
            "  inflating: hw2/test/2/0491.jpg     \n",
            "  inflating: hw2/test/2/0357.jpg     \n",
            "  inflating: hw2/test/2/0224.jpg     \n",
            "  inflating: hw2/test/2/0267.jpg     \n",
            "  inflating: hw2/test/2/0407.jpg     \n",
            "  inflating: hw2/test/2/0437.jpg     \n",
            "  inflating: hw2/test/2/0040.jpg     \n",
            "  inflating: hw2/test/2/0339.jpg     \n",
            "  inflating: hw2/test/2/0199.jpg     \n",
            "  inflating: hw2/test/2/0052.jpg     \n",
            "  inflating: hw2/test/2/0352.jpg     \n",
            "  inflating: hw2/test/2/0161.jpg     \n",
            "  inflating: hw2/test/2/0348.jpg     \n",
            "  inflating: hw2/test/2/0007.jpg     \n",
            "  inflating: hw2/test/2/0149.jpg     \n",
            "  inflating: hw2/test/2/0032.jpg     \n",
            "  inflating: hw2/test/2/0419.jpg     \n",
            "  inflating: hw2/test/2/0047.jpg     \n",
            "  inflating: hw2/test/2/0146.jpg     \n",
            "  inflating: hw2/test/2/0087.jpg     \n",
            "  inflating: hw2/test/2/0173.jpg     \n",
            "  inflating: hw2/test/2/0319.jpg     \n",
            "  inflating: hw2/test/2/0305.jpg     \n",
            "  inflating: hw2/test/2/0483.jpg     \n",
            "  inflating: hw2/test/2/0183.jpg     \n",
            "  inflating: hw2/test/2/0060.jpg     \n",
            "  inflating: hw2/test/2/0009.jpg     \n",
            "  inflating: hw2/test/2/0302.jpg     \n",
            "  inflating: hw2/test/2/0453.jpg     \n",
            "  inflating: hw2/test/2/0467.jpg     \n",
            "  inflating: hw2/test/2/0241.jpg     \n",
            "  inflating: hw2/test/2/0406.jpg     \n",
            "  inflating: hw2/test/2/0458.jpg     \n",
            "  inflating: hw2/test/2/0255.jpg     \n",
            "  inflating: hw2/test/2/0001.jpg     \n",
            "  inflating: hw2/test/2/0077.jpg     \n",
            "  inflating: hw2/test/2/0122.jpg     \n",
            "  inflating: hw2/test/2/0163.jpg     \n",
            "  inflating: hw2/test/2/0093.jpg     \n",
            "  inflating: hw2/test/2/0400.jpg     \n",
            "  inflating: hw2/test/2/0104.jpg     \n",
            "  inflating: hw2/test/2/0450.jpg     \n",
            "  inflating: hw2/test/2/0243.jpg     \n",
            "  inflating: hw2/test/2/0209.jpg     \n",
            "  inflating: hw2/test/2/0447.jpg     \n",
            "  inflating: hw2/test/2/0460.jpg     \n",
            "  inflating: hw2/test/2/0051.jpg     \n",
            "  inflating: hw2/test/2/0410.jpg     \n",
            "  inflating: hw2/test/2/0177.jpg     \n",
            "  inflating: hw2/test/2/0474.jpg     \n",
            "  inflating: hw2/test/2/0211.jpg     \n",
            "  inflating: hw2/test/2/0006.jpg     \n",
            "  inflating: hw2/test/2/0286.jpg     \n",
            "  inflating: hw2/test/2/0393.jpg     \n",
            "  inflating: hw2/test/2/0090.jpg     \n",
            "  inflating: hw2/test/2/0438.jpg     \n",
            "  inflating: hw2/test/2/0404.jpg     \n",
            "  inflating: hw2/test/2/0194.jpg     \n",
            "  inflating: hw2/test/2/0403.jpg     \n",
            "  inflating: hw2/test/2/0414.jpg     \n",
            "  inflating: hw2/test/2/0165.jpg     \n",
            "  inflating: hw2/test/2/0435.jpg     \n",
            "  inflating: hw2/test/2/0127.jpg     \n",
            "  inflating: hw2/test/2/0154.jpg     \n",
            "  inflating: hw2/test/2/0214.jpg     \n",
            "  inflating: hw2/test/2/0416.jpg     \n",
            "  inflating: hw2/test/2/0078.jpg     \n",
            "  inflating: hw2/test/2/0328.jpg     \n",
            "  inflating: hw2/test/2/0131.jpg     \n",
            "  inflating: hw2/test/2/0114.jpg     \n",
            "  inflating: hw2/test/2/0466.jpg     \n",
            "  inflating: hw2/test/2/0399.jpg     \n",
            "  inflating: hw2/test/2/0221.jpg     \n",
            "  inflating: hw2/test/2/0368.jpg     \n",
            "  inflating: hw2/test/2/0053.jpg     \n",
            "  inflating: hw2/test/2/0449.jpg     \n",
            "  inflating: hw2/test/2/0294.jpg     \n",
            "  inflating: hw2/test/2/0068.jpg     \n",
            "  inflating: hw2/test/2/0445.jpg     \n",
            "  inflating: hw2/test/2/0035.jpg     \n",
            "  inflating: hw2/test/2/0145.jpg     \n",
            "  inflating: hw2/test/2/0271.jpg     \n",
            "  inflating: hw2/test/2/0071.jpg     \n",
            "  inflating: hw2/test/2/0010.jpg     \n",
            "  inflating: hw2/test/2/0337.jpg     \n",
            "  inflating: hw2/test/2/0401.jpg     \n",
            "  inflating: hw2/test/2/0121.jpg     \n",
            "  inflating: hw2/test/2/0476.jpg     \n",
            "  inflating: hw2/test/2/0034.jpg     \n",
            "  inflating: hw2/test/2/0198.jpg     \n",
            "  inflating: hw2/test/2/0024.jpg     \n"
          ]
        }
      ]
    },
    {
      "cell_type": "markdown",
      "id": "4aa04058",
      "metadata": {
        "id": "4aa04058"
      },
      "source": [
        "## 1. Image Preprocessing and Augmentation"
      ]
    },
    {
      "cell_type": "code",
      "execution_count": 2,
      "id": "66938e44",
      "metadata": {
        "id": "66938e44"
      },
      "outputs": [],
      "source": [
        "from IPython.display import display\n",
        "from PIL import Image\n",
        "from pathlib import Path\n",
        "import numpy as np\n",
        "import pandas as pd\n",
        "import shutil, time, os, requests, random, copy\n",
        "\n",
        "import torch\n",
        "import torch.nn as nn\n",
        "import torch.nn.functional as F\n",
        "import torch.optim as optim\n",
        "from torch.utils.data import Dataset, DataLoader\n",
        "from torchvision import datasets, transforms, models\n",
        "import torchvision\n",
        "import matplotlib.pyplot as plt\n",
        "%matplotlib inline\n",
        "\n",
        "from sklearn.manifold import TSNE"
      ]
    },
    {
      "cell_type": "code",
      "source": [
        "class Config:\n",
        "\n",
        "    def __init__(self):\n",
        "\n",
        "        self.batch_size = 128\n",
        "        self.nb_epochs_per_saving = 1\n",
        "        self.pin_mem = True\n",
        "        self.num_cpu_workers = 2\n",
        "        self.nb_epochs = 200\n",
        "        self.cuda = True\n",
        "        # Optimizer\n",
        "        self.lr = 1e-4\n",
        "        self.weight_decay = 5e-5\n",
        "        # Hyperparameters for our y-Aware InfoNCE Loss\n",
        "        self.sigma = 5 # depends on the meta-data at hand\n",
        "        self.temperature = 0.1\n",
        "        self.tf = \"all_tf\"\n",
        "        self.model = \"ResNet50\"\n",
        "\n",
        "\n",
        "        self.input_size = (3, 96, 96)\n",
        "\n",
        "        self.checkpoint_dir = \"save1/\"\n",
        "\n",
        "config = Config()      "
      ],
      "metadata": {
        "id": "yFl_kqR_UF9A"
      },
      "id": "yFl_kqR_UF9A",
      "execution_count": 6,
      "outputs": []
    },
    {
      "cell_type": "code",
      "source": [
        "TRAIN =Path(\"hw2/unlabeled\")\n",
        "TEST =Path(\"hw2/test\")\n",
        "#BATCH_SIZE = 256;\n",
        "\n",
        "train_transform_set = [ \n",
        "    transforms.RandomHorizontalFlip(p=0.5),\n",
        "    transforms.RandomApply([transforms.ColorJitter(brightness=0.5,contrast=0.5,saturation=0.5,hue=0.1)], p=0.8),\n",
        "    #transforms.Pad(padding=(0, 0, 8, 16), fill=128),\n",
        "    #transforms.GaussianBlur(kernel_size=9),\n",
        "    \n",
        "]\n",
        "train_transform = transforms.Compose([\n",
        "    transforms.RandomOrder(train_transform_set),\n",
        "    #transforms.Grayscale(1),\n",
        "    transforms.ToTensor(),\n",
        "    transforms.Normalize((0.5,), (0.5,))\n",
        "])\n",
        "test_transform = transforms.Compose([ \n",
        "    #transforms.Grayscale(1),\n",
        "    transforms.ToTensor(),\n",
        "    transforms.Normalize((0.5,), (0.5,))\n",
        "])\n"
      ],
      "metadata": {
        "id": "YSBdpxWRJDzO"
      },
      "id": "YSBdpxWRJDzO",
      "execution_count": 7,
      "outputs": []
    },
    {
      "cell_type": "code",
      "source": [
        "import natsort\n",
        "from torch.utils.data import DataLoader, Dataset, RandomSampler\n",
        "class CustomDataSet(Dataset):\n",
        "    def __init__(self, main_dir, transform, mode):\n",
        "        self.main_dir = main_dir\n",
        "        self.transform = transform\n",
        "        if mode==\"train\":\n",
        "          all_imgs = os.listdir(main_dir)\n",
        "        elif mode==\"test\":\n",
        "          all_imgs=[]\n",
        "          for path, subdirs, files in os.walk(main_dir):\n",
        "              for name in files:\n",
        "                  all_imgs.append(os.path.join(path, name))\n",
        "        self.total_imgs = natsort.natsorted(all_imgs)\n",
        "        self.mode = mode\n",
        "    def __len__(self):\n",
        "        return len(self.total_imgs)\n",
        "\n",
        "    def __getitem__(self, idx):\n",
        "        if self.mode==\"train\":\n",
        "          img_loc = os.path.join(self.main_dir, self.total_imgs[idx])\n",
        "        elif self.mode==\"test\":\n",
        "          img_loc=self.total_imgs[idx]\n",
        "        image = Image.open(img_loc)#.convert(\"RGB\")\n",
        "        \n",
        "        if self.mode==\"test\":\n",
        "          \"\"\"labels = os.path.basename(os.path.dirname(img_loc)) \n",
        "          x = self.transform(image)\n",
        "          x = torch.from_numpy(np.asarray(x))\n",
        "          x = x.reshape(1, x.shape[0], x.shape[1], x.shape[2])\n",
        "          labels = torch.from_numpy(np.asarray(int(labels)))\n",
        "          return (x, labels)\"\"\"\n",
        "          x1 = self.transform(image)\n",
        "          x2 = self.transform(image)\n",
        "          x = np.stack((x1, x2), axis=0)\n",
        "          x = torch.from_numpy(np.asarray(x))\n",
        "          return x\n",
        "        else:\n",
        "          x1 = self.transform(image)\n",
        "          x2 = self.transform(image)\n",
        "          x = np.stack((x1, x2), axis=0)\n",
        "          x = torch.from_numpy(np.asarray(x))\n",
        "          return x\n",
        "\n",
        "train_set = CustomDataSet(\"hw2/unlabeled\", transform=train_transform, mode = \"train\")\n",
        "test_set = CustomDataSet(\"hw2/test\", transform=test_transform, mode = \"test\")\n",
        "\n",
        "train_loader = DataLoader(\n",
        "    train_set,\n",
        "    batch_size=config.batch_size,\n",
        "    sampler=RandomSampler(train_set),\n",
        "    #collate_fn=train_set.collate_fn,\n",
        "    pin_memory=config.pin_mem,\n",
        "    num_workers=config.num_cpu_workers\n",
        "                              \n",
        ")\n",
        "val_loader = DataLoader(\n",
        "    test_set,\n",
        "    batch_size=config.batch_size,\n",
        "    sampler=RandomSampler(test_set),\n",
        "    #collate_fn=test_set.collate_fn,\n",
        "    pin_memory=config.pin_mem,\n",
        "    num_workers=config.num_cpu_workers\n",
        ")"
      ],
      "metadata": {
        "id": "NSQAzeUx8oyx"
      },
      "id": "NSQAzeUx8oyx",
      "execution_count": 8,
      "outputs": []
    },
    {
      "cell_type": "markdown",
      "source": [
        "## 2. Model Definition\n"
      ],
      "metadata": {
        "id": "3vN3iysTDWfb"
      },
      "id": "3vN3iysTDWfb"
    },
    {
      "cell_type": "code",
      "source": [
        "import torch\n",
        "import torch.nn as nn\n",
        "\n",
        "class ResNet(nn.Module):\n",
        "\n",
        "    def __init__(self, num_classes, in_channels=1, depth=5, mode=\"simCLR\"):\n",
        "        \"\"\"\n",
        "        num_classes: int\n",
        "            the number of features in the output segmentation map (in 'seg' mode) or\n",
        "            number of classes (in 'classif' mode)\n",
        "        in_channels: int, default 1\n",
        "            number of channels in the input tensor.\n",
        "        depth: int, default 5\n",
        "            number of layers in the U-Net.\n",
        "        mode: 'str', default 'seg'\n",
        "            Whether the network is turned in 'segmentation' mode (\"seg\"), 'classification' (\"classif\"),\n",
        "            'encoder' (only encoder pathway) or 'simCLR' (encoder pathway and non-linear head projection)\n",
        "        \"\"\"\n",
        "        super(ResNet, self).__init__()\n",
        "        self.mode = mode\n",
        "        \n",
        "        self.start_filts = 16 # Initial nb of kernels\n",
        "        self.down_mode = \"maxpool\"\n",
        "        self.num_classes = num_classes\n",
        "        self.in_channels = in_channels\n",
        "        self.depth = depth\n",
        "        self.classifier = None # Useful in classif mode\n",
        "        self.name = \"Resnet_D%i_%s\" % (self.depth, self.mode)\n",
        "\n",
        "        self.encoder = torchvision.models.resnet50(pretrained=False,num_classes=512)\n",
        "\n",
        "\n",
        "        \n",
        "        if self.mode == \"classif\":\n",
        "            #self.classifier = Classifier(self.num_classes, features=self.start_filts * 2**(self.depth-1))\n",
        "            self.fc1 = nn.Linear(512, 512, bias=True)\n",
        "            self.fc2 = nn.Linear(512, self.num_classes, bias=True)\n",
        "            self.relu = nn.LeakyReLU(inplace=True)\n",
        "\n",
        "        elif self.mode == 'simCLR':\n",
        "            self.hidden_representation = nn.Linear(512, 512)\n",
        "            self.head_projection_1 = nn.Linear(512, 512)\n",
        "            self.head_projection_2 = nn.Linear(512, 512)\n",
        "\n",
        "        \n",
        "        \n",
        "\n",
        "    def forward(self, x):\n",
        "        \n",
        "        x_enc = self.encoder(x)\n",
        "\n",
        "        if self.mode == 'simCLR':\n",
        "            #x_enc = nn.functional.relu(x_enc)\n",
        "            #x_enc = nn.functional.adaptive_avg_pool3d(x_enc, 1)\n",
        "            #x_enc = nn.functional.adaptive_avg_pool2d(x_enc, 1)\n",
        "            x_enc = torch.flatten(x_enc, 1)\n",
        "            x_enc = self.hidden_representation(x_enc)\n",
        "            x_enc = nn.functional.relu(x_enc)\n",
        "            x_enc = self.head_projection_1(x_enc)\n",
        "            x_enc = nn.functional.relu(x_enc)\n",
        "            x_enc = self.head_projection_2(x_enc)\n",
        "            return x_enc\n",
        "        \n",
        "        elif self.mode == \"classif\":\n",
        "            x = torch.flatten(x_enc, 1)\n",
        "            x = self.relu(self.fc1(x))\n",
        "            x = self.relu(self.fc2(x))\n",
        "            return x.squeeze(1)\n",
        "\n",
        "       \n",
        "\n",
        "\n",
        "class Classifier(nn.Module):\n",
        "    def __init__(self, nb_classes, features):\n",
        "        super(Classifier, self).__init__()\n",
        "        self.num_classes = nb_classes\n",
        "        self.features = features\n",
        "        self.fc1 = nn.Linear(512, 512, bias=True)\n",
        "        self.fc2 = nn.Linear(512, self.num_classes, bias=True)\n",
        "        self.relu = nn.LeakyReLU(inplace=True)\n",
        "        #self.avgpool = nn.AdaptiveAvgPool3d(1)\n",
        "        self.avgpool = nn.AdaptiveAvgPool2d(1)\n",
        "\n",
        "    def forward(self, x):\n",
        "        x = torch.flatten(x, 1)\n",
        "        x = self.relu(self.fc1(x))\n",
        "        x = self.relu(self.fc2(x))\n",
        "        return x.squeeze(1)\n",
        "\n",
        "\n"
      ],
      "metadata": {
        "id": "x2wqzt0BVVn-"
      },
      "id": "x2wqzt0BVVn-",
      "execution_count": 9,
      "outputs": []
    },
    {
      "cell_type": "code",
      "source": [
        "net = ResNet(4, mode=\"simCLR\")"
      ],
      "metadata": {
        "id": "uAqlpnCmWbRn"
      },
      "id": "uAqlpnCmWbRn",
      "execution_count": 10,
      "outputs": []
    },
    {
      "cell_type": "markdown",
      "source": [
        "## 3. Loss Definition"
      ],
      "metadata": {
        "id": "YD3HbBseDfft"
      },
      "id": "YD3HbBseDfft"
    },
    {
      "cell_type": "code",
      "source": [
        "import logging\n",
        "import math\n",
        "import numpy as np\n",
        "import torch\n",
        "import torch.nn as nn\n",
        "import torch.nn.functional as func\n",
        "from sklearn.metrics.pairwise import rbf_kernel\n",
        "import numpy as np\n",
        "\n",
        "class GeneralizedSupervisedNTXenLoss(nn.Module):\n",
        "    def __init__(self, kernel='rbf', temperature=0.1, return_logits=False, sigma=1.0):\n",
        "       \n",
        "        super().__init__()\n",
        "        self.kernel = kernel\n",
        "        self.sigma = sigma\n",
        "        if self.kernel == 'rbf':\n",
        "            self.kernel = lambda y1, y2: rbf_kernel(y1, y2, gamma=1./(2*self.sigma**2))\n",
        "        else:\n",
        "            assert hasattr(self.kernel, '__call__'), 'kernel must be a callable'\n",
        "        self.temperature = temperature\n",
        "        self.return_logits = return_logits\n",
        "        self.INF = 1e8\n",
        "\n",
        "    def forward(self, z_i, z_j, labels):\n",
        "        N = len(z_i)\n",
        "        z_i = func.normalize(z_i, p=2, dim=-1) \n",
        "        z_j = func.normalize(z_j, p=2, dim=-1) \n",
        "        sim_zii= (z_i @ z_i.T) / self.temperature \n",
        "        sim_zjj = (z_j @ z_j.T) / self.temperature \n",
        "        sim_zij = (z_i @ z_j.T) / self.temperature \n",
        "        sim_zii = sim_zii - self.INF * torch.eye(N, device=z_i.device)\n",
        "        sim_zjj = sim_zjj - self.INF * torch.eye(N, device=z_i.device)\n",
        "\n",
        "        all_labels = labels.view(N, -1).repeat(2, 1).detach().cpu().numpy() # [2N, *]\n",
        "        weights = self.kernel(all_labels, all_labels) \n",
        "        weights = weights * (1 - np.eye(2*N)) \n",
        "        weights /= weights.sum(axis=1)\n",
        "        sim_Z = torch.cat([torch.cat([sim_zii, sim_zij], dim=1), torch.cat([sim_zij.T, sim_zjj], dim=1)], dim=0) # [2N, 2N]\n",
        "        log_sim_Z = func.log_softmax(sim_Z, dim=1)\n",
        "\n",
        "        loss = -1./N * (torch.from_numpy(weights).to(z_i.device) * log_sim_Z).sum()\n",
        "\n",
        "        correct_pairs = torch.arange(N, device=z_i.device).long()\n",
        "\n",
        "        if self.return_logits:\n",
        "            return loss, sim_zij, correct_pairs\n",
        "\n",
        "        return loss\n",
        "\n",
        "    def __str__(self):\n",
        "        return \"{}(temp={}, kernel={}, sigma={})\".format(type(self).__name__, self.temperature,\n",
        "                                                         self.kernel.__name__, self.sigma)\n",
        "\n",
        "\n",
        "\n",
        "class NTXenLoss(nn.Module):\n",
        "\n",
        "    def __init__(self, temperature=0.1, return_logits=False):\n",
        "        super().__init__()\n",
        "        self.temperature = temperature\n",
        "        self.INF = 1e8\n",
        "        self.return_logits = return_logits\n",
        "\n",
        "    def forward(self, z_i, z_j):\n",
        "        N = len(z_i)\n",
        "        z_i = func.normalize(z_i, p=2, dim=-1) # dim [N, D]\n",
        "        z_j = func.normalize(z_j, p=2, dim=-1) # dim [N, D]\n",
        "        sim_zii= (z_i @ z_i.T) / self.temperature # dim [N, N] => Upper triangle contains incorrect pairs\n",
        "        sim_zjj = (z_j @ z_j.T) / self.temperature # dim [N, N] => Upper triangle contains incorrect pairs\n",
        "        sim_zij = (z_i @ z_j.T) / self.temperature # dim [N, N] => the diag contains the correct pairs (i,j) (x transforms via T_i and T_j)\n",
        "        # 'Remove' the diag terms by penalizing it (exp(-inf) = 0)\n",
        "        sim_zii = sim_zii - self.INF * torch.eye(N, device=z_i.device)\n",
        "        sim_zjj = sim_zjj - self.INF * torch.eye(N, device=z_i.device)\n",
        "        correct_pairs = torch.arange(N, device=z_i.device).long()\n",
        "        loss_i = func.cross_entropy(torch.cat([sim_zij, sim_zii], dim=1), correct_pairs)\n",
        "        loss_j = func.cross_entropy(torch.cat([sim_zij.T, sim_zjj], dim=1), correct_pairs)\n",
        "\n",
        "        if self.return_logits:\n",
        "            return (loss_i + loss_j), sim_zij, correct_pairs\n",
        "\n",
        "        return (loss_i + loss_j)\n",
        "\n",
        "    def __str__(self):\n",
        "        return \"{}(temp={})\".format(type(self).__name__, self.temperature)"
      ],
      "metadata": {
        "id": "WudmyjeqW4Q1"
      },
      "id": "WudmyjeqW4Q1",
      "execution_count": 11,
      "outputs": []
    },
    {
      "cell_type": "code",
      "source": [
        "train_loss = NTXenLoss(temperature=config.temperature,return_logits=False)\n",
        "val_loss =  GeneralizedSupervisedNTXenLoss(temperature=config.temperature,\n",
        "                                              kernel='rbf',\n",
        "                                              sigma=config.sigma,\n",
        "                                              return_logits=True)"
      ],
      "metadata": {
        "id": "D49VygcaW4yF"
      },
      "id": "D49VygcaW4yF",
      "execution_count": 12,
      "outputs": []
    },
    {
      "cell_type": "code",
      "source": [
        "def KNN(emb, cls, batch_size):\n",
        "    Ks=[1, 10, 50, 100]\n",
        "    preds = []\n",
        "    mask = torch.eye(batch_size).bool().cuda()\n",
        "    mask = F.pad(mask, (0, len(emb) - batch_size))\n",
        "    for batch_x in torch.split(emb, batch_size):\n",
        "        dist = torch.norm(\n",
        "            batch_x.unsqueeze(1) - emb.unsqueeze(0), dim=2, p=\"fro\")\n",
        "        now_batch_size = len(batch_x)\n",
        "        mask = mask[:now_batch_size]\n",
        "        dist = torch.masked_fill(dist, mask, float('inf'))\n",
        "        # update mask\n",
        "        mask = F.pad(mask[:, :-now_batch_size], (now_batch_size, 0))\n",
        "        pred = []\n",
        "        for K in Ks:\n",
        "            knn = dist.topk(K, dim=1, largest=False).indices\n",
        "            knn = cls[knn].cpu()\n",
        "            pred.append(torch.mode(knn).values)\n",
        "            \n",
        "            \n",
        "        pred = torch.stack(pred, dim=0)\n",
        "        preds.append(pred)\n",
        "    preds = torch.cat(preds, dim=1)\n",
        "    accs = [(pred == cls.cpu()).float().mean().item() for pred in preds]\n",
        "    return max(accs)"
      ],
      "metadata": {
        "id": "RpB_2HznB_K8"
      },
      "id": "RpB_2HznB_K8",
      "execution_count": 13,
      "outputs": []
    },
    {
      "cell_type": "markdown",
      "source": [
        "## 4. Training"
      ],
      "metadata": {
        "id": "1Ddr49FLDmf4"
      },
      "id": "1Ddr49FLDmf4"
    },
    {
      "cell_type": "code",
      "source": [
        "from tqdm import tqdm\n",
        "from torch.nn import DataParallel\n",
        "from torch.nn import CrossEntropyLoss\n",
        "\n",
        "class yAwareCLModel:\n",
        "\n",
        "    def __init__(self, net, train_loss, val_loss, loader_train, loader_val, config, scheduler=None):\n",
        "\n",
        "        super().__init__()\n",
        "        self.logger = logging.getLogger(\"yAwareCL\")\n",
        "        self.train_loss = train_loss\n",
        "        self.val_loss = val_loss\n",
        "        self.fine_loss = CrossEntropyLoss()\n",
        "        self.model = net\n",
        "        self.optimizer = torch.optim.Adam(net.parameters(), lr=config.lr, weight_decay=config.weight_decay)\n",
        "        self.scheduler = scheduler\n",
        "        self.loader = loader_train\n",
        "        self.loader_val = loader_val\n",
        "        self.device = torch.device(\"cuda\" if config.cuda else \"cpu\")\n",
        "        if config.cuda and not torch.cuda.is_available():\n",
        "            raise ValueError(\"No GPU found: set cuda=False parameter.\")\n",
        "        self.config = config\n",
        "        self.metrics = {}\n",
        "\n",
        "        \n",
        "        self.model = DataParallel(self.model).to(self.device)\n",
        "\n",
        "    def pretraining(self):\n",
        "        #print(self.loss)\n",
        "        #print(self.optimizer)\n",
        "        max_acc = -1\n",
        "        min_loss = 100\n",
        "        for epoch in tqdm(range(self.config.nb_epochs)):\n",
        "\n",
        "            ## Training step\n",
        "            self.model.train()\n",
        "            nb_batch = len(self.loader)\n",
        "            batch_num = len(self.loader_val)\n",
        "            training_loss = 0\n",
        "            #pbar = tqdm(total=nb_batch, desc=\"Training\")\n",
        "            #for (inputs, labels) in self.loader:\n",
        "            for inputs in self.loader:\n",
        "                #pbar.update()\n",
        "                inputs = inputs.to(self.device)\n",
        "                #labels = labels.to(self.device)\n",
        "                self.optimizer.zero_grad()\n",
        "                z_i = self.model(inputs[:, 0, :])\n",
        "                z_j = self.model(inputs[:, 1, :])\n",
        "                #print('train', inputs[:, 0, :].size(), ' ', z_i.size())\n",
        "                #batch_loss, logits, target = self.loss(z_i, z_j, labels)\n",
        "                batch_loss = self.train_loss(z_i, z_j)\n",
        "                batch_loss.backward()\n",
        "                self.optimizer.step()\n",
        "                training_loss += float(batch_loss) / nb_batch\n",
        "            #pbar.close()\n",
        "\n",
        "            ## Validation step\n",
        "            nb_batch = len(self.loader_val)\n",
        "            val_loss = 0\n",
        "            val_acc = 0\n",
        "            val_values = {}\n",
        "            with torch.no_grad():\n",
        "                self.model.eval()\n",
        "                for (inputs) in self.loader_val:\n",
        "                    inputs = inputs.to(self.device)\n",
        "                    z_i = self.model(inputs[:, 0, :])\n",
        "                    z_j = self.model(inputs[:, 1, :])\n",
        "                    batch_loss = self.train_loss(z_i, z_j)\n",
        "                    val_loss += float(batch_loss) / nb_batch\n",
        "                    \n",
        "                \"\"\"for (inputs, labels) in self.loader_val:\n",
        "                  inputs = inputs.to(self.device)\n",
        "                  labels = labels.to(self.device)\n",
        "                  z_i = self.model(inputs[:, 0, :])\n",
        "                  acc = KNN(z_i, labels, config.batch_size)\n",
        "                  val_acc += float(acc) / batch_num  \"\"\"    \n",
        "            print(\"Epoch [{}/{}] Training loss = {:.4f}\\t Validation Loss = {:.4f}\\t\".format(epoch+1, self.config.nb_epochs, training_loss, val_loss))\n",
        "            #metrics = \"\\t\".join([\"Validation {}: {:.4f}\".format(m, v) for (m, v) in val_values.items()])\n",
        "            #print(\"Epoch [{}/{}] Training loss = {:.4f}\\t Validation loss = {:.4f}\\t\".format(\n",
        "            #    epoch+1, self.config.nb_epochs, training_loss, val_loss)+metrics, flush=True)\n",
        "\n",
        "            if self.scheduler is not None:\n",
        "                self.scheduler.step()\n",
        "\n",
        "            if (epoch % self.config.nb_epochs_per_saving == 0 or epoch == self.config.nb_epochs - 1) and epoch>5 and val_loss<min_loss:\n",
        "                min_loss = val_loss\n",
        "                torch.save({\n",
        "                    \"epoch\": epoch,\n",
        "                    \"model\": self.model.state_dict(),\n",
        "                    \"optimizer\": self.optimizer.state_dict()},\n",
        "                    os.path.join(self.config.checkpoint_dir, \"{val_acc}_epoch_{epoch}.pth\".\n",
        "                                 format(val_acc=val_acc, epoch=epoch)))\n",
        "\n",
        "\n",
        "    def fine_tuning(self):\n",
        "        loss = CrossEntropyLoss()\n",
        "        max_acc = -1\n",
        "        min_loss = 100\n",
        "        batch_num = len(self.loader)\n",
        "        for epoch in tqdm(range(10)):\n",
        "            ## Training step\n",
        "            self.model.train()\n",
        "            nb_batch = len(self.loader)\n",
        "            training_loss = 0\n",
        "            for (inputs, labels) in self.loader:\n",
        "                inputs = inputs.to(self.device)\n",
        "                labels = labels.to(self.device)\n",
        "                self.optimizer.zero_grad()\n",
        "                y = self.model(inputs)\n",
        "                #print(\"y\", y.size(), \"label\", labels.size())\n",
        "                batch_loss = loss(y,labels)\n",
        "                batch_loss.backward()\n",
        "                #print('batch', batch_loss.detach().cpu().numpy())\n",
        "                self.optimizer.step()\n",
        "                training_loss +=  np.float32(batch_loss.detach().cpu().numpy()) / nb_batch\n",
        "\n",
        "            ## Validation step\n",
        "            \n",
        "            val_acc = 0\n",
        "            val_loss = 0\n",
        "            with torch.no_grad():\n",
        "                self.model.eval()\n",
        "                for (inputs, labels) in self.loader_val:\n",
        "                  inputs = inputs.to(self.device)\n",
        "                  labels = labels.to(self.device)\n",
        "                  y = self.model(inputs)\n",
        "                  batch_loss = loss(y,labels)\n",
        "                  val_loss +=  np.float32(batch_loss.detach().cpu().numpy()) / nb_batch\n",
        "                  #print('test', inputs.size(), ' ', z_i.size())\n",
        "                  acc = KNN(y, labels, config.batch_size)\n",
        "                  val_acc += float(acc) / len(self.loader_val) \n",
        "            \n",
        "            print(\"Epoch [{}/{}] Training loss = {:.4f}\\t Validation Loss = {:.4f}\\t Validation Accuracy = {:.4f}\\t\".format(epoch+1, self.config.nb_epochs, training_loss, val_loss, val_acc))\n",
        "            torch.save({\n",
        "                    \"epoch\": epoch,\n",
        "                    \"model\": self.model.state_dict(),\n",
        "                    \"optimizer\": self.optimizer.state_dict()},\n",
        "                    os.path.join(self.config.checkpoint_dir, \"Finetune_{max_acc}_epoch_{epoch}.pth\".\n",
        "                                 format(max_acc=max_acc, epoch=epoch)))\n",
        "            \"\"\"if (epoch % self.config.nb_epochs_per_saving == 0 or epoch == self.config.nb_epochs - 1) and val_acc>max_acc:\n",
        "                max_acc = val_acc\n",
        "                torch.save({\n",
        "                    \"epoch\": epoch,\n",
        "                    \"model\": self.model.state_dict(),\n",
        "                    \"optimizer\": self.optimizer.state_dict()},\n",
        "                    os.path.join(self.config.checkpoint_dir, \"Finetune_{max_acc}_epoch_{epoch}.pth\".\n",
        "                                 format(max_acc=max_acc, epoch=epoch)))\"\"\"\n",
        "\n",
        "            if self.scheduler is not None:\n",
        "                self.scheduler.step()\n",
        "    def test1(self):\n",
        "        val_acc = 0\n",
        "        batch_num = len(self.loader_val)\n",
        "        with torch.no_grad():\n",
        "            self.model.eval()\n",
        "            for (inputs, labels) in self.loader_val:\n",
        "              inputs = inputs.to(self.device)\n",
        "              labels = labels.to(self.device)\n",
        "              z_i = self.model(inputs)\n",
        "              #print('test', inputs.size(), ' ', z_i.size())\n",
        "              acc = KNN(z_i, labels, config.batch_size)\n",
        "              val_acc += float(acc) / batch_num \n",
        "        \n",
        "        print(\"KNN Accuracy = {:.4f}\\t\".format(val_acc))\n",
        "    def test2(self):\n",
        "        loss = 0\n",
        "        batch_num = len(self.loader)\n",
        "        with torch.no_grad():\n",
        "            self.model.eval()\n",
        "            for (inputs) in self.loader:\n",
        "              inputs = inputs.to(self.device)\n",
        "              z_i = self.model(inputs[:, 0, :])\n",
        "              z_j = self.model(inputs[:, 1, :])\n",
        "              #print('train', inputs[:, 0, :].size(), ' ', z_i.size())\n",
        "              #batch_loss, logits, target = self.loss(z_i, z_j, labels)\n",
        "              batch_loss = self.train_loss(z_i, z_j)\n",
        "              loss += float(batch_loss) / len(self.loader)\n",
        "        \n",
        "        print(\"Loss = {:.4f}\\t\".format(loss))   \n",
        "    def load_model(self, path):\n",
        "            checkpoint = None\n",
        "            checkpoint = torch.load(path, map_location=lambda storage, loc: storage)\n",
        "            unexpected = self.model.load_state_dict(checkpoint[\"model\"], strict=False)\n",
        "            self.logger.info('Model loading info: {}'.format(unexpected))\n",
        "    "
      ],
      "metadata": {
        "id": "e9xib7CZXXXI"
      },
      "id": "e9xib7CZXXXI",
      "execution_count": 14,
      "outputs": []
    },
    {
      "cell_type": "code",
      "source": [
        "model = yAwareCLModel(net, train_loss, val_loss, train_loader, val_loader, config)\n",
        "model.pretraining()"
      ],
      "metadata": {
        "id": "RSI0vaU9YBfB",
        "colab": {
          "base_uri": "https://localhost:8080/"
        },
        "outputId": "defa4635-de0a-45fb-d909-a4d3e54c32c2"
      },
      "id": "RSI0vaU9YBfB",
      "execution_count": 16,
      "outputs": [
        {
          "output_type": "stream",
          "name": "stderr",
          "text": [
            "  0%|          | 1/200 [01:14<4:05:46, 74.10s/it]"
          ]
        },
        {
          "output_type": "stream",
          "name": "stdout",
          "text": [
            "Epoch [1/200] Training loss = 1.2666\t Validation Loss = 0.7806\t\n"
          ]
        },
        {
          "output_type": "stream",
          "name": "stderr",
          "text": [
            "\r  1%|          | 2/200 [02:28<4:05:20, 74.34s/it]"
          ]
        },
        {
          "output_type": "stream",
          "name": "stdout",
          "text": [
            "Epoch [2/200] Training loss = 0.9456\t Validation Loss = 0.7000\t\n"
          ]
        },
        {
          "output_type": "stream",
          "name": "stderr",
          "text": [
            "\r  2%|▏         | 3/200 [03:43<4:04:26, 74.45s/it]"
          ]
        },
        {
          "output_type": "stream",
          "name": "stdout",
          "text": [
            "Epoch [3/200] Training loss = 0.7584\t Validation Loss = 0.5887\t\n"
          ]
        },
        {
          "output_type": "stream",
          "name": "stderr",
          "text": [
            "\r  2%|▏         | 4/200 [04:57<4:03:22, 74.50s/it]"
          ]
        },
        {
          "output_type": "stream",
          "name": "stdout",
          "text": [
            "Epoch [4/200] Training loss = 0.6918\t Validation Loss = 0.5393\t\n"
          ]
        },
        {
          "output_type": "stream",
          "name": "stderr",
          "text": [
            "\r  2%|▎         | 5/200 [06:12<4:02:06, 74.49s/it]"
          ]
        },
        {
          "output_type": "stream",
          "name": "stdout",
          "text": [
            "Epoch [5/200] Training loss = 0.5907\t Validation Loss = 0.4786\t\n"
          ]
        },
        {
          "output_type": "stream",
          "name": "stderr",
          "text": [
            "\r  3%|▎         | 6/200 [07:26<4:00:50, 74.49s/it]"
          ]
        },
        {
          "output_type": "stream",
          "name": "stdout",
          "text": [
            "Epoch [6/200] Training loss = 0.5537\t Validation Loss = 0.5386\t\n",
            "Epoch [7/200] Training loss = 0.4808\t Validation Loss = 0.5193\t\n"
          ]
        },
        {
          "output_type": "stream",
          "name": "stderr",
          "text": [
            "  4%|▍         | 8/200 [09:56<3:59:04, 74.71s/it]"
          ]
        },
        {
          "output_type": "stream",
          "name": "stdout",
          "text": [
            "Epoch [8/200] Training loss = 0.4755\t Validation Loss = 0.5323\t\n",
            "Epoch [9/200] Training loss = 0.4236\t Validation Loss = 0.4356\t\n"
          ]
        },
        {
          "output_type": "stream",
          "name": "stderr",
          "text": [
            "  5%|▌         | 10/200 [12:26<3:56:43, 74.76s/it]"
          ]
        },
        {
          "output_type": "stream",
          "name": "stdout",
          "text": [
            "Epoch [10/200] Training loss = 0.3958\t Validation Loss = 0.4427\t\n",
            "Epoch [11/200] Training loss = 0.3930\t Validation Loss = 0.4030\t\n"
          ]
        },
        {
          "output_type": "stream",
          "name": "stderr",
          "text": [
            "  6%|▌         | 12/200 [14:56<3:54:19, 74.79s/it]"
          ]
        },
        {
          "output_type": "stream",
          "name": "stdout",
          "text": [
            "Epoch [12/200] Training loss = 0.3745\t Validation Loss = 0.4654\t\n",
            "Epoch [13/200] Training loss = 0.3767\t Validation Loss = 0.3928\t\n"
          ]
        },
        {
          "output_type": "stream",
          "name": "stderr",
          "text": [
            "  7%|▋         | 14/200 [17:25<3:51:52, 74.80s/it]"
          ]
        },
        {
          "output_type": "stream",
          "name": "stdout",
          "text": [
            "Epoch [14/200] Training loss = 0.3501\t Validation Loss = 0.4097\t\n"
          ]
        },
        {
          "output_type": "stream",
          "name": "stderr",
          "text": [
            "\r  8%|▊         | 15/200 [18:40<3:50:22, 74.71s/it]"
          ]
        },
        {
          "output_type": "stream",
          "name": "stdout",
          "text": [
            "Epoch [15/200] Training loss = 0.3436\t Validation Loss = 0.4208\t\n"
          ]
        },
        {
          "output_type": "stream",
          "name": "stderr",
          "text": [
            "\r  8%|▊         | 16/200 [19:55<3:48:58, 74.67s/it]"
          ]
        },
        {
          "output_type": "stream",
          "name": "stdout",
          "text": [
            "Epoch [16/200] Training loss = 0.3185\t Validation Loss = 0.5113\t\n",
            "Epoch [17/200] Training loss = 0.3183\t Validation Loss = 0.3466\t\n"
          ]
        },
        {
          "output_type": "stream",
          "name": "stderr",
          "text": [
            "\r  8%|▊         | 17/200 [21:10<3:48:18, 74.86s/it]"
          ]
        },
        {
          "output_type": "stream",
          "name": "stdout",
          "text": [
            "Epoch [18/200] Training loss = 0.3137\t Validation Loss = 0.3145\t\n"
          ]
        },
        {
          "output_type": "stream",
          "name": "stderr",
          "text": [
            " 10%|▉         | 19/200 [23:40<3:45:51, 74.87s/it]"
          ]
        },
        {
          "output_type": "stream",
          "name": "stdout",
          "text": [
            "Epoch [19/200] Training loss = 0.3229\t Validation Loss = 0.4426\t\n"
          ]
        },
        {
          "output_type": "stream",
          "name": "stderr",
          "text": [
            "\r 10%|█         | 20/200 [24:54<3:44:15, 74.75s/it]"
          ]
        },
        {
          "output_type": "stream",
          "name": "stdout",
          "text": [
            "Epoch [20/200] Training loss = 0.2972\t Validation Loss = 0.3630\t\n"
          ]
        },
        {
          "output_type": "stream",
          "name": "stderr",
          "text": [
            "\r 10%|█         | 21/200 [26:09<3:42:48, 74.68s/it]"
          ]
        },
        {
          "output_type": "stream",
          "name": "stdout",
          "text": [
            "Epoch [21/200] Training loss = 0.2956\t Validation Loss = 0.3889\t\n"
          ]
        },
        {
          "output_type": "stream",
          "name": "stderr",
          "text": [
            "\r 11%|█         | 22/200 [27:23<3:41:23, 74.62s/it]"
          ]
        },
        {
          "output_type": "stream",
          "name": "stdout",
          "text": [
            "Epoch [22/200] Training loss = 0.2835\t Validation Loss = 0.3674\t\n"
          ]
        },
        {
          "output_type": "stream",
          "name": "stderr",
          "text": [
            "\r 12%|█▏        | 23/200 [28:38<3:40:04, 74.60s/it]"
          ]
        },
        {
          "output_type": "stream",
          "name": "stdout",
          "text": [
            "Epoch [23/200] Training loss = 0.2643\t Validation Loss = 0.3420\t\n"
          ]
        },
        {
          "output_type": "stream",
          "name": "stderr",
          "text": [
            "\r 12%|█▏        | 24/200 [29:52<3:38:43, 74.56s/it]"
          ]
        },
        {
          "output_type": "stream",
          "name": "stdout",
          "text": [
            "Epoch [24/200] Training loss = 0.2661\t Validation Loss = 0.3476\t\n"
          ]
        },
        {
          "output_type": "stream",
          "name": "stderr",
          "text": [
            "\r 12%|█▎        | 25/200 [31:07<3:37:24, 74.54s/it]"
          ]
        },
        {
          "output_type": "stream",
          "name": "stdout",
          "text": [
            "Epoch [25/200] Training loss = 0.2478\t Validation Loss = 0.3318\t\n",
            "Epoch [26/200] Training loss = 0.2595\t Validation Loss = 0.3137\t\n"
          ]
        },
        {
          "output_type": "stream",
          "name": "stderr",
          "text": [
            "\r 13%|█▎        | 26/200 [32:22<3:36:44, 74.74s/it]"
          ]
        },
        {
          "output_type": "stream",
          "name": "stdout",
          "text": [
            "Epoch [27/200] Training loss = 0.2608\t Validation Loss = 0.3076\t\n"
          ]
        },
        {
          "output_type": "stream",
          "name": "stderr",
          "text": [
            " 14%|█▍        | 28/200 [34:52<3:34:23, 74.79s/it]"
          ]
        },
        {
          "output_type": "stream",
          "name": "stdout",
          "text": [
            "Epoch [28/200] Training loss = 0.2566\t Validation Loss = 0.3465\t\n"
          ]
        },
        {
          "output_type": "stream",
          "name": "stderr",
          "text": [
            "\r 14%|█▍        | 29/200 [36:06<3:32:55, 74.71s/it]"
          ]
        },
        {
          "output_type": "stream",
          "name": "stdout",
          "text": [
            "Epoch [29/200] Training loss = 0.2471\t Validation Loss = 0.3487\t\n"
          ]
        },
        {
          "output_type": "stream",
          "name": "stderr",
          "text": [
            "\r 15%|█▌        | 30/200 [37:21<3:31:27, 74.63s/it]"
          ]
        },
        {
          "output_type": "stream",
          "name": "stdout",
          "text": [
            "Epoch [30/200] Training loss = 0.2522\t Validation Loss = 0.3371\t\n"
          ]
        },
        {
          "output_type": "stream",
          "name": "stderr",
          "text": [
            "\r 16%|█▌        | 31/200 [38:35<3:30:08, 74.60s/it]"
          ]
        },
        {
          "output_type": "stream",
          "name": "stdout",
          "text": [
            "Epoch [31/200] Training loss = 0.2397\t Validation Loss = 0.3578\t\n",
            "Epoch [32/200] Training loss = 0.2415\t Validation Loss = 0.2970\t\n"
          ]
        },
        {
          "output_type": "stream",
          "name": "stderr",
          "text": [
            " 16%|█▋        | 33/200 [41:05<3:28:00, 74.73s/it]"
          ]
        },
        {
          "output_type": "stream",
          "name": "stdout",
          "text": [
            "Epoch [33/200] Training loss = 0.2358\t Validation Loss = 0.3483\t\n"
          ]
        },
        {
          "output_type": "stream",
          "name": "stderr",
          "text": [
            "\r 17%|█▋        | 34/200 [42:20<3:26:38, 74.69s/it]"
          ]
        },
        {
          "output_type": "stream",
          "name": "stdout",
          "text": [
            "Epoch [34/200] Training loss = 0.2283\t Validation Loss = 0.3252\t\n"
          ]
        },
        {
          "output_type": "stream",
          "name": "stderr",
          "text": [
            "\r 18%|█▊        | 35/200 [43:34<3:25:17, 74.65s/it]"
          ]
        },
        {
          "output_type": "stream",
          "name": "stdout",
          "text": [
            "Epoch [35/200] Training loss = 0.2367\t Validation Loss = 0.3540\t\n"
          ]
        },
        {
          "output_type": "stream",
          "name": "stderr",
          "text": [
            "\r 18%|█▊        | 36/200 [44:49<3:23:56, 74.61s/it]"
          ]
        },
        {
          "output_type": "stream",
          "name": "stdout",
          "text": [
            "Epoch [36/200] Training loss = 0.2353\t Validation Loss = 0.3464\t\n",
            "Epoch [37/200] Training loss = 0.2319\t Validation Loss = 0.2770\t\n"
          ]
        },
        {
          "output_type": "stream",
          "name": "stderr",
          "text": [
            " 19%|█▉        | 38/200 [47:19<3:21:46, 74.73s/it]"
          ]
        },
        {
          "output_type": "stream",
          "name": "stdout",
          "text": [
            "Epoch [38/200] Training loss = 0.2409\t Validation Loss = 0.2789\t\n"
          ]
        },
        {
          "output_type": "stream",
          "name": "stderr",
          "text": [
            "\r 20%|█▉        | 39/200 [48:33<3:20:19, 74.65s/it]"
          ]
        },
        {
          "output_type": "stream",
          "name": "stdout",
          "text": [
            "Epoch [39/200] Training loss = 0.2354\t Validation Loss = 0.3162\t\n"
          ]
        },
        {
          "output_type": "stream",
          "name": "stderr",
          "text": [
            "\r 20%|██        | 40/200 [49:48<3:18:55, 74.60s/it]"
          ]
        },
        {
          "output_type": "stream",
          "name": "stdout",
          "text": [
            "Epoch [40/200] Training loss = 0.2057\t Validation Loss = 0.2825\t\n"
          ]
        },
        {
          "output_type": "stream",
          "name": "stderr",
          "text": [
            "\r 20%|██        | 41/200 [51:02<3:17:36, 74.57s/it]"
          ]
        },
        {
          "output_type": "stream",
          "name": "stdout",
          "text": [
            "Epoch [41/200] Training loss = 0.2093\t Validation Loss = 0.3804\t\n"
          ]
        },
        {
          "output_type": "stream",
          "name": "stderr",
          "text": [
            "\r 21%|██        | 42/200 [52:17<3:16:14, 74.52s/it]"
          ]
        },
        {
          "output_type": "stream",
          "name": "stdout",
          "text": [
            "Epoch [42/200] Training loss = 0.2152\t Validation Loss = 0.3183\t\n",
            "Epoch [43/200] Training loss = 0.2122\t Validation Loss = 0.2758\t\n"
          ]
        },
        {
          "output_type": "stream",
          "name": "stderr",
          "text": [
            " 22%|██▏       | 44/200 [54:46<3:14:11, 74.69s/it]"
          ]
        },
        {
          "output_type": "stream",
          "name": "stdout",
          "text": [
            "Epoch [44/200] Training loss = 0.2150\t Validation Loss = 0.3496\t\n"
          ]
        },
        {
          "output_type": "stream",
          "name": "stderr",
          "text": [
            "\r 22%|██▎       | 45/200 [56:01<3:12:50, 74.65s/it]"
          ]
        },
        {
          "output_type": "stream",
          "name": "stdout",
          "text": [
            "Epoch [45/200] Training loss = 0.2040\t Validation Loss = 0.3723\t\n"
          ]
        },
        {
          "output_type": "stream",
          "name": "stderr",
          "text": [
            "\r 23%|██▎       | 46/200 [57:15<3:11:30, 74.62s/it]"
          ]
        },
        {
          "output_type": "stream",
          "name": "stdout",
          "text": [
            "Epoch [46/200] Training loss = 0.2062\t Validation Loss = 0.3732\t\n"
          ]
        },
        {
          "output_type": "stream",
          "name": "stderr",
          "text": [
            "\r 24%|██▎       | 47/200 [58:30<3:10:07, 74.56s/it]"
          ]
        },
        {
          "output_type": "stream",
          "name": "stdout",
          "text": [
            "Epoch [47/200] Training loss = 0.2009\t Validation Loss = 0.3016\t\n"
          ]
        },
        {
          "output_type": "stream",
          "name": "stderr",
          "text": [
            "\r 24%|██▍       | 48/200 [59:44<3:08:50, 74.55s/it]"
          ]
        },
        {
          "output_type": "stream",
          "name": "stdout",
          "text": [
            "Epoch [48/200] Training loss = 0.2145\t Validation Loss = 0.3258\t\n"
          ]
        },
        {
          "output_type": "stream",
          "name": "stderr",
          "text": [
            "\r 24%|██▍       | 49/200 [1:00:59<3:07:35, 74.54s/it]"
          ]
        },
        {
          "output_type": "stream",
          "name": "stdout",
          "text": [
            "Epoch [49/200] Training loss = 0.1992\t Validation Loss = 0.3400\t\n"
          ]
        },
        {
          "output_type": "stream",
          "name": "stderr",
          "text": [
            "\r 25%|██▌       | 50/200 [1:02:13<3:06:17, 74.52s/it]"
          ]
        },
        {
          "output_type": "stream",
          "name": "stdout",
          "text": [
            "Epoch [50/200] Training loss = 0.2172\t Validation Loss = 0.2930\t\n",
            "Epoch [51/200] Training loss = 0.2000\t Validation Loss = 0.2640\t\n"
          ]
        },
        {
          "output_type": "stream",
          "name": "stderr",
          "text": [
            " 26%|██▌       | 52/200 [1:04:43<3:04:16, 74.71s/it]"
          ]
        },
        {
          "output_type": "stream",
          "name": "stdout",
          "text": [
            "Epoch [52/200] Training loss = 0.1917\t Validation Loss = 0.2822\t\n",
            "Epoch [53/200] Training loss = 0.2020\t Validation Loss = 0.2560\t\n"
          ]
        },
        {
          "output_type": "stream",
          "name": "stderr",
          "text": [
            " 27%|██▋       | 54/200 [1:07:13<3:01:56, 74.77s/it]"
          ]
        },
        {
          "output_type": "stream",
          "name": "stdout",
          "text": [
            "Epoch [54/200] Training loss = 0.2044\t Validation Loss = 0.3558\t\n"
          ]
        },
        {
          "output_type": "stream",
          "name": "stderr",
          "text": [
            "\r 28%|██▊       | 55/200 [1:08:28<3:00:30, 74.69s/it]"
          ]
        },
        {
          "output_type": "stream",
          "name": "stdout",
          "text": [
            "Epoch [55/200] Training loss = 0.1907\t Validation Loss = 0.3072\t\n"
          ]
        },
        {
          "output_type": "stream",
          "name": "stderr",
          "text": [
            "\r 28%|██▊       | 56/200 [1:09:42<2:59:12, 74.67s/it]"
          ]
        },
        {
          "output_type": "stream",
          "name": "stdout",
          "text": [
            "Epoch [56/200] Training loss = 0.1945\t Validation Loss = 0.3357\t\n"
          ]
        },
        {
          "output_type": "stream",
          "name": "stderr",
          "text": [
            "\r 28%|██▊       | 57/200 [1:10:57<2:58:00, 74.69s/it]"
          ]
        },
        {
          "output_type": "stream",
          "name": "stdout",
          "text": [
            "Epoch [57/200] Training loss = 0.1944\t Validation Loss = 0.3228\t\n"
          ]
        },
        {
          "output_type": "stream",
          "name": "stderr",
          "text": [
            "\r 29%|██▉       | 58/200 [1:12:11<2:56:36, 74.62s/it]"
          ]
        },
        {
          "output_type": "stream",
          "name": "stdout",
          "text": [
            "Epoch [58/200] Training loss = 0.1803\t Validation Loss = 0.3131\t\n"
          ]
        },
        {
          "output_type": "stream",
          "name": "stderr",
          "text": [
            "\r 30%|██▉       | 59/200 [1:13:26<2:55:18, 74.60s/it]"
          ]
        },
        {
          "output_type": "stream",
          "name": "stdout",
          "text": [
            "Epoch [59/200] Training loss = 0.1768\t Validation Loss = 0.3298\t\n"
          ]
        },
        {
          "output_type": "stream",
          "name": "stderr",
          "text": [
            "\r 30%|███       | 60/200 [1:14:41<2:53:58, 74.56s/it]"
          ]
        },
        {
          "output_type": "stream",
          "name": "stdout",
          "text": [
            "Epoch [60/200] Training loss = 0.2017\t Validation Loss = 0.2868\t\n"
          ]
        },
        {
          "output_type": "stream",
          "name": "stderr",
          "text": [
            "\r 30%|███       | 61/200 [1:15:55<2:52:36, 74.51s/it]"
          ]
        },
        {
          "output_type": "stream",
          "name": "stdout",
          "text": [
            "Epoch [61/200] Training loss = 0.1853\t Validation Loss = 0.2574\t\n"
          ]
        },
        {
          "output_type": "stream",
          "name": "stderr",
          "text": [
            "\r 31%|███       | 62/200 [1:17:09<2:51:23, 74.52s/it]"
          ]
        },
        {
          "output_type": "stream",
          "name": "stdout",
          "text": [
            "Epoch [62/200] Training loss = 0.1871\t Validation Loss = 0.2647\t\n"
          ]
        },
        {
          "output_type": "stream",
          "name": "stderr",
          "text": [
            "\r 32%|███▏      | 63/200 [1:18:24<2:50:07, 74.50s/it]"
          ]
        },
        {
          "output_type": "stream",
          "name": "stdout",
          "text": [
            "Epoch [63/200] Training loss = 0.1766\t Validation Loss = 0.3102\t\n"
          ]
        },
        {
          "output_type": "stream",
          "name": "stderr",
          "text": [
            "\r 32%|███▏      | 64/200 [1:19:38<2:48:49, 74.48s/it]"
          ]
        },
        {
          "output_type": "stream",
          "name": "stdout",
          "text": [
            "Epoch [64/200] Training loss = 0.1786\t Validation Loss = 0.2675\t\n"
          ]
        },
        {
          "output_type": "stream",
          "name": "stderr",
          "text": [
            "\r 32%|███▎      | 65/200 [1:20:53<2:47:35, 74.49s/it]"
          ]
        },
        {
          "output_type": "stream",
          "name": "stdout",
          "text": [
            "Epoch [65/200] Training loss = 0.1804\t Validation Loss = 0.3032\t\n"
          ]
        },
        {
          "output_type": "stream",
          "name": "stderr",
          "text": [
            "\r 33%|███▎      | 66/200 [1:22:07<2:46:20, 74.48s/it]"
          ]
        },
        {
          "output_type": "stream",
          "name": "stdout",
          "text": [
            "Epoch [66/200] Training loss = 0.1951\t Validation Loss = 0.3407\t\n"
          ]
        },
        {
          "output_type": "stream",
          "name": "stderr",
          "text": [
            "\r 34%|███▎      | 67/200 [1:23:22<2:45:05, 74.48s/it]"
          ]
        },
        {
          "output_type": "stream",
          "name": "stdout",
          "text": [
            "Epoch [67/200] Training loss = 0.1878\t Validation Loss = 0.3097\t\n"
          ]
        },
        {
          "output_type": "stream",
          "name": "stderr",
          "text": [
            "\r 34%|███▍      | 68/200 [1:24:36<2:43:51, 74.48s/it]"
          ]
        },
        {
          "output_type": "stream",
          "name": "stdout",
          "text": [
            "Epoch [68/200] Training loss = 0.1750\t Validation Loss = 0.2843\t\n"
          ]
        },
        {
          "output_type": "stream",
          "name": "stderr",
          "text": [
            "\r 34%|███▍      | 69/200 [1:25:51<2:42:34, 74.46s/it]"
          ]
        },
        {
          "output_type": "stream",
          "name": "stdout",
          "text": [
            "Epoch [69/200] Training loss = 0.1861\t Validation Loss = 0.2847\t\n"
          ]
        },
        {
          "output_type": "stream",
          "name": "stderr",
          "text": [
            "\r 35%|███▌      | 70/200 [1:27:05<2:41:18, 74.45s/it]"
          ]
        },
        {
          "output_type": "stream",
          "name": "stdout",
          "text": [
            "Epoch [70/200] Training loss = 0.1916\t Validation Loss = 0.2746\t\n"
          ]
        },
        {
          "output_type": "stream",
          "name": "stderr",
          "text": [
            "\r 36%|███▌      | 71/200 [1:28:20<2:40:04, 74.46s/it]"
          ]
        },
        {
          "output_type": "stream",
          "name": "stdout",
          "text": [
            "Epoch [71/200] Training loss = 0.1867\t Validation Loss = 0.2655\t\n"
          ]
        },
        {
          "output_type": "stream",
          "name": "stderr",
          "text": [
            "\r 36%|███▌      | 72/200 [1:29:34<2:38:51, 74.46s/it]"
          ]
        },
        {
          "output_type": "stream",
          "name": "stdout",
          "text": [
            "Epoch [72/200] Training loss = 0.1790\t Validation Loss = 0.3311\t\n",
            "Epoch [73/200] Training loss = 0.1943\t Validation Loss = 0.2423\t\n"
          ]
        },
        {
          "output_type": "stream",
          "name": "stderr",
          "text": [
            " 37%|███▋      | 74/200 [1:32:04<2:36:52, 74.70s/it]"
          ]
        },
        {
          "output_type": "stream",
          "name": "stdout",
          "text": [
            "Epoch [74/200] Training loss = 0.1693\t Validation Loss = 0.2841\t\n"
          ]
        },
        {
          "output_type": "stream",
          "name": "stderr",
          "text": [
            "\r 38%|███▊      | 75/200 [1:33:19<2:35:38, 74.70s/it]"
          ]
        },
        {
          "output_type": "stream",
          "name": "stdout",
          "text": [
            "Epoch [75/200] Training loss = 0.1790\t Validation Loss = 0.2785\t\n"
          ]
        },
        {
          "output_type": "stream",
          "name": "stderr",
          "text": [
            "\r 38%|███▊      | 76/200 [1:34:33<2:34:21, 74.69s/it]"
          ]
        },
        {
          "output_type": "stream",
          "name": "stdout",
          "text": [
            "Epoch [76/200] Training loss = 0.1703\t Validation Loss = 0.3116\t\n"
          ]
        },
        {
          "output_type": "stream",
          "name": "stderr",
          "text": [
            "\r 38%|███▊      | 77/200 [1:35:48<2:33:02, 74.66s/it]"
          ]
        },
        {
          "output_type": "stream",
          "name": "stdout",
          "text": [
            "Epoch [77/200] Training loss = 0.1863\t Validation Loss = 0.3316\t\n"
          ]
        },
        {
          "output_type": "stream",
          "name": "stderr",
          "text": [
            "\r 39%|███▉      | 78/200 [1:37:03<2:31:43, 74.62s/it]"
          ]
        },
        {
          "output_type": "stream",
          "name": "stdout",
          "text": [
            "Epoch [78/200] Training loss = 0.1674\t Validation Loss = 0.2895\t\n"
          ]
        },
        {
          "output_type": "stream",
          "name": "stderr",
          "text": [
            "\r 40%|███▉      | 79/200 [1:38:17<2:30:29, 74.63s/it]"
          ]
        },
        {
          "output_type": "stream",
          "name": "stdout",
          "text": [
            "Epoch [79/200] Training loss = 0.1769\t Validation Loss = 0.2441\t\n"
          ]
        },
        {
          "output_type": "stream",
          "name": "stderr",
          "text": [
            "\r 40%|████      | 80/200 [1:39:32<2:29:10, 74.58s/it]"
          ]
        },
        {
          "output_type": "stream",
          "name": "stdout",
          "text": [
            "Epoch [80/200] Training loss = 0.1860\t Validation Loss = 0.2658\t\n"
          ]
        },
        {
          "output_type": "stream",
          "name": "stderr",
          "text": [
            "\r 40%|████      | 81/200 [1:40:46<2:27:52, 74.56s/it]"
          ]
        },
        {
          "output_type": "stream",
          "name": "stdout",
          "text": [
            "Epoch [81/200] Training loss = 0.1628\t Validation Loss = 0.2596\t\n"
          ]
        },
        {
          "output_type": "stream",
          "name": "stderr",
          "text": [
            "\r 41%|████      | 82/200 [1:42:01<2:26:37, 74.55s/it]"
          ]
        },
        {
          "output_type": "stream",
          "name": "stdout",
          "text": [
            "Epoch [82/200] Training loss = 0.1804\t Validation Loss = 0.2855\t\n"
          ]
        },
        {
          "output_type": "stream",
          "name": "stderr",
          "text": [
            "\r 42%|████▏     | 83/200 [1:43:15<2:25:23, 74.56s/it]"
          ]
        },
        {
          "output_type": "stream",
          "name": "stdout",
          "text": [
            "Epoch [83/200] Training loss = 0.1734\t Validation Loss = 0.2457\t\n"
          ]
        },
        {
          "output_type": "stream",
          "name": "stderr",
          "text": [
            "\r 42%|████▏     | 84/200 [1:44:30<2:24:09, 74.56s/it]"
          ]
        },
        {
          "output_type": "stream",
          "name": "stdout",
          "text": [
            "Epoch [84/200] Training loss = 0.1875\t Validation Loss = 0.2957\t\n"
          ]
        },
        {
          "output_type": "stream",
          "name": "stderr",
          "text": [
            "\r 42%|████▎     | 85/200 [1:45:44<2:22:55, 74.57s/it]"
          ]
        },
        {
          "output_type": "stream",
          "name": "stdout",
          "text": [
            "Epoch [85/200] Training loss = 0.1766\t Validation Loss = 0.2507\t\n"
          ]
        },
        {
          "output_type": "stream",
          "name": "stderr",
          "text": [
            "\r 43%|████▎     | 86/200 [1:46:59<2:21:42, 74.58s/it]"
          ]
        },
        {
          "output_type": "stream",
          "name": "stdout",
          "text": [
            "Epoch [86/200] Training loss = 0.1675\t Validation Loss = 0.3338\t\n"
          ]
        },
        {
          "output_type": "stream",
          "name": "stderr",
          "text": [
            "\r 44%|████▎     | 87/200 [1:48:14<2:20:26, 74.57s/it]"
          ]
        },
        {
          "output_type": "stream",
          "name": "stdout",
          "text": [
            "Epoch [87/200] Training loss = 0.1745\t Validation Loss = 0.2620\t\n"
          ]
        },
        {
          "output_type": "stream",
          "name": "stderr",
          "text": [
            "\r 44%|████▍     | 88/200 [1:49:28<2:19:11, 74.57s/it]"
          ]
        },
        {
          "output_type": "stream",
          "name": "stdout",
          "text": [
            "Epoch [88/200] Training loss = 0.1673\t Validation Loss = 0.2492\t\n"
          ]
        },
        {
          "output_type": "stream",
          "name": "stderr",
          "text": [
            "\r 44%|████▍     | 89/200 [1:50:43<2:17:56, 74.56s/it]"
          ]
        },
        {
          "output_type": "stream",
          "name": "stdout",
          "text": [
            "Epoch [89/200] Training loss = 0.1770\t Validation Loss = 0.3330\t\n"
          ]
        },
        {
          "output_type": "stream",
          "name": "stderr",
          "text": [
            "\r 45%|████▌     | 90/200 [1:51:57<2:16:42, 74.57s/it]"
          ]
        },
        {
          "output_type": "stream",
          "name": "stdout",
          "text": [
            "Epoch [90/200] Training loss = 0.1654\t Validation Loss = 0.3179\t\n"
          ]
        },
        {
          "output_type": "stream",
          "name": "stderr",
          "text": [
            "\r 46%|████▌     | 91/200 [1:53:12<2:15:30, 74.59s/it]"
          ]
        },
        {
          "output_type": "stream",
          "name": "stdout",
          "text": [
            "Epoch [91/200] Training loss = 0.1474\t Validation Loss = 0.2794\t\n"
          ]
        },
        {
          "output_type": "stream",
          "name": "stderr",
          "text": [
            "\r 46%|████▌     | 92/200 [1:54:27<2:14:17, 74.60s/it]"
          ]
        },
        {
          "output_type": "stream",
          "name": "stdout",
          "text": [
            "Epoch [92/200] Training loss = 0.1651\t Validation Loss = 0.2645\t\n"
          ]
        },
        {
          "output_type": "stream",
          "name": "stderr",
          "text": [
            "\r 46%|████▋     | 93/200 [1:55:41<2:13:01, 74.60s/it]"
          ]
        },
        {
          "output_type": "stream",
          "name": "stdout",
          "text": [
            "Epoch [93/200] Training loss = 0.1700\t Validation Loss = 0.2724\t\n"
          ]
        },
        {
          "output_type": "stream",
          "name": "stderr",
          "text": [
            "\r 47%|████▋     | 94/200 [1:56:56<2:11:52, 74.65s/it]"
          ]
        },
        {
          "output_type": "stream",
          "name": "stdout",
          "text": [
            "Epoch [94/200] Training loss = 0.1729\t Validation Loss = 0.2855\t\n",
            "Epoch [95/200] Training loss = 0.1619\t Validation Loss = 0.2242\t\n"
          ]
        },
        {
          "output_type": "stream",
          "name": "stderr",
          "text": [
            " 48%|████▊     | 96/200 [1:59:26<2:09:39, 74.81s/it]"
          ]
        },
        {
          "output_type": "stream",
          "name": "stdout",
          "text": [
            "Epoch [96/200] Training loss = 0.1721\t Validation Loss = 0.3257\t\n"
          ]
        },
        {
          "output_type": "stream",
          "name": "stderr",
          "text": [
            "\r 48%|████▊     | 97/200 [2:00:41<2:08:16, 74.72s/it]"
          ]
        },
        {
          "output_type": "stream",
          "name": "stdout",
          "text": [
            "Epoch [97/200] Training loss = 0.1470\t Validation Loss = 0.2889\t\n"
          ]
        },
        {
          "output_type": "stream",
          "name": "stderr",
          "text": [
            "\r 49%|████▉     | 98/200 [2:01:55<2:06:56, 74.67s/it]"
          ]
        },
        {
          "output_type": "stream",
          "name": "stdout",
          "text": [
            "Epoch [98/200] Training loss = 0.1613\t Validation Loss = 0.2938\t\n"
          ]
        },
        {
          "output_type": "stream",
          "name": "stderr",
          "text": [
            "\r 50%|████▉     | 99/200 [2:03:10<2:05:40, 74.66s/it]"
          ]
        },
        {
          "output_type": "stream",
          "name": "stdout",
          "text": [
            "Epoch [99/200] Training loss = 0.1673\t Validation Loss = 0.2367\t\n"
          ]
        },
        {
          "output_type": "stream",
          "name": "stderr",
          "text": [
            "\r 50%|█████     | 100/200 [2:04:24<2:04:22, 74.63s/it]"
          ]
        },
        {
          "output_type": "stream",
          "name": "stdout",
          "text": [
            "Epoch [100/200] Training loss = 0.1776\t Validation Loss = 0.3239\t\n"
          ]
        },
        {
          "output_type": "stream",
          "name": "stderr",
          "text": [
            "\r 50%|█████     | 101/200 [2:05:39<2:03:09, 74.64s/it]"
          ]
        },
        {
          "output_type": "stream",
          "name": "stdout",
          "text": [
            "Epoch [101/200] Training loss = 0.1595\t Validation Loss = 0.2919\t\n"
          ]
        },
        {
          "output_type": "stream",
          "name": "stderr",
          "text": [
            "\r 51%|█████     | 102/200 [2:06:54<2:01:52, 74.61s/it]"
          ]
        },
        {
          "output_type": "stream",
          "name": "stdout",
          "text": [
            "Epoch [102/200] Training loss = 0.1488\t Validation Loss = 0.2997\t\n"
          ]
        },
        {
          "output_type": "stream",
          "name": "stderr",
          "text": [
            "\r 52%|█████▏    | 103/200 [2:08:08<2:00:39, 74.64s/it]"
          ]
        },
        {
          "output_type": "stream",
          "name": "stdout",
          "text": [
            "Epoch [103/200] Training loss = 0.1733\t Validation Loss = 0.2964\t\n"
          ]
        },
        {
          "output_type": "stream",
          "name": "stderr",
          "text": [
            "\r 52%|█████▏    | 104/200 [2:09:23<1:59:26, 74.65s/it]"
          ]
        },
        {
          "output_type": "stream",
          "name": "stdout",
          "text": [
            "Epoch [104/200] Training loss = 0.1680\t Validation Loss = 0.2460\t\n"
          ]
        },
        {
          "output_type": "stream",
          "name": "stderr",
          "text": [
            "\r 52%|█████▎    | 105/200 [2:10:38<1:58:12, 74.65s/it]"
          ]
        },
        {
          "output_type": "stream",
          "name": "stdout",
          "text": [
            "Epoch [105/200] Training loss = 0.1714\t Validation Loss = 0.3102\t\n"
          ]
        },
        {
          "output_type": "stream",
          "name": "stderr",
          "text": [
            "\r 53%|█████▎    | 106/200 [2:11:52<1:56:58, 74.66s/it]"
          ]
        },
        {
          "output_type": "stream",
          "name": "stdout",
          "text": [
            "Epoch [106/200] Training loss = 0.1625\t Validation Loss = 0.2575\t\n"
          ]
        },
        {
          "output_type": "stream",
          "name": "stderr",
          "text": [
            "\r 54%|█████▎    | 107/200 [2:13:07<1:55:41, 74.64s/it]"
          ]
        },
        {
          "output_type": "stream",
          "name": "stdout",
          "text": [
            "Epoch [107/200] Training loss = 0.1591\t Validation Loss = 0.2573\t\n"
          ]
        },
        {
          "output_type": "stream",
          "name": "stderr",
          "text": [
            "\r 54%|█████▍    | 108/200 [2:14:21<1:54:23, 74.60s/it]"
          ]
        },
        {
          "output_type": "stream",
          "name": "stdout",
          "text": [
            "Epoch [108/200] Training loss = 0.1647\t Validation Loss = 0.2435\t\n"
          ]
        },
        {
          "output_type": "stream",
          "name": "stderr",
          "text": [
            "\r 55%|█████▍    | 109/200 [2:15:36<1:53:06, 74.58s/it]"
          ]
        },
        {
          "output_type": "stream",
          "name": "stdout",
          "text": [
            "Epoch [109/200] Training loss = 0.1626\t Validation Loss = 0.2513\t\n"
          ]
        },
        {
          "output_type": "stream",
          "name": "stderr",
          "text": [
            "\r 55%|█████▌    | 110/200 [2:16:50<1:51:49, 74.55s/it]"
          ]
        },
        {
          "output_type": "stream",
          "name": "stdout",
          "text": [
            "Epoch [110/200] Training loss = 0.1556\t Validation Loss = 0.2737\t\n"
          ]
        },
        {
          "output_type": "stream",
          "name": "stderr",
          "text": [
            "\r 56%|█████▌    | 111/200 [2:18:05<1:50:33, 74.54s/it]"
          ]
        },
        {
          "output_type": "stream",
          "name": "stdout",
          "text": [
            "Epoch [111/200] Training loss = 0.1621\t Validation Loss = 0.2894\t\n"
          ]
        },
        {
          "output_type": "stream",
          "name": "stderr",
          "text": [
            "\r 56%|█████▌    | 112/200 [2:19:19<1:49:21, 74.56s/it]"
          ]
        },
        {
          "output_type": "stream",
          "name": "stdout",
          "text": [
            "Epoch [112/200] Training loss = 0.1525\t Validation Loss = 0.2982\t\n",
            "Epoch [113/200] Training loss = 0.1632\t Validation Loss = 0.2065\t\n"
          ]
        },
        {
          "output_type": "stream",
          "name": "stderr",
          "text": [
            " 57%|█████▋    | 114/200 [2:21:49<1:47:06, 74.73s/it]"
          ]
        },
        {
          "output_type": "stream",
          "name": "stdout",
          "text": [
            "Epoch [114/200] Training loss = 0.1687\t Validation Loss = 0.2587\t\n"
          ]
        },
        {
          "output_type": "stream",
          "name": "stderr",
          "text": [
            "\r 57%|█████▊    | 115/200 [2:23:04<1:45:46, 74.66s/it]"
          ]
        },
        {
          "output_type": "stream",
          "name": "stdout",
          "text": [
            "Epoch [115/200] Training loss = 0.1600\t Validation Loss = 0.2730\t\n"
          ]
        },
        {
          "output_type": "stream",
          "name": "stderr",
          "text": [
            "\r 58%|█████▊    | 116/200 [2:24:18<1:44:30, 74.64s/it]"
          ]
        },
        {
          "output_type": "stream",
          "name": "stdout",
          "text": [
            "Epoch [116/200] Training loss = 0.1645\t Validation Loss = 0.3053\t\n"
          ]
        },
        {
          "output_type": "stream",
          "name": "stderr",
          "text": [
            "\r 58%|█████▊    | 117/200 [2:25:33<1:43:13, 74.62s/it]"
          ]
        },
        {
          "output_type": "stream",
          "name": "stdout",
          "text": [
            "Epoch [117/200] Training loss = 0.1671\t Validation Loss = 0.2983\t\n"
          ]
        },
        {
          "output_type": "stream",
          "name": "stderr",
          "text": [
            "\r 59%|█████▉    | 118/200 [2:26:48<1:41:56, 74.60s/it]"
          ]
        },
        {
          "output_type": "stream",
          "name": "stdout",
          "text": [
            "Epoch [118/200] Training loss = 0.1575\t Validation Loss = 0.2837\t\n"
          ]
        },
        {
          "output_type": "stream",
          "name": "stderr",
          "text": [
            "\r 60%|█████▉    | 119/200 [2:28:02<1:40:42, 74.59s/it]"
          ]
        },
        {
          "output_type": "stream",
          "name": "stdout",
          "text": [
            "Epoch [119/200] Training loss = 0.1558\t Validation Loss = 0.2526\t\n"
          ]
        },
        {
          "output_type": "stream",
          "name": "stderr",
          "text": [
            "\r 60%|██████    | 120/200 [2:29:17<1:39:26, 74.58s/it]"
          ]
        },
        {
          "output_type": "stream",
          "name": "stdout",
          "text": [
            "Epoch [120/200] Training loss = 0.1694\t Validation Loss = 0.2724\t\n"
          ]
        },
        {
          "output_type": "stream",
          "name": "stderr",
          "text": [
            "\r 60%|██████    | 121/200 [2:30:31<1:38:12, 74.59s/it]"
          ]
        },
        {
          "output_type": "stream",
          "name": "stdout",
          "text": [
            "Epoch [121/200] Training loss = 0.1620\t Validation Loss = 0.3178\t\n"
          ]
        },
        {
          "output_type": "stream",
          "name": "stderr",
          "text": [
            "\r 61%|██████    | 122/200 [2:31:46<1:36:56, 74.58s/it]"
          ]
        },
        {
          "output_type": "stream",
          "name": "stdout",
          "text": [
            "Epoch [122/200] Training loss = 0.1689\t Validation Loss = 0.3196\t\n"
          ]
        },
        {
          "output_type": "stream",
          "name": "stderr",
          "text": [
            "\r 62%|██████▏   | 123/200 [2:33:00<1:35:41, 74.57s/it]"
          ]
        },
        {
          "output_type": "stream",
          "name": "stdout",
          "text": [
            "Epoch [123/200] Training loss = 0.1641\t Validation Loss = 0.2276\t\n"
          ]
        },
        {
          "output_type": "stream",
          "name": "stderr",
          "text": [
            "\r 62%|██████▏   | 124/200 [2:34:15<1:34:25, 74.55s/it]"
          ]
        },
        {
          "output_type": "stream",
          "name": "stdout",
          "text": [
            "Epoch [124/200] Training loss = 0.1684\t Validation Loss = 0.2403\t\n"
          ]
        },
        {
          "output_type": "stream",
          "name": "stderr",
          "text": [
            "\r 62%|██████▎   | 125/200 [2:35:29<1:33:09, 74.53s/it]"
          ]
        },
        {
          "output_type": "stream",
          "name": "stdout",
          "text": [
            "Epoch [125/200] Training loss = 0.1666\t Validation Loss = 0.3092\t\n"
          ]
        },
        {
          "output_type": "stream",
          "name": "stderr",
          "text": [
            "\r 63%|██████▎   | 126/200 [2:36:44<1:31:56, 74.55s/it]"
          ]
        },
        {
          "output_type": "stream",
          "name": "stdout",
          "text": [
            "Epoch [126/200] Training loss = 0.1592\t Validation Loss = 0.2737\t\n"
          ]
        },
        {
          "output_type": "stream",
          "name": "stderr",
          "text": [
            "\r 64%|██████▎   | 127/200 [2:37:59<1:30:44, 74.58s/it]"
          ]
        },
        {
          "output_type": "stream",
          "name": "stdout",
          "text": [
            "Epoch [127/200] Training loss = 0.1676\t Validation Loss = 0.2409\t\n"
          ]
        },
        {
          "output_type": "stream",
          "name": "stderr",
          "text": [
            "\r 64%|██████▍   | 128/200 [2:39:13<1:29:29, 74.57s/it]"
          ]
        },
        {
          "output_type": "stream",
          "name": "stdout",
          "text": [
            "Epoch [128/200] Training loss = 0.1508\t Validation Loss = 0.2679\t\n"
          ]
        },
        {
          "output_type": "stream",
          "name": "stderr",
          "text": [
            "\r 64%|██████▍   | 129/200 [2:40:28<1:28:14, 74.58s/it]"
          ]
        },
        {
          "output_type": "stream",
          "name": "stdout",
          "text": [
            "Epoch [129/200] Training loss = 0.1689\t Validation Loss = 0.3252\t\n"
          ]
        },
        {
          "output_type": "stream",
          "name": "stderr",
          "text": [
            "\r 65%|██████▌   | 130/200 [2:41:42<1:27:00, 74.57s/it]"
          ]
        },
        {
          "output_type": "stream",
          "name": "stdout",
          "text": [
            "Epoch [130/200] Training loss = 0.1638\t Validation Loss = 0.2943\t\n"
          ]
        },
        {
          "output_type": "stream",
          "name": "stderr",
          "text": [
            "\r 66%|██████▌   | 131/200 [2:42:57<1:25:45, 74.58s/it]"
          ]
        },
        {
          "output_type": "stream",
          "name": "stdout",
          "text": [
            "Epoch [131/200] Training loss = 0.1616\t Validation Loss = 0.2788\t\n"
          ]
        },
        {
          "output_type": "stream",
          "name": "stderr",
          "text": [
            "\r 66%|██████▌   | 132/200 [2:44:11<1:24:29, 74.55s/it]"
          ]
        },
        {
          "output_type": "stream",
          "name": "stdout",
          "text": [
            "Epoch [132/200] Training loss = 0.1592\t Validation Loss = 0.2887\t\n"
          ]
        },
        {
          "output_type": "stream",
          "name": "stderr",
          "text": [
            "\r 66%|██████▋   | 133/200 [2:45:26<1:23:17, 74.59s/it]"
          ]
        },
        {
          "output_type": "stream",
          "name": "stdout",
          "text": [
            "Epoch [133/200] Training loss = 0.1565\t Validation Loss = 0.3133\t\n"
          ]
        },
        {
          "output_type": "stream",
          "name": "stderr",
          "text": [
            "\r 67%|██████▋   | 134/200 [2:46:41<1:22:02, 74.58s/it]"
          ]
        },
        {
          "output_type": "stream",
          "name": "stdout",
          "text": [
            "Epoch [134/200] Training loss = 0.1541\t Validation Loss = 0.2891\t\n"
          ]
        },
        {
          "output_type": "stream",
          "name": "stderr",
          "text": [
            "\r 68%|██████▊   | 135/200 [2:47:55<1:20:47, 74.58s/it]"
          ]
        },
        {
          "output_type": "stream",
          "name": "stdout",
          "text": [
            "Epoch [135/200] Training loss = 0.1442\t Validation Loss = 0.2451\t\n"
          ]
        },
        {
          "output_type": "stream",
          "name": "stderr",
          "text": [
            "\r 68%|██████▊   | 136/200 [2:49:10<1:19:29, 74.53s/it]"
          ]
        },
        {
          "output_type": "stream",
          "name": "stdout",
          "text": [
            "Epoch [136/200] Training loss = 0.1625\t Validation Loss = 0.2677\t\n"
          ]
        },
        {
          "output_type": "stream",
          "name": "stderr",
          "text": [
            "\r 68%|██████▊   | 137/200 [2:50:24<1:18:14, 74.51s/it]"
          ]
        },
        {
          "output_type": "stream",
          "name": "stdout",
          "text": [
            "Epoch [137/200] Training loss = 0.1508\t Validation Loss = 0.2656\t\n"
          ]
        },
        {
          "output_type": "stream",
          "name": "stderr",
          "text": [
            "\r 69%|██████▉   | 138/200 [2:51:39<1:16:57, 74.48s/it]"
          ]
        },
        {
          "output_type": "stream",
          "name": "stdout",
          "text": [
            "Epoch [138/200] Training loss = 0.1680\t Validation Loss = 0.2943\t\n"
          ]
        },
        {
          "output_type": "stream",
          "name": "stderr",
          "text": [
            "\r 70%|██████▉   | 139/200 [2:52:53<1:15:41, 74.45s/it]"
          ]
        },
        {
          "output_type": "stream",
          "name": "stdout",
          "text": [
            "Epoch [139/200] Training loss = 0.1529\t Validation Loss = 0.2786\t\n"
          ]
        },
        {
          "output_type": "stream",
          "name": "stderr",
          "text": [
            "\r 70%|███████   | 140/200 [2:54:07<1:14:27, 74.46s/it]"
          ]
        },
        {
          "output_type": "stream",
          "name": "stdout",
          "text": [
            "Epoch [140/200] Training loss = 0.1641\t Validation Loss = 0.2642\t\n"
          ]
        },
        {
          "output_type": "stream",
          "name": "stderr",
          "text": [
            "\r 70%|███████   | 141/200 [2:55:22<1:13:12, 74.44s/it]"
          ]
        },
        {
          "output_type": "stream",
          "name": "stdout",
          "text": [
            "Epoch [141/200] Training loss = 0.1445\t Validation Loss = 0.2884\t\n"
          ]
        },
        {
          "output_type": "stream",
          "name": "stderr",
          "text": [
            "\r 71%|███████   | 142/200 [2:56:36<1:11:57, 74.43s/it]"
          ]
        },
        {
          "output_type": "stream",
          "name": "stdout",
          "text": [
            "Epoch [142/200] Training loss = 0.1488\t Validation Loss = 0.2293\t\n"
          ]
        },
        {
          "output_type": "stream",
          "name": "stderr",
          "text": [
            "\r 72%|███████▏  | 143/200 [2:57:51<1:10:42, 74.43s/it]"
          ]
        },
        {
          "output_type": "stream",
          "name": "stdout",
          "text": [
            "Epoch [143/200] Training loss = 0.1652\t Validation Loss = 0.2565\t\n"
          ]
        },
        {
          "output_type": "stream",
          "name": "stderr",
          "text": [
            "\r 72%|███████▏  | 144/200 [2:59:05<1:09:27, 74.42s/it]"
          ]
        },
        {
          "output_type": "stream",
          "name": "stdout",
          "text": [
            "Epoch [144/200] Training loss = 0.1376\t Validation Loss = 0.2702\t\n"
          ]
        },
        {
          "output_type": "stream",
          "name": "stderr",
          "text": [
            "\r 72%|███████▎  | 145/200 [3:00:19<1:08:13, 74.43s/it]"
          ]
        },
        {
          "output_type": "stream",
          "name": "stdout",
          "text": [
            "Epoch [145/200] Training loss = 0.1523\t Validation Loss = 0.2660\t\n"
          ]
        },
        {
          "output_type": "stream",
          "name": "stderr",
          "text": [
            "\r 73%|███████▎  | 146/200 [3:01:34<1:06:58, 74.42s/it]"
          ]
        },
        {
          "output_type": "stream",
          "name": "stdout",
          "text": [
            "Epoch [146/200] Training loss = 0.1432\t Validation Loss = 0.2798\t\n"
          ]
        },
        {
          "output_type": "stream",
          "name": "stderr",
          "text": [
            "\r 74%|███████▎  | 147/200 [3:02:48<1:05:43, 74.41s/it]"
          ]
        },
        {
          "output_type": "stream",
          "name": "stdout",
          "text": [
            "Epoch [147/200] Training loss = 0.1407\t Validation Loss = 0.3069\t\n"
          ]
        },
        {
          "output_type": "stream",
          "name": "stderr",
          "text": [
            "\r 74%|███████▍  | 148/200 [3:04:03<1:04:29, 74.41s/it]"
          ]
        },
        {
          "output_type": "stream",
          "name": "stdout",
          "text": [
            "Epoch [148/200] Training loss = 0.1537\t Validation Loss = 0.2840\t\n"
          ]
        },
        {
          "output_type": "stream",
          "name": "stderr",
          "text": [
            "\r 74%|███████▍  | 149/200 [3:05:17<1:03:16, 74.44s/it]"
          ]
        },
        {
          "output_type": "stream",
          "name": "stdout",
          "text": [
            "Epoch [149/200] Training loss = 0.1441\t Validation Loss = 0.2678\t\n"
          ]
        },
        {
          "output_type": "stream",
          "name": "stderr",
          "text": [
            "\r 75%|███████▌  | 150/200 [3:06:32<1:02:02, 74.44s/it]"
          ]
        },
        {
          "output_type": "stream",
          "name": "stdout",
          "text": [
            "Epoch [150/200] Training loss = 0.1340\t Validation Loss = 0.2245\t\n"
          ]
        },
        {
          "output_type": "stream",
          "name": "stderr",
          "text": [
            "\r 76%|███████▌  | 151/200 [3:07:46<1:00:47, 74.44s/it]"
          ]
        },
        {
          "output_type": "stream",
          "name": "stdout",
          "text": [
            "Epoch [151/200] Training loss = 0.1404\t Validation Loss = 0.2625\t\n"
          ]
        },
        {
          "output_type": "stream",
          "name": "stderr",
          "text": [
            "\r 76%|███████▌  | 152/200 [3:09:00<59:32, 74.44s/it]  "
          ]
        },
        {
          "output_type": "stream",
          "name": "stdout",
          "text": [
            "Epoch [152/200] Training loss = 0.1497\t Validation Loss = 0.2497\t\n"
          ]
        },
        {
          "output_type": "stream",
          "name": "stderr",
          "text": [
            "\r 76%|███████▋  | 153/200 [3:10:15<58:19, 74.45s/it]"
          ]
        },
        {
          "output_type": "stream",
          "name": "stdout",
          "text": [
            "Epoch [153/200] Training loss = 0.1482\t Validation Loss = 0.2449\t\n"
          ]
        },
        {
          "output_type": "stream",
          "name": "stderr",
          "text": [
            "\r 77%|███████▋  | 154/200 [3:11:29<57:04, 74.45s/it]"
          ]
        },
        {
          "output_type": "stream",
          "name": "stdout",
          "text": [
            "Epoch [154/200] Training loss = 0.1671\t Validation Loss = 0.3159\t\n"
          ]
        },
        {
          "output_type": "stream",
          "name": "stderr",
          "text": [
            "\r 78%|███████▊  | 155/200 [3:12:44<55:49, 74.43s/it]"
          ]
        },
        {
          "output_type": "stream",
          "name": "stdout",
          "text": [
            "Epoch [155/200] Training loss = 0.1384\t Validation Loss = 0.2886\t\n"
          ]
        },
        {
          "output_type": "stream",
          "name": "stderr",
          "text": [
            "\r 78%|███████▊  | 156/200 [3:13:58<54:35, 74.44s/it]"
          ]
        },
        {
          "output_type": "stream",
          "name": "stdout",
          "text": [
            "Epoch [156/200] Training loss = 0.1389\t Validation Loss = 0.2599\t\n"
          ]
        },
        {
          "output_type": "stream",
          "name": "stderr",
          "text": [
            "\r 78%|███████▊  | 157/200 [3:15:13<53:20, 74.43s/it]"
          ]
        },
        {
          "output_type": "stream",
          "name": "stdout",
          "text": [
            "Epoch [157/200] Training loss = 0.1418\t Validation Loss = 0.3301\t\n"
          ]
        },
        {
          "output_type": "stream",
          "name": "stderr",
          "text": [
            "\r 79%|███████▉  | 158/200 [3:16:27<52:06, 74.43s/it]"
          ]
        },
        {
          "output_type": "stream",
          "name": "stdout",
          "text": [
            "Epoch [158/200] Training loss = 0.1595\t Validation Loss = 0.3325\t\n"
          ]
        },
        {
          "output_type": "stream",
          "name": "stderr",
          "text": [
            "\r 80%|███████▉  | 159/200 [3:17:42<50:51, 74.44s/it]"
          ]
        },
        {
          "output_type": "stream",
          "name": "stdout",
          "text": [
            "Epoch [159/200] Training loss = 0.1503\t Validation Loss = 0.2206\t\n"
          ]
        },
        {
          "output_type": "stream",
          "name": "stderr",
          "text": [
            "\r 80%|████████  | 160/200 [3:18:56<49:36, 74.41s/it]"
          ]
        },
        {
          "output_type": "stream",
          "name": "stdout",
          "text": [
            "Epoch [160/200] Training loss = 0.1577\t Validation Loss = 0.2414\t\n"
          ]
        },
        {
          "output_type": "stream",
          "name": "stderr",
          "text": [
            "\r 80%|████████  | 161/200 [3:20:10<48:21, 74.40s/it]"
          ]
        },
        {
          "output_type": "stream",
          "name": "stdout",
          "text": [
            "Epoch [161/200] Training loss = 0.1445\t Validation Loss = 0.3132\t\n"
          ]
        },
        {
          "output_type": "stream",
          "name": "stderr",
          "text": [
            "\r 81%|████████  | 162/200 [3:21:25<47:07, 74.40s/it]"
          ]
        },
        {
          "output_type": "stream",
          "name": "stdout",
          "text": [
            "Epoch [162/200] Training loss = 0.1406\t Validation Loss = 0.2543\t\n"
          ]
        },
        {
          "output_type": "stream",
          "name": "stderr",
          "text": [
            "\r 82%|████████▏ | 163/200 [3:22:39<45:52, 74.40s/it]"
          ]
        },
        {
          "output_type": "stream",
          "name": "stdout",
          "text": [
            "Epoch [163/200] Training loss = 0.1288\t Validation Loss = 0.3149\t\n",
            "Epoch [164/200] Training loss = 0.1392\t Validation Loss = 0.1507\t\n"
          ]
        },
        {
          "output_type": "stream",
          "name": "stderr",
          "text": [
            " 82%|████████▎ | 165/200 [3:25:09<43:30, 74.59s/it]"
          ]
        },
        {
          "output_type": "stream",
          "name": "stdout",
          "text": [
            "Epoch [165/200] Training loss = 0.1502\t Validation Loss = 0.2694\t\n"
          ]
        },
        {
          "output_type": "stream",
          "name": "stderr",
          "text": [
            "\r 83%|████████▎ | 166/200 [3:26:23<42:14, 74.54s/it]"
          ]
        },
        {
          "output_type": "stream",
          "name": "stdout",
          "text": [
            "Epoch [166/200] Training loss = 0.1428\t Validation Loss = 0.2372\t\n"
          ]
        },
        {
          "output_type": "stream",
          "name": "stderr",
          "text": [
            "\r 84%|████████▎ | 167/200 [3:27:38<40:58, 74.50s/it]"
          ]
        },
        {
          "output_type": "stream",
          "name": "stdout",
          "text": [
            "Epoch [167/200] Training loss = 0.1351\t Validation Loss = 0.2538\t\n"
          ]
        },
        {
          "output_type": "stream",
          "name": "stderr",
          "text": [
            "\r 84%|████████▍ | 168/200 [3:28:52<39:42, 74.45s/it]"
          ]
        },
        {
          "output_type": "stream",
          "name": "stdout",
          "text": [
            "Epoch [168/200] Training loss = 0.1379\t Validation Loss = 0.2380\t\n"
          ]
        },
        {
          "output_type": "stream",
          "name": "stderr",
          "text": [
            "\r 84%|████████▍ | 169/200 [3:30:06<38:27, 74.44s/it]"
          ]
        },
        {
          "output_type": "stream",
          "name": "stdout",
          "text": [
            "Epoch [169/200] Training loss = 0.1454\t Validation Loss = 0.2820\t\n"
          ]
        },
        {
          "output_type": "stream",
          "name": "stderr",
          "text": [
            "\r 85%|████████▌ | 170/200 [3:31:21<37:12, 74.43s/it]"
          ]
        },
        {
          "output_type": "stream",
          "name": "stdout",
          "text": [
            "Epoch [170/200] Training loss = 0.1506\t Validation Loss = 0.2038\t\n"
          ]
        },
        {
          "output_type": "stream",
          "name": "stderr",
          "text": [
            "\r 86%|████████▌ | 171/200 [3:32:35<36:01, 74.52s/it]"
          ]
        },
        {
          "output_type": "stream",
          "name": "stdout",
          "text": [
            "Epoch [171/200] Training loss = 0.1477\t Validation Loss = 0.2586\t\n"
          ]
        },
        {
          "output_type": "stream",
          "name": "stderr",
          "text": [
            "\r 86%|████████▌ | 172/200 [3:33:50<34:46, 74.51s/it]"
          ]
        },
        {
          "output_type": "stream",
          "name": "stdout",
          "text": [
            "Epoch [172/200] Training loss = 0.1382\t Validation Loss = 0.2529\t\n"
          ]
        },
        {
          "output_type": "stream",
          "name": "stderr",
          "text": [
            "\r 86%|████████▋ | 173/200 [3:35:04<33:30, 74.47s/it]"
          ]
        },
        {
          "output_type": "stream",
          "name": "stdout",
          "text": [
            "Epoch [173/200] Training loss = 0.1324\t Validation Loss = 0.3076\t\n"
          ]
        },
        {
          "output_type": "stream",
          "name": "stderr",
          "text": [
            "\r 87%|████████▋ | 174/200 [3:36:19<32:15, 74.46s/it]"
          ]
        },
        {
          "output_type": "stream",
          "name": "stdout",
          "text": [
            "Epoch [174/200] Training loss = 0.1440\t Validation Loss = 0.2210\t\n"
          ]
        },
        {
          "output_type": "stream",
          "name": "stderr",
          "text": [
            "\r 88%|████████▊ | 175/200 [3:37:33<31:01, 74.47s/it]"
          ]
        },
        {
          "output_type": "stream",
          "name": "stdout",
          "text": [
            "Epoch [175/200] Training loss = 0.1296\t Validation Loss = 0.2265\t\n"
          ]
        },
        {
          "output_type": "stream",
          "name": "stderr",
          "text": [
            "\r 88%|████████▊ | 176/200 [3:38:48<29:47, 74.50s/it]"
          ]
        },
        {
          "output_type": "stream",
          "name": "stdout",
          "text": [
            "Epoch [176/200] Training loss = 0.1451\t Validation Loss = 0.2428\t\n"
          ]
        },
        {
          "output_type": "stream",
          "name": "stderr",
          "text": [
            "\r 88%|████████▊ | 177/200 [3:40:02<28:33, 74.50s/it]"
          ]
        },
        {
          "output_type": "stream",
          "name": "stdout",
          "text": [
            "Epoch [177/200] Training loss = 0.1509\t Validation Loss = 0.3072\t\n"
          ]
        },
        {
          "output_type": "stream",
          "name": "stderr",
          "text": [
            "\r 89%|████████▉ | 178/200 [3:41:17<27:18, 74.50s/it]"
          ]
        },
        {
          "output_type": "stream",
          "name": "stdout",
          "text": [
            "Epoch [178/200] Training loss = 0.1343\t Validation Loss = 0.2556\t\n"
          ]
        },
        {
          "output_type": "stream",
          "name": "stderr",
          "text": [
            "\r 90%|████████▉ | 179/200 [3:42:31<26:04, 74.51s/it]"
          ]
        },
        {
          "output_type": "stream",
          "name": "stdout",
          "text": [
            "Epoch [179/200] Training loss = 0.1385\t Validation Loss = 0.3035\t\n"
          ]
        },
        {
          "output_type": "stream",
          "name": "stderr",
          "text": [
            "\r 90%|█████████ | 180/200 [3:43:46<24:50, 74.52s/it]"
          ]
        },
        {
          "output_type": "stream",
          "name": "stdout",
          "text": [
            "Epoch [180/200] Training loss = 0.1469\t Validation Loss = 0.1921\t\n"
          ]
        },
        {
          "output_type": "stream",
          "name": "stderr",
          "text": [
            "\r 90%|█████████ | 181/200 [3:45:00<23:35, 74.52s/it]"
          ]
        },
        {
          "output_type": "stream",
          "name": "stdout",
          "text": [
            "Epoch [181/200] Training loss = 0.1486\t Validation Loss = 0.2635\t\n"
          ]
        },
        {
          "output_type": "stream",
          "name": "stderr",
          "text": [
            "\r 91%|█████████ | 182/200 [3:46:15<22:21, 74.51s/it]"
          ]
        },
        {
          "output_type": "stream",
          "name": "stdout",
          "text": [
            "Epoch [182/200] Training loss = 0.1550\t Validation Loss = 0.2300\t\n"
          ]
        },
        {
          "output_type": "stream",
          "name": "stderr",
          "text": [
            "\r 92%|█████████▏| 183/200 [3:47:29<21:06, 74.52s/it]"
          ]
        },
        {
          "output_type": "stream",
          "name": "stdout",
          "text": [
            "Epoch [183/200] Training loss = 0.1522\t Validation Loss = 0.2520\t\n"
          ]
        },
        {
          "output_type": "stream",
          "name": "stderr",
          "text": [
            "\r 92%|█████████▏| 184/200 [3:48:44<19:52, 74.51s/it]"
          ]
        },
        {
          "output_type": "stream",
          "name": "stdout",
          "text": [
            "Epoch [184/200] Training loss = 0.1504\t Validation Loss = 0.2299\t\n"
          ]
        },
        {
          "output_type": "stream",
          "name": "stderr",
          "text": [
            "\r 92%|█████████▎| 185/200 [3:49:58<18:37, 74.49s/it]"
          ]
        },
        {
          "output_type": "stream",
          "name": "stdout",
          "text": [
            "Epoch [185/200] Training loss = 0.1529\t Validation Loss = 0.2558\t\n"
          ]
        },
        {
          "output_type": "stream",
          "name": "stderr",
          "text": [
            "\r 93%|█████████▎| 186/200 [3:51:13<17:22, 74.46s/it]"
          ]
        },
        {
          "output_type": "stream",
          "name": "stdout",
          "text": [
            "Epoch [186/200] Training loss = 0.1459\t Validation Loss = 0.2667\t\n"
          ]
        },
        {
          "output_type": "stream",
          "name": "stderr",
          "text": [
            "\r 94%|█████████▎| 187/200 [3:52:27<16:07, 74.44s/it]"
          ]
        },
        {
          "output_type": "stream",
          "name": "stdout",
          "text": [
            "Epoch [187/200] Training loss = 0.1364\t Validation Loss = 0.2655\t\n"
          ]
        },
        {
          "output_type": "stream",
          "name": "stderr",
          "text": [
            "\r 94%|█████████▍| 188/200 [3:53:42<14:53, 74.45s/it]"
          ]
        },
        {
          "output_type": "stream",
          "name": "stdout",
          "text": [
            "Epoch [188/200] Training loss = 0.1401\t Validation Loss = 0.1848\t\n"
          ]
        },
        {
          "output_type": "stream",
          "name": "stderr",
          "text": [
            "\r 94%|█████████▍| 189/200 [3:54:56<13:39, 74.46s/it]"
          ]
        },
        {
          "output_type": "stream",
          "name": "stdout",
          "text": [
            "Epoch [189/200] Training loss = 0.1434\t Validation Loss = 0.2189\t\n"
          ]
        },
        {
          "output_type": "stream",
          "name": "stderr",
          "text": [
            "\r 95%|█████████▌| 190/200 [3:56:11<12:24, 74.50s/it]"
          ]
        },
        {
          "output_type": "stream",
          "name": "stdout",
          "text": [
            "Epoch [190/200] Training loss = 0.1323\t Validation Loss = 0.2130\t\n"
          ]
        },
        {
          "output_type": "stream",
          "name": "stderr",
          "text": [
            "\r 96%|█████████▌| 191/200 [3:57:25<11:10, 74.51s/it]"
          ]
        },
        {
          "output_type": "stream",
          "name": "stdout",
          "text": [
            "Epoch [191/200] Training loss = 0.1508\t Validation Loss = 0.2511\t\n"
          ]
        },
        {
          "output_type": "stream",
          "name": "stderr",
          "text": [
            "\r 96%|█████████▌| 192/200 [3:58:40<09:56, 74.53s/it]"
          ]
        },
        {
          "output_type": "stream",
          "name": "stdout",
          "text": [
            "Epoch [192/200] Training loss = 0.1364\t Validation Loss = 0.2609\t\n"
          ]
        },
        {
          "output_type": "stream",
          "name": "stderr",
          "text": [
            "\r 96%|█████████▋| 193/200 [3:59:54<08:41, 74.54s/it]"
          ]
        },
        {
          "output_type": "stream",
          "name": "stdout",
          "text": [
            "Epoch [193/200] Training loss = 0.1468\t Validation Loss = 0.2532\t\n"
          ]
        },
        {
          "output_type": "stream",
          "name": "stderr",
          "text": [
            "\r 97%|█████████▋| 194/200 [4:01:09<07:27, 74.57s/it]"
          ]
        },
        {
          "output_type": "stream",
          "name": "stdout",
          "text": [
            "Epoch [194/200] Training loss = 0.1383\t Validation Loss = 0.2333\t\n"
          ]
        },
        {
          "output_type": "stream",
          "name": "stderr",
          "text": [
            "\r 98%|█████████▊| 195/200 [4:02:24<06:12, 74.57s/it]"
          ]
        },
        {
          "output_type": "stream",
          "name": "stdout",
          "text": [
            "Epoch [195/200] Training loss = 0.1385\t Validation Loss = 0.2641\t\n"
          ]
        },
        {
          "output_type": "stream",
          "name": "stderr",
          "text": [
            "\r 98%|█████████▊| 196/200 [4:03:38<04:58, 74.58s/it]"
          ]
        },
        {
          "output_type": "stream",
          "name": "stdout",
          "text": [
            "Epoch [196/200] Training loss = 0.1507\t Validation Loss = 0.2282\t\n"
          ]
        },
        {
          "output_type": "stream",
          "name": "stderr",
          "text": [
            "\r 98%|█████████▊| 197/200 [4:04:53<03:43, 74.59s/it]"
          ]
        },
        {
          "output_type": "stream",
          "name": "stdout",
          "text": [
            "Epoch [197/200] Training loss = 0.1442\t Validation Loss = 0.2680\t\n"
          ]
        },
        {
          "output_type": "stream",
          "name": "stderr",
          "text": [
            "\r 99%|█████████▉| 198/200 [4:06:07<02:29, 74.59s/it]"
          ]
        },
        {
          "output_type": "stream",
          "name": "stdout",
          "text": [
            "Epoch [198/200] Training loss = 0.1434\t Validation Loss = 0.2493\t\n"
          ]
        },
        {
          "output_type": "stream",
          "name": "stderr",
          "text": [
            "\r100%|█████████▉| 199/200 [4:07:22<01:14, 74.57s/it]"
          ]
        },
        {
          "output_type": "stream",
          "name": "stdout",
          "text": [
            "Epoch [199/200] Training loss = 0.1280\t Validation Loss = 0.2335\t\n"
          ]
        },
        {
          "output_type": "stream",
          "name": "stderr",
          "text": [
            "100%|██████████| 200/200 [4:08:37<00:00, 74.59s/it]"
          ]
        },
        {
          "output_type": "stream",
          "name": "stdout",
          "text": [
            "Epoch [200/200] Training loss = 0.1492\t Validation Loss = 0.2554\t\n"
          ]
        },
        {
          "output_type": "stream",
          "name": "stderr",
          "text": [
            "\n"
          ]
        }
      ]
    },
    {
      "cell_type": "markdown",
      "source": [
        "## 5. Finetuning"
      ],
      "metadata": {
        "id": "zFv0Jyn1Dp0Z"
      },
      "id": "zFv0Jyn1Dp0Z"
    },
    {
      "cell_type": "code",
      "source": [
        "from sklearn.model_selection import train_test_split\n",
        "class FineTuneDataSet(Dataset):\n",
        "    def __init__(self, main_dir, transform, mode):\n",
        "        self.main_dir = main_dir\n",
        "        self.transform = transform\n",
        "        if mode==\"train\":\n",
        "          all_imgs = os.listdir(main_dir)\n",
        "        elif mode==\"test\":\n",
        "          all_imgs=[]\n",
        "          for path, subdirs, files in os.walk(main_dir):\n",
        "              for name in files:\n",
        "                  all_imgs.append(os.path.join(path, name))\n",
        "        self.total_imgs = natsort.natsorted(all_imgs)\n",
        "        self.mode = mode\n",
        "    def __len__(self):\n",
        "        return len(self.total_imgs)\n",
        "\n",
        "    def __getitem__(self, idx):\n",
        "        if self.mode==\"train\":\n",
        "          img_loc = os.path.join(self.main_dir, self.total_imgs[idx])\n",
        "        elif self.mode==\"test\":\n",
        "          img_loc=self.total_imgs[idx]\n",
        "        image = Image.open(img_loc)#.convert(\"RGB\")\n",
        "        \n",
        "        if self.mode==\"test\":\n",
        "          labels = os.path.basename(os.path.dirname(img_loc)) \n",
        "          x = self.transform(image)\n",
        "          x = torch.from_numpy(np.asarray(x))\n",
        "          #print('x.shape', x.shape)\n",
        "          #x = x.reshape(1, x.shape[0], x.shape[1], x.shape[2])\n",
        "          labels = torch.from_numpy(np.asarray(int(labels)))\n",
        "          return (x, labels)\n",
        "        else:\n",
        "          x1 = self.transform(image)\n",
        "          x2 = self.transform(image)\n",
        "          x = np.stack((x1, x2), axis=0)\n",
        "          x = torch.from_numpy(np.asarray(x))\n",
        "          return x\n",
        "\n",
        "test_set = FineTuneDataSet(\"hw2/test\", transform=train_transform, mode = \"test\")\n",
        "training_data, testing_data = train_test_split(test_set, test_size=0.2, random_state=25)\n",
        "train_loader = DataLoader(\n",
        "    training_data,\n",
        "    batch_size=config.batch_size,\n",
        "    sampler=RandomSampler(training_data),\n",
        "    #collate_fn=train_set.collate_fn,\n",
        "    pin_memory=config.pin_mem,\n",
        "    num_workers=config.num_cpu_workers\n",
        "                              \n",
        ")\n",
        "val_loader = DataLoader(\n",
        "    testing_data,\n",
        "    batch_size=config.batch_size,\n",
        "    sampler=RandomSampler(testing_data),\n",
        "    #collate_fn=test_set.collate_fn,\n",
        "    pin_memory=config.pin_mem,\n",
        "    num_workers=config.num_cpu_workers\n",
        ")\n",
        "net = ResNet(4, mode=\"simCLR\")\n",
        "\n",
        "model = yAwareCLModel(net, train_loss, val_loss, train_loader, val_loader, config)\n",
        "model.load_model('save1/0_epoch_163.pth')\n",
        "model.model.head_projection_1 = nn.Linear(512, 4) \n",
        "model.model.head_projection_2 = nn.Identity()\n",
        "model.fine_tuning()"
      ],
      "metadata": {
        "id": "zl3Y5Rr7UC5d",
        "colab": {
          "base_uri": "https://localhost:8080/"
        },
        "outputId": "3c2226ff-1414-4702-fd10-c49b1da97270"
      },
      "id": "zl3Y5Rr7UC5d",
      "execution_count": 21,
      "outputs": [
        {
          "output_type": "stream",
          "name": "stderr",
          "text": [
            "\r  0%|          | 0/10 [00:00<?, ?it/s]"
          ]
        },
        {
          "output_type": "stream",
          "name": "stdout",
          "text": [
            "Epoch [1/200] Training loss = 6.1628\t Validation Loss = 1.5102\t Validation Accuracy = 0.5500\t\n"
          ]
        },
        {
          "output_type": "stream",
          "name": "stderr",
          "text": [
            "\r 10%|█         | 1/10 [00:03<00:30,  3.38s/it]"
          ]
        },
        {
          "output_type": "stream",
          "name": "stdout",
          "text": [
            "Epoch [2/200] Training loss = 5.9503\t Validation Loss = 1.4432\t Validation Accuracy = 0.6500\t\n"
          ]
        },
        {
          "output_type": "stream",
          "name": "stderr",
          "text": [
            "\r 20%|██        | 2/10 [00:06<00:27,  3.43s/it]"
          ]
        },
        {
          "output_type": "stream",
          "name": "stdout",
          "text": [
            "Epoch [3/200] Training loss = 5.6124\t Validation Loss = 1.3246\t Validation Accuracy = 0.7300\t\n"
          ]
        },
        {
          "output_type": "stream",
          "name": "stderr",
          "text": [
            "\r 30%|███       | 3/10 [00:10<00:23,  3.41s/it]"
          ]
        },
        {
          "output_type": "stream",
          "name": "stdout",
          "text": [
            "Epoch [4/200] Training loss = 5.0784\t Validation Loss = 1.1462\t Validation Accuracy = 0.7300\t\n"
          ]
        },
        {
          "output_type": "stream",
          "name": "stderr",
          "text": [
            "\r 40%|████      | 4/10 [00:13<00:20,  3.40s/it]"
          ]
        },
        {
          "output_type": "stream",
          "name": "stdout",
          "text": [
            "Epoch [5/200] Training loss = 4.2779\t Validation Loss = 0.8852\t Validation Accuracy = 0.7700\t\n"
          ]
        },
        {
          "output_type": "stream",
          "name": "stderr",
          "text": [
            "\r 50%|█████     | 5/10 [00:17<00:16,  3.40s/it]"
          ]
        },
        {
          "output_type": "stream",
          "name": "stdout",
          "text": [
            "Epoch [6/200] Training loss = 3.1840\t Validation Loss = 0.5716\t Validation Accuracy = 0.7900\t\n"
          ]
        },
        {
          "output_type": "stream",
          "name": "stderr",
          "text": [
            "\r 60%|██████    | 6/10 [00:20<00:13,  3.40s/it]"
          ]
        },
        {
          "output_type": "stream",
          "name": "stdout",
          "text": [
            "Epoch [7/200] Training loss = 2.0701\t Validation Loss = 0.3234\t Validation Accuracy = 0.8300\t\n"
          ]
        },
        {
          "output_type": "stream",
          "name": "stderr",
          "text": [
            "\r 70%|███████   | 7/10 [00:23<00:10,  3.42s/it]"
          ]
        },
        {
          "output_type": "stream",
          "name": "stdout",
          "text": [
            "Epoch [8/200] Training loss = 1.1674\t Validation Loss = 0.2022\t Validation Accuracy = 0.8900\t\n"
          ]
        },
        {
          "output_type": "stream",
          "name": "stderr",
          "text": [
            "\r 80%|████████  | 8/10 [00:27<00:06,  3.41s/it]"
          ]
        },
        {
          "output_type": "stream",
          "name": "stdout",
          "text": [
            "Epoch [9/200] Training loss = 0.5402\t Validation Loss = 0.1332\t Validation Accuracy = 0.9400\t\n"
          ]
        },
        {
          "output_type": "stream",
          "name": "stderr",
          "text": [
            "\r 90%|█████████ | 9/10 [00:30<00:03,  3.40s/it]"
          ]
        },
        {
          "output_type": "stream",
          "name": "stdout",
          "text": [
            "Epoch [10/200] Training loss = 0.5869\t Validation Loss = 0.0809\t Validation Accuracy = 0.9200\t\n"
          ]
        },
        {
          "output_type": "stream",
          "name": "stderr",
          "text": [
            "100%|██████████| 10/10 [00:34<00:00,  3.41s/it]\n"
          ]
        }
      ]
    },
    {
      "cell_type": "markdown",
      "source": [
        "# **Evaluation & Save Embedding**"
      ],
      "metadata": {
        "id": "c7xCbA_RMJoL"
      },
      "id": "c7xCbA_RMJoL"
    },
    {
      "cell_type": "code",
      "source": [
        "import natsort\n",
        "from torch.utils.data import DataLoader, Dataset, RandomSampler\n",
        "\n",
        "class EvalDataSet(Dataset):\n",
        "    def __init__(self, main_dir, transform, mode):\n",
        "        self.main_dir = main_dir\n",
        "        self.transform = transform\n",
        "        all_imgs = os.listdir(main_dir)\n",
        "        self.total_imgs = natsort.natsorted(all_imgs)\n",
        "    def __len__(self):\n",
        "        return len(self.total_imgs)\n",
        "\n",
        "   \n",
        "        \n",
        "    def __getitem__(self, idx):\n",
        "        img_loc = os.path.join(self.main_dir, self.total_imgs[idx])\n",
        "        image = Image.open(img_loc)#.convert(\"RGB\")\n",
        "        x = self.transform(image)\n",
        "        x = torch.from_numpy(np.asarray(x))\n",
        "        x = x.reshape(1, x.shape[0], x.shape[1], x.shape[2])\n",
        "        return x\n",
        "        \n",
        "test_transform = transforms.Compose([ \n",
        "    #transforms.Grayscale(1),\n",
        "    transforms.ToTensor(),\n",
        "    transforms.Normalize((0.5,), (0.5,))\n",
        "])\n",
        "eval_set = EvalDataSet(\"hw2/unlabeled\", transform=test_transform, mode = \"test\")\n",
        "\n",
        "\n",
        "eval_loader = DataLoader(\n",
        "    eval_set,\n",
        "    batch_size=128,\n",
        "    #collate_fn=test_set.collate_fn,\n",
        "    pin_memory=config.pin_mem,\n",
        "    num_workers=config.num_cpu_workers, \n",
        "    shuffle=False\n",
        ")"
      ],
      "metadata": {
        "id": "4qvd-nIGMUKw"
      },
      "execution_count": 25,
      "outputs": [],
      "id": "4qvd-nIGMUKw"
    },
    {
      "cell_type": "code",
      "source": [
        "net = ResNet(4, mode=\"simCLR\")\n",
        "net = net.cuda()\n",
        "checkpoint = torch.load(\"save1/0_epoch_163.pth\", map_location=lambda storage, loc: storage)\n",
        "unexpected = net.load_state_dict(checkpoint[\"model\"], strict=False)\n",
        "\n",
        "embedding = np.empty((0, 512),dtype=\"float32\")\n",
        "for inputs in eval_loader:\n",
        "  inputs = inputs.cuda()\n",
        "  y = net(inputs[:, 0, :])\n",
        "  #print(y.size())\n",
        "  embedding = np.concatenate((embedding, y.detach().cpu().numpy()))\n",
        "  #print(embedding.shape)\n",
        "result = np.zeros((7294, 512),dtype=\"float32\")\n",
        "result[:embedding.shape[0],:embedding.shape[1]] = embedding\n",
        "np.save('0710749_noft_0_15.npy', result)\n",
        "print('complete')"
      ],
      "metadata": {
        "id": "MGd5IhKINHdC",
        "colab": {
          "base_uri": "https://localhost:8080/"
        },
        "outputId": "40cde03f-9e9c-4b71-b94a-912cfd6e44aa"
      },
      "id": "MGd5IhKINHdC",
      "execution_count": 30,
      "outputs": [
        {
          "output_type": "stream",
          "name": "stdout",
          "text": [
            "complete\n"
          ]
        }
      ]
    },
    {
      "cell_type": "code",
      "execution_count": null,
      "id": "a2356782",
      "metadata": {
        "id": "a2356782"
      },
      "outputs": [],
      "source": [
        ""
      ]
    },
    {
      "cell_type": "code",
      "source": [
        "test_set = FineTuneDataSet(\"hw2/test\", transform=test_transform, mode = \"test\")\n",
        "\n",
        "val_loader = DataLoader(\n",
        "    test_set,\n",
        "    batch_size=config.batch_size,\n",
        "    sampler=RandomSampler(test_set),\n",
        "    #collate_fn=test_set.collate_fn,\n",
        "    pin_memory=config.pin_mem,\n",
        "    num_workers=config.num_cpu_workers\n",
        ")\n",
        "\n",
        "net = ResNet(4, mode=\"simCLR\")\n",
        "model = yAwareCLModel(net, train_loss, val_loss, train_loader, val_loader, config)\n",
        "model.load_model('save1/0_epoch_163.pth')\n",
        "model.test1()"
      ],
      "metadata": {
        "id": "JpKu8PtUgeoo",
        "colab": {
          "base_uri": "https://localhost:8080/"
        },
        "outputId": "9697ba91-93e7-47e7-b93f-8045bfcbe764"
      },
      "id": "JpKu8PtUgeoo",
      "execution_count": 20,
      "outputs": [
        {
          "output_type": "stream",
          "name": "stdout",
          "text": [
            "KNN Accuracy = 0.5331\t\n"
          ]
        }
      ]
    },
    {
      "cell_type": "code",
      "source": [
        "train_transform = transforms.Compose([\n",
        "    #transforms.RandomOrder(train_transform_set),\n",
        "    #transforms.Grayscale(1),\n",
        "    transforms.ToTensor(),\n",
        "    transforms.Normalize((0.5,), (0.5,))\n",
        "])\n",
        "train_set = CustomDataSet(\"hw2/unlabeled\", transform=train_transform, mode = \"train\")\n",
        "\n",
        "train_loader = DataLoader(\n",
        "    train_set,\n",
        "    batch_size=config.batch_size,\n",
        "    sampler=RandomSampler(train_set),\n",
        "    #collate_fn=train_set.collate_fn,\n",
        "    pin_memory=config.pin_mem,\n",
        "    num_workers=config.num_cpu_workers,\n",
        "    shuffle = False                          \n",
        ")\n",
        "net = ResNet(4, mode=\"simCLR\")\n",
        "model = yAwareCLModel(net, train_loss, val_loss, train_loader, val_loader, config)\n",
        "model.load_model('save1/0_epoch_163.pth')\n",
        "model.test2()"
      ],
      "metadata": {
        "id": "SRPPephqgrVZ",
        "colab": {
          "base_uri": "https://localhost:8080/"
        },
        "outputId": "82854d80-83df-4ef3-91a5-5ca77d4c1a81"
      },
      "id": "SRPPephqgrVZ",
      "execution_count": 34,
      "outputs": [
        {
          "output_type": "stream",
          "name": "stdout",
          "text": [
            "Loss = 0.1156\t\n"
          ]
        }
      ]
    },
    {
      "cell_type": "code",
      "source": [
        "a = np.load(\"0710749_noft_0_15.npy\")"
      ],
      "metadata": {
        "id": "5qaILv79zG-k"
      },
      "id": "5qaILv79zG-k",
      "execution_count": 32,
      "outputs": []
    },
    {
      "cell_type": "code",
      "source": [
        "a.shape"
      ],
      "metadata": {
        "colab": {
          "base_uri": "https://localhost:8080/"
        },
        "id": "hbjcjb0Q5b4K",
        "outputId": "5d2186f9-f4ac-4d00-ef4f-0fd2c6d49613"
      },
      "id": "hbjcjb0Q5b4K",
      "execution_count": 33,
      "outputs": [
        {
          "output_type": "execute_result",
          "data": {
            "text/plain": [
              "(7294, 512)"
            ]
          },
          "metadata": {},
          "execution_count": 33
        }
      ]
    },
    {
      "cell_type": "code",
      "source": [
        ""
      ],
      "metadata": {
        "id": "aJ-7FaZO5c1w"
      },
      "id": "aJ-7FaZO5c1w",
      "execution_count": null,
      "outputs": []
    }
  ],
  "metadata": {
    "kernelspec": {
      "display_name": "Python 3 (ipykernel)",
      "language": "python",
      "name": "python3"
    },
    "language_info": {
      "codemirror_mode": {
        "name": "ipython",
        "version": 3
      },
      "file_extension": ".py",
      "mimetype": "text/x-python",
      "name": "python",
      "nbconvert_exporter": "python",
      "pygments_lexer": "ipython3",
      "version": "3.8.12"
    },
    "colab": {
      "name": "0710749_CCHW2_Final.ipynb",
      "provenance": [],
      "collapsed_sections": [
        "3vN3iysTDWfb",
        "YD3HbBseDfft"
      ]
    },
    "accelerator": "GPU"
  },
  "nbformat": 4,
  "nbformat_minor": 5
}